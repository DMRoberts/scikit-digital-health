{
 "cells": [
  {
   "cell_type": "code",
   "execution_count": 2,
   "metadata": {},
   "outputs": [],
   "source": [
    "%matplotlib widget"
   ]
  },
  {
   "cell_type": "code",
   "execution_count": 1,
   "metadata": {},
   "outputs": [],
   "source": [
    "import numpy as np\n",
    "import pandas as pd\n",
    "import random\n",
    "\n",
    "from tensorflow import keras as K"
   ]
  },
  {
   "cell_type": "code",
   "execution_count": 3,
   "metadata": {},
   "outputs": [],
   "source": [
    "data = pd.read_hdf('../feature_exploration/features.h5', key='no_preprocessing')"
   ]
  },
  {
   "cell_type": "code",
   "execution_count": 4,
   "metadata": {},
   "outputs": [],
   "source": [
    "# get the subjects for which LOSO actually makes sense: those with multiple activities (ie more than just walking)\n",
    "gbc = data.groupby(['Subject', 'Activity'], as_index=False).count()\n",
    "loso_subjects = [i for i in gbc.Subject.unique() if gbc.loc[gbc.Subject == i].shape[0] > 3]\n",
    "\n",
    "random.seed(5)  # fix the generation so that its the same every time\n",
    "random.shuffle(loso_subjects)\n",
    "\n",
    "training_masks = []\n",
    "validation_masks = []\n",
    "testing_masks = []\n",
    "\n",
    "for i in range(0, len(loso_subjects), 3):\n",
    "    tr_m = np.ones(data.shape[0], dtype='bool')\n",
    "    v_m = np.zeros(data.shape[0], dtype='bool')\n",
    "    \n",
    "    for j in range(3):\n",
    "        tr_m &= data.Subject != loso_subjects[i+j]\n",
    "    for j in range(2):\n",
    "        v_m |= data.Subject == loso_subjects[i+j]\n",
    "    te_m = data.Subject == loso_subjects[i+2]\n",
    "    \n",
    "    training_masks.append(tr_m)\n",
    "    validation_masks.append(v_m)\n",
    "    testing_masks.append(te_m)\n",
    "\n",
    "masks = (training_masks, validation_masks, testing_masks)"
   ]
  },
  {
   "cell_type": "code",
   "execution_count": 20,
   "metadata": {},
   "outputs": [],
   "source": [
    "model = K.Sequential([\n",
    "    K.layers.Input(shape=(26,)),\n",
    "    K.layers.Dense(32, activation='relu'),\n",
    "    K.layers.Dense(16, activation='relu'),\n",
    "    K.layers.Dense(8, activation='relu'),\n",
    "    K.layers.Dense(1, activation='softmax')\n",
    "])"
   ]
  },
  {
   "cell_type": "code",
   "execution_count": 27,
   "metadata": {},
   "outputs": [],
   "source": [
    "model.compile(\n",
    "    optimizer=K.optimizers.SGD(learning_rate=.1),\n",
    "    loss=K.losses.MeanSquaredError(),\n",
    "    metrics=K.metrics.Accuracy()\n",
    ")"
   ]
  },
  {
   "cell_type": "code",
   "execution_count": 28,
   "metadata": {},
   "outputs": [],
   "source": [
    "x_train = data.loc[training_masks[0]].iloc[:, 3:]\n",
    "y_train = data.loc[training_masks[0], 'Label']"
   ]
  },
  {
   "cell_type": "code",
   "execution_count": 29,
   "metadata": {},
   "outputs": [
    {
     "name": "stdout",
     "output_type": "stream",
     "text": [
      "Epoch 1/15\n",
      "1096/1096 [==============================] - 2s 2ms/step - loss: 0.7036 - accuracy: 0.2964\n",
      "Epoch 2/15\n",
      "1096/1096 [==============================] - 3s 2ms/step - loss: 0.7036 - accuracy: 0.2964\n",
      "Epoch 3/15\n",
      "1096/1096 [==============================] - 2s 2ms/step - loss: 0.7036 - accuracy: 0.2964\n",
      "Epoch 4/15\n",
      "1096/1096 [==============================] - 2s 2ms/step - loss: 0.7036 - accuracy: 0.2964\n",
      "Epoch 5/15\n",
      "1096/1096 [==============================] - 3s 2ms/step - loss: 0.7036 - accuracy: 0.2964\n",
      "Epoch 6/15\n",
      "1096/1096 [==============================] - 3s 2ms/step - loss: 0.7036 - accuracy: 0.2964\n",
      "Epoch 7/15\n",
      "1096/1096 [==============================] - 2s 2ms/step - loss: 0.7036 - accuracy: 0.2964\n",
      "Epoch 8/15\n",
      "1096/1096 [==============================] - 3s 2ms/step - loss: 0.7036 - accuracy: 0.2964\n",
      "Epoch 9/15\n",
      "1096/1096 [==============================] - 3s 2ms/step - loss: 0.7036 - accuracy: 0.2964\n",
      "Epoch 10/15\n",
      "1096/1096 [==============================] - 3s 2ms/step - loss: 0.7036 - accuracy: 0.2964\n",
      "Epoch 11/15\n",
      "1096/1096 [==============================] - 2s 2ms/step - loss: 0.7036 - accuracy: 0.2964\n",
      "Epoch 12/15\n",
      "1096/1096 [==============================] - 3s 2ms/step - loss: 0.7036 - accuracy: 0.2964\n",
      "Epoch 13/15\n",
      "1096/1096 [==============================] - 2s 2ms/step - loss: 0.7036 - accuracy: 0.2964\n",
      "Epoch 14/15\n",
      "1096/1096 [==============================] - 3s 2ms/step - loss: 0.7036 - accuracy: 0.2964\n",
      "Epoch 15/15\n",
      "1096/1096 [==============================] - 2s 2ms/step - loss: 0.7036 - accuracy: 0.2964\n"
     ]
    },
    {
     "data": {
      "text/plain": [
       "<tensorflow.python.keras.callbacks.History at 0x7fc8e81ec100>"
      ]
     },
     "execution_count": 29,
     "metadata": {},
     "output_type": "execute_result"
    }
   ],
   "source": [
    "model.fit(\n",
    "    x_train,\n",
    "    y_train,\n",
    "    batch_size=128,\n",
    "    epochs=15\n",
    ")"
   ]
  },
  {
   "cell_type": "code",
   "execution_count": null,
   "metadata": {},
   "outputs": [],
   "source": []
  }
 ],
 "metadata": {
  "kernelspec": {
   "display_name": "PfyMU",
   "language": "python",
   "name": "pfymu"
  },
  "language_info": {
   "codemirror_mode": {
    "name": "ipython",
    "version": 3
   },
   "file_extension": ".py",
   "mimetype": "text/x-python",
   "name": "python",
   "nbconvert_exporter": "python",
   "pygments_lexer": "ipython3",
   "version": "3.8.3"
  }
 },
 "nbformat": 4,
 "nbformat_minor": 4
}
