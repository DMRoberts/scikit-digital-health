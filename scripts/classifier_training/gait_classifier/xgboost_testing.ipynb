{
 "cells": [
  {
   "cell_type": "code",
   "execution_count": 1,
   "metadata": {},
   "outputs": [],
   "source": [
    "%matplotlib widget"
   ]
  },
  {
   "cell_type": "code",
   "execution_count": 2,
   "metadata": {},
   "outputs": [],
   "source": [
    "import pandas as pd\n",
    "import numpy as np\n",
    "import random\n",
    "import seaborn as sns\n",
    "import matplotlib.pyplot as plt\n",
    "\n",
    "import ast\n",
    "\n",
    "import xgboost as xgb\n",
    "\n",
    "from sklearn.metrics import f1_score, accuracy_score, precision_score, recall_score"
   ]
  },
  {
   "cell_type": "code",
   "execution_count": 3,
   "metadata": {},
   "outputs": [],
   "source": [
    "def xgb_LOSO_runner(data, params, train_masks, validate_masks, test_masks, test=False):\n",
    "    feats = data.drop(['Subject', 'Activity', 'Label'], axis=1)\n",
    "    labels = data.Label\n",
    "    \n",
    "    # metrics\n",
    "    accu, prec, rec, f1 = [], [], [], []\n",
    "    \n",
    "    # models\n",
    "    mdls = []\n",
    "    \n",
    "    # predictions\n",
    "    predictions = []\n",
    "    truths = []\n",
    "    \n",
    "    # iterate over the masks\n",
    "    for mTrn, mVal, mTst in zip(train_masks, validate_masks, test_masks):\n",
    "        dtrain = xgb.DMatrix(feats.loc[mTrn], label=labels.loc[mTrn])\n",
    "        dval = xgb.DMatrix(feats.loc[mVal], label=labels.loc[mVal])\n",
    "        if test:\n",
    "            dtest = xgb.DMatrix(feats.loc[mTst], label=labels.loc[mTst])\n",
    "        \n",
    "        eval_list = [(dtrain, 'train')]\n",
    "        bst = xgb.train(params, dtrain, 80, eval_list, verbose_eval=False)\n",
    "        \n",
    "        if test:\n",
    "            y_pred_ = bst.predict(dtest)\n",
    "            y_pred =  y_pred_ > 0.5\n",
    "            y_true = labels.loc[mTst]\n",
    "        else:\n",
    "            y_pred_ = bst.predict(dval)\n",
    "            y_pred = y_pred_ > 0.5\n",
    "            y_true = labels.loc[mVal]\n",
    "        \n",
    "        accu.append(accuracy_score(y_true, y_pred, normalize=True))\n",
    "        prec.append(precision_score(y_true, y_pred))\n",
    "        rec.append(recall_score(y_true, y_pred))\n",
    "        f1.append(f1_score(y_true, y_pred))\n",
    "        \n",
    "        mdls.append(bst)\n",
    "        predictions.append(y_pred_)\n",
    "        truths.append(y_true)\n",
    "        \n",
    "    print(f'Average Accuracy: {np.mean(accu):.2f} ({np.std(accu):.2f})')\n",
    "    print(f'Average Precision: {np.mean(prec):.2f} ({np.std(prec):.2f})')\n",
    "    print(f'Average Recall: {np.mean(rec):.2f} ({np.std(rec):.2f})')\n",
    "    print(f'Average F1 Score: {np.mean(f1):.2f} ({np.std(f1):.2f})')\n",
    "        \n",
    "    return mdls, feats.columns, predictions, truths, accu, prec, rec, f1"
   ]
  },
  {
   "cell_type": "code",
   "execution_count": 4,
   "metadata": {},
   "outputs": [],
   "source": [
    "data = pd.read_hdf('../feature_exploration/features.h5', key='no_preprocessing')"
   ]
  },
  {
   "cell_type": "code",
   "execution_count": 5,
   "metadata": {},
   "outputs": [],
   "source": [
    "# test with stairs as positive class\n",
    "mask = (data.Activity == 'stairs-ascending') | (data.Activity == 'stairs-descending')\n",
    "data.loc[mask, 'Label'] = 1"
   ]
  },
  {
   "cell_type": "code",
   "execution_count": 6,
   "metadata": {},
   "outputs": [],
   "source": [
    "# get the subjects for which LOSO actually makes sense: those with multiple activities (ie more than just walking)\n",
    "gbc = data.groupby(['Subject', 'Activity'], as_index=False).count()\n",
    "loso_subjects = [i for i in gbc.Subject.unique() if gbc.loc[gbc.Subject == i].shape[0] > 3]\n",
    "\n",
    "random.seed(5)  # fix the generation so that its the same every time\n",
    "random.shuffle(loso_subjects)\n",
    "\n",
    "training_masks = []\n",
    "validation_masks = []\n",
    "testing_masks = []\n",
    "\n",
    "for i in range(0, len(loso_subjects), 4):\n",
    "    tr_m = np.ones(data.shape[0], dtype='bool')\n",
    "    v_m = np.zeros(data.shape[0], dtype='bool')\n",
    "    te_m = np.zeros(data.shape[0], dtype='bool')\n",
    "    \n",
    "    for j in range(4):\n",
    "        tr_m &= (data.Subject != loso_subjects[i+j]).values\n",
    "    for j in range(2):\n",
    "        v_m |= (data.Subject == loso_subjects[i+j]).values\n",
    "    for j in range(2):\n",
    "        te_m |= (data.Subject == loso_subjects[i+j+2]).values\n",
    "    \n",
    "    training_masks.append(tr_m)\n",
    "    validation_masks.append(v_m)\n",
    "    testing_masks.append(te_m)\n",
    "\n",
    "masks = (training_masks, validation_masks, testing_masks)"
   ]
  },
  {
   "cell_type": "code",
   "execution_count": 7,
   "metadata": {},
   "outputs": [],
   "source": [
    "# drop the least important features (based on PPScore)\n",
    "# drop all values with predictive score < 0.3, and \"duplicate\" features\n",
    "data_subset = data.drop([\n",
    "    '_rangecountpercentage',\n",
    "    '_skewness',\n",
    "    '_linearslope',\n",
    "    '_kurtosis',\n",
    "    '_complexityinvariantdistance',\n",
    "    '_spectralflatness',\n",
    "    '_autocorrelation',\n",
    "    '_powerspectralsum',\n",
    "    '_ratiobeyondrsigma',\n",
    "    '_signalentropy',\n",
    "    '_dominantfrequencyvalue',\n",
    "    '_permutationentropy',\n",
    "    '_meancrossrate',\n",
    "    '_spectralentropy',\n",
    "    '_detailpower',  # less than 0.3, duplicated by DetailPowerRatio\n",
    "    '_jerkmetric',  # duplicated by dimensionlessJerk\n",
    "    '_stddev'  # duplicated by RMS\n",
    "], axis=1)"
   ]
  },
  {
   "cell_type": "code",
   "execution_count": 16,
   "metadata": {},
   "outputs": [],
   "source": [
    "cvr = pd.read_csv('xgbrf_cv_results_incl_stairs.csv', index_col=0)\n",
    "params = ast.literal_eval(\n",
    "    cvr.sort_values('rank_test_F1').params.values[0]\n",
    ")"
   ]
  },
  {
   "cell_type": "code",
   "execution_count": 21,
   "metadata": {},
   "outputs": [
    {
     "name": "stdout",
     "output_type": "stream",
     "text": [
      "[10:53:57] WARNING: /workspace/src/learner.cc:480: \n",
      "Parameters: { importance_type, n_estimators } might not be used.\n",
      "\n",
      "  This may not be accurate due to some parameters are only used in language bindings but\n",
      "  passed down to XGBoost core.  Or some parameters are not used but slip through this\n",
      "  verification. Please open an issue if you find above cases.\n",
      "\n",
      "\n",
      "[10:53:58] WARNING: /workspace/src/learner.cc:480: \n",
      "Parameters: { importance_type, n_estimators } might not be used.\n",
      "\n",
      "  This may not be accurate due to some parameters are only used in language bindings but\n",
      "  passed down to XGBoost core.  Or some parameters are not used but slip through this\n",
      "  verification. Please open an issue if you find above cases.\n",
      "\n",
      "\n",
      "[10:53:59] WARNING: /workspace/src/learner.cc:480: \n",
      "Parameters: { importance_type, n_estimators } might not be used.\n",
      "\n",
      "  This may not be accurate due to some parameters are only used in language bindings but\n",
      "  passed down to XGBoost core.  Or some parameters are not used but slip through this\n",
      "  verification. Please open an issue if you find above cases.\n",
      "\n",
      "\n",
      "[10:54:00] WARNING: /workspace/src/learner.cc:480: \n",
      "Parameters: { importance_type, n_estimators } might not be used.\n",
      "\n",
      "  This may not be accurate due to some parameters are only used in language bindings but\n",
      "  passed down to XGBoost core.  Or some parameters are not used but slip through this\n",
      "  verification. Please open an issue if you find above cases.\n",
      "\n",
      "\n",
      "[10:54:01] WARNING: /workspace/src/learner.cc:480: \n",
      "Parameters: { importance_type, n_estimators } might not be used.\n",
      "\n",
      "  This may not be accurate due to some parameters are only used in language bindings but\n",
      "  passed down to XGBoost core.  Or some parameters are not used but slip through this\n",
      "  verification. Please open an issue if you find above cases.\n",
      "\n",
      "\n",
      "[10:54:02] WARNING: /workspace/src/learner.cc:480: \n",
      "Parameters: { importance_type, n_estimators } might not be used.\n",
      "\n",
      "  This may not be accurate due to some parameters are only used in language bindings but\n",
      "  passed down to XGBoost core.  Or some parameters are not used but slip through this\n",
      "  verification. Please open an issue if you find above cases.\n",
      "\n",
      "\n",
      "[10:54:03] WARNING: /workspace/src/learner.cc:480: \n",
      "Parameters: { importance_type, n_estimators } might not be used.\n",
      "\n",
      "  This may not be accurate due to some parameters are only used in language bindings but\n",
      "  passed down to XGBoost core.  Or some parameters are not used but slip through this\n",
      "  verification. Please open an issue if you find above cases.\n",
      "\n",
      "\n",
      "[10:54:04] WARNING: /workspace/src/learner.cc:480: \n",
      "Parameters: { importance_type, n_estimators } might not be used.\n",
      "\n",
      "  This may not be accurate due to some parameters are only used in language bindings but\n",
      "  passed down to XGBoost core.  Or some parameters are not used but slip through this\n",
      "  verification. Please open an issue if you find above cases.\n",
      "\n",
      "\n",
      "[10:54:05] WARNING: /workspace/src/learner.cc:480: \n",
      "Parameters: { importance_type, n_estimators } might not be used.\n",
      "\n",
      "  This may not be accurate due to some parameters are only used in language bindings but\n",
      "  passed down to XGBoost core.  Or some parameters are not used but slip through this\n",
      "  verification. Please open an issue if you find above cases.\n",
      "\n",
      "\n",
      "[10:54:05] WARNING: /workspace/src/learner.cc:480: \n",
      "Parameters: { importance_type, n_estimators } might not be used.\n",
      "\n",
      "  This may not be accurate due to some parameters are only used in language bindings but\n",
      "  passed down to XGBoost core.  Or some parameters are not used but slip through this\n",
      "  verification. Please open an issue if you find above cases.\n",
      "\n",
      "\n",
      "[10:54:06] WARNING: /workspace/src/learner.cc:480: \n",
      "Parameters: { importance_type, n_estimators } might not be used.\n",
      "\n",
      "  This may not be accurate due to some parameters are only used in language bindings but\n",
      "  passed down to XGBoost core.  Or some parameters are not used but slip through this\n",
      "  verification. Please open an issue if you find above cases.\n",
      "\n",
      "\n",
      "Average Accuracy: 0.94 (0.05)\n",
      "Average Precision: 0.92 (0.08)\n",
      "Average Recall: 0.94 (0.09)\n",
      "Average F1 Score: 0.93 (0.06)\n"
     ]
    }
   ],
   "source": [
    "mdls, feats, preds, truths, *metrics = xgb_LOSO_runner(\n",
    "    data,\n",
    "    params,\n",
    "    *(training_masks, validation_masks, testing_masks),\n",
    "    test=False\n",
    ")"
   ]
  },
  {
   "cell_type": "code",
   "execution_count": 22,
   "metadata": {},
   "outputs": [],
   "source": [
    "from sklearn.metrics import roc_curve, auc\n",
    "from sklearn.metrics import precision_recall_curve, average_precision_score"
   ]
  },
  {
   "cell_type": "code",
   "execution_count": 23,
   "metadata": {},
   "outputs": [
    {
     "data": {
      "application/vnd.jupyter.widget-view+json": {
       "model_id": "aac87648093345f8b79b319917c965bc",
       "version_major": 2,
       "version_minor": 0
      },
      "text/plain": [
       "Canvas(toolbar=Toolbar(toolitems=[('Home', 'Reset original view', 'home', 'home'), ('Back', 'Back to previous …"
      ]
     },
     "metadata": {},
     "output_type": "display_data"
    },
    {
     "name": "stdout",
     "output_type": "stream",
     "text": [
      "0.51660734 0.5132371\n"
     ]
    }
   ],
   "source": [
    "f, (ax, ax1) = plt.subplots(ncols=2, figsize=(10, 6), sharey=True)\n",
    "\n",
    "opt_trsh = []\n",
    "\n",
    "i = 1\n",
    "for p_, t_ in zip(preds, truths):\n",
    "    fpr, tpr, thrsh = roc_curve(t_, p_)\n",
    "    \n",
    "    # compute optimal threshold based on Youdin's index\n",
    "    dist = tpr - fpr\n",
    "    \n",
    "    opt_trsh.append(thrsh[np.argmax(dist)])\n",
    "    \n",
    "    ax.plot(fpr, tpr, label=f'Fold{i:3d}: {auc(fpr, tpr):.2f}')\n",
    "    ax1.plot(thrsh, dist, label=f'Fold{i:3d}: {opt_trsh[-1]:.2f}')\n",
    "    i += 1\n",
    "\n",
    "ax.legend(loc='best')\n",
    "ax1.legend(loc=3)\n",
    "\n",
    "ax.plot([0, 1], [0, 1], color='navy', lw=2, linestyle='--')\n",
    "ax1.axvline(0.5, color='navy', lw=2, linestyle='--')\n",
    "ax.set_xlim([0.0, 1.0])\n",
    "ax.set_ylim([0.0, 1.05])\n",
    "ax1.set_xlim([0.0, 1.0])\n",
    "\n",
    "ax.set_xlabel('False Positive Rate')\n",
    "ax.set_ylabel('True Positive Rate')\n",
    "\n",
    "f.tight_layout()\n",
    "\n",
    "print(np.mean(opt_trsh), np.median(opt_trsh))"
   ]
  },
  {
   "cell_type": "code",
   "execution_count": 25,
   "metadata": {},
   "outputs": [
    {
     "data": {
      "application/vnd.jupyter.widget-view+json": {
       "model_id": "53513701346744a59f8feaf5120449f5",
       "version_major": 2,
       "version_minor": 0
      },
      "text/plain": [
       "Canvas(toolbar=Toolbar(toolitems=[('Home', 'Reset original view', 'home', 'home'), ('Back', 'Back to previous …"
      ]
     },
     "metadata": {},
     "output_type": "display_data"
    }
   ],
   "source": [
    "f, ax = plt.subplots(figsize=(10, 6), sharey=True)\n",
    "\n",
    "i = 1\n",
    "for p_, t_ in zip(preds, truths):\n",
    "    precision, recall, thrsh = precision_recall_curve(t_, p_)\n",
    "    ap = average_precision_score(t_, p_)\n",
    "    \n",
    "    ax.plot(recall, precision, label=f'Fold{i:3d}: {ap:.2f}')\n",
    "    i += 1\n",
    "    \n",
    "f_scores = np.linspace(0.1, 0.9, num=5)\n",
    "lines = []\n",
    "labels = []\n",
    "for f_score in f_scores:\n",
    "    x = np.linspace(0.01, 1)\n",
    "    y = f_score * x / (2 * x - f_score)\n",
    "    l, = ax.plot(x[y >= 0], y[y >= 0], color='gray', alpha=0.2)\n",
    "    ax.annotate('f1={0:0.1f}'.format(f_score), xy=(0.9, y[45] + 0.02))\n",
    "\n",
    "ax.legend(loc='best')\n",
    "\n",
    "ax.set_xlim([0.0, 1.0])\n",
    "ax.set_ylim([0.0, 1.05])\n",
    "\n",
    "ax.set_xlabel('Recall')\n",
    "ax.set_ylabel('Precision')\n",
    "\n",
    "f.tight_layout()"
   ]
  },
  {
   "cell_type": "code",
   "execution_count": 61,
   "metadata": {},
   "outputs": [],
   "source": [
    "fp_acts = []\n",
    "fp_fold = []\n",
    "fp_certainty = []\n",
    "\n",
    "i = 1\n",
    "for mask, pred, truth in zip(validation_masks, preds, truths):\n",
    "    false_pos = mask.copy()\n",
    "    false_pos[false_pos] &= (pred > 0.6) & (truth == 0)\n",
    "    \n",
    "    fp_acts.extend(data.Activity.loc[false_pos].tolist())\n",
    "    fp_fold.extend([i] * false_pos.sum())\n",
    "    fp_certainty.extend(pred[false_pos[mask]])\n",
    "    \n",
    "    i += 1\n",
    "\n",
    "fp = pd.DataFrame(data={\n",
    "    'Activity': fp_acts,\n",
    "    'Fold': fp_fold, \n",
    "    'Certainty': fp_certainty\n",
    "})"
   ]
  },
  {
   "cell_type": "code",
   "execution_count": 62,
   "metadata": {},
   "outputs": [
    {
     "data": {
      "application/vnd.jupyter.widget-view+json": {
       "model_id": "28b36d962ad041e6a178ace7a72ff5fe",
       "version_major": 2,
       "version_minor": 0
      },
      "text/plain": [
       "Canvas(toolbar=Toolbar(toolitems=[('Home', 'Reset original view', 'home', 'home'), ('Back', 'Back to previous …"
      ]
     },
     "metadata": {},
     "output_type": "display_data"
    }
   ],
   "source": [
    "f, ax = plt.subplots(figsize=(9, 5))\n",
    "\n",
    "sns.boxplot(x='Activity', y='Certainty', hue='Fold', data=fp, ax=ax)\n",
    "ax.set_xticklabels(ax.get_xticklabels(), rotation=45, ha='right')\n",
    "\n",
    "ax.set_title('False Positive Certainty Distribution')\n",
    "\n",
    "f.tight_layout()"
   ]
  },
  {
   "cell_type": "code",
   "execution_count": 60,
   "metadata": {},
   "outputs": [
    {
     "data": {
      "text/html": [
       "<div>\n",
       "<style scoped>\n",
       "    .dataframe tbody tr th:only-of-type {\n",
       "        vertical-align: middle;\n",
       "    }\n",
       "\n",
       "    .dataframe tbody tr th {\n",
       "        vertical-align: top;\n",
       "    }\n",
       "\n",
       "    .dataframe thead th {\n",
       "        text-align: right;\n",
       "    }\n",
       "</style>\n",
       "<table border=\"1\" class=\"dataframe\">\n",
       "  <thead>\n",
       "    <tr style=\"text-align: right;\">\n",
       "      <th></th>\n",
       "      <th>Fold</th>\n",
       "      <th>Certainty</th>\n",
       "    </tr>\n",
       "    <tr>\n",
       "      <th>Activity</th>\n",
       "      <th></th>\n",
       "      <th></th>\n",
       "    </tr>\n",
       "  </thead>\n",
       "  <tbody>\n",
       "    <tr>\n",
       "      <th>washing-dishes</th>\n",
       "      <td>2</td>\n",
       "      <td>2</td>\n",
       "    </tr>\n",
       "    <tr>\n",
       "      <th>elevator-descending</th>\n",
       "      <td>4</td>\n",
       "      <td>4</td>\n",
       "    </tr>\n",
       "    <tr>\n",
       "      <th>standing-assisted</th>\n",
       "      <td>4</td>\n",
       "      <td>4</td>\n",
       "    </tr>\n",
       "    <tr>\n",
       "      <th>vacuuming</th>\n",
       "      <td>5</td>\n",
       "      <td>5</td>\n",
       "    </tr>\n",
       "    <tr>\n",
       "      <th>running-treadmill</th>\n",
       "      <td>8</td>\n",
       "      <td>8</td>\n",
       "    </tr>\n",
       "    <tr>\n",
       "      <th>standing</th>\n",
       "      <td>12</td>\n",
       "      <td>12</td>\n",
       "    </tr>\n",
       "    <tr>\n",
       "      <th>running</th>\n",
       "      <td>40</td>\n",
       "      <td>40</td>\n",
       "    </tr>\n",
       "    <tr>\n",
       "      <th>cycling-100W</th>\n",
       "      <td>161</td>\n",
       "      <td>161</td>\n",
       "    </tr>\n",
       "    <tr>\n",
       "      <th>sweeping</th>\n",
       "      <td>163</td>\n",
       "      <td>163</td>\n",
       "    </tr>\n",
       "    <tr>\n",
       "      <th>cycling-50W</th>\n",
       "      <td>203</td>\n",
       "      <td>203</td>\n",
       "    </tr>\n",
       "  </tbody>\n",
       "</table>\n",
       "</div>"
      ],
      "text/plain": [
       "                     Fold  Certainty\n",
       "Activity                            \n",
       "washing-dishes          2          2\n",
       "elevator-descending     4          4\n",
       "standing-assisted       4          4\n",
       "vacuuming               5          5\n",
       "running-treadmill       8          8\n",
       "standing               12         12\n",
       "running                40         40\n",
       "cycling-100W          161        161\n",
       "sweeping              163        163\n",
       "cycling-50W           203        203"
      ]
     },
     "execution_count": 60,
     "metadata": {},
     "output_type": "execute_result"
    }
   ],
   "source": [
    "fp.groupby('Activity').count().sort_values('Fold')"
   ]
  },
  {
   "cell_type": "code",
   "execution_count": 65,
   "metadata": {},
   "outputs": [],
   "source": [
    "fn_acts = []\n",
    "fn_fold = []\n",
    "fn_certainty = []\n",
    "\n",
    "i = 1\n",
    "for mask, pred, truth in zip(validation_masks, preds, truths):\n",
    "    false_neg = mask.copy()\n",
    "    false_neg[false_neg] &= (pred < 0.6) & truth\n",
    "    \n",
    "    fn_acts.extend(data.Activity.loc[false_neg].tolist())\n",
    "    fn_fold.extend([i] * false_neg.sum())\n",
    "    fn_certainty.extend(pred[false_neg[mask]])\n",
    "    \n",
    "    i += 1\n",
    "\n",
    "fn = pd.DataFrame(data={\n",
    "    'Activity': fn_acts,\n",
    "    'Fold': fn_fold, \n",
    "    'Certainty': fn_certainty\n",
    "})"
   ]
  },
  {
   "cell_type": "code",
   "execution_count": 71,
   "metadata": {},
   "outputs": [
    {
     "name": "stderr",
     "output_type": "stream",
     "text": [
      "<ipython-input-71-a02e4b0dbf28>:1: RuntimeWarning: More than 20 figures have been opened. Figures created through the pyplot interface (`matplotlib.pyplot.figure`) are retained until explicitly closed and may consume too much memory. (To control this warning, see the rcParam `figure.max_open_warning`).\n",
      "  f, ax = plt.subplots(figsize=(9, 5))\n"
     ]
    },
    {
     "data": {
      "application/vnd.jupyter.widget-view+json": {
       "model_id": "3540f1c6378b483d96f6a9dc22fcb363",
       "version_major": 2,
       "version_minor": 0
      },
      "text/plain": [
       "Canvas(toolbar=Toolbar(toolitems=[('Home', 'Reset original view', 'home', 'home'), ('Back', 'Back to previous …"
      ]
     },
     "metadata": {},
     "output_type": "display_data"
    }
   ],
   "source": [
    "f, ax = plt.subplots(figsize=(9, 5))\n",
    "\n",
    "sns.boxplot(x='Activity', y='Certainty', hue='Fold', data=fn, ax=ax)\n",
    "ax.set_xticklabels(ax.get_xticklabels(), rotation=45, ha='right')\n",
    "\n",
    "ax.set_title('False Negative Certainty Distribution')\n",
    "\n",
    "f.tight_layout()"
   ]
  },
  {
   "cell_type": "code",
   "execution_count": 67,
   "metadata": {},
   "outputs": [
    {
     "data": {
      "text/html": [
       "<div>\n",
       "<style scoped>\n",
       "    .dataframe tbody tr th:only-of-type {\n",
       "        vertical-align: middle;\n",
       "    }\n",
       "\n",
       "    .dataframe tbody tr th {\n",
       "        vertical-align: top;\n",
       "    }\n",
       "\n",
       "    .dataframe thead th {\n",
       "        text-align: right;\n",
       "    }\n",
       "</style>\n",
       "<table border=\"1\" class=\"dataframe\">\n",
       "  <thead>\n",
       "    <tr style=\"text-align: right;\">\n",
       "      <th></th>\n",
       "      <th>Fold</th>\n",
       "      <th>Certainty</th>\n",
       "    </tr>\n",
       "    <tr>\n",
       "      <th>Activity</th>\n",
       "      <th></th>\n",
       "      <th></th>\n",
       "    </tr>\n",
       "  </thead>\n",
       "  <tbody>\n",
       "    <tr>\n",
       "      <th>stairs-ascending</th>\n",
       "      <td>3157</td>\n",
       "      <td>3157</td>\n",
       "    </tr>\n",
       "    <tr>\n",
       "      <th>stairs-descending</th>\n",
       "      <td>2952</td>\n",
       "      <td>2952</td>\n",
       "    </tr>\n",
       "    <tr>\n",
       "      <th>walking</th>\n",
       "      <td>3263</td>\n",
       "      <td>3263</td>\n",
       "    </tr>\n",
       "    <tr>\n",
       "      <th>walking-impaired</th>\n",
       "      <td>2087</td>\n",
       "      <td>2087</td>\n",
       "    </tr>\n",
       "    <tr>\n",
       "      <th>walking-left</th>\n",
       "      <td>1062</td>\n",
       "      <td>1062</td>\n",
       "    </tr>\n",
       "    <tr>\n",
       "      <th>walking-right</th>\n",
       "      <td>1180</td>\n",
       "      <td>1180</td>\n",
       "    </tr>\n",
       "  </tbody>\n",
       "</table>\n",
       "</div>"
      ],
      "text/plain": [
       "                   Fold  Certainty\n",
       "Activity                          \n",
       "stairs-ascending   3157       3157\n",
       "stairs-descending  2952       2952\n",
       "walking            3263       3263\n",
       "walking-impaired   2087       2087\n",
       "walking-left       1062       1062\n",
       "walking-right      1180       1180"
      ]
     },
     "execution_count": 67,
     "metadata": {},
     "output_type": "execute_result"
    }
   ],
   "source": [
    "fn.groupby('Activity').count()"
   ]
  },
  {
   "cell_type": "code",
   "execution_count": null,
   "metadata": {},
   "outputs": [],
   "source": []
  }
 ],
 "metadata": {
  "kernelspec": {
   "display_name": "PfyMU",
   "language": "python",
   "name": "pfymu"
  },
  "language_info": {
   "codemirror_mode": {
    "name": "ipython",
    "version": 3
   },
   "file_extension": ".py",
   "mimetype": "text/x-python",
   "name": "python",
   "nbconvert_exporter": "python",
   "pygments_lexer": "ipython3",
   "version": "3.8.3"
  }
 },
 "nbformat": 4,
 "nbformat_minor": 4
}
