{
 "cells": [
  {
   "cell_type": "code",
   "execution_count": 1,
   "metadata": {},
   "outputs": [],
   "source": [
    "%matplotlib widget"
   ]
  },
  {
   "cell_type": "code",
   "execution_count": 30,
   "metadata": {},
   "outputs": [],
   "source": [
    "import numpy as np\n",
    "import pandas as pd\n",
    "import random\n",
    "\n",
    "import lightgbm as lgb\n",
    "\n",
    "from sklearn.feature_selection import RFECV\n",
    "from sklearn.metrics import f1_score, make_scorer\n",
    "from sklearn.tree import DecisionTreeClassifier"
   ]
  },
  {
   "cell_type": "code",
   "execution_count": 4,
   "metadata": {},
   "outputs": [],
   "source": [
    "data = pd.read_hdf('../feature_exploration/features.h5', key='incl_stairs')\n",
    "\n",
    "feats = data.iloc[:, 3:]\n",
    "labels = data.Label"
   ]
  },
  {
   "cell_type": "code",
   "execution_count": 5,
   "metadata": {},
   "outputs": [],
   "source": [
    "# get the subjects for which LOSO actually makes sense: those with multiple activities (ie more than just walking)\n",
    "gbc = data.groupby(['Subject', 'Activity'], as_index=False).count()\n",
    "loso_subjects = [i for i in gbc.Subject.unique() if gbc.loc[gbc.Subject == i].shape[0] > 3]\n",
    "\n",
    "random.seed(5)  # fix the generation so that its the same every time\n",
    "random.shuffle(loso_subjects)\n",
    "\n",
    "training_masks = []\n",
    "validation_masks = []\n",
    "testing_masks = []\n",
    "\n",
    "for i in range(0, len(loso_subjects), 4):\n",
    "    tr_m = np.ones(data.shape[0], dtype='bool')\n",
    "    v_m = np.zeros(data.shape[0], dtype='bool')\n",
    "    te_m = np.zeros(data.shape[0], dtype='bool')\n",
    "    \n",
    "    for j in range(4):\n",
    "        tr_m &= (data.Subject != loso_subjects[i+j]).values\n",
    "    for j in range(2):\n",
    "        v_m |= (data.Subject == loso_subjects[i+j]).values\n",
    "    for j in range(2):\n",
    "        te_m |= (data.Subject == loso_subjects[i+j+2]).values\n",
    "    \n",
    "    training_masks.append(tr_m)\n",
    "    validation_masks.append(v_m)\n",
    "    testing_masks.append(te_m)"
   ]
  },
  {
   "cell_type": "code",
   "execution_count": 32,
   "metadata": {},
   "outputs": [],
   "source": [
    "estimator = lgb.LGBMClassifier(n_estimators=75, random_state=82)\n",
    "tree = DecisionTreeClassifier(random_state=398)\n",
    "\n",
    "rfecv = RFECV(\n",
    "    estimator, \n",
    "    step=1, \n",
    "    min_features_to_select=1, \n",
    "    cv=tuple(zip(training_masks, validation_masks)),\n",
    "    scoring=make_scorer(f1_score),\n",
    "    n_jobs=-1,\n",
    "    verbose=1\n",
    ")\n",
    "\n",
    "trfecv = RFECV(\n",
    "    tree,\n",
    "    step=1,\n",
    "    min_features_to_select=1,\n",
    "    cv=tuple(zip(training_masks, validation_masks)),\n",
    "    scoring=make_scorer(f1_score),\n",
    "    n_jobs=-1,\n",
    "    verbose=1\n",
    ")"
   ]
  },
  {
   "cell_type": "code",
   "execution_count": 33,
   "metadata": {},
   "outputs": [
    {
     "name": "stdout",
     "output_type": "stream",
     "text": [
      "Fitting estimator with 26 features.\n",
      "Fitting estimator with 25 features.\n"
     ]
    }
   ],
   "source": [
    "selector = rfecv.fit(feats, labels);"
   ]
  },
  {
   "cell_type": "code",
   "execution_count": 34,
   "metadata": {},
   "outputs": [
    {
     "name": "stdout",
     "output_type": "stream",
     "text": [
      "Fitting estimator with 26 features.\n"
     ]
    },
    {
     "data": {
      "text/plain": [
       "RFECV(cv=((array([False, False, False, ...,  True,  True,  True]),\n",
       "           array([ True,  True,  True, ..., False, False, False])),\n",
       "          (array([ True,  True,  True, ...,  True,  True,  True]),\n",
       "           array([False, False, False, ..., False, False, False])),\n",
       "          (array([ True,  True,  True, ...,  True,  True,  True]),\n",
       "           array([False, False, False, ..., False, False, False])),\n",
       "          (array([ True,  True,  True, ..., False, False, False]),\n",
       "           array([Fals...\n",
       "          (array([ True,  True,  True, ...,  True,  True,  True]),\n",
       "           array([False, False, False, ..., False, False, False])),\n",
       "          (array([ True,  True,  True, ...,  True,  True,  True]),\n",
       "           array([False, False, False, ..., False, False, False])),\n",
       "          (array([ True,  True,  True, ...,  True,  True,  True]),\n",
       "           array([False, False, False, ..., False, False, False]))),\n",
       "      estimator=DecisionTreeClassifier(random_state=398), n_jobs=-1,\n",
       "      scoring=make_scorer(f1_score), verbose=1)"
      ]
     },
     "execution_count": 34,
     "metadata": {},
     "output_type": "execute_result"
    }
   ],
   "source": [
    "trfecv.fit(feats, labels);"
   ]
  },
  {
   "cell_type": "code",
   "execution_count": 35,
   "metadata": {},
   "outputs": [],
   "source": [
    "import matplotlib.pyplot as plt\n",
    "plt.style.use('ggplot')"
   ]
  },
  {
   "cell_type": "code",
   "execution_count": 52,
   "metadata": {},
   "outputs": [
    {
     "name": "stdout",
     "output_type": "stream",
     "text": [
      "LGB number of features : 24\n",
      "Tree number of features: 25\n"
     ]
    },
    {
     "name": "stderr",
     "output_type": "stream",
     "text": [
      "<ipython-input-52-0e37498f5a74>:4: RuntimeWarning: More than 20 figures have been opened. Figures created through the pyplot interface (`matplotlib.pyplot.figure`) are retained until explicitly closed and may consume too much memory. (To control this warning, see the rcParam `figure.max_open_warning`).\n",
      "  f, ax = plt.subplots(figsize=(10, 5))\n"
     ]
    },
    {
     "data": {
      "application/vnd.jupyter.widget-view+json": {
       "model_id": "c8979d690b244656ae2bac1eb9f49c0c",
       "version_major": 2,
       "version_minor": 0
      },
      "text/plain": [
       "Canvas(toolbar=Toolbar(toolitems=[('Home', 'Reset original view', 'home', 'home'), ('Back', 'Back to previous …"
      ]
     },
     "metadata": {},
     "output_type": "display_data"
    }
   ],
   "source": [
    "print(\"LGB number of features : %d\" % selector.n_features_)\n",
    "print(f'Tree number of features: {trfecv.n_features_}')\n",
    "\n",
    "f, ax = plt.subplots(figsize=(10, 5))\n",
    "ax.set_xlabel(\"Number of features selected\")\n",
    "ax.set_ylabel(\"Cross validation score (nb of correct classifications)\")\n",
    "ax.plot(range(1, len(selector.grid_scores_) + 1), selector.grid_scores_ * 100, '.-', label='LGB')\n",
    "ax.plot(range(1, len(trfecv.grid_scores_)+1), trfecv.grid_scores_*100, '.-', label='Tree')\n",
    "\n",
    "axx = ax.twinx()\n",
    "axx.grid(False)\n",
    "axx.plot(range(1, len(selector.grid_scores_)), np.diff(selector.grid_scores_) / selector.grid_scores_[:-1] * 100, '.--', label=f'LGB: N={selector.n_features_}')\n",
    "axx.plot(range(1, len(trfecv.grid_scores_)), np.diff(trfecv.grid_scores_) / trfecv.grid_scores_[:-1] * 100, '.--', label=f'Tree: N={trfecv.n_features_}')\n",
    "axx.axhline(0.2, linestyle='--', color='k')\n",
    "axx.text(24, 0.7, '0.2% Change')\n",
    "axx.set_ylabel('% Score % Change')\n",
    "\n",
    "axx.legend(loc=5)\n",
    "\n",
    "f.tight_layout()\n",
    "f.savefig('RFECV_results.png', bbox='tight')"
   ]
  },
  {
   "cell_type": "code",
   "execution_count": 55,
   "metadata": {},
   "outputs": [
    {
     "name": "stdout",
     "output_type": "stream",
     "text": [
      "Index(['_sampleentropy'], dtype='object')\n",
      "Index(['_rms', '_ratiobeyondrsigma'], dtype='object')\n"
     ]
    }
   ],
   "source": [
    "print(feats.columns[~trfecv.support_])\n",
    "print(feats.columns[~selector.support_])"
   ]
  },
  {
   "cell_type": "code",
   "execution_count": null,
   "metadata": {},
   "outputs": [],
   "source": []
  }
 ],
 "metadata": {
  "kernelspec": {
   "display_name": "PfyMU",
   "language": "python",
   "name": "pfymu"
  },
  "language_info": {
   "codemirror_mode": {
    "name": "ipython",
    "version": 3
   },
   "file_extension": ".py",
   "mimetype": "text/x-python",
   "name": "python",
   "nbconvert_exporter": "python",
   "pygments_lexer": "ipython3",
   "version": "3.8.3"
  }
 },
 "nbformat": 4,
 "nbformat_minor": 4
}
