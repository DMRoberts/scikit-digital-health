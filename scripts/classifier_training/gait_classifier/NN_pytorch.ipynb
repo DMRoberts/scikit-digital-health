{
 "cells": [
  {
   "cell_type": "code",
   "execution_count": 1,
   "metadata": {},
   "outputs": [],
   "source": [
    "%matplotlib widget"
   ]
  },
  {
   "cell_type": "code",
   "execution_count": 2,
   "metadata": {},
   "outputs": [],
   "source": [
    "import numpy as np\n",
    "import pandas as pd\n",
    "import random\n",
    "\n",
    "import torch\n",
    "from torch import nn\n",
    "import torch.nn.functional as F\n",
    "from torch.utils.data import TensorDataset, DataLoader"
   ]
  },
  {
   "cell_type": "code",
   "execution_count": 3,
   "metadata": {},
   "outputs": [],
   "source": [
    "data = pd.read_hdf('../feature_exploration/features.h5', key='no_preprocessing')"
   ]
  },
  {
   "cell_type": "code",
   "execution_count": 4,
   "metadata": {},
   "outputs": [],
   "source": [
    "# get the subjects for which LOSO actually makes sense: those with multiple activities (ie more than just walking)\n",
    "gbc = data.groupby(['Subject', 'Activity'], as_index=False).count()\n",
    "loso_subjects = [i for i in gbc.Subject.unique() if gbc.loc[gbc.Subject == i].shape[0] > 3]\n",
    "\n",
    "random.seed(5)  # fix the generation so that its the same every time\n",
    "random.shuffle(loso_subjects)\n",
    "\n",
    "training_masks = []\n",
    "validation_masks = []\n",
    "testing_masks = []\n",
    "\n",
    "for i in range(0, len(loso_subjects), 3):\n",
    "    tr_m = np.ones(data.shape[0], dtype='bool')\n",
    "    v_m = np.zeros(data.shape[0], dtype='bool')\n",
    "    \n",
    "    for j in range(3):\n",
    "        tr_m &= data.Subject != loso_subjects[i+j]\n",
    "    for j in range(2):\n",
    "        v_m |= data.Subject == loso_subjects[i+j]\n",
    "    te_m = data.Subject == loso_subjects[i+2]\n",
    "    \n",
    "    training_masks.append(tr_m)\n",
    "    validation_masks.append(v_m)\n",
    "    testing_masks.append(te_m)\n",
    "\n",
    "masks = (training_masks, validation_masks, testing_masks)"
   ]
  },
  {
   "cell_type": "code",
   "execution_count": 5,
   "metadata": {},
   "outputs": [],
   "source": [
    "def one_hot2(x):\n",
    "    res = np.zeros((x.size, 2), dtype='long')\n",
    "    res[x == 0, 0] = 1\n",
    "    res[x == 1, 1] = 1\n",
    "    return res"
   ]
  },
  {
   "cell_type": "code",
   "execution_count": 6,
   "metadata": {},
   "outputs": [],
   "source": [
    "X_train = torch.tensor(\n",
    "    data.drop(\n",
    "        ['Subject', 'Activity', 'Label'], \n",
    "        axis=1\n",
    "    ).loc[training_masks[0]].values,\n",
    "    dtype=torch.float,\n",
    "    device=torch.device('cuda:0')\n",
    ")\n",
    "Y_train = torch.tensor(\n",
    "    data.loc[training_masks[0], 'Label'].values,\n",
    "    dtype=torch.long,\n",
    "    device=torch.device('cuda:0')\n",
    ")\n",
    "\n",
    "# validation set\n",
    "X_val = torch.tensor(\n",
    "    data.drop(\n",
    "        ['Subject', 'Activity', 'Label'], \n",
    "        axis=1\n",
    "    ).loc[validation_masks[0]].values,\n",
    "    dtype=torch.float,\n",
    "    device=torch.device('cuda:0')\n",
    ")\n",
    "Y_val = torch.tensor(\n",
    "    data.loc[validation_masks[0], 'Label'].values,\n",
    "    dtype=torch.long,\n",
    "    device=torch.device('cuda:0')\n",
    ")\n",
    "\n",
    "train_ds = TensorDataset(X_train, Y_train)\n",
    "val_ds = TensorDataset(X_val, Y_val)"
   ]
  },
  {
   "cell_type": "code",
   "execution_count": 7,
   "metadata": {},
   "outputs": [],
   "source": [
    "class Net(nn.Module):\n",
    "    def __init__(self, n_feats):\n",
    "        super().__init__()\n",
    "        \n",
    "        self.fc1 = nn.Linear(n_feats, 32)\n",
    "        self.fc2 = nn.Linear(32, 8)\n",
    "        self.fc3 = nn.Linear(8, 2)\n",
    "    \n",
    "    def forward(self, x):\n",
    "        x = F.relu(self.fc1(x))\n",
    "        x = F.relu(self.fc2(x))\n",
    "        x = F.softmax(self.fc3(x), dim=1)\n",
    "        return x\n",
    "    \n",
    "    def predict(self, x):\n",
    "        pred_ = self.forward(x)\n",
    "        pred = []\n",
    "        for p in pred_:\n",
    "            if p[1] > p[0]:\n",
    "                pred.append(1)\n",
    "            else:\n",
    "                pred.append(0)\n",
    "        return np.array(pred)"
   ]
  },
  {
   "cell_type": "code",
   "execution_count": 8,
   "metadata": {},
   "outputs": [],
   "source": [
    "model = Net(26).cuda()\n",
    "\n",
    "crit = nn.CrossEntropyLoss()\n",
    "\n",
    "optimizer = torch.optim.Adam(model.parameters(), lr=1e-2)"
   ]
  },
  {
   "cell_type": "code",
   "execution_count": 53,
   "metadata": {},
   "outputs": [
    {
     "name": "stdout",
     "output_type": "stream",
     "text": [
      "Epoch (1): loss: 0.0048\n",
      "Epoch (2): loss: 0.0048\n",
      "Epoch (3): loss: 0.0048\n",
      "Epoch (4): loss: 0.0048\n",
      "Epoch (5): loss: 0.0048\n",
      "Epoch (6): loss: 0.0048\n",
      "Epoch (7): loss: 0.0048\n",
      "Epoch (8): loss: 0.0048\n"
     ]
    }
   ],
   "source": [
    "train_dl = DataLoader(train_ds, batch_size=128)\n",
    "\n",
    "for c in range(8):\n",
    "    tloss = 0\n",
    "    for xb, yb in train_dl:\n",
    "        y_pred = model.forward(xb)\n",
    "\n",
    "        loss = crit(y_pred, yb)\n",
    "        tloss += loss.item()\n",
    "\n",
    "        optimizer.zero_grad()\n",
    "\n",
    "        loss.backward()\n",
    "\n",
    "        optimizer.step()\n",
    "    print(f'Epoch ({c+1}): loss: {tloss / X_train.shape[0]:.4f}')"
   ]
  },
  {
   "cell_type": "code",
   "execution_count": 47,
   "metadata": {},
   "outputs": [],
   "source": [
    "xb, y_true = val_ds[:]\n",
    "y_pred = model.predict(xb)"
   ]
  },
  {
   "cell_type": "code",
   "execution_count": 48,
   "metadata": {},
   "outputs": [
    {
     "data": {
      "application/vnd.jupyter.widget-view+json": {
       "model_id": "0b47a212960d4f6db21143ebcf646c6a",
       "version_major": 2,
       "version_minor": 0
      },
      "text/plain": [
       "Canvas(toolbar=Toolbar(toolitems=[('Home', 'Reset original view', 'home', 'home'), ('Back', 'Back to previous …"
      ]
     },
     "metadata": {},
     "output_type": "display_data"
    },
    {
     "data": {
      "text/plain": [
       "<matplotlib.legend.Legend at 0x7f985b984850>"
      ]
     },
     "execution_count": 48,
     "metadata": {},
     "output_type": "execute_result"
    }
   ],
   "source": [
    "import matplotlib.pyplot as plt\n",
    "\n",
    "plt.figure()\n",
    "plt.plot(y_pred, label='Prediction')\n",
    "plt.plot(y_true.cpu().detach().numpy(), label='Truth')\n",
    "plt.legend()"
   ]
  },
  {
   "cell_type": "code",
   "execution_count": null,
   "metadata": {},
   "outputs": [],
   "source": []
  }
 ],
 "metadata": {
  "kernelspec": {
   "display_name": "PfyMU",
   "language": "python",
   "name": "pfymu"
  },
  "language_info": {
   "codemirror_mode": {
    "name": "ipython",
    "version": 3
   },
   "file_extension": ".py",
   "mimetype": "text/x-python",
   "name": "python",
   "nbconvert_exporter": "python",
   "pygments_lexer": "ipython3",
   "version": "3.8.3"
  }
 },
 "nbformat": 4,
 "nbformat_minor": 4
}
