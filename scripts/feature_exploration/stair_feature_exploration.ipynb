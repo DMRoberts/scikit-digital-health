{
 "cells": [
  {
   "cell_type": "code",
   "execution_count": 1,
   "metadata": {},
   "outputs": [],
   "source": [
    "%matplotlib widget"
   ]
  },
  {
   "cell_type": "code",
   "execution_count": 2,
   "metadata": {},
   "outputs": [],
   "source": [
    "import numpy as np\n",
    "import pandas as pd\n",
    "import matplotlib.pyplot as plt\n",
    "import seaborn as sns\n",
    "from pathlib import Path\n",
    "import sys\n",
    "\n",
    "plt.style.use('ggplot')\n",
    "\n",
    "from PfyMU.gait.train_classifier.core import load_datasets"
   ]
  },
  {
   "cell_type": "code",
   "execution_count": 3,
   "metadata": {},
   "outputs": [],
   "source": [
    "steps = {\n",
    "    'jumping-rope': 0.15,\n",
    "    'stairs-descending': 0.1,\n",
    "    'stairs-ascending': 0.1,\n",
    "    'jumping': 0.15,\n",
    "    'lyinging': 0.15,\n",
    "    'elevator-ascending': 0.15,\n",
    "    'elevator-descending': 0.15,\n",
    "    'running': 0.075,\n",
    "    'sweeping': 0.15,\n",
    "    'standing': 225,\n",
    "    'running-treadmill': 0.1,\n",
    "    'cycling-50W': 0.12,\n",
    "    'cycling-100W': 0.12,\n",
    "    'walking-left': 0.2,\n",
    "    'walking-right': 0.2,\n",
    "    'walking-impaired': 0.2,\n",
    "    'walking': 0.25,\n",
    "    'sitting': 400,\n",
    "    'default': 0.5\n",
    "}\n",
    "\n"
   ]
  },
  {
   "cell_type": "code",
   "execution_count": 4,
   "metadata": {},
   "outputs": [],
   "source": [
    "# gait_sets_path = Path('/Users/adamol/Documents/Datasets/gait/processed')\n",
    "gait_sets_path = Path('/home/lukasadamowicz/Documents/Datasets/processed')\n",
    "\n",
    "datasets = [\n",
    "    gait_sets_path / 'bluesky2',\n",
    "    gait_sets_path / 'daliac',\n",
    "    gait_sets_path / 'ltmm',\n",
    "    gait_sets_path / 'usc-had'\n",
    "]\n",
    "\n",
    "X, Y, subjects, activities = load_datasets(\n",
    "    datasets, \n",
    "    goal_fs=50.0, \n",
    "    acc_mag=True, \n",
    "    window_length=3.0, \n",
    "    window_step=steps\n",
    ")"
   ]
  },
  {
   "cell_type": "code",
   "execution_count": 5,
   "metadata": {},
   "outputs": [],
   "source": [
    "mask = (\n",
    "    (activities == 'stairs-ascending') | \n",
    "    (activities == 'stairs-descending') | \n",
    "    (activities == 'walking') | \n",
    "    (activities == 'walking-left') | \n",
    "    (activities == 'walking-right') | \n",
    "    (activities == 'walking-impaired')\n",
    ")\n",
    "\n",
    "X = X[mask]\n",
    "Y = Y[mask]"
   ]
  },
  {
   "cell_type": "markdown",
   "metadata": {},
   "source": [
    "## Feature Generation"
   ]
  },
  {
   "cell_type": "code",
   "execution_count": 6,
   "metadata": {},
   "outputs": [],
   "source": [
    "from PfyMU.features import *"
   ]
  },
  {
   "cell_type": "code",
   "execution_count": 7,
   "metadata": {},
   "outputs": [],
   "source": [
    "FB = Bank(window_length=None, window_step=None)\n",
    "\n",
    "# add features\n",
    "FB + Mean()\n",
    "FB + MeanCrossRate()\n",
    "FB + StdDev()\n",
    "FB + Skewness()\n",
    "FB + Kurtosis()\n",
    "FB + Range()\n",
    "FB + IQR()\n",
    "FB + RMS()\n",
    "FB + Autocorrelation(lag=1, normalize=True)\n",
    "FB + LinearSlope()\n",
    "FB + SignalEntropy()\n",
    "FB + SampleEntropy(m=4, r=1.0)\n",
    "FB + PermutationEntropy(order=3, delay=1, normalize=True)\n",
    "FB + ComplexityInvariantDistance(normalize=True)\n",
    "FB + RangeCountPercentage(range_min=0, range_max=1.0)\n",
    "FB + RatioBeyondRSigma(r=2.0)\n",
    "FB + JerkMetric(normalize=True)\n",
    "FB + DimensionlessJerk(log=True, signal_type='acceleration')\n",
    "FB + SPARC()\n",
    "FB + DominantFrequency(low_cutoff=0.25, high_cutoff=5.0)\n",
    "FB + DominantFrequencyValue(low_cutoff=0.25, high_cutoff=5.0)\n",
    "FB + PowerSpectralSum(low_cutoff=0.25, high_cutoff=5.0)\n",
    "FB + SpectralFlatness(low_cutoff=0.25, high_cutoff=5.0)\n",
    "FB + SpectralEntropy(low_cutoff=0.25, high_cutoff=5.0)\n",
    "FB + DetailPower(wavelet='coif4', freq_band=[1.0, 3.0])\n",
    "FB + DetailPowerRatio(wavelet='coif4', freq_band=[1.0, 3.0])"
   ]
  },
  {
   "cell_type": "code",
   "execution_count": 8,
   "metadata": {},
   "outputs": [
    {
     "name": "stderr",
     "output_type": "stream",
     "text": [
      "/home/lukasadamowicz/miniconda3/envs/pfymu/lib/python3.8/site-packages/pywt/_multilevel.py:43: UserWarning: Level value of 6 is too high: all coefficients will experience boundary effects.\n",
      "  warnings.warn(\n"
     ]
    }
   ],
   "source": [
    "X_feat, feature_names = FB.compute(X, fs=50.0, windowed=True, columns=[''])"
   ]
  },
  {
   "cell_type": "code",
   "execution_count": 9,
   "metadata": {},
   "outputs": [],
   "source": [
    "feats = pd.DataFrame(\n",
    "    index=range(X_feat.shape[0]), \n",
    "#     columns=['Subject', 'Activity', 'Label'] + feature_names,\n",
    "    columns=['Label'] + feature_names,\n",
    "    dtype='float'\n",
    ")\n",
    "# feats['Subject'] = feats.Subject.astype('str')\n",
    "# feats['Activity'] = feats.Activity.astype('str')\n",
    "\n",
    "feats.iloc[:, 1:] = X_feat\n",
    "feats['Label'] = Y\n",
    "feats['Label'] = feats.Label.astype('int')\n",
    "# feats['Subject'] = subjects\n",
    "# feats['Activity'] = activities"
   ]
  },
  {
   "cell_type": "markdown",
   "metadata": {},
   "source": [
    "### Feature distributions"
   ]
  },
  {
   "cell_type": "code",
   "execution_count": 10,
   "metadata": {},
   "outputs": [
    {
     "data": {
      "application/vnd.jupyter.widget-view+json": {
       "model_id": "12e22e2970c548a3a301de64d375a386",
       "version_major": 2,
       "version_minor": 0
      },
      "text/plain": [
       "Canvas(toolbar=Toolbar(toolitems=[('Home', 'Reset original view', 'home', 'home'), ('Back', 'Back to previous …"
      ]
     },
     "metadata": {},
     "output_type": "display_data"
    }
   ],
   "source": [
    "plt.close('all')\n",
    "\n",
    "f, ax = plt.subplots(nrows=7, ncols=4, figsize=(10, 10), sharex=True)\n",
    "\n",
    "j, k = 0, 0\n",
    "for i, ft in enumerate(feature_names):\n",
    "    if k > 3:\n",
    "        j += 1\n",
    "        k  = 0\n",
    "    sns.violinplot(x='Label', y=ft, data=feats, ax=ax[j, k])\n",
    "    ax[j, k].set_ylabel(None)\n",
    "    ax[j, k].set_title(ft)\n",
    "    ax[j, k].set_xlabel(None)\n",
    "    \n",
    "    k += 1\n",
    "\n",
    "for k in range(4):\n",
    "    ax[-1, k].set_xticklabels(['NG', 'G'])\n",
    "\n",
    "f.tight_layout()"
   ]
  },
  {
   "cell_type": "code",
   "execution_count": 11,
   "metadata": {},
   "outputs": [],
   "source": [
    "import ppscore"
   ]
  },
  {
   "cell_type": "code",
   "execution_count": 12,
   "metadata": {},
   "outputs": [
    {
     "data": {
      "application/vnd.jupyter.widget-view+json": {
       "model_id": "4a340e902d91429193aa15056a0e16d2",
       "version_major": 2,
       "version_minor": 0
      },
      "text/plain": [
       "Canvas(toolbar=Toolbar(toolitems=[('Home', 'Reset original view', 'home', 'home'), ('Back', 'Back to previous …"
      ]
     },
     "metadata": {},
     "output_type": "display_data"
    }
   ],
   "source": [
    "df_predictors = ppscore.predictors(feats, 'Label', output='df')\n",
    "plt.figure()\n",
    "ax = sns.barplot(data=df_predictors, x=\"x\", y=\"ppscore\")\n",
    "ax.set_xticklabels(ax.get_xticklabels(), rotation=45, ha=\"right\")\n",
    "plt.tight_layout()"
   ]
  },
  {
   "cell_type": "code",
   "execution_count": 13,
   "metadata": {},
   "outputs": [],
   "source": [
    "pps_matrix = ppscore.matrix(feats)"
   ]
  },
  {
   "cell_type": "code",
   "execution_count": 14,
   "metadata": {},
   "outputs": [
    {
     "data": {
      "text/plain": [
       "Label                           1.000000\n",
       "_dominantfrequency              0.468119\n",
       "_range                          0.345729\n",
       "_rangecountpercentage           0.305840\n",
       "_stddev                         0.229161\n",
       "_rms                            0.229161\n",
       "_sampleentropy                  0.195252\n",
       "_dominantfrequencyvalue         0.184570\n",
       "_spectralentropy                0.183265\n",
       "_detailpower                    0.173951\n",
       "_detailpowerratio               0.170545\n",
       "_spectralflatness               0.164441\n",
       "_jerkmetric                     0.108964\n",
       "_dimensionlessjerk              0.108083\n",
       "_mean                           0.107996\n",
       "_iqr                            0.103782\n",
       "_linearslope                    0.103648\n",
       "_autocorrelation                0.102179\n",
       "_meancrossrate                  0.097552\n",
       "_complexityinvariantdistance    0.093780\n",
       "_skewness                       0.076896\n",
       "_sparc                          0.076015\n",
       "_kurtosis                       0.067421\n",
       "_powerspectralsum               0.067057\n",
       "_signalentropy                  0.059288\n",
       "_permutationentropy             0.028526\n",
       "_ratiobeyondrsigma              0.000000\n",
       "Name: Label, dtype: float64"
      ]
     },
     "execution_count": 14,
     "metadata": {},
     "output_type": "execute_result"
    }
   ],
   "source": [
    "pps_matrix.loc['Label'].sort_values(ascending=False)"
   ]
  },
  {
   "cell_type": "code",
   "execution_count": 15,
   "metadata": {},
   "outputs": [
    {
     "data": {
      "application/vnd.jupyter.widget-view+json": {
       "model_id": "7055eb9d6cff4b62b8f70c581286040b",
       "version_major": 2,
       "version_minor": 0
      },
      "text/plain": [
       "Canvas(toolbar=Toolbar(toolitems=[('Home', 'Reset original view', 'home', 'home'), ('Back', 'Back to previous …"
      ]
     },
     "metadata": {},
     "output_type": "display_data"
    }
   ],
   "source": [
    "plt.figure(figsize=(15, 10))\n",
    "sns.heatmap(pps_matrix, vmin=0, vmax=1, cmap=\"Blues\", linewidths=0.5, annot=True)\n",
    "plt.tight_layout()\n",
    "# plt.savefig('PPScore_matrix.pdf')"
   ]
  },
  {
   "cell_type": "code",
   "execution_count": null,
   "metadata": {},
   "outputs": [],
   "source": []
  }
 ],
 "metadata": {
  "kernelspec": {
   "display_name": "PfyMU",
   "language": "python",
   "name": "pfymu"
  },
  "language_info": {
   "codemirror_mode": {
    "name": "ipython",
    "version": 3
   },
   "file_extension": ".py",
   "mimetype": "text/x-python",
   "name": "python",
   "nbconvert_exporter": "python",
   "pygments_lexer": "ipython3",
   "version": "3.8.3"
  }
 },
 "nbformat": 4,
 "nbformat_minor": 4
}
