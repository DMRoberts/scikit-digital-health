{
 "cells": [
  {
   "cell_type": "code",
   "execution_count": 1,
   "metadata": {},
   "outputs": [],
   "source": [
    "%matplotlib widget"
   ]
  },
  {
   "cell_type": "code",
   "execution_count": 2,
   "metadata": {},
   "outputs": [],
   "source": [
    "import numpy as np\n",
    "import pandas as pd\n",
    "import matplotlib.pyplot as plt\n",
    "import seaborn as sns\n",
    "from pathlib import Path\n",
    "\n",
    "from PfyMU.gait.train_classifier.core import load_datasets\n",
    "from PfyMU.features import *"
   ]
  },
  {
   "cell_type": "code",
   "execution_count": 3,
   "metadata": {},
   "outputs": [],
   "source": [
    "steps = {\n",
    "    'jumping-rope': 0.15,\n",
    "    'stairs-descending': 0.1,\n",
    "    'stairs-ascending': 0.1,\n",
    "    'jumping': 0.15,\n",
    "    'lying': 0.15,\n",
    "    'elevator-ascending': 0.15,\n",
    "    'elevator-descending': 0.15,\n",
    "    'running': 0.075,\n",
    "    'sweeping': 0.15,\n",
    "    'standing': 225,\n",
    "    'running-treadmill': 0.1,\n",
    "    'cycling-50W': 0.12,\n",
    "    'cycling-100W': 0.12,\n",
    "    'walking-left': 0.2,\n",
    "    'walking-right': 0.2,\n",
    "    'walking-impaired': 0.2,\n",
    "    'walking': 0.25,\n",
    "    'sitting': 400,\n",
    "    'default': 0.5\n",
    "}"
   ]
  },
  {
   "cell_type": "code",
   "execution_count": 4,
   "metadata": {},
   "outputs": [],
   "source": [
    "# gait_sets_path = Path('/Users/adamol/Documents/Datasets/gait/processed')\n",
    "gait_sets_path = Path('/home/lukasadamowicz/Documents/Datasets/processed')\n",
    "\n",
    "datasets = [\n",
    "    gait_sets_path / 'bluesky2',\n",
    "    gait_sets_path / 'daliac',\n",
    "    gait_sets_path / 'ltmm',\n",
    "    gait_sets_path / 'usc-had'\n",
    "]\n",
    "\n",
    "X, Y, subjects, activities = load_datasets(\n",
    "    datasets, \n",
    "    goal_fs=50.0, \n",
    "    acc_mag=True, \n",
    "    window_length=3.0, \n",
    "    window_step=steps\n",
    ")"
   ]
  },
  {
   "cell_type": "code",
   "execution_count": 5,
   "metadata": {},
   "outputs": [],
   "source": [
    "# make stair-climbing in the positive class\n",
    "mask = (activities == 'stairs-ascending') | (activities == 'stairs-descending')\n",
    "Y_inc_str = Y.copy()\n",
    "Y_inc_str[mask] = 1"
   ]
  },
  {
   "cell_type": "markdown",
   "metadata": {},
   "source": [
    "# Feature Generation"
   ]
  },
  {
   "cell_type": "code",
   "execution_count": 6,
   "metadata": {},
   "outputs": [],
   "source": [
    "FB = Bank(window_length=None, window_step=None)\n",
    "\n",
    "# add features\n",
    "FB + Mean()\n",
    "FB + MeanCrossRate()\n",
    "FB + StdDev()\n",
    "FB + Skewness()\n",
    "FB + Kurtosis()\n",
    "FB + Range()\n",
    "FB + IQR()\n",
    "FB + RMS()\n",
    "FB + LinearSlope()\n",
    "FB + SignalEntropy()\n",
    "FB + SPARC()\n",
    "FB + ComplexityInvariantDistance(normalize=True)\n",
    "FB + JerkMetric(normalize=True)\n",
    "FB + DimensionlessJerk(log=True, signal_type='acceleration')\n",
    "\n",
    "FB + Autocorrelation(lag=1, normalize=True)\n",
    "FB + Autocorrelation(lag=15, normalize=True)\n",
    "FB + Autocorrelation(lag=14, normalize=True)\n",
    "FB + Autocorrelation(lag=12, normalize=True)\n",
    "\n",
    "FB + SampleEntropy(m=4, r=1.0)\n",
    "FB + SampleEntropy(m=2, r=0.75)\n",
    "FB + SampleEntropy(m=3, r=0.75)\n",
    "FB + SampleEntropy(m=2, r=0.5)\n",
    "FB + SampleEntropy(m=2, r=0.25)\n",
    "\n",
    "FB + PermutationEntropy(order=3, delay=1, normalize=True)\n",
    "FB + PermutationEntropy(order=5, delay=1, normalize=True)\n",
    "FB + PermutationEntropy(order=8, delay=1, normalize=True)\n",
    "FB + PermutationEntropy(order=10, delay=1, normalize=True)\n",
    "FB + PermutationEntropy(order=8, delay=2, normalize=True)\n",
    "FB + PermutationEntropy(order=8, delay=8, normalize=True)\n",
    "\n",
    "FB + RangeCountPercentage(range_min=0, range_max=1.0)\n",
    "FB + RangeCountPercentage(range_min=0.5, range_max=1.4)\n",
    "FB + RangeCountPercentage(range_min=0.3, range_max=1.4)\n",
    "FB + RangeCountPercentage(range_min=1, range_max=1.4)\n",
    "FB + RangeCountPercentage(range_min=0, range_max=1.5)\n",
    "\n",
    "FB + RatioBeyondRSigma(r=1.0)\n",
    "FB + RatioBeyondRSigma(r=2.5)\n",
    "FB + RatioBeyondRSigma(r=0.5)\n",
    "\n",
    "FB + DominantFrequency(low_cutoff=0.25, high_cutoff=5.0)\n",
    "FB + DominantFrequency(low_cutoff=1.0, high_cutoff=3.5)\n",
    "FB + DominantFrequency(low_cutoff=1.0, high_cutoff=3.0)\n",
    "FB + DominantFrequency(low_cutoff=1.5, high_cutoff=6.0)\n",
    "FB + DominantFrequency(low_cutoff=0.5, high_cutoff=3.0)\n",
    "\n",
    "FB + DominantFrequencyValue(low_cutoff=0.25, high_cutoff=5.0)\n",
    "FB + DominantFrequencyValue(low_cutoff=1.0, high_cutoff=3.5)\n",
    "FB + DominantFrequencyValue(low_cutoff=1.0, high_cutoff=3.0)\n",
    "FB + DominantFrequencyValue(low_cutoff=1.5, high_cutoff=6.0)\n",
    "FB + DominantFrequencyValue(low_cutoff=0.5, high_cutoff=3.0)\n",
    "\n",
    "FB + PowerSpectralSum(low_cutoff=0.25, high_cutoff=5.0)\n",
    "FB + PowerSpectralSum(low_cutoff=1.0, high_cutoff=3.0)\n",
    "FB + PowerSpectralSum(low_cutoff=1.5, high_cutoff=3.5)\n",
    "FB + PowerSpectralSum(low_cutoff=0.25, high_cutoff=4.0)\n",
    "FB + PowerSpectralSum(low_cutoff=0.25, high_cutoff=3.0)\n",
    "\n",
    "FB + SpectralFlatness(low_cutoff=0.25, high_cutoff=5.0)\n",
    "FB + SpectralFlatness(low_cutoff=0.0, high_cutoff=6.0)\n",
    "FB + SpectralFlatness(low_cutoff=0.0, high_cutoff=8.0)\n",
    "FB + SpectralFlatness(low_cutoff=0.0, high_cutoff=3.5)\n",
    "FB + SpectralFlatness(low_cutoff=0.5, high_cutoff=3.5)\n",
    "\n",
    "FB + SpectralEntropy(low_cutoff=0.25, high_cutoff=5.0)\n",
    "FB + SpectralEntropy(low_cutoff=0.0, high_cutoff=5.0)\n",
    "FB + SpectralEntropy(low_cutoff=0.0, high_cutoff=3.5)\n",
    "FB + SpectralEntropy(low_cutoff=0.25, high_cutoff=3.0)\n",
    "FB + SpectralEntropy(low_cutoff=1.5, high_cutoff=4.0)\n",
    "\n",
    "FB + DetailPower(wavelet='coif4', freq_band=[1.0, 3.0])\n",
    "\n",
    "FB + DetailPowerRatio(wavelet='coif4', freq_band=[1.0, 3.0])"
   ]
  },
  {
   "cell_type": "code",
   "execution_count": 7,
   "metadata": {},
   "outputs": [
    {
     "name": "stderr",
     "output_type": "stream",
     "text": [
      "/home/lukasadamowicz/miniconda3/envs/pfymu/lib/python3.8/site-packages/pywt/_multilevel.py:43: UserWarning: Level value of 6 is too high: all coefficients will experience boundary effects.\n",
      "  warnings.warn(\n"
     ]
    }
   ],
   "source": [
    "X_feat, feature_names = FB.compute(X, fs=50.0, windowed=True, columns=[''])"
   ]
  },
  {
   "cell_type": "code",
   "execution_count": 25,
   "metadata": {},
   "outputs": [],
   "source": [
    "feats = pd.DataFrame(\n",
    "    index=range(X_feat.shape[0]), \n",
    "#     columns=['Subject', 'Activity', 'Label'] + feature_names,\n",
    "    columns=['Label'] + feature_names,\n",
    "    dtype='float'\n",
    ")\n",
    "# feats['Subject'] = feats.Subject.astype('str')\n",
    "# feats['Activity'] = feats.Activity.astype('str')\n",
    "\n",
    "feats.iloc[:, 1:] = X_feat\n",
    "feats['Label'] = Y\n",
    "feats['Label'] = feats.Label.astype('int')\n",
    "# feats['Subject'] = subjects\n",
    "# feats['Activity'] = activities"
   ]
  },
  {
   "cell_type": "code",
   "execution_count": 11,
   "metadata": {},
   "outputs": [],
   "source": [
    "feats_istr = pd.DataFrame(\n",
    "    index=range(X_feat.shape[0]), \n",
    "    columns=['Label'] + feature_names,\n",
    "    dtype='float'\n",
    ")\n",
    "\n",
    "feats_istr.iloc[:, 1:] = X_feat\n",
    "feats_istr['Label'] = Y_inc_str\n",
    "feats_istr['Label'] = feats_istr.Label.astype('int')"
   ]
  },
  {
   "cell_type": "markdown",
   "metadata": {},
   "source": [
    "### Predictive Power Score"
   ]
  },
  {
   "cell_type": "code",
   "execution_count": 12,
   "metadata": {},
   "outputs": [],
   "source": [
    "import ppscore"
   ]
  },
  {
   "cell_type": "code",
   "execution_count": 14,
   "metadata": {},
   "outputs": [
    {
     "data": {
      "application/vnd.jupyter.widget-view+json": {
       "model_id": "c99e90a051224ad8ba3537c2cc1d2adc",
       "version_major": 2,
       "version_minor": 0
      },
      "text/plain": [
       "Canvas(toolbar=Toolbar(toolitems=[('Home', 'Reset original view', 'home', 'home'), ('Back', 'Back to previous …"
      ]
     },
     "metadata": {},
     "output_type": "display_data"
    }
   ],
   "source": [
    "df_predictors = ppscore.predictors(feats, 'Label', output='df')\n",
    "plt.figure(figsize=(10, 5))\n",
    "ax = sns.barplot(data=df_predictors, x=\"x\", y=\"ppscore\")\n",
    "ax.set_xticklabels(ax.get_xticklabels(), rotation=45, ha=\"right\")\n",
    "plt.tight_layout()"
   ]
  },
  {
   "cell_type": "code",
   "execution_count": 27,
   "metadata": {},
   "outputs": [],
   "source": [
    "for col in feats.columns:\n",
    "    if feats[col].unique().size < 16:\n",
    "        if col != 'Label':\n",
    "            feats[col] += np.random.rand(feats.shape[0]) * 1e-8"
   ]
  },
  {
   "cell_type": "code",
   "execution_count": 28,
   "metadata": {},
   "outputs": [],
   "source": [
    "pps_matrix = ppscore.matrix(feats, output='df')"
   ]
  },
  {
   "cell_type": "code",
   "execution_count": 29,
   "metadata": {},
   "outputs": [
    {
     "data": {
      "application/vnd.jupyter.widget-view+json": {
       "model_id": "44bc44ec661e47ce89f587bc5929bb11",
       "version_major": 2,
       "version_minor": 0
      },
      "text/plain": [
       "Canvas(toolbar=Toolbar(toolitems=[('Home', 'Reset original view', 'home', 'home'), ('Back', 'Back to previous …"
      ]
     },
     "metadata": {},
     "output_type": "display_data"
    }
   ],
   "source": [
    "plt.figure(figsize=(40, 27))\n",
    "sns.heatmap(pps_matrix, vmin=0, vmax=1, cmap=\"Blues\", linewidths=0.5, annot=True)\n",
    "plt.tight_layout()\n",
    "# plt.savefig('PPScore_full_matrix.pdf')"
   ]
  },
  {
   "cell_type": "code",
   "execution_count": null,
   "metadata": {},
   "outputs": [],
   "source": []
  }
 ],
 "metadata": {
  "kernelspec": {
   "display_name": "PfyMU",
   "language": "python",
   "name": "pfymu"
  },
  "language_info": {
   "codemirror_mode": {
    "name": "ipython",
    "version": 3
   },
   "file_extension": ".py",
   "mimetype": "text/x-python",
   "name": "python",
   "nbconvert_exporter": "python",
   "pygments_lexer": "ipython3",
   "version": "3.8.3"
  }
 },
 "nbformat": 4,
 "nbformat_minor": 4
}
