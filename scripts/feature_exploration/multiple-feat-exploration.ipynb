{
 "cells": [
  {
   "cell_type": "code",
   "execution_count": 1,
   "metadata": {},
   "outputs": [],
   "source": [
    "%matplotlib widget"
   ]
  },
  {
   "cell_type": "code",
   "execution_count": 2,
   "metadata": {},
   "outputs": [],
   "source": [
    "import numpy as np\n",
    "import pandas as pd\n",
    "import matplotlib.pyplot as plt\n",
    "import seaborn as sns\n",
    "from pathlib import Path\n",
    "\n",
    "from PfyMU.gait.train_classifier.core import load_datasets\n",
    "from PfyMU.features import *"
   ]
  },
  {
   "cell_type": "code",
   "execution_count": 3,
   "metadata": {},
   "outputs": [],
   "source": [
    "steps = {\n",
    "    'jumping-rope': 0.15,\n",
    "    'stairs-descending': 0.1,\n",
    "    'stairs-ascending': 0.1,\n",
    "    'jumping': 0.15,\n",
    "    'lying': 0.15,\n",
    "    'elevator-ascending': 0.15,\n",
    "    'elevator-descending': 0.15,\n",
    "    'running': 0.075,\n",
    "    'sweeping': 0.15,\n",
    "    'standing': 225,\n",
    "    'running-treadmill': 0.1,\n",
    "    'cycling-50W': 0.12,\n",
    "    'cycling-100W': 0.12,\n",
    "    'walking-left': 0.2,\n",
    "    'walking-right': 0.2,\n",
    "    'walking-impaired': 0.2,\n",
    "    'walking': 0.25,\n",
    "    'sitting': 400,\n",
    "    'default': 0.5\n",
    "}"
   ]
  },
  {
   "cell_type": "code",
   "execution_count": 4,
   "metadata": {},
   "outputs": [],
   "source": [
    "# gait_sets_path = Path('/Users/adamol/Documents/Datasets/gait/processed')\n",
    "gait_sets_path = Path('/home/lukasadamowicz/Documents/Datasets/processed')\n",
    "\n",
    "datasets = [\n",
    "    gait_sets_path / 'bluesky2',\n",
    "    gait_sets_path / 'daliac',\n",
    "    gait_sets_path / 'ltmm',\n",
    "    gait_sets_path / 'usc-had'\n",
    "]\n",
    "\n",
    "X, Y, subjects, activities = load_datasets(\n",
    "    datasets, \n",
    "    goal_fs=50.0, \n",
    "    acc_mag=True, \n",
    "    window_length=3.0, \n",
    "    window_step=steps\n",
    ")"
   ]
  },
  {
   "cell_type": "code",
   "execution_count": 5,
   "metadata": {},
   "outputs": [],
   "source": [
    "# make stair-climbing in the positive class\n",
    "mask = (activities == 'stairs-ascending') | (activities == 'stairs-descending')\n",
    "Y_inc_str = Y.copy()\n",
    "Y_inc_str[mask] = 1"
   ]
  },
  {
   "cell_type": "markdown",
   "metadata": {},
   "source": [
    "# Feature Generation"
   ]
  },
  {
   "cell_type": "code",
   "execution_count": 6,
   "metadata": {},
   "outputs": [],
   "source": [
    "FB = Bank(window_length=None, window_step=None)\n",
    "\n",
    "# add features\n",
    "FB + Mean()\n",
    "FB + MeanCrossRate()\n",
    "FB + StdDev()\n",
    "FB + Skewness()\n",
    "FB + Kurtosis()\n",
    "FB + Range()\n",
    "FB + IQR()\n",
    "FB + RMS()\n",
    "FB + LinearSlope()\n",
    "FB + SignalEntropy()\n",
    "FB + SPARC()\n",
    "FB + ComplexityInvariantDistance(normalize=True)\n",
    "FB + JerkMetric(normalize=True)\n",
    "FB + DimensionlessJerk(log=True, signal_type='acceleration')\n",
    "\n",
    "FB + Autocorrelation(lag=1, normalize=True)\n",
    "FB + Autocorrelation(lag=15, normalize=True)\n",
    "FB + Autocorrelation(lag=14, normalize=True)\n",
    "FB + Autocorrelation(lag=12, normalize=True)\n",
    "\n",
    "FB + SampleEntropy(m=4, r=1.0)\n",
    "FB + SampleEntropy(m=2, r=0.75)\n",
    "FB + SampleEntropy(m=3, r=0.75)\n",
    "FB + SampleEntropy(m=2, r=0.5)\n",
    "FB + SampleEntropy(m=2, r=0.25)\n",
    "\n",
    "FB + PermutationEntropy(order=3, delay=1, normalize=True)\n",
    "FB + PermutationEntropy(order=5, delay=1, normalize=True)\n",
    "FB + PermutationEntropy(order=8, delay=1, normalize=True)\n",
    "FB + PermutationEntropy(order=10, delay=1, normalize=True)\n",
    "FB + PermutationEntropy(order=8, delay=2, normalize=True)\n",
    "FB + PermutationEntropy(order=8, delay=8, normalize=True)\n",
    "\n",
    "FB + RangeCountPercentage(range_min=0, range_max=1.0)\n",
    "FB + RangeCountPercentage(range_min=0.5, range_max=1.4)\n",
    "FB + RangeCountPercentage(range_min=0.3, range_max=1.4)\n",
    "FB + RangeCountPercentage(range_min=1, range_max=1.4)\n",
    "FB + RangeCountPercentage(range_min=0, range_max=1.5)\n",
    "\n",
    "FB + RatioBeyondRSigma(r=1.0)\n",
    "FB + RatioBeyondRSigma(r=2.5)\n",
    "FB + RatioBeyondRSigma(r=0.5)\n",
    "\n",
    "FB + DominantFrequency(low_cutoff=0.25, high_cutoff=5.0)\n",
    "FB + DominantFrequency(low_cutoff=1.0, high_cutoff=3.5)\n",
    "FB + DominantFrequency(low_cutoff=1.0, high_cutoff=3.0)\n",
    "FB + DominantFrequency(low_cutoff=1.5, high_cutoff=6.0)\n",
    "FB + DominantFrequency(low_cutoff=0.5, high_cutoff=3.0)\n",
    "\n",
    "FB + DominantFrequencyValue(low_cutoff=0.25, high_cutoff=5.0)\n",
    "FB + DominantFrequencyValue(low_cutoff=1.0, high_cutoff=3.5)\n",
    "FB + DominantFrequencyValue(low_cutoff=1.0, high_cutoff=3.0)\n",
    "FB + DominantFrequencyValue(low_cutoff=1.5, high_cutoff=6.0)\n",
    "FB + DominantFrequencyValue(low_cutoff=0.5, high_cutoff=3.0)\n",
    "\n",
    "FB + PowerSpectralSum(low_cutoff=0.25, high_cutoff=5.0)\n",
    "FB + PowerSpectralSum(low_cutoff=1.0, high_cutoff=3.0)\n",
    "FB + PowerSpectralSum(low_cutoff=1.5, high_cutoff=3.5)\n",
    "FB + PowerSpectralSum(low_cutoff=0.25, high_cutoff=4.0)\n",
    "FB + PowerSpectralSum(low_cutoff=0.25, high_cutoff=3.0)\n",
    "\n",
    "FB + SpectralFlatness(low_cutoff=0.25, high_cutoff=5.0)\n",
    "FB + SpectralFlatness(low_cutoff=0.0, high_cutoff=6.0)\n",
    "FB + SpectralFlatness(low_cutoff=0.0, high_cutoff=8.0)\n",
    "FB + SpectralFlatness(low_cutoff=0.0, high_cutoff=3.5)\n",
    "FB + SpectralFlatness(low_cutoff=0.5, high_cutoff=3.5)\n",
    "\n",
    "FB + SpectralEntropy(low_cutoff=0.25, high_cutoff=5.0)\n",
    "FB + SpectralEntropy(low_cutoff=0.0, high_cutoff=5.0)\n",
    "FB + SpectralEntropy(low_cutoff=0.0, high_cutoff=3.5)\n",
    "FB + SpectralEntropy(low_cutoff=0.25, high_cutoff=3.0)\n",
    "FB + SpectralEntropy(low_cutoff=1.5, high_cutoff=4.0)\n",
    "\n",
    "FB + DetailPower(wavelet='coif4', freq_band=[1.0, 3.0])\n",
    "\n",
    "FB + DetailPowerRatio(wavelet='coif4', freq_band=[1.0, 3.0])"
   ]
  },
  {
   "cell_type": "code",
   "execution_count": 7,
   "metadata": {},
   "outputs": [
    {
     "name": "stderr",
     "output_type": "stream",
     "text": [
      "/home/lukasadamowicz/miniconda3/envs/pfymu/lib/python3.8/site-packages/pywt/_multilevel.py:43: UserWarning: Level value of 6 is too high: all coefficients will experience boundary effects.\n",
      "  warnings.warn(\n"
     ]
    }
   ],
   "source": [
    "X_feat, feature_names = FB.compute(X, fs=50.0, windowed=True, columns=[''])"
   ]
  },
  {
   "cell_type": "code",
   "execution_count": 8,
   "metadata": {},
   "outputs": [],
   "source": [
    "feats = pd.DataFrame(\n",
    "    index=range(X_feat.shape[0]), \n",
    "#     columns=['Subject', 'Activity', 'Label'] + feature_names,\n",
    "    columns=['Label'] + feature_names,\n",
    "    dtype='float'\n",
    ")\n",
    "# feats['Subject'] = feats.Subject.astype('str')\n",
    "# feats['Activity'] = feats.Activity.astype('str')\n",
    "\n",
    "feats.iloc[:, 1:] = X_feat\n",
    "feats['Label'] = Y\n",
    "feats['Label'] = feats.Label.astype('int')\n",
    "# feats['Subject'] = subjects\n",
    "# feats['Activity'] = activities"
   ]
  },
  {
   "cell_type": "code",
   "execution_count": 9,
   "metadata": {},
   "outputs": [],
   "source": [
    "feats_istr = pd.DataFrame(\n",
    "    index=range(X_feat.shape[0]), \n",
    "    columns=['Label'] + feature_names,\n",
    "    dtype='float'\n",
    ")\n",
    "\n",
    "feats_istr.iloc[:, 1:] = X_feat\n",
    "feats_istr['Label'] = Y_inc_str\n",
    "feats_istr['Label'] = feats_istr.Label.astype('int')"
   ]
  },
  {
   "cell_type": "markdown",
   "metadata": {},
   "source": [
    "### Predictive Power Score"
   ]
  },
  {
   "cell_type": "code",
   "execution_count": 10,
   "metadata": {},
   "outputs": [],
   "source": [
    "import ppscore"
   ]
  },
  {
   "cell_type": "code",
   "execution_count": 40,
   "metadata": {},
   "outputs": [],
   "source": [
    "pps = pd.DataFrame()"
   ]
  },
  {
   "cell_type": "markdown",
   "metadata": {},
   "source": [
    "## Stairs as negative class"
   ]
  },
  {
   "cell_type": "code",
   "execution_count": 41,
   "metadata": {},
   "outputs": [
    {
     "data": {
      "application/vnd.jupyter.widget-view+json": {
       "model_id": "464c6b8d957449d5bd5b0441ba3fd75f",
       "version_major": 2,
       "version_minor": 0
      },
      "text/plain": [
       "Canvas(toolbar=Toolbar(toolitems=[('Home', 'Reset original view', 'home', 'home'), ('Back', 'Back to previous …"
      ]
     },
     "metadata": {},
     "output_type": "display_data"
    }
   ],
   "source": [
    "df_predictors = ppscore.predictors(feats, 'Label', output='df')\n",
    "\n",
    "pps = pps.append(df_predictors.loc[:, ['x', 'ppscore']].rename({'ppscore': 'excl_stairs'}, axis=1), ignore_index=True)\n",
    "\n",
    "plt.figure(figsize=(10, 5))\n",
    "ax = sns.barplot(data=df_predictors, x=\"x\", y=\"ppscore\")\n",
    "ax.set_xticklabels(ax.get_xticklabels(), rotation=45, ha=\"right\")\n",
    "plt.tight_layout()"
   ]
  },
  {
   "cell_type": "code",
   "execution_count": 27,
   "metadata": {},
   "outputs": [],
   "source": [
    "for col in feats.columns:\n",
    "    if feats[col].unique().size < 16:\n",
    "        if col != 'Label':\n",
    "            feats[col] += np.random.rand(feats.shape[0]) * 1e-8"
   ]
  },
  {
   "cell_type": "code",
   "execution_count": 28,
   "metadata": {},
   "outputs": [],
   "source": [
    "pps_matrix = ppscore.matrix(feats, output='df')"
   ]
  },
  {
   "cell_type": "code",
   "execution_count": 29,
   "metadata": {},
   "outputs": [
    {
     "data": {
      "application/vnd.jupyter.widget-view+json": {
       "model_id": "44bc44ec661e47ce89f587bc5929bb11",
       "version_major": 2,
       "version_minor": 0
      },
      "text/plain": [
       "Canvas(toolbar=Toolbar(toolitems=[('Home', 'Reset original view', 'home', 'home'), ('Back', 'Back to previous …"
      ]
     },
     "metadata": {},
     "output_type": "display_data"
    }
   ],
   "source": [
    "plt.figure(figsize=(40, 27))\n",
    "sns.heatmap(pps_matrix, vmin=0, vmax=1, cmap=\"Blues\", linewidths=0.5, annot=True)\n",
    "plt.tight_layout()\n",
    "# plt.savefig('PPScore_full_matrix.pdf')"
   ]
  },
  {
   "cell_type": "markdown",
   "metadata": {},
   "source": [
    "## Stairs as positive class"
   ]
  },
  {
   "cell_type": "code",
   "execution_count": 42,
   "metadata": {},
   "outputs": [
    {
     "data": {
      "application/vnd.jupyter.widget-view+json": {
       "model_id": "2d1bf8c7a07440039b8b046e9f493e3b",
       "version_major": 2,
       "version_minor": 0
      },
      "text/plain": [
       "Canvas(toolbar=Toolbar(toolitems=[('Home', 'Reset original view', 'home', 'home'), ('Back', 'Back to previous …"
      ]
     },
     "metadata": {},
     "output_type": "display_data"
    }
   ],
   "source": [
    "df_predictors = ppscore.predictors(feats_istr, 'Label', output='df')\n",
    "\n",
    "pps = pps.merge(df_predictors.loc[:, ['x', 'ppscore']].rename({'ppscore': 'incl_stairs'}, axis=1), on='x')\n",
    "\n",
    "plt.figure(figsize=(10, 5))\n",
    "ax = sns.barplot(data=df_predictors, x=\"x\", y=\"ppscore\")\n",
    "ax.set_xticklabels(ax.get_xticklabels(), rotation=45, ha=\"right\")\n",
    "plt.tight_layout()"
   ]
  },
  {
   "cell_type": "code",
   "execution_count": 12,
   "metadata": {},
   "outputs": [],
   "source": [
    "for col in feats_istr.columns:\n",
    "    if feats_istr[col].unique().size < 16:\n",
    "        if col != 'Label':\n",
    "            feats_istr[col] += np.random.rand(feats.shape[0]) * 1e-8"
   ]
  },
  {
   "cell_type": "code",
   "execution_count": 13,
   "metadata": {},
   "outputs": [],
   "source": [
    "pps_matrix = ppscore.matrix(feats_istr, output='df')"
   ]
  },
  {
   "cell_type": "code",
   "execution_count": 16,
   "metadata": {},
   "outputs": [
    {
     "data": {
      "application/vnd.jupyter.widget-view+json": {
       "model_id": "ed6a19a220334eb7a56da8af26de0bba",
       "version_major": 2,
       "version_minor": 0
      },
      "text/plain": [
       "Canvas(toolbar=Toolbar(toolitems=[('Home', 'Reset original view', 'home', 'home'), ('Back', 'Back to previous …"
      ]
     },
     "metadata": {},
     "output_type": "display_data"
    }
   ],
   "source": [
    "plt.figure(figsize=(40, 27))\n",
    "sns.heatmap(pps_matrix, vmin=0, vmax=1, cmap=\"Blues\", linewidths=0.5, annot=True)\n",
    "plt.tight_layout()\n",
    "# plt.savefig('PPScore_full_matrix_incl_stairs.pdf')"
   ]
  },
  {
   "cell_type": "code",
   "execution_count": 51,
   "metadata": {},
   "outputs": [],
   "source": [
    "import matplotlib.lines as mlines"
   ]
  },
  {
   "cell_type": "code",
   "execution_count": 71,
   "metadata": {},
   "outputs": [],
   "source": [
    "# compute the rank for each feature\n",
    "pps['excl_rank'] = np.argsort(pps['excl_stairs'].values)\n",
    "pps['incl_rank'] = np.argsort(pps['incl_stairs'].values)"
   ]
  },
  {
   "cell_type": "code",
   "execution_count": 72,
   "metadata": {},
   "outputs": [
    {
     "data": {
      "text/html": [
       "<div>\n",
       "<style scoped>\n",
       "    .dataframe tbody tr th:only-of-type {\n",
       "        vertical-align: middle;\n",
       "    }\n",
       "\n",
       "    .dataframe tbody tr th {\n",
       "        vertical-align: top;\n",
       "    }\n",
       "\n",
       "    .dataframe thead th {\n",
       "        text-align: right;\n",
       "    }\n",
       "</style>\n",
       "<table border=\"1\" class=\"dataframe\">\n",
       "  <thead>\n",
       "    <tr style=\"text-align: right;\">\n",
       "      <th></th>\n",
       "      <th>x</th>\n",
       "      <th>excl_stairs</th>\n",
       "      <th>incl_stairs</th>\n",
       "      <th>excl_rank</th>\n",
       "      <th>incl_rank</th>\n",
       "    </tr>\n",
       "  </thead>\n",
       "  <tbody>\n",
       "    <tr>\n",
       "      <th>0</th>\n",
       "      <td>rangecountpercentage_0_1.50</td>\n",
       "      <td>6.026956e-01</td>\n",
       "      <td>0.882356</td>\n",
       "      <td>63</td>\n",
       "      <td>60</td>\n",
       "    </tr>\n",
       "    <tr>\n",
       "      <th>1</th>\n",
       "      <td>dominantfrequency_1.00_3.50</td>\n",
       "      <td>5.836997e-01</td>\n",
       "      <td>0.768910</td>\n",
       "      <td>62</td>\n",
       "      <td>62</td>\n",
       "    </tr>\n",
       "    <tr>\n",
       "      <th>2</th>\n",
       "      <td>dominantfrequency_1.00_3.00</td>\n",
       "      <td>5.819983e-01</td>\n",
       "      <td>0.767990</td>\n",
       "      <td>61</td>\n",
       "      <td>63</td>\n",
       "    </tr>\n",
       "    <tr>\n",
       "      <th>3</th>\n",
       "      <td>rangecountpercentage_0.30_1.40</td>\n",
       "      <td>5.731759e-01</td>\n",
       "      <td>0.900928</td>\n",
       "      <td>60</td>\n",
       "      <td>61</td>\n",
       "    </tr>\n",
       "    <tr>\n",
       "      <th>4</th>\n",
       "      <td>rangecountpercentage_0.50_1.40</td>\n",
       "      <td>5.598277e-01</td>\n",
       "      <td>0.904251</td>\n",
       "      <td>59</td>\n",
       "      <td>45</td>\n",
       "    </tr>\n",
       "    <tr>\n",
       "      <th>...</th>\n",
       "      <td>...</td>\n",
       "      <td>...</td>\n",
       "      <td>...</td>\n",
       "      <td>...</td>\n",
       "      <td>...</td>\n",
       "    </tr>\n",
       "    <tr>\n",
       "      <th>59</th>\n",
       "      <td>permutationentropy_8_8_True</td>\n",
       "      <td>8.864022e-02</td>\n",
       "      <td>0.427248</td>\n",
       "      <td>4</td>\n",
       "      <td>14</td>\n",
       "    </tr>\n",
       "    <tr>\n",
       "      <th>60</th>\n",
       "      <td>kurtosis</td>\n",
       "      <td>6.998932e-02</td>\n",
       "      <td>0.249002</td>\n",
       "      <td>3</td>\n",
       "      <td>13</td>\n",
       "    </tr>\n",
       "    <tr>\n",
       "      <th>61</th>\n",
       "      <td>skewness</td>\n",
       "      <td>5.150781e-02</td>\n",
       "      <td>0.269003</td>\n",
       "      <td>2</td>\n",
       "      <td>0</td>\n",
       "    </tr>\n",
       "    <tr>\n",
       "      <th>62</th>\n",
       "      <td>ratiobeyondrsigma_0.50</td>\n",
       "      <td>1.014318e-02</td>\n",
       "      <td>0.261402</td>\n",
       "      <td>1</td>\n",
       "      <td>3</td>\n",
       "    </tr>\n",
       "    <tr>\n",
       "      <th>63</th>\n",
       "      <td>ratiobeyondrsigma_2.50</td>\n",
       "      <td>1.526045e-07</td>\n",
       "      <td>0.262240</td>\n",
       "      <td>0</td>\n",
       "      <td>4</td>\n",
       "    </tr>\n",
       "  </tbody>\n",
       "</table>\n",
       "<p>64 rows × 5 columns</p>\n",
       "</div>"
      ],
      "text/plain": [
       "                                 x   excl_stairs  incl_stairs  excl_rank  \\\n",
       "0      rangecountpercentage_0_1.50  6.026956e-01     0.882356         63   \n",
       "1      dominantfrequency_1.00_3.50  5.836997e-01     0.768910         62   \n",
       "2      dominantfrequency_1.00_3.00  5.819983e-01     0.767990         61   \n",
       "3   rangecountpercentage_0.30_1.40  5.731759e-01     0.900928         60   \n",
       "4   rangecountpercentage_0.50_1.40  5.598277e-01     0.904251         59   \n",
       "..                             ...           ...          ...        ...   \n",
       "59     permutationentropy_8_8_True  8.864022e-02     0.427248          4   \n",
       "60                        kurtosis  6.998932e-02     0.249002          3   \n",
       "61                        skewness  5.150781e-02     0.269003          2   \n",
       "62          ratiobeyondrsigma_0.50  1.014318e-02     0.261402          1   \n",
       "63          ratiobeyondrsigma_2.50  1.526045e-07     0.262240          0   \n",
       "\n",
       "    incl_rank  \n",
       "0          60  \n",
       "1          62  \n",
       "2          63  \n",
       "3          61  \n",
       "4          45  \n",
       "..        ...  \n",
       "59         14  \n",
       "60         13  \n",
       "61          0  \n",
       "62          3  \n",
       "63          4  \n",
       "\n",
       "[64 rows x 5 columns]"
      ]
     },
     "execution_count": 72,
     "metadata": {},
     "output_type": "execute_result"
    }
   ],
   "source": [
    "pps"
   ]
  },
  {
   "cell_type": "code",
   "execution_count": 100,
   "metadata": {},
   "outputs": [
    {
     "data": {
      "application/vnd.jupyter.widget-view+json": {
       "model_id": "a85d53170ca0464ea661c966ae58bca1",
       "version_major": 2,
       "version_minor": 0
      },
      "text/plain": [
       "Canvas(toolbar=Toolbar(toolitems=[('Home', 'Reset original view', 'home', 'home'), ('Back', 'Back to previous …"
      ]
     },
     "metadata": {},
     "output_type": "display_data"
    }
   ],
   "source": [
    "plt.close('all')\n",
    "\n",
    "f, ax = plt.subplots(figsize=(8, 12))\n",
    "\n",
    "# vertical lines\n",
    "ax.axvline(x=1, color='k', alpha=0.7, linewidth=1, linestyle=':')\n",
    "ax.axvline(x=3, color='k', alpha=0.7, linewidth=1, linestyle=':')\n",
    "\n",
    "for _, stuff in pps.iterrows():\n",
    "    ft, p1, p2, r1, r2 = stuff\n",
    "    _l = mlines.Line2D([1, 3], [r1, r2], color='r' if r1 > r2 else 'g', marker='o', markersize=6)\n",
    "    ax.add_line(_l)\n",
    "    # text\n",
    "    ax.text(1-0.05, r1, f'{ft}, {p1:.2f}', ha='right', va='center', fontsize=8)\n",
    "    ax.text(3+0.05, r2, f'{ft}, {p2:.2f}', ha='left', va='center', fontsize=8)\n",
    "\n",
    "# decoration\n",
    "ax.set_title('PPScore rank excl. and incl. stairs as positive class')\n",
    "ax.set_xlim(-1, 4)\n",
    "ax.set_ylim(-0.5, pps.shape[0] + 0.5)\n",
    "ax.set_xticks([1, 3])\n",
    "ax.set_xticklabels(['Excl. Stairs', 'Incl. Stairs'])\n",
    "ax.set_yticks(np.arange(3, pps.shape[0], 5))\n",
    "ax.set_yticklabels(np.arange(0, pps.shape[0], 5)[::-1])\n",
    "\n",
    "# Lighten borders\n",
    "ax.spines[\"top\"].set_alpha(.0)\n",
    "ax.spines[\"bottom\"].set_alpha(.0)\n",
    "ax.spines[\"right\"].set_alpha(.0)\n",
    "ax.spines[\"left\"].set_alpha(.0)\n",
    "\n",
    "f.tight_layout()\n",
    "\n",
    "# f.savefig('ppscore_rank_slopeplot.png')"
   ]
  },
  {
   "cell_type": "code",
   "execution_count": null,
   "metadata": {},
   "outputs": [],
   "source": []
  }
 ],
 "metadata": {
  "kernelspec": {
   "display_name": "PfyMU",
   "language": "python",
   "name": "pfymu"
  },
  "language_info": {
   "codemirror_mode": {
    "name": "ipython",
    "version": 3
   },
   "file_extension": ".py",
   "mimetype": "text/x-python",
   "name": "python",
   "nbconvert_exporter": "python",
   "pygments_lexer": "ipython3",
   "version": "3.8.3"
  }
 },
 "nbformat": 4,
 "nbformat_minor": 4
}
