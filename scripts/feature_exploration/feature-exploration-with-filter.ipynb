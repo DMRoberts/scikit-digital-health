{
 "cells": [
  {
   "cell_type": "code",
   "execution_count": 1,
   "metadata": {},
   "outputs": [],
   "source": [
    "%matplotlib widget"
   ]
  },
  {
   "cell_type": "code",
   "execution_count": 2,
   "metadata": {},
   "outputs": [],
   "source": [
    "import numpy as np\n",
    "import pandas as pd\n",
    "import matplotlib.pyplot as plt\n",
    "import seaborn as sns\n",
    "from pathlib import Path\n",
    "import sys\n",
    "\n",
    "from scipy.signal import butter, sosfiltfilt\n",
    "\n",
    "from PfyMU.gait.train_classifier.core import load_datasets"
   ]
  },
  {
   "cell_type": "code",
   "execution_count": 3,
   "metadata": {},
   "outputs": [],
   "source": [
    "def filter_function(signal, fs):\n",
    "    sos = butter(4, [2 * 0.2 / fs, 2 * 10 / fs], btype='band', output='sos')\n",
    "    return sosfiltfilt(sos, signal)"
   ]
  },
  {
   "cell_type": "code",
   "execution_count": 4,
   "metadata": {},
   "outputs": [],
   "source": [
    "gait_sets_path = Path('/Users/adamol/Documents/Datasets/gait/processed')\n",
    "\n",
    "datasets = [\n",
    "    gait_sets_path / 'bluesky2',\n",
    "    gait_sets_path / 'daliac',\n",
    "    gait_sets_path / 'ltmm',\n",
    "    gait_sets_path / 'usc-had'\n",
    "]\n",
    "\n",
    "X, Y, subjects, activities = load_datasets(datasets, goal_fs=50.0, acc_mag=True, window_length=3.0, window_step=[0.75, 0.25], signal_function=filter_function)"
   ]
  },
  {
   "cell_type": "markdown",
   "metadata": {},
   "source": [
    "## Dataset class summary"
   ]
  },
  {
   "cell_type": "code",
   "execution_count": 5,
   "metadata": {},
   "outputs": [
    {
     "name": "stdout",
     "output_type": "stream",
     "text": [
      "Total samples (3.0s windows):  74926\n",
      "Total walking samples:  29963\n",
      "Total non-walking samples:  44963 \n",
      "\n",
      "% walking samples: 39.99\n"
     ]
    }
   ],
   "source": [
    "print('Total samples (3.0s windows): ', Y.size)\n",
    "print('Total walking samples: ', Y.sum())\n",
    "print('Total non-walking samples: ', Y.size - Y.sum(), '\\n')\n",
    "print(f'% walking samples: {Y.sum() / Y.size * 100:.2f}')"
   ]
  },
  {
   "cell_type": "markdown",
   "metadata": {},
   "source": [
    "## Feature Generation"
   ]
  },
  {
   "cell_type": "code",
   "execution_count": 6,
   "metadata": {},
   "outputs": [],
   "source": [
    "from PfyMU.features import *"
   ]
  },
  {
   "cell_type": "code",
   "execution_count": 7,
   "metadata": {},
   "outputs": [],
   "source": [
    "FB = Bank(window_length=None, window_step=None)\n",
    "\n",
    "# add features\n",
    "FB + Mean()\n",
    "FB + MeanCrossRate()\n",
    "FB + StdDev()\n",
    "FB + Skewness()\n",
    "FB + Kurtosis()\n",
    "FB + Range()\n",
    "FB + IQR()\n",
    "FB + RMS()\n",
    "FB + Autocorrelation(lag=1, normalize=True)\n",
    "FB + LinearSlope()\n",
    "FB + SignalEntropy()\n",
    "FB + SampleEntropy(m=4, r=1.0)\n",
    "FB + PermutationEntropy(order=3, delay=1, normalize=True)\n",
    "FB + ComplexityInvariantDistance(normalize=True)\n",
    "FB + RangeCountPercentage(range_min=0, range_max=1.0)\n",
    "FB + RatioBeyondRSigma(r=2.0)\n",
    "FB + JerkMetric(normalize=True)\n",
    "FB + DimensionlessJerk(log=True, signal_type='acceleration')\n",
    "FB + SPARC()\n",
    "FB + DominantFrequency(low_cutoff=0.25, high_cutoff=5.0)\n",
    "FB + DominantFrequencyValue(low_cutoff=0.25, high_cutoff=5.0)\n",
    "FB + PowerSpectralSum(low_cutoff=0.25, high_cutoff=5.0)\n",
    "FB + SpectralFlatness(low_cutoff=0.25, high_cutoff=5.0)\n",
    "FB + SpectralEntropy(low_cutoff=0.25, high_cutoff=5.0)\n",
    "FB + DetailPower(wavelet='coif4', freq_band=[1.0, 3.0])\n",
    "FB + DetailPowerRatio(wavelet='coif4', freq_band=[1.0, 3.0])"
   ]
  },
  {
   "cell_type": "code",
   "execution_count": 8,
   "metadata": {},
   "outputs": [
    {
     "name": "stderr",
     "output_type": "stream",
     "text": [
      "/Users/adamol/opt/miniconda3/envs/pfymu/lib/python3.8/site-packages/pywt/_multilevel.py:43: UserWarning: Level value of 6 is too high: all coefficients will experience boundary effects.\n",
      "  warnings.warn(\n"
     ]
    }
   ],
   "source": [
    "X_feat = FB.compute(X, fs=50.0, windowed=True)"
   ]
  },
  {
   "cell_type": "markdown",
   "metadata": {},
   "source": [
    "## Feature Exploration"
   ]
  },
  {
   "cell_type": "code",
   "execution_count": 9,
   "metadata": {},
   "outputs": [],
   "source": [
    "feats = pd.DataFrame(\n",
    "    index=range(X_feat.shape[0]), \n",
    "#     columns=['Subject', 'Activity', 'Label'] + [i.parent._name for i in FB._feat_list],\n",
    "    columns=['Label'] + [i.parent._name for i in FB._feat_list],\n",
    "    dtype='float'\n",
    ")\n",
    "# feats['Subject'] = feats.Subject.astype('str')\n",
    "# feats['Activity'] = feats.Activity.astype('str')\n",
    "\n",
    "feats.iloc[:, 1:] = X_feat\n",
    "feats['Label'] = Y\n",
    "feats['Label'] = feats.Label.astype('int')\n",
    "# feats['Subject'] = subjects\n",
    "# feats['Activity'] = activities\n",
    "\n",
    "feat_names = [i.parent._name for i in FB._feat_list]"
   ]
  },
  {
   "cell_type": "markdown",
   "metadata": {},
   "source": [
    "### Feature distributions"
   ]
  },
  {
   "cell_type": "code",
   "execution_count": null,
   "metadata": {
    "jupyter": {
     "source_hidden": true
    }
   },
   "outputs": [],
   "source": [
    "plt.close('all')\n",
    "\n",
    "f, ax = plt.subplots(nrows=7, ncols=4, figsize=(10, 10), sharex=True)\n",
    "\n",
    "j, k = 0, 0\n",
    "for i, ft in enumerate([i.parent._name for i in FB._feat_list]):\n",
    "    if k > 3:\n",
    "        j += 1\n",
    "        k  = 0\n",
    "    sns.violinplot(x='Labels', y=ft, data=feats, ax=ax[j, k])\n",
    "    ax[j, k].set_ylabel(None)\n",
    "    ax[j, k].set_title(ft)\n",
    "    ax[j, k].set_xlabel(None)\n",
    "    \n",
    "    k += 1\n",
    "\n",
    "for k in range(4):\n",
    "    ax[-1, k].set_xticklabels(['NG', 'G'])\n",
    "\n",
    "f.tight_layout()"
   ]
  },
  {
   "cell_type": "markdown",
   "metadata": {},
   "source": [
    "### Predictive Power Score"
   ]
  },
  {
   "cell_type": "code",
   "execution_count": null,
   "metadata": {},
   "outputs": [],
   "source": [
    "import ppscore"
   ]
  },
  {
   "cell_type": "code",
   "execution_count": null,
   "metadata": {},
   "outputs": [],
   "source": [
    "df_predictors = ppscore.predictors(feats, 'Labels', output='df')\n",
    "plt.figure()\n",
    "ax = sns.barplot(data=df_predictors, x=\"x\", y=\"ppscore\")\n",
    "ax.set_xticklabels(ax.get_xticklabels(), rotation=45, ha=\"right\")\n",
    "plt.tight_layout()"
   ]
  },
  {
   "cell_type": "code",
   "execution_count": null,
   "metadata": {},
   "outputs": [],
   "source": [
    "pps_matrix = ppscore.matrix(feats)"
   ]
  },
  {
   "cell_type": "code",
   "execution_count": null,
   "metadata": {},
   "outputs": [],
   "source": [
    "plt.figure(figsize=(15, 10))\n",
    "sns.heatmap(pps_matrix, vmin=0, vmax=1, cmap=\"Blues\", linewidths=0.5, annot=True)\n",
    "plt.tight_layout()\n",
    "# plt.savefig('PPScore_matrix.pdf')"
   ]
  },
  {
   "cell_type": "code",
   "execution_count": null,
   "metadata": {},
   "outputs": [],
   "source": [
    "from sklearn.decomposition import PCA"
   ]
  },
  {
   "cell_type": "code",
   "execution_count": null,
   "metadata": {},
   "outputs": [],
   "source": [
    "pca = PCA(n_components=5)\n",
    "x_pca = pca.fit_transform(feats)\n",
    "df_pca = pd.DataFrame(x_pca, columns=[f'PC {i+1}' for i in range(x_pca.shape[1])])\n",
    "df_pca['Labels'] = Y\n",
    "df_pca.head(2)"
   ]
  },
  {
   "cell_type": "code",
   "execution_count": null,
   "metadata": {},
   "outputs": [],
   "source": [
    "sns.pairplot(df_pca, hue='Labels')"
   ]
  },
  {
   "cell_type": "code",
   "execution_count": null,
   "metadata": {},
   "outputs": [],
   "source": [
    "from separation_stats import db_2class, corr_select, cohen_d, ttest_select, mwu_select, auc_score"
   ]
  },
  {
   "cell_type": "code",
   "execution_count": null,
   "metadata": {},
   "outputs": [],
   "source": [
    "sep_df = pd.DataFrame()\n",
    "sep_df['Feature'] = feat_names\n",
    "\n",
    "sep_df['DBI'], db_rank = db_2class(X_feat, Y)\n",
    "sep_df['Correlation r'] = corr_select(X_feat, Y)\n",
    "sep_df['T-test p'], sep_df['Cohens d'] = ttest_select(X_feat, Y)\n",
    "sep_df['MWU-test p'], _ = mwu_select(X_feat, Y)\n",
    "sep_df['AUC'] = auc_score(X_feat, Y)\n",
    "\n",
    "sep_df['Cohens d'] = sep_df['Cohens d'].abs()\n",
    "sep_df['AUC'] = sep_df['AUC'].apply(lambda i: 1 - i if i < 0.5 else i)"
   ]
  },
  {
   "cell_type": "code",
   "execution_count": null,
   "metadata": {},
   "outputs": [],
   "source": [
    "sep_df.sort_values('DBI')"
   ]
  },
  {
   "cell_type": "code",
   "execution_count": null,
   "metadata": {},
   "outputs": [],
   "source": [
    "sep_df.sort_values('Cohens d', ascending=False)"
   ]
  },
  {
   "cell_type": "code",
   "execution_count": null,
   "metadata": {},
   "outputs": [],
   "source": [
    "sep_df.sort_values('AUC', ascending=False)"
   ]
  },
  {
   "cell_type": "markdown",
   "metadata": {},
   "source": [
    "### Pair plots (Top Features)"
   ]
  },
  {
   "cell_type": "code",
   "execution_count": null,
   "metadata": {},
   "outputs": [],
   "source": [
    "top_feats = ['PowerSpectralSum', 'PermutationEntropy', 'IQR', 'DominantFrequency', 'DimensionlessJerk', 'DetailPowerRatio']\n",
    "\n",
    "sns.pairplot(feats, hue='Labels', vars=top_feats)"
   ]
  },
  {
   "cell_type": "code",
   "execution_count": null,
   "metadata": {},
   "outputs": [],
   "source": []
  }
 ],
 "metadata": {
  "kernelspec": {
   "display_name": "PfyMU",
   "language": "python",
   "name": "pfymu"
  },
  "language_info": {
   "codemirror_mode": {
    "name": "ipython",
    "version": 3
   },
   "file_extension": ".py",
   "mimetype": "text/x-python",
   "name": "python",
   "nbconvert_exporter": "python",
   "pygments_lexer": "ipython3",
   "version": "3.8.2"
  }
 },
 "nbformat": 4,
 "nbformat_minor": 4
}
