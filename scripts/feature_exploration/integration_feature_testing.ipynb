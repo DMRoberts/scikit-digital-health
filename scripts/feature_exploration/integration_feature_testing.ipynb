{
 "cells": [
  {
   "cell_type": "code",
   "execution_count": 1,
   "metadata": {},
   "outputs": [],
   "source": [
    "%matplotlib widget"
   ]
  },
  {
   "cell_type": "code",
   "execution_count": 2,
   "metadata": {},
   "outputs": [],
   "source": [
    "import numpy as np\n",
    "import h5py\n",
    "import pandas as pd\n",
    "from scipy.integrate import cumtrapz\n",
    "from scipy.signal import butter, sosfiltfilt, detrend\n",
    "from pathlib import Path\n",
    "import matplotlib.pyplot as plt"
   ]
  },
  {
   "cell_type": "code",
   "execution_count": 3,
   "metadata": {},
   "outputs": [],
   "source": [
    "gait_sets_path = Path('/home/lukasadamowicz/Documents/Datasets/processed')\n",
    "\n",
    "subj_files = [i for i in (gait_sets_path / 'daliac').glob('**/*')]\n",
    "\n",
    "with h5py.File(subj_files[0], 'r') as f:\n",
    "    fs = f['stairs-ascending']['Trial 1'].attrs.get('Sampling rate')\n",
    "    stair_acc = f['stairs-ascending']['Trial 1']['Accelerometer'][()]\n",
    "    walk_acc = f['walking']['Trial 1']['Accelerometer'][()]\n",
    "\n",
    "stair_t = np.arange(0, stair_acc.shape[0] / fs, 1 / fs)\n",
    "walk_t = np.arange(0, walk_acc.shape[0] / fs, 1 / fs)"
   ]
  },
  {
   "cell_type": "code",
   "execution_count": 4,
   "metadata": {},
   "outputs": [
    {
     "data": {
      "application/vnd.jupyter.widget-view+json": {
       "model_id": "449f0b0f65394f04af425dab24eaccc5",
       "version_major": 2,
       "version_minor": 0
      },
      "text/plain": [
       "Canvas(toolbar=Toolbar(toolitems=[('Home', 'Reset original view', 'home', 'home'), ('Back', 'Back to previous …"
      ]
     },
     "metadata": {},
     "output_type": "display_data"
    }
   ],
   "source": [
    "f, ax = plt.subplots(2, figsize=(10, 6), sharex=True)\n",
    "ax[0].plot(stair_t, stair_acc)\n",
    "ax[1].plot(stair_t, walk_acc[:stair_t.size])\n",
    "\n",
    "ax[0].set_title('Stair Ascent')\n",
    "ax[1].set_title('Walk')\n",
    "\n",
    "f.tight_layout()"
   ]
  },
  {
   "cell_type": "code",
   "execution_count": 5,
   "metadata": {},
   "outputs": [
    {
     "data": {
      "text/plain": [
       "[<matplotlib.lines.Line2D at 0x7f7d173965b0>,\n",
       " <matplotlib.lines.Line2D at 0x7f7d173962b0>,\n",
       " <matplotlib.lines.Line2D at 0x7f7d17396520>]"
      ]
     },
     "execution_count": 5,
     "metadata": {},
     "output_type": "execute_result"
    }
   ],
   "source": [
    "# get estimate of gravity\n",
    "sos = butter(4, 0.8 / fs, output='sos', btype='low')\n",
    "\n",
    "stair_g = sosfiltfilt(sos, stair_acc, axis=0, padtype='even', padlen=int(fs))\n",
    "walk_g = sosfiltfilt(sos, walk_acc, axis=0, padtype='even', padlen=int(fs))\n",
    "\n",
    "ax[0].plot(stair_t, stair_g, '--')\n",
    "ax[1].plot(stair_t, walk_g[:stair_t.size], '--')"
   ]
  },
  {
   "cell_type": "code",
   "execution_count": 6,
   "metadata": {},
   "outputs": [],
   "source": [
    "# get the vertical acceleration\n",
    "\n",
    "stair_vacc = np.sum(stair_acc * stair_g, axis=1)\n",
    "walk_vacc = np.sum(walk_acc * walk_g, axis=1)"
   ]
  },
  {
   "cell_type": "code",
   "execution_count": 8,
   "metadata": {},
   "outputs": [
    {
     "data": {
      "application/vnd.jupyter.widget-view+json": {
       "model_id": "94a2eb72a74747d2a40f718bd1f43ca6",
       "version_major": 2,
       "version_minor": 0
      },
      "text/plain": [
       "Canvas(toolbar=Toolbar(toolitems=[('Home', 'Reset original view', 'home', 'home'), ('Back', 'Back to previous …"
      ]
     },
     "metadata": {},
     "output_type": "display_data"
    },
    {
     "data": {
      "text/plain": [
       "[<matplotlib.lines.Line2D at 0x7f7d17272d00>]"
      ]
     },
     "execution_count": 8,
     "metadata": {},
     "output_type": "execute_result"
    }
   ],
   "source": [
    "# get the vertical velocity\n",
    "stair_vvel = cumtrapz(stair_vacc - 1, dx=1/fs, initial=0)\n",
    "walk_vvel = cumtrapz(walk_vacc - 1, dx=1/fs, initial=0)\n",
    "\n",
    "f, ax = plt.subplots(figsize=(10, 4))\n",
    "ax.plot(stair_t, stair_vvel)\n",
    "ax.plot(stair_t, walk_vvel[:stair_t.size])\n",
    "\n",
    "ax.plot(stair_t, detrend(stair_vvel) - detrend(stair_vvel)[0], '--', color='C0')\n",
    "ax.plot(stair_t, detrend(walk_vvel[:stair_t.size]) - detrend(walk_vvel[:stair_t.size])[0], '--', color='C1')"
   ]
  },
  {
   "cell_type": "code",
   "execution_count": 31,
   "metadata": {},
   "outputs": [
    {
     "data": {
      "application/vnd.jupyter.widget-view+json": {
       "model_id": "5e980687c5db4092a08b1624827036cb",
       "version_major": 2,
       "version_minor": 0
      },
      "text/plain": [
       "Canvas(toolbar=Toolbar(toolitems=[('Home', 'Reset original view', 'home', 'home'), ('Back', 'Back to previous …"
      ]
     },
     "metadata": {},
     "output_type": "display_data"
    },
    {
     "data": {
      "text/plain": [
       "[<matplotlib.lines.Line2D at 0x7f582d1b65b0>]"
      ]
     },
     "execution_count": 31,
     "metadata": {},
     "output_type": "execute_result"
    }
   ],
   "source": [
    "# get the vertical position\n",
    "stair_vpos = cumtrapz(stair_vvel, dx=1/fs, initial=0)\n",
    "walk_vpos = cumtrapz(walk_vvel, dx=1/fs, initial=0)\n",
    "\n",
    "f, ax = plt.subplots(figsize=(10, 4))\n",
    "ax.plot(stair_t, stair_vpos)\n",
    "ax.plot(stair_t, walk_vpos[:stair_t.size])"
   ]
  },
  {
   "cell_type": "markdown",
   "metadata": {},
   "source": [
    "<br>\n",
    "<br>\n",
    "\n",
    "# Testing\n",
    "<br>\n",
    "<br>"
   ]
  },
  {
   "cell_type": "code",
   "execution_count": 1,
   "metadata": {},
   "outputs": [],
   "source": [
    "from scipy.signal import butter, sosfiltfilt, detrend\n",
    "from scipy.integrate import cumtrapz\n",
    "import numpy as np\n",
    "from pathlib import Path\n",
    "import pandas as pd\n",
    "\n",
    "from PfyMU.features import *\n",
    "from PfyMU.gait.train_classifier.core import load_datasets"
   ]
  },
  {
   "cell_type": "code",
   "execution_count": 10,
   "metadata": {},
   "outputs": [],
   "source": [
    "def vert_pos(x, fs, fcut=0.8):\n",
    "    sos = butter(4, 2 * fcut / fs, btype='low', output='sos')\n",
    "    \n",
    "    # use padtype and a very long padlength to try to smooth out any edge effects of the filter\n",
    "    g_est = sosfiltfilt(sos, x, axis=1, padtype='even', padlen=int(2 * fs / 3))  # estimate of gravity\n",
    "    vacc = np.sum(x * g_est, axis=2, keepdims=True)  # keep it 3d\n",
    "    \n",
    "    vvel = detrend(cumtrapz(vacc, dx=1/fs, initial=0, axis=1))\n",
    "    vvel -= vvel[0]\n",
    "    vpos = cumtrapz(vvel, dx=1/fs, initial=0, axis=1)\n",
    "    \n",
    "    return vpos.max(axis=1) - vpos.min(axis=1)"
   ]
  },
  {
   "cell_type": "code",
   "execution_count": 4,
   "metadata": {},
   "outputs": [],
   "source": [
    "steps = {\n",
    "    'walking': 0.4,\n",
    "    'walking-impaired': 0.2,\n",
    "    'sitting': 900,\n",
    "    'standing': 300,\n",
    "    'stairs-ascending': 0.3,\n",
    "    'stairs-descending': 0.3,\n",
    "    'cycling-50W': 0.3,\n",
    "    'cycling-100W': 0.3,\n",
    "    'default': 1.0\n",
    "}"
   ]
  },
  {
   "cell_type": "code",
   "execution_count": 5,
   "metadata": {},
   "outputs": [],
   "source": [
    "# gait_sets_path = Path('/Users/adamol/Documents/Datasets/gait/processed')\n",
    "gait_sets_path = Path('/home/lukasadamowicz/Documents/Datasets/processed')\n",
    "\n",
    "datasets = [\n",
    "    gait_sets_path / 'bluesky2',\n",
    "    gait_sets_path / 'daliac',\n",
    "    gait_sets_path / 'ltmm',\n",
    "    gait_sets_path / 'usc-had'\n",
    "]\n",
    "\n",
    "X, Y, subjects, activities = load_datasets(\n",
    "    datasets, \n",
    "    goal_fs=50.0, \n",
    "    acc_mag=False, \n",
    "    window_length=3.0, \n",
    "    window_step=steps\n",
    ")\n",
    "\n",
    "# make stair-climbing in the positive class\n",
    "mask = (activities == 'stairs-ascending') | (activities == 'stairs-descending')\n",
    "Y_inc_str = Y.copy()\n",
    "Y_inc_str[mask] = 1"
   ]
  },
  {
   "cell_type": "code",
   "execution_count": 11,
   "metadata": {},
   "outputs": [],
   "source": [
    "ft_vpos = vert_pos(X, 50.0, fcut=0.8)"
   ]
  },
  {
   "cell_type": "code",
   "execution_count": 16,
   "metadata": {},
   "outputs": [],
   "source": [
    "data = pd.DataFrame(\n",
    "    data={\n",
    "        'Subject': subjects,\n",
    "        'Activity': activities,\n",
    "        'Label': Y,\n",
    "        'Vert Pos': ft_vpos.ravel()\n",
    "    })"
   ]
  },
  {
   "cell_type": "code",
   "execution_count": 13,
   "metadata": {},
   "outputs": [],
   "source": [
    "%matplotlib widget\n",
    "import seaborn as sns\n",
    "import matplotlib.pyplot as plt"
   ]
  },
  {
   "cell_type": "code",
   "execution_count": 18,
   "metadata": {},
   "outputs": [
    {
     "data": {
      "application/vnd.jupyter.widget-view+json": {
       "model_id": "b839669b866d431c98a45aafe7f7e82f",
       "version_major": 2,
       "version_minor": 0
      },
      "text/plain": [
       "Canvas(toolbar=Toolbar(toolitems=[('Home', 'Reset original view', 'home', 'home'), ('Back', 'Back to previous …"
      ]
     },
     "metadata": {},
     "output_type": "display_data"
    }
   ],
   "source": [
    "f, ax = plt.subplots(figsize=(10, 5))\n",
    "sns.violinplot(x='Label', y='Vert Pos', data=data, ax=ax)\n",
    "\n",
    "ax.set_xticklabels(ax.get_xticklabels(), rotation=45, ha='right')\n",
    "f.tight_layout()"
   ]
  },
  {
   "cell_type": "code",
   "execution_count": null,
   "metadata": {},
   "outputs": [],
   "source": []
  }
 ],
 "metadata": {
  "kernelspec": {
   "display_name": "PfyMU",
   "language": "python",
   "name": "pfymu"
  },
  "language_info": {
   "codemirror_mode": {
    "name": "ipython",
    "version": 3
   },
   "file_extension": ".py",
   "mimetype": "text/x-python",
   "name": "python",
   "nbconvert_exporter": "python",
   "pygments_lexer": "ipython3",
   "version": "3.8.3"
  }
 },
 "nbformat": 4,
 "nbformat_minor": 4
}
