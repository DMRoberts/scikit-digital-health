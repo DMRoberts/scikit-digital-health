{
 "cells": [
  {
   "cell_type": "code",
   "execution_count": 1,
   "metadata": {},
   "outputs": [],
   "source": [
    "%matplotlib widget"
   ]
  },
  {
   "cell_type": "code",
   "execution_count": 2,
   "metadata": {},
   "outputs": [],
   "source": [
    "import numpy as np\n",
    "from scipy import signal\n",
    "import pandas as pd\n",
    "import matplotlib.pyplot as plt\n",
    "import seaborn as sns\n",
    "from pathlib import Path\n",
    "import ppscore\n",
    "\n",
    "plt.style.use('ggplot')\n",
    "\n",
    "from PfyMU.gait.train_classifier.core import load_datasets"
   ]
  },
  {
   "cell_type": "code",
   "execution_count": 3,
   "metadata": {},
   "outputs": [],
   "source": [
    "from PfyMU.features import *"
   ]
  },
  {
   "cell_type": "code",
   "execution_count": 4,
   "metadata": {},
   "outputs": [],
   "source": [
    "def test_feature_params(x, y, Feature, param_sets):\n",
    "    FB = Bank(window_length=None, window_step=None)\n",
    "    \n",
    "    feat_spec = []\n",
    "    for ps in param_sets:\n",
    "        FB + Feature(**ps)\n",
    "        feat_spec.append('_' + '_'.join([str(i) for i in ps.values()]))\n",
    "    \n",
    "    xf, fnames = FB.compute(x, fs=50.0, windowed=True, columns=[''])\n",
    "    feat_names = [i[1:] + j for i, j in zip(fnames, feat_spec)]\n",
    "    \n",
    "    feats = pd.DataFrame(index=range(xf.shape[0]), columns=['Label']+feat_names, dtype='float')\n",
    "    feats['Label'] = Y\n",
    "    feats.iloc[:, 1:] = xf\n",
    "    \n",
    "    nrows = feats.shape[1] // 4 + (1 if feats.shape[1] % 4 > 0 else 0)\n",
    "    f, ax = plt.subplots(nrows=nrows, ncols=4, figsize=(10, 2.5 * nrows), sharex=True)\n",
    "\n",
    "    j, k = 0, 0\n",
    "    for i, ft in enumerate(feat_names):\n",
    "        if k > 3:\n",
    "            j += 1\n",
    "            k  = 0\n",
    "        sns.violinplot(x='Label', y=ft, data=feats, ax=ax[j, k])\n",
    "        ax[j, k].set_ylabel(None)\n",
    "        ax[j, k].set_title(ft, fontsize=8)\n",
    "        ax[j, k].set_xlabel(None)\n",
    "\n",
    "        k += 1\n",
    "\n",
    "    for k in range(4):\n",
    "        ax[-1, k].set_xticklabels(['NG', 'G'])\n",
    "\n",
    "    f.tight_layout()\n",
    "    \n",
    "    # PPScore plot\n",
    "    df_predictors = ppscore.predictors(feats, 'Label', output='df')\n",
    "    plt.figure(figsize=(10, 5))\n",
    "    ax = sns.barplot(data=df_predictors, x=\"x\", y=\"ppscore\")\n",
    "    ax.set_xticklabels(ax.get_xticklabels(), rotation=45, ha=\"right\")\n",
    "    plt.tight_layout()"
   ]
  },
  {
   "cell_type": "code",
   "execution_count": 5,
   "metadata": {},
   "outputs": [],
   "source": [
    "steps = {\n",
    "    'jumping-rope': 0.15,\n",
    "    'stairs-descending': 0.1,\n",
    "    'stairs-ascending': 0.1,\n",
    "    'jumping': 0.15,\n",
    "    'lying': 0.15,\n",
    "    'elevator-ascending': 0.15,\n",
    "    'elevator-descending': 0.15,\n",
    "    'running': 0.075,\n",
    "    'sweeping': 0.15,\n",
    "    'standing': 225,\n",
    "    'running-treadmill': 0.1,\n",
    "    'cycling-50W': 0.12,\n",
    "    'cycling-100W': 0.12,\n",
    "    'walking-left': 0.2,\n",
    "    'walking-right': 0.2,\n",
    "    'walking-impaired': 0.2,\n",
    "    'walking': 0.25,\n",
    "    'sitting': 400,\n",
    "    'default': 0.5\n",
    "}"
   ]
  },
  {
   "cell_type": "code",
   "execution_count": 6,
   "metadata": {},
   "outputs": [],
   "source": [
    "# gait_sets_path = Path('/Users/adamol/Documents/Datasets/gait/processed')\n",
    "gait_sets_path = Path('/home/lukasadamowicz/Documents/Datasets/processed')\n",
    "\n",
    "datasets = [\n",
    "    gait_sets_path / 'bluesky2',\n",
    "    gait_sets_path / 'daliac',\n",
    "    gait_sets_path / 'ltmm',\n",
    "    gait_sets_path / 'usc-had'\n",
    "]\n",
    "\n",
    "X, Y, subjects, activities = load_datasets(\n",
    "    datasets, \n",
    "    goal_fs=50.0, \n",
    "    acc_mag=True, \n",
    "    window_length=3.0, \n",
    "    window_step=steps\n",
    ")"
   ]
  },
  {
   "cell_type": "code",
   "execution_count": 7,
   "metadata": {},
   "outputs": [],
   "source": [
    "# make stair-climbing in the positive class\n",
    "mask = (activities == 'stairs-ascending') | (activities == 'stairs-descending')\n",
    "Y[mask] = 1"
   ]
  },
  {
   "cell_type": "markdown",
   "metadata": {},
   "source": [
    "# Autocorrelation"
   ]
  },
  {
   "cell_type": "code",
   "execution_count": 8,
   "metadata": {},
   "outputs": [
    {
     "data": {
      "application/vnd.jupyter.widget-view+json": {
       "model_id": "58814b317b454ddbad62eecb7677e57e",
       "version_major": 2,
       "version_minor": 0
      },
      "text/plain": [
       "Canvas(toolbar=Toolbar(toolitems=[('Home', 'Reset original view', 'home', 'home'), ('Back', 'Back to previous …"
      ]
     },
     "metadata": {},
     "output_type": "display_data"
    },
    {
     "data": {
      "application/vnd.jupyter.widget-view+json": {
       "model_id": "2593adf8fc9b4d92ad77d25864b1b4b3",
       "version_major": 2,
       "version_minor": 0
      },
      "text/plain": [
       "Canvas(toolbar=Toolbar(toolitems=[('Home', 'Reset original view', 'home', 'home'), ('Back', 'Back to previous …"
      ]
     },
     "metadata": {},
     "output_type": "display_data"
    }
   ],
   "source": [
    "lags = [1, 2, 5, 10, 12, 14, 15, 16, 18, 20, 25, 50, 100]\n",
    "\n",
    "params = []\n",
    "for l in lags:\n",
    "    params.append({'lag': l, 'normalize': True})\n",
    "        \n",
    "test_feature_params(X, Y, Autocorrelation, params)"
   ]
  },
  {
   "cell_type": "markdown",
   "metadata": {},
   "source": [
    "# Sample Entropy"
   ]
  },
  {
   "cell_type": "code",
   "execution_count": 9,
   "metadata": {},
   "outputs": [
    {
     "data": {
      "text/plain": [
       "0.061182032079134356"
      ]
     },
     "execution_count": 9,
     "metadata": {},
     "output_type": "execute_result"
    }
   ],
   "source": [
    "std = np.mean(np.std(X[Y > 0.5], axis=1))\n",
    "std * 0.2"
   ]
  },
  {
   "cell_type": "code",
   "execution_count": 10,
   "metadata": {},
   "outputs": [
    {
     "data": {
      "application/vnd.jupyter.widget-view+json": {
       "model_id": "313384e59ecb49feb2167a763e1656af",
       "version_major": 2,
       "version_minor": 0
      },
      "text/plain": [
       "Canvas(toolbar=Toolbar(toolitems=[('Home', 'Reset original view', 'home', 'home'), ('Back', 'Back to previous …"
      ]
     },
     "metadata": {},
     "output_type": "display_data"
    },
    {
     "data": {
      "application/vnd.jupyter.widget-view+json": {
       "model_id": "85492a78d93d4b4cb9157f4dfda1ec23",
       "version_major": 2,
       "version_minor": 0
      },
      "text/plain": [
       "Canvas(toolbar=Toolbar(toolitems=[('Home', 'Reset original view', 'home', 'home'), ('Back', 'Back to previous …"
      ]
     },
     "metadata": {},
     "output_type": "display_data"
    }
   ],
   "source": [
    "M = [2, 3, 4, 5]\n",
    "R = [0.05, 0.1, 0.25, 0.5, 0.75, 1.0]\n",
    "\n",
    "params = []\n",
    "for m in M:\n",
    "    for r in R:\n",
    "        params.append({'m': m, 'r': r})\n",
    "        \n",
    "test_feature_params(X, Y, SampleEntropy, params)"
   ]
  },
  {
   "cell_type": "markdown",
   "metadata": {},
   "source": [
    "# Permutation Entropy"
   ]
  },
  {
   "cell_type": "code",
   "execution_count": 11,
   "metadata": {},
   "outputs": [
    {
     "data": {
      "application/vnd.jupyter.widget-view+json": {
       "model_id": "1c55104007b7410f840cf949b77294e6",
       "version_major": 2,
       "version_minor": 0
      },
      "text/plain": [
       "Canvas(toolbar=Toolbar(toolitems=[('Home', 'Reset original view', 'home', 'home'), ('Back', 'Back to previous …"
      ]
     },
     "metadata": {},
     "output_type": "display_data"
    },
    {
     "data": {
      "application/vnd.jupyter.widget-view+json": {
       "model_id": "3dcca7604d6042a0aa8acc947b0f0ad2",
       "version_major": 2,
       "version_minor": 0
      },
      "text/plain": [
       "Canvas(toolbar=Toolbar(toolitems=[('Home', 'Reset original view', 'home', 'home'), ('Back', 'Back to previous …"
      ]
     },
     "metadata": {},
     "output_type": "display_data"
    }
   ],
   "source": [
    "ordr = [2, 3, 5, 8, 10]\n",
    "dly = [1, 2, 3, 4, 5]\n",
    "\n",
    "params = []\n",
    "for o in ordr:\n",
    "    for d in dly:\n",
    "        params.append({'order': o, 'delay': d})\n",
    "        \n",
    "test_feature_params(X, Y, PermutationEntropy, params)"
   ]
  },
  {
   "cell_type": "markdown",
   "metadata": {},
   "source": [
    "# Range Count Percentage"
   ]
  },
  {
   "cell_type": "code",
   "execution_count": 12,
   "metadata": {},
   "outputs": [
    {
     "data": {
      "application/vnd.jupyter.widget-view+json": {
       "model_id": "79c0a317ca0047389fb54596a0ba40ca",
       "version_major": 2,
       "version_minor": 0
      },
      "text/plain": [
       "Canvas(toolbar=Toolbar(toolitems=[('Home', 'Reset original view', 'home', 'home'), ('Back', 'Back to previous …"
      ]
     },
     "metadata": {},
     "output_type": "display_data"
    },
    {
     "data": {
      "application/vnd.jupyter.widget-view+json": {
       "model_id": "b58ff5d769ea4066985366b27fcf1ccd",
       "version_major": 2,
       "version_minor": 0
      },
      "text/plain": [
       "Canvas(toolbar=Toolbar(toolitems=[('Home', 'Reset original view', 'home', 'home'), ('Back', 'Back to previous …"
      ]
     },
     "metadata": {},
     "output_type": "display_data"
    }
   ],
   "source": [
    "rmin = [0, 0.1, 0.2, 0.3, 0.4, 0.5]\n",
    "rmax = [0.6, 0.8, 1.0, 1.2, 1.4, 1.8, 2.0]\n",
    "\n",
    "params = []\n",
    "for rn in rmin:\n",
    "    for rx in rmax:\n",
    "        params.append({'range_min': rn, 'range_max': rx})\n",
    "        \n",
    "test_feature_params(X, Y, RangeCountPercentage, params)"
   ]
  },
  {
   "cell_type": "markdown",
   "metadata": {},
   "source": [
    "# Ratio Beyond R Sigma"
   ]
  },
  {
   "cell_type": "code",
   "execution_count": 13,
   "metadata": {},
   "outputs": [
    {
     "data": {
      "application/vnd.jupyter.widget-view+json": {
       "model_id": "6c6749b7625e48fda210d6bf20a09334",
       "version_major": 2,
       "version_minor": 0
      },
      "text/plain": [
       "Canvas(toolbar=Toolbar(toolitems=[('Home', 'Reset original view', 'home', 'home'), ('Back', 'Back to previous …"
      ]
     },
     "metadata": {},
     "output_type": "display_data"
    },
    {
     "data": {
      "application/vnd.jupyter.widget-view+json": {
       "model_id": "a333153581d34a5e85de6d1f87d8bbe3",
       "version_major": 2,
       "version_minor": 0
      },
      "text/plain": [
       "Canvas(toolbar=Toolbar(toolitems=[('Home', 'Reset original view', 'home', 'home'), ('Back', 'Back to previous …"
      ]
     },
     "metadata": {},
     "output_type": "display_data"
    }
   ],
   "source": [
    "R = [0.1, 0.2, 0.5, 1, 1.5, 2.0, 2.5, 3.0]\n",
    "\n",
    "params = []\n",
    "for r in R:\n",
    "    params.append({'r': r})\n",
    "        \n",
    "test_feature_params(X, Y, RatioBeyondRSigma, params)"
   ]
  },
  {
   "cell_type": "markdown",
   "metadata": {},
   "source": [
    "# Dominant Frequency"
   ]
  },
  {
   "cell_type": "code",
   "execution_count": 14,
   "metadata": {},
   "outputs": [
    {
     "data": {
      "application/vnd.jupyter.widget-view+json": {
       "model_id": "b4ebd686de264499b74a882154d7fd2a",
       "version_major": 2,
       "version_minor": 0
      },
      "text/plain": [
       "Canvas(toolbar=Toolbar(toolitems=[('Home', 'Reset original view', 'home', 'home'), ('Back', 'Back to previous …"
      ]
     },
     "metadata": {},
     "output_type": "display_data"
    },
    {
     "data": {
      "application/vnd.jupyter.widget-view+json": {
       "model_id": "051364d546ad46f896a7aab4d3227906",
       "version_major": 2,
       "version_minor": 0
      },
      "text/plain": [
       "Canvas(toolbar=Toolbar(toolitems=[('Home', 'Reset original view', 'home', 'home'), ('Back', 'Back to previous …"
      ]
     },
     "metadata": {},
     "output_type": "display_data"
    }
   ],
   "source": [
    "low_cuts = [0.25, 0.5, 1.0, 1.5, 2.0, 2.5]\n",
    "hi_cuts = [3.0, 3.5, 4.0, 5.0, 6.0]\n",
    "\n",
    "params = []\n",
    "for l in low_cuts:\n",
    "    for h in hi_cuts:\n",
    "        params.append({'low_cutoff': l, 'high_cutoff': h})\n",
    "        \n",
    "test_feature_params(X, Y, DominantFrequency, params)"
   ]
  },
  {
   "cell_type": "markdown",
   "metadata": {},
   "source": [
    "# Power Spectral Sum"
   ]
  },
  {
   "cell_type": "code",
   "execution_count": 15,
   "metadata": {},
   "outputs": [
    {
     "data": {
      "application/vnd.jupyter.widget-view+json": {
       "model_id": "25afe22f67044be08e8dca383bf85f5c",
       "version_major": 2,
       "version_minor": 0
      },
      "text/plain": [
       "Canvas(toolbar=Toolbar(toolitems=[('Home', 'Reset original view', 'home', 'home'), ('Back', 'Back to previous …"
      ]
     },
     "metadata": {},
     "output_type": "display_data"
    },
    {
     "data": {
      "application/vnd.jupyter.widget-view+json": {
       "model_id": "17374322b92446709a9af39d85829880",
       "version_major": 2,
       "version_minor": 0
      },
      "text/plain": [
       "Canvas(toolbar=Toolbar(toolitems=[('Home', 'Reset original view', 'home', 'home'), ('Back', 'Back to previous …"
      ]
     },
     "metadata": {},
     "output_type": "display_data"
    }
   ],
   "source": [
    "low_cuts = [0.25, 0.5, 1.0, 1.5, 2.0, 2.5]\n",
    "hi_cuts = [3.0, 3.5, 4.0, 5.0, 6.0]\n",
    "\n",
    "params = []\n",
    "for l in low_cuts:\n",
    "    for h in hi_cuts:\n",
    "        params.append({'low_cutoff': l, 'high_cutoff': h})\n",
    "        \n",
    "test_feature_params(X, Y, PowerSpectralSum, params)"
   ]
  },
  {
   "cell_type": "markdown",
   "metadata": {},
   "source": [
    "# Spectral Flatness"
   ]
  },
  {
   "cell_type": "code",
   "execution_count": 16,
   "metadata": {},
   "outputs": [
    {
     "data": {
      "application/vnd.jupyter.widget-view+json": {
       "model_id": "b1911a4fd5f941d492442a614aaa0165",
       "version_major": 2,
       "version_minor": 0
      },
      "text/plain": [
       "Canvas(toolbar=Toolbar(toolitems=[('Home', 'Reset original view', 'home', 'home'), ('Back', 'Back to previous …"
      ]
     },
     "metadata": {},
     "output_type": "display_data"
    },
    {
     "data": {
      "application/vnd.jupyter.widget-view+json": {
       "model_id": "6794a5a526c94a23b30f596069337d15",
       "version_major": 2,
       "version_minor": 0
      },
      "text/plain": [
       "Canvas(toolbar=Toolbar(toolitems=[('Home', 'Reset original view', 'home', 'home'), ('Back', 'Back to previous …"
      ]
     },
     "metadata": {},
     "output_type": "display_data"
    }
   ],
   "source": [
    "low_cuts = [0.0, 0.25, 0.5, 1.0, 1.5, 2.0, 2.5]\n",
    "hi_cuts = [3.0, 3.5, 4.0, 5.0, 6.0, 7.0, 8.0]\n",
    "\n",
    "params = []\n",
    "for l in low_cuts:\n",
    "    for h in hi_cuts:\n",
    "        params.append({'low_cutoff': l, 'high_cutoff': h})\n",
    "        \n",
    "test_feature_params(X, Y, SpectralFlatness, params)"
   ]
  },
  {
   "cell_type": "markdown",
   "metadata": {},
   "source": [
    "# Spectral Entropy"
   ]
  },
  {
   "cell_type": "code",
   "execution_count": 17,
   "metadata": {},
   "outputs": [
    {
     "data": {
      "application/vnd.jupyter.widget-view+json": {
       "model_id": "aad15efc0592497b94fc63bbf897fcda",
       "version_major": 2,
       "version_minor": 0
      },
      "text/plain": [
       "Canvas(toolbar=Toolbar(toolitems=[('Home', 'Reset original view', 'home', 'home'), ('Back', 'Back to previous …"
      ]
     },
     "metadata": {},
     "output_type": "display_data"
    },
    {
     "data": {
      "application/vnd.jupyter.widget-view+json": {
       "model_id": "d793961e4aae451eb55da73f765cfd3e",
       "version_major": 2,
       "version_minor": 0
      },
      "text/plain": [
       "Canvas(toolbar=Toolbar(toolitems=[('Home', 'Reset original view', 'home', 'home'), ('Back', 'Back to previous …"
      ]
     },
     "metadata": {},
     "output_type": "display_data"
    }
   ],
   "source": [
    "low_cuts = [0.0, 0.25, 0.5, 1.0, 1.5, 2.0, 2.5]\n",
    "hi_cuts = [3.0, 3.5, 4.0, 5.0, 6.0]\n",
    "\n",
    "params = []\n",
    "for l in low_cuts:\n",
    "    for h in hi_cuts:\n",
    "        params.append({'low_cutoff': l, 'high_cutoff': h})\n",
    "        \n",
    "test_feature_params(X, Y, SpectralEntropy, params)"
   ]
  },
  {
   "cell_type": "markdown",
   "metadata": {},
   "source": [
    "# Detail Power Ratio"
   ]
  },
  {
   "cell_type": "code",
   "execution_count": 18,
   "metadata": {},
   "outputs": [
    {
     "name": "stderr",
     "output_type": "stream",
     "text": [
      "/home/lukasadamowicz/miniconda3/envs/pfymu/lib/python3.8/site-packages/pywt/_multilevel.py:43: UserWarning: Level value of 6 is too high: all coefficients will experience boundary effects.\n",
      "  warnings.warn(\n"
     ]
    },
    {
     "data": {
      "application/vnd.jupyter.widget-view+json": {
       "model_id": "76ae045f3c3f445bb8d65daac2524790",
       "version_major": 2,
       "version_minor": 0
      },
      "text/plain": [
       "Canvas(toolbar=Toolbar(toolitems=[('Home', 'Reset original view', 'home', 'home'), ('Back', 'Back to previous …"
      ]
     },
     "metadata": {},
     "output_type": "display_data"
    },
    {
     "data": {
      "application/vnd.jupyter.widget-view+json": {
       "model_id": "d1b5a0b393424c06a8d798bf3898723c",
       "version_major": 2,
       "version_minor": 0
      },
      "text/plain": [
       "Canvas(toolbar=Toolbar(toolitems=[('Home', 'Reset original view', 'home', 'home'), ('Back', 'Back to previous …"
      ]
     },
     "metadata": {},
     "output_type": "display_data"
    }
   ],
   "source": [
    "low_cuts = [1.0, 1.5]\n",
    "hi_cuts = [4.0, 6.0]\n",
    "waves = ['coif1', 'coif4', 'sym2', 'sym5', 'db1', 'db4', 'db7', 'bior1.3']\n",
    "\n",
    "params = []\n",
    "for wave in waves:\n",
    "    for l in low_cuts:\n",
    "        for h in hi_cuts:\n",
    "            params.append({'wavelet': wave, 'freq_band': [l, h]})\n",
    "        \n",
    "test_feature_params(X, Y, DetailPowerRatio, params)"
   ]
  },
  {
   "cell_type": "code",
   "execution_count": null,
   "metadata": {},
   "outputs": [],
   "source": []
  }
 ],
 "metadata": {
  "kernelspec": {
   "display_name": "PfyMU",
   "language": "python",
   "name": "pfymu"
  },
  "language_info": {
   "codemirror_mode": {
    "name": "ipython",
    "version": 3
   },
   "file_extension": ".py",
   "mimetype": "text/x-python",
   "name": "python",
   "nbconvert_exporter": "python",
   "pygments_lexer": "ipython3",
   "version": "3.8.3"
  }
 },
 "nbformat": 4,
 "nbformat_minor": 4
}
