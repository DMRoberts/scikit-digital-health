{
 "cells": [
  {
   "cell_type": "code",
   "execution_count": 1,
   "metadata": {},
   "outputs": [],
   "source": [
    "%matplotlib widget"
   ]
  },
  {
   "cell_type": "code",
   "execution_count": 3,
   "metadata": {},
   "outputs": [],
   "source": [
    "import numpy as np\n",
    "from scipy import signal\n",
    "import matplotlib.pyplot as plt\n",
    "import pandas as pd\n",
    "plt.style.use(['ggplot', 'presentation'])"
   ]
  },
  {
   "cell_type": "code",
   "execution_count": 13,
   "metadata": {},
   "outputs": [],
   "source": [
    "from numpy import require\n",
    "from numpy.lib.stride_tricks import as_strided\n",
    "\n",
    "def get_windowed_view(x, window_length, step_size, ensure_c_contiguity=False):\n",
    "    \"\"\"\n",
    "    Return a moving window view over the data\n",
    "    Parameters\n",
    "    ----------\n",
    "    x : numpy.ndarray\n",
    "        1- or 2-D array of signals to window. Windows occur along the 0 axis. Must be C-contiguous.\n",
    "    window_length : int\n",
    "        Window length/size.\n",
    "    step_size : int\n",
    "        Step/stride size for windows - how many samples to step from window center to window center.\n",
    "    ensure_c_contiguity : bool, optional\n",
    "        Create a new array with C-contiguity if the passed array is not C-contiguous. This *may* result in the\n",
    "        memory requirements significantly increasing. Default is False, which will raise a ValueError if `x` is\n",
    "        not C-contiguous\n",
    "    Returns\n",
    "    -------\n",
    "    x_win : numpy.ndarray\n",
    "        2- or 3-D array of windows of the original data, of shape (..., L[, ...])\n",
    "    \"\"\"\n",
    "    if not (x.ndim in [1, 2]):\n",
    "        raise ValueError('Array cannot have more than 2 dimensions.')\n",
    "\n",
    "    if ensure_c_contiguity:\n",
    "        x = require(x, requirements=['C'])\n",
    "    else:\n",
    "        if not x.flags['C_CONTIGUOUS']:\n",
    "            raise ValueError(\"Input array must be C-contiguous.  See numpy.ascontiguousarray\")\n",
    "\n",
    "    if x.ndim == 1:\n",
    "        nrows = ((x.size - window_length) // step_size) + 1\n",
    "        n = x.strides[0]\n",
    "        return as_strided(x, shape=(nrows, window_length), strides=(step_size * n, n), writeable=False)\n",
    "\n",
    "    else:\n",
    "        k = x.shape[1]\n",
    "        nrows = ((x.shape[0] - window_length) // step_size) + 1\n",
    "        n = x.strides[1]\n",
    "\n",
    "        new_shape = (nrows, window_length, k)\n",
    "        new_strides = (step_size * k * n, k * n, n)\n",
    "        return as_strided(x, shape=new_shape, strides=new_strides, writeable=False)"
   ]
  },
  {
   "cell_type": "code",
   "execution_count": 4,
   "metadata": {},
   "outputs": [
    {
     "name": "stdout",
     "output_type": "stream",
     "text": [
      "197.24258229898155\n"
     ]
    }
   ],
   "source": [
    "df3 = pd.read_csv('51888_1020030004.csv', header=None, names=['t', 'x', 'y', 'z'])\n",
    "acc3 = df3[['x', 'y', 'z']].values\n",
    "print(1 / np.mean(np.diff(df3['t'])))"
   ]
  },
  {
   "cell_type": "code",
   "execution_count": 7,
   "metadata": {},
   "outputs": [
    {
     "data": {
      "application/vnd.jupyter.widget-view+json": {
       "model_id": "158a7ac37c2d4112ac02a427acff0c29",
       "version_major": 2,
       "version_minor": 0
      },
      "text/plain": [
       "Canvas(toolbar=Toolbar(toolitems=[('Home', 'Reset original view', 'home', 'home'), ('Back', 'Back to previous …"
      ]
     },
     "metadata": {},
     "output_type": "display_data"
    }
   ],
   "source": [
    "plt.figure(figsize=(9, 4), constrained_layout=True)\n",
    "plt.plot(acc3);"
   ]
  },
  {
   "cell_type": "code",
   "execution_count": 9,
   "metadata": {},
   "outputs": [
    {
     "data": {
      "application/vnd.jupyter.widget-view+json": {
       "model_id": "10cd45d0bc704dd7b47d733824bce228",
       "version_major": 2,
       "version_minor": 0
      },
      "text/plain": [
       "Canvas(toolbar=Toolbar(toolitems=[('Home', 'Reset original view', 'home', 'home'), ('Back', 'Back to previous …"
      ]
     },
     "metadata": {},
     "output_type": "display_data"
    }
   ],
   "source": [
    "sos = signal.butter(2, 17/100, output='sos')\n",
    "acc3_f = signal.sosfiltfilt(sos, acc3, axis=0)\n",
    "\n",
    "plt.figure(figsize=(9, 4), constrained_layout=True)\n",
    "plt.plot(acc3_f);"
   ]
  },
  {
   "cell_type": "code",
   "execution_count": 10,
   "metadata": {},
   "outputs": [
    {
     "data": {
      "application/vnd.jupyter.widget-view+json": {
       "model_id": "643ef012fbfa48d6b3de34d1b7e24f20",
       "version_major": 2,
       "version_minor": 0
      },
      "text/plain": [
       "Canvas(toolbar=Toolbar(toolitems=[('Home', 'Reset original view', 'home', 'home'), ('Back', 'Back to previous …"
      ]
     },
     "metadata": {},
     "output_type": "display_data"
    }
   ],
   "source": [
    "acc3_f_nm = acc3_f - np.mean(acc3_f, axis=0, keepdims=True)\n",
    "\n",
    "plt.figure(figsize=(9, 4), constrained_layout=True)\n",
    "plt.plot(acc3_f_nm);"
   ]
  },
  {
   "cell_type": "code",
   "execution_count": 28,
   "metadata": {},
   "outputs": [],
   "source": [
    "# window, compute mean (y axis) and standard deviation (3 axis sum)\n",
    "n_0p1 = int(200 * 0.1)\n",
    "\n",
    "acc_win = get_windowed_view(acc3_f_nm, n_0p1, 1, True)\n",
    "\n",
    "vacc_mean = np.mean(acc_win[:, :, 1], axis=1)\n",
    "acc_ssd = np.sum(np.std(acc_win, axis=1), axis=1)"
   ]
  },
  {
   "cell_type": "code",
   "execution_count": 30,
   "metadata": {},
   "outputs": [
    {
     "data": {
      "application/vnd.jupyter.widget-view+json": {
       "model_id": "a40417a950694cb0bbbaade935efbd77",
       "version_major": 2,
       "version_minor": 0
      },
      "text/plain": [
       "Canvas(toolbar=Toolbar(toolitems=[('Home', 'Reset original view', 'home', 'home'), ('Back', 'Back to previous …"
      ]
     },
     "metadata": {},
     "output_type": "display_data"
    }
   ],
   "source": [
    "plt.figure(figsize=(9, 4), constrained_layout=True)\n",
    "plt.plot(np.arange(acc3.shape[0])[10:-9], vacc_mean, label='Mean');\n",
    "plt.plot(np.arange(acc3.shape[0])[10:-9], acc_ssd, label='SSD');\n",
    "\n",
    "plt.axhline(0.77, color='k', linestyle='--')\n",
    "plt.axhline(0.05, color='k', linestyle='--');\n",
    "\n",
    "plt.legend();"
   ]
  },
  {
   "cell_type": "code",
   "execution_count": null,
   "metadata": {},
   "outputs": [],
   "source": []
  }
 ],
 "metadata": {
  "kernelspec": {
   "display_name": "PfyMU",
   "language": "python",
   "name": "pfymu"
  },
  "language_info": {
   "codemirror_mode": {
    "name": "ipython",
    "version": 3
   },
   "file_extension": ".py",
   "mimetype": "text/x-python",
   "name": "python",
   "nbconvert_exporter": "python",
   "pygments_lexer": "ipython3",
   "version": "3.8.2"
  }
 },
 "nbformat": 4,
 "nbformat_minor": 4
}
