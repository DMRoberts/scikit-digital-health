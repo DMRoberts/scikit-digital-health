{
 "cells": [
  {
   "cell_type": "code",
   "execution_count": 30,
   "metadata": {},
   "outputs": [],
   "source": [
    "%matplotlib widget"
   ]
  },
  {
   "cell_type": "code",
   "execution_count": 59,
   "metadata": {},
   "outputs": [],
   "source": [
    "import numpy as np\n",
    "import matplotlib.pyplot as plt\n",
    "\n",
    "from scipy.signal import butter, sosfiltfilt"
   ]
  },
  {
   "cell_type": "code",
   "execution_count": 71,
   "metadata": {},
   "outputs": [],
   "source": [
    "p = np.array([0, 1, 1, 0, 0, 0, 0, 0, 0, 0, 1, 1, 1, 1, 0, 1, 1, 1, 1, 0, 0, 0, 0, 0, 0])\n",
    "wlen = 150\n",
    "wstep = int(np.round(0.75 * 150))"
   ]
  },
  {
   "cell_type": "code",
   "execution_count": 72,
   "metadata": {},
   "outputs": [
    {
     "name": "stdout",
     "output_type": "stream",
     "text": [
      "750 \n",
      "\n",
      "600 750\n"
     ]
    }
   ],
   "source": [
    "def expand(p, wlen, wstep):\n",
    "    n = p.size * wstep + (wlen - wstep)\n",
    "    pred = np.zeros(n)\n",
    "    c = np.zeros(n, dtype='int')\n",
    "\n",
    "    for i in range(len(p)):\n",
    "        i1 = i * wstep\n",
    "        i2 = i1 + wlen\n",
    "        pred[i1:i2] += p[i]\n",
    "        c[i1:i2] += 1\n",
    "    pred_ = pred / c\n",
    "    return pred_"
   ]
  },
  {
   "cell_type": "code",
   "execution_count": 76,
   "metadata": {},
   "outputs": [],
   "source": [
    "p2 = (np.random.rand(int(1e7)) > 0.5).astype(int)"
   ]
  },
  {
   "cell_type": "code",
   "execution_count": 77,
   "metadata": {},
   "outputs": [
    {
     "name": "stdout",
     "output_type": "stream",
     "text": [
      "106 ns ± 1.11 ns per loop (mean ± std. dev. of 7 runs, 10000000 loops each)\n"
     ]
    }
   ],
   "source": [
    "%timeit expand(p2, wlen, wstep)"
   ]
  },
  {
   "cell_type": "code",
   "execution_count": 74,
   "metadata": {},
   "outputs": [
    {
     "data": {
      "application/vnd.jupyter.widget-view+json": {
       "model_id": "8e68286f1a2e45b4b213647f8982bd3a",
       "version_major": 2,
       "version_minor": 0
      },
      "text/plain": [
       "Canvas(toolbar=Toolbar(toolitems=[('Home', 'Reset original view', 'home', 'home'), ('Back', 'Back to previous …"
      ]
     },
     "metadata": {},
     "output_type": "display_data"
    },
    {
     "data": {
      "text/plain": [
       "[<matplotlib.lines.Line2D at 0x7fbe30e4fdf0>]"
      ]
     },
     "execution_count": 74,
     "metadata": {},
     "output_type": "execute_result"
    }
   ],
   "source": [
    "plt.figure()\n",
    "\n",
    "j = 0\n",
    "for i, p_ in enumerate(p):\n",
    "    i1 = i * wstep\n",
    "    i2 = i1 + wlen\n",
    "    \n",
    "    plt.plot(np.arange(i1, i2), np.full(wlen, p_), '--')\n",
    "    j += 1\n",
    "\n",
    "plt.plot(np.arange(pred_.size), pred_, 'k:')\n",
    "sos = butter(1, (0.5 * 2) / 50., output='sos')\n",
    "plt.plot(np.arange(pred_.size), sosfiltfilt(sos, pred_), 'k-.')"
   ]
  },
  {
   "cell_type": "code",
   "execution_count": null,
   "metadata": {},
   "outputs": [],
   "source": []
  }
 ],
 "metadata": {
  "kernelspec": {
   "display_name": "PfyMU",
   "language": "python",
   "name": "pfymu"
  },
  "language_info": {
   "codemirror_mode": {
    "name": "ipython",
    "version": 3
   },
   "file_extension": ".py",
   "mimetype": "text/x-python",
   "name": "python",
   "nbconvert_exporter": "python",
   "pygments_lexer": "ipython3",
   "version": "3.8.2"
  }
 },
 "nbformat": 4,
 "nbformat_minor": 4
}
