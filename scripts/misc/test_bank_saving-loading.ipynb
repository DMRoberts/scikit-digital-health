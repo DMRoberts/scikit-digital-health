{
 "cells": [
  {
   "cell_type": "code",
   "execution_count": 1,
   "metadata": {},
   "outputs": [],
   "source": [
    "import json\n",
    "\n",
    "from PfyMU.features import *"
   ]
  },
  {
   "cell_type": "code",
   "execution_count": 2,
   "metadata": {},
   "outputs": [],
   "source": [
    "FB = Bank(window_length=None, window_step=None)\n",
    "\n",
    "FB + DominantFrequency(low_cutoff=1.0, high_cutoff=3.5)\n",
    "FB + MeanCrossRate()\n",
    "FB + Range()\n",
    "FB + RMS()\n",
    "FB + SampleEntropy(m=2, r=0.5)\n",
    "FB + Autocorrelation(lag=15, normalize=True)\n",
    "FB + IQR()\n",
    "FB + RangeCountPercentage(range_min=0.4, range_max=1.5)\n",
    "FB + ComplexityInvariantDistance(normalize=True)\n",
    "FB + PermutationEntropy(order=3, delay=1, normalize=True)\n",
    "FB + SpectralEntropy(low_cutoff=0.0, high_cutoff=5.0)\n",
    "FB + SpectralFlatness(low_cutoff=0.0, high_cutoff=6.0)\n",
    "FB + Mean()\n",
    "FB + JerkMetric()\n",
    "FB + DimensionlessJerk(log=True, signal_type='acceleration')\n",
    "FB + SignalEntropy()\n",
    "FB + SPARC(padlevel=4, fc=10.0, amplitude_threshold=0.05)\n",
    "FB + LinearSlope()"
   ]
  },
  {
   "cell_type": "code",
   "execution_count": 3,
   "metadata": {},
   "outputs": [],
   "source": [
    "FB.save('test.json')"
   ]
  },
  {
   "cell_type": "code",
   "execution_count": 6,
   "metadata": {},
   "outputs": [
    {
     "data": {
      "text/plain": [
       "True"
      ]
     },
     "execution_count": 6,
     "metadata": {},
     "output_type": "execute_result"
    }
   ],
   "source": [
    "fb2 = Bank(window_length=None, window_step=None)\n",
    "\n",
    "fb2.load('test.json')\n",
    "\n",
    "fb2._feat_list == FB._feat_list"
   ]
  },
  {
   "cell_type": "code",
   "execution_count": 9,
   "metadata": {},
   "outputs": [],
   "source": [
    "import numpy as np"
   ]
  },
  {
   "cell_type": "code",
   "execution_count": 13,
   "metadata": {},
   "outputs": [],
   "source": [
    "tmp = [\n",
    "    {'DominantFrequency': {'Parameters': {'low_cutoff': 1.0, 'high_cutoff': 3.5}, 'Index': [0, 2]}},\n",
    "    {'Mean': {'Parameters': {}, 'Index': '...'}}\n",
    "]"
   ]
  },
  {
   "cell_type": "code",
   "execution_count": 18,
   "metadata": {},
   "outputs": [],
   "source": [
    "res = json.loads(json.dumps(tmp))"
   ]
  },
  {
   "cell_type": "code",
   "execution_count": 6,
   "metadata": {},
   "outputs": [
    {
     "name": "stdout",
     "output_type": "stream",
     "text": [
      "{'DominantFrequency': {'Parameters': {'low_cutoff': 1.0, 'high_cutoff': 3.5}, 'Index': 'Ellipsis'}}\n",
      "{'MeanCrossRate': {'Parameters': {}, 'Index': 'Ellipsis'}}\n",
      "{'Range': {'Parameters': {}, 'Index': 'Ellipsis'}}\n",
      "{'RMS': {'Parameters': {}, 'Index': 'Ellipsis'}}\n",
      "{'SampleEntropy': {'Parameters': {'m': 2, 'r': 0.5}, 'Index': 'Ellipsis'}}\n",
      "{'Autocorrelation': {'Parameters': {'lag': 15, 'normalize': True}, 'Index': 'Ellipsis'}}\n",
      "{'IQR': {'Parameters': {}, 'Index': 'Ellipsis'}}\n",
      "{'RangeCountPercentage': {'Parameters': {'range_min': 0.4, 'range_max': 1.5}, 'Index': 'Ellipsis'}}\n",
      "{'ComplexityInvariantDistance': {'Parameters': {'Normalize': True}, 'Index': 'Ellipsis'}}\n",
      "{'PermutationEntropy': {'Parameters': {'order': 3, 'delay': 1, 'normalize': True}, 'Index': 'Ellipsis'}}\n",
      "{'SpectralEntropy': {'Parameters': {'low_cutoff': 0.0, 'high_cutoff': 5.0}, 'Index': 'Ellipsis'}}\n",
      "{'SpectralFlatness': {'Parameters': {'low_cutoff': 0.0, 'high_cutoff': 6.0}, 'Index': 'Ellipsis'}}\n",
      "{'Mean': {'Parameters': {}, 'Index': 'Ellipsis'}}\n",
      "{'JerkMetric': {'Parameters': {}, 'Index': 'Ellipsis'}}\n",
      "{'DimensionlessJerk': {'Parameters': {'log': True, 'signal_type': 'acceleration'}, 'Index': 'Ellipsis'}}\n",
      "{'SignalEntropy': {'Parameters': {}, 'Index': 'Ellipsis'}}\n",
      "{'SPARC': {'Parameters': {'padlevel': 4, 'fc': 10.0, 'amplitude_threshold': 0.05}, 'Index': 'Ellipsis'}}\n",
      "{'LinearSlope': {'Parameters': {}, 'Index': 'Ellipsis'}}\n"
     ]
    }
   ],
   "source": [
    "tmp = []\n",
    "\n",
    "for ft in FB._feat_list:\n",
    "    idx = 'Ellipsis' if ft.index is Ellipsis else ft.index\n",
    "    tmp.append({ft.parent._name: {'Parameters': ft.parent._eq_params, 'Index': idx}})\n",
    "    print(tmp[-1])"
   ]
  },
  {
   "cell_type": "code",
   "execution_count": 6,
   "metadata": {},
   "outputs": [
    {
     "data": {
      "text/plain": [
       "[{'DominantFrequency': {'Parameters': {'low_cutoff': 1.0, 'high_cutoff': 3.5},\n",
       "   'Index': 'Ellipsis'}},\n",
       " {'MeanCrossRate': {'Parameters': {}, 'Index': 'Ellipsis'}},\n",
       " {'Range': {'Parameters': {}, 'Index': 'Ellipsis'}},\n",
       " {'RMS': {'Parameters': {}, 'Index': 'Ellipsis'}},\n",
       " {'SampleEntropy': {'Parameters': {'m': 2, 'r': 0.5}, 'Index': 'Ellipsis'}},\n",
       " {'Autocorrelation': {'Parameters': {'lag': 15, 'normalize': True},\n",
       "   'Index': 'Ellipsis'}},\n",
       " {'IQR': {'Parameters': {}, 'Index': 'Ellipsis'}},\n",
       " {'RangeCountPercentage': {'Parameters': {'Range min': 0.4, 'Range max': 1.5},\n",
       "   'Index': 'Ellipsis'}},\n",
       " {'ComplexityInvariantDistance': {'Parameters': {'Normalize': True},\n",
       "   'Index': 'Ellipsis'}},\n",
       " {'PermutationEntropy': {'Parameters': {'order': 3,\n",
       "    'delay': 1,\n",
       "    'normalize': True},\n",
       "   'Index': 'Ellipsis'}},\n",
       " {'SpectralEntropy': {'Parameters': {'low_cutoff': 0.0, 'high_cutoff': 5.0},\n",
       "   'Index': 'Ellipsis'}},\n",
       " {'SpectralFlatness': {'Parameters': {'low_cutoff': 0.0, 'high_cutoff': 6.0},\n",
       "   'Index': 'Ellipsis'}},\n",
       " {'Mean': {'Parameters': {}, 'Index': 'Ellipsis'}},\n",
       " {'JerkMetric': {'Parameters': {}, 'Index': 'Ellipsis'}},\n",
       " {'DimensionlessJerk': {'Parameters': {'log': True,\n",
       "    'signal_type': 'acceleration'},\n",
       "   'Index': 'Ellipsis'}},\n",
       " {'SignalEntropy': {'Parameters': {}, 'Index': 'Ellipsis'}},\n",
       " {'SPARC': {'Parameters': {'padlevel': 4,\n",
       "    'fc': 10.0,\n",
       "    'amplitude_threshold': 0.05},\n",
       "   'Index': 'Ellipsis'}},\n",
       " {'LinearSlope': {'Parameters': {}, 'Index': 'Ellipsis'}}]"
      ]
     },
     "execution_count": 6,
     "metadata": {},
     "output_type": "execute_result"
    }
   ],
   "source": [
    "tmp"
   ]
  },
  {
   "cell_type": "code",
   "execution_count": 8,
   "metadata": {},
   "outputs": [],
   "source": [
    "with open('test.json', 'w') as f:\n",
    "    json.dump(tmp, f)"
   ]
  },
  {
   "cell_type": "code",
   "execution_count": 9,
   "metadata": {},
   "outputs": [],
   "source": [
    "with open('test.json', 'r') as f:\n",
    "    res = json.load(f)"
   ]
  },
  {
   "cell_type": "code",
   "execution_count": null,
   "metadata": {},
   "outputs": [],
   "source": []
  }
 ],
 "metadata": {
  "kernelspec": {
   "display_name": "PfyMU",
   "language": "python",
   "name": "pfymu"
  },
  "language_info": {
   "codemirror_mode": {
    "name": "ipython",
    "version": 3
   },
   "file_extension": ".py",
   "mimetype": "text/x-python",
   "name": "python",
   "nbconvert_exporter": "python",
   "pygments_lexer": "ipython3",
   "version": "3.8.3"
  }
 },
 "nbformat": 4,
 "nbformat_minor": 4
}
