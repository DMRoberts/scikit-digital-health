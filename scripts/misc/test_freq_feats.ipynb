{
 "cells": [
  {
   "cell_type": "code",
   "execution_count": 40,
   "metadata": {},
   "outputs": [],
   "source": [
    "%matplotlib widget\n",
    "\n",
    "%load_ext cython"
   ]
  },
  {
   "cell_type": "code",
   "execution_count": 2,
   "metadata": {},
   "outputs": [],
   "source": [
    "import numpy as np\n",
    "import pandas as pd\n",
    "from scipy.signal import butter, sosfiltfilt\n",
    "from scipy.interpolate import interp1d\n",
    "import matplotlib.pyplot as plt\n",
    "\n",
    "import inertial_sensor_routines as isr\n",
    "import signal_features as sf\n",
    "# import PfyMU"
   ]
  },
  {
   "cell_type": "code",
   "execution_count": 63,
   "metadata": {},
   "outputs": [],
   "source": [
    "%%cython\n",
    "# cython: infer_types = True\n",
    "# cython: boundscheck = False\n",
    "# cython: wraparound = False\n",
    "from numpy import fft, sum as nsum, less_equal, zeros, conjugate, argmax, real, array\n",
    "cimport cython\n",
    "from libc.math cimport log, pow, exp, floor, ceil\n",
    "from signal_features._extensions.common cimport mean_1d\n",
    "\n",
    "\n",
    "cdef double gmean(const double[:] x):\n",
    "    cdef Py_ssize_t n = x.size, i\n",
    "    cdef double logsum = 0.0, prod = 1.0\n",
    "    cdef double large = 1.e64, small=1.e-64\n",
    "\n",
    "    for i in range(n):\n",
    "        prod *= x[i]\n",
    "        if (prod > large) or (prod < small):\n",
    "            logsum += log(prod)\n",
    "            prod = 1.\n",
    "\n",
    "    return exp((logsum + log(prod)) / n)\n",
    "\n",
    "\n",
    "cpdef linspace(double start, double stop, int N):\n",
    "    cdef double[:] arr = zeros(N)\n",
    "    cdef double step = (stop - start) / N\n",
    "    cdef Py_ssize_t i\n",
    "\n",
    "    for i in range(N):\n",
    "        arr[i] = i * step + start\n",
    "\n",
    "    return arr\n",
    "\n",
    "\n",
    "def frequency_features_2d(const double[:, :] x, double fs, double low_cut, double hi_cut):\n",
    "    # local variables\n",
    "    cdef Py_ssize_t N=x.shape[0], P=x.shape[1], j, k\n",
    "    cdef double invlog2 = 1 / log(2.)\n",
    "    cdef double mean\n",
    "    # return variables\n",
    "    max_freq = zeros(P)\n",
    "    max_freq_val = zeros(P)\n",
    "    dom_freq_ratio = zeros(P)\n",
    "    spectral_flatness = zeros(P)\n",
    "    spectral_entropy = zeros(P)\n",
    "\n",
    "    cdef double[:] maxf = max_freq, maxfv = max_freq_val\n",
    "    cdef double[:] domf_ratio = dom_freq_ratio\n",
    "    cdef double[:] spec_flat = spectral_flatness, spec_ent = spectral_entropy\n",
    "\n",
    "    # function\n",
    "    cdef int nfft = 2 ** (<int>(log(N) * invlog2))\n",
    "    cdef double[:] freq = linspace(0.0, 0.5 * fs, nfft)\n",
    "    print(array(freq))\n",
    "\n",
    "    cdef int ihcut = <int>(floor(hi_cut / (fs / 2) * (nfft - 1)) + 1)  # high cutoff\n",
    "    cdef int ilcut = <int>(ceil(low_cut / (fs / 2) * (nfft - 1)))  # low cutoff\n",
    "    if ihcut > nfft:\n",
    "        ihcut = <int>(nfft)\n",
    "\n",
    "\n",
    "    cdef complex[:, :] sp_hat = fft.fft(x, 2 * nfft, axis=0)\n",
    "    cdef double[:, :] sp_norm = real(sp_hat[ilcut:ihcut, :]\n",
    "                                     * conjugate(sp_hat[ilcut:ihcut, :]))\n",
    "    sp_norm = sp_norm / nsum(sp_norm, axis=0, keepdims=True) + 1e-10\n",
    "\n",
    "    imax = argmax(sp_norm, axis=0)\n",
    "    print(imax)\n",
    "    for k in range(P):\n",
    "        maxf[k] = freq[imax[k] + ilcut]\n",
    "        maxfv[k] = sp_norm[imax[k] + ilcut, k]\n",
    "\n",
    "        # spectral flatness\n",
    "        mean = 0.\n",
    "        mean_1d(sp_norm[:, k], &mean)\n",
    "        spec_flat[k] = 10. * log(gmean(sp_norm[:, k]) / mean) / log(10.)\n",
    "\n",
    "    for j in range(ihcut - ilcut):\n",
    "        for k in range(P):\n",
    "            # dominant frequency ratio\n",
    "            if ((maxf[k] - 0.5) < freq[j] < (maxf[k] + 0.5)):\n",
    "                domf_ratio[k] += sp_norm[j, k]\n",
    "            # spectral entropy estimate\n",
    "            logps = log(sp_norm[j, k]) * invlog2\n",
    "            spec_ent[k] -= logps * sp_norm[j, k]\n",
    "    for k in range(P):\n",
    "        spec_ent[k] /= log(ihcut - ilcut) * invlog2\n",
    "\n",
    "    return max_freq, max_freq_val, dom_freq_ratio, spectral_flatness, spectral_entropy"
   ]
  },
  {
   "cell_type": "code",
   "execution_count": 64,
   "metadata": {},
   "outputs": [
    {
     "name": "stdout",
     "output_type": "stream",
     "text": [
      "[0.00000000e+00 9.76562500e-02 1.95312500e-01 ... 9.97070312e+01\n",
      " 9.98046875e+01 9.99023438e+01]\n",
      "[10]\n",
      "[0.9765625] [0.79181985]\n"
     ]
    }
   ],
   "source": [
    "domfreq, dfv, *_ = frequency_features_2d(y.reshape((-1, 1)), 2000/10, 0.0, 60.0)\n",
    "print(domfreq, dfv)"
   ]
  },
  {
   "cell_type": "code",
   "execution_count": 68,
   "metadata": {},
   "outputs": [
    {
     "name": "stdout",
     "output_type": "stream",
     "text": [
      "1024 [0.         0.09765625 0.1953125  0.29296875 0.390625   0.48828125\n",
      " 0.5859375  0.68359375 0.78125    0.87890625 0.9765625  1.07421875]\n"
     ]
    }
   ],
   "source": [
    "nfft = 2 ** int((np.log10(x.size) / np.log10(2)))\n",
    "print(nfft, np.fft.fftfreq(nfft * 2, d=10/2000)[:12])"
   ]
  },
  {
   "cell_type": "code",
   "execution_count": 17,
   "metadata": {},
   "outputs": [],
   "source": [
    "x = np.linspace(0, 10, 2000)\n",
    "\n",
    "y = np.sin(2 * np.pi * x) + 0.2 * np.sin(15 * np.pi * x) + 0.07 * np.sin(100 * np.pi * x)"
   ]
  },
  {
   "cell_type": "code",
   "execution_count": 70,
   "metadata": {},
   "outputs": [],
   "source": [
    "sp_hat = np.abs(np.fft.fft(y, n=2048))\n",
    "frq = np.fft.fftfreq(2048, d=10/2000)\n",
    "\n",
    "\"\"\"\n",
    "cdef complex[:, :] sp_hat = fft.fft(x, 2 * nfft, axis=0)\n",
    "    cdef double[:, :] sp_norm = real(sp_hat[ilcut:ihcut, :]\n",
    "                                     * conjugate(sp_hat[ilcut:ihcut, :]))\n",
    "    sp_norm = sp_norm / nsum(sp_norm, axis=0, keepdims=True) + 1e-10\n",
    "\"\"\"\n",
    "sp_norm = np.real(sp_hat * np.conjugate(sp_hat))\n",
    "sp_norm = sp_norm / (np.sum(sp_norm, axis=0, keepdims=True) + 1e-10)"
   ]
  },
  {
   "cell_type": "code",
   "execution_count": 71,
   "metadata": {},
   "outputs": [
    {
     "data": {
      "application/vnd.jupyter.widget-view+json": {
       "model_id": "5d65bd1a3424471a990530e20bde4652",
       "version_major": 2,
       "version_minor": 0
      },
      "text/plain": [
       "Canvas(toolbar=Toolbar(toolitems=[('Home', 'Reset original view', 'home', 'home'), ('Back', 'Back to previous …"
      ]
     },
     "metadata": {},
     "output_type": "display_data"
    }
   ],
   "source": [
    "f, (ax, ax1) = plt.subplots(2, figsize=(10, 5))\n",
    "ax.plot(x, y)\n",
    "ax1.plot(frq[:int(frq.size//2)], sp_hat[:int(frq.size//2)])\n",
    "axx1 = ax1.twinx()\n",
    "axx1.plot(frq[:int(frq.size//2)], sp_norm[:int(frq.size//2)], '--', color='C1')\n",
    "\n",
    "f.tight_layout()"
   ]
  },
  {
   "cell_type": "code",
   "execution_count": 39,
   "metadata": {},
   "outputs": [
    {
     "name": "stdout",
     "output_type": "stream",
     "text": [
      "[2.44140625e-05] [0.79181636]\n"
     ]
    }
   ],
   "source": [
    "domfreq, dfv, *_ = sf.dominant_frequency(y, 10/2000, low_cutoff=0.0, high_cutoff=60.0)\n",
    "print(domfreq, dfv)"
   ]
  },
  {
   "cell_type": "code",
   "execution_count": null,
   "metadata": {},
   "outputs": [],
   "source": []
  }
 ],
 "metadata": {
  "kernelspec": {
   "display_name": "PfyMU",
   "language": "python",
   "name": "pfymu"
  },
  "language_info": {
   "codemirror_mode": {
    "name": "ipython",
    "version": 3
   },
   "file_extension": ".py",
   "mimetype": "text/x-python",
   "name": "python",
   "nbconvert_exporter": "python",
   "pygments_lexer": "ipython3",
   "version": "3.8.2"
  }
 },
 "nbformat": 4,
 "nbformat_minor": 4
}
