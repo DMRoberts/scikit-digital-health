{
 "cells": [
  {
   "cell_type": "code",
   "execution_count": 1,
   "metadata": {},
   "outputs": [],
   "source": [
    "%matplotlib widget"
   ]
  },
  {
   "cell_type": "code",
   "execution_count": 2,
   "metadata": {},
   "outputs": [],
   "source": [
    "import pandas as pd\n",
    "import numpy as np\n",
    "from scipy.integrate import cumtrapz\n",
    "from scipy.signal import detrend\n",
    "from sklearn.decomposition import PCA\n",
    "import matplotlib.pyplot as plt\n",
    "\n",
    "plt.style.use(['ggplot', 'presentation'])\n",
    "\n",
    "from madgwick import *"
   ]
  },
  {
   "cell_type": "code",
   "execution_count": 6,
   "metadata": {},
   "outputs": [
    {
     "name": "stdout",
     "output_type": "stream",
     "text": [
      "197.24258229898155\n"
     ]
    }
   ],
   "source": [
    "df3 = pd.read_csv('51888_1020030004.csv', header=None, names=['t', 'x', 'y', 'z'])\n",
    "acc3 = df3[['x', 'y', 'z']].values\n",
    "print(1 / np.mean(np.diff(df3['t'])))"
   ]
  },
  {
   "cell_type": "code",
   "execution_count": 7,
   "metadata": {},
   "outputs": [
    {
     "name": "stdout",
     "output_type": "stream",
     "text": [
      "98.41345241248855\n"
     ]
    }
   ],
   "source": [
    "df6 = pd.read_csv('6011802_0000000000.csv', header=None, names=['t', 'x', 'y', 'z', 'gx', 'gy', 'gz', '_1', '_2'])\n",
    "acc = df6[['x', 'y', 'z']].values\n",
    "gyr = df6[['gx', 'gy', 'gz']].values * np.pi / 180\n",
    "print(1 / np.mean(np.diff(df6['t'])))"
   ]
  },
  {
   "cell_type": "code",
   "execution_count": 23,
   "metadata": {},
   "outputs": [
    {
     "data": {
      "text/plain": [
       "array([[-0.00000000e+00, -0.00000000e+00,  0.00000000e+00],\n",
       "       [-1.41778625e-11, -5.67114502e-11,  0.00000000e+00],\n",
       "       [-2.83564011e-11, -1.13425605e-10,  0.00000000e+00],\n",
       "       ...,\n",
       "       [-5.95757212e-08, -2.38302885e-07,  0.00000000e+00],\n",
       "       [-5.95901830e-08, -2.38360732e-07,  0.00000000e+00],\n",
       "       [-5.96046448e-08, -2.38418579e-07,  0.00000000e+00]])"
      ]
     },
     "execution_count": 23,
     "metadata": {},
     "output_type": "execute_result"
    }
   ],
   "source": [
    "((vel3_wlk[-1] - vel3_wlk[0]) / (t3_wlk[-1] - t3_wlk[0])) * (t3_wlk - t3_wlk[0]).reshape((-1, 1))"
   ]
  },
  {
   "cell_type": "code",
   "execution_count": 28,
   "metadata": {},
   "outputs": [
    {
     "name": "stdout",
     "output_type": "stream",
     "text": [
      "[[ 0.11400086  0.18255993  0.9765632 ]\n",
      " [ 0.93691304 -0.34671108 -0.04455763]\n",
      " [ 0.33045085  0.9200344  -0.21056814]]\n"
     ]
    },
    {
     "data": {
      "application/vnd.jupyter.widget-view+json": {
       "model_id": "14942e5a9b6343fa97e042d4ee41c18e",
       "version_major": 2,
       "version_minor": 0
      },
      "text/plain": [
       "Canvas(toolbar=Toolbar(toolitems=[('Home', 'Reset original view', 'home', 'home'), ('Back', 'Back to previous …"
      ]
     },
     "metadata": {},
     "output_type": "display_data"
    }
   ],
   "source": [
    "acc3_wlk = acc3[21342:25490]\n",
    "t3_wlk = df3.loc[21342:25489, 't'].values\n",
    "\n",
    "vel3_wlk = cumtrapz(acc3_wlk * 9.81, t3_wlk, axis=0, initial=0)\n",
    "\n",
    "vel3_wlk = vel3_wlk - ((vel3_wlk[-1] - vel3_wlk[0]) / (t3_wlk[-1] - t3_wlk[0])) * (t3_wlk - t3_wlk[0]).reshape((-1, 1))\n",
    "\n",
    "pos3_wlk = cumtrapz(vel3_wlk, t3_wlk, axis=0, initial=0)\n",
    "\n",
    "\n",
    "pca = PCA()\n",
    "pos3_wlk_trf = pca.fit_transform(pos3_wlk)\n",
    "print(pca.components_)\n",
    "\n",
    "\n",
    "f, ax = plt.subplots(3, figsize=(9, 7), constrained_layout=True, sharex=True)\n",
    "ax[0].plot(acc3_wlk)\n",
    "ax[1].plot(vel3_wlk)\n",
    "\n",
    "\n",
    "lbl = ['x', 'y', 'z']\n",
    "for i in range(3):\n",
    "    ax[2].plot(pos3_wlk[:, i], color=f'C{i}', label=lbl[i])\n",
    "    ax[2].plot(pos3_wlk_trf[:, i], '--', color=f'C{i}')\n"
   ]
  },
  {
   "cell_type": "code",
   "execution_count": null,
   "metadata": {},
   "outputs": [],
   "source": [
    "ahrs = MadgwickAHRS(sample_period=1/100)\n",
    "q = np.zeros((acc.shape[0], 4))\n",
    "R = np.zeros((q.shape[0], 3, 3))\n",
    "\n",
    "for i in range(acc.shape[0]):\n",
    "    q[i] = ahrs.updateIMU(gyr[i], acc[i])\n",
    "    R[i] = quat2matrix(q[i])\n",
    "    \n",
    "acc_c = (R @ acc.reshape((-1, 3, 1))).reshape((-1, 3))\n",
    "gyr_c = (R @ gyr.reshape((-1, 3, 1))).reshape((-1, 3))\n",
    "\n",
    "acc_c_wlk = acc_c[8200:9700]\n",
    "\n",
    "vel_c_wlk = detrend(cumtrapz(acc_c_wlk * 9.81, dx=1/100, axis=0), axis=0)\n",
    "pos_c_wlk = cumtrapz(vel_c_wlk, dx=1/100, axis=0)\n",
    "\n",
    "plt.close('all')\n",
    "f, ax = plt.subplots(3, figsize=(9, 7), constrained_layout=True, sharex=True)\n",
    "ax[0].plot(acc[8200:9700]);\n",
    "ax[1].plot(vel_c_wlk);\n",
    "ax[2].plot(pos_c_wlk);"
   ]
  },
  {
   "cell_type": "code",
   "execution_count": null,
   "metadata": {},
   "outputs": [],
   "source": []
  }
 ],
 "metadata": {
  "kernelspec": {
   "display_name": "PfyMU",
   "language": "python",
   "name": "pfymu"
  },
  "language_info": {
   "codemirror_mode": {
    "name": "ipython",
    "version": 3
   },
   "file_extension": ".py",
   "mimetype": "text/x-python",
   "name": "python",
   "nbconvert_exporter": "python",
   "pygments_lexer": "ipython3",
   "version": "3.8.2"
  }
 },
 "nbformat": 4,
 "nbformat_minor": 4
}
