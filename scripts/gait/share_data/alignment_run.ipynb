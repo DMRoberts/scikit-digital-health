{
 "cells": [
  {
   "cell_type": "code",
   "execution_count": 1,
   "metadata": {},
   "outputs": [],
   "source": [
    "%matplotlib widget"
   ]
  },
  {
   "cell_type": "code",
   "execution_count": 2,
   "metadata": {},
   "outputs": [],
   "source": [
    "import numpy as np\n",
    "import pandas as pd\n",
    "import matplotlib.pyplot as plt\n",
    "from scipy import signal\n",
    "\n",
    "import inertial_sensor_routines as isr\n",
    "\n",
    "plt.style.use('ggplot')"
   ]
  },
  {
   "cell_type": "code",
   "execution_count": 4,
   "metadata": {},
   "outputs": [],
   "source": [
    "path = 'TestACH_20200305_PKMAS_sync3pass.txt'\n",
    "\n",
    "pkm = pd.read_csv(path, delimiter=';', skiprows=11)\n",
    "\n",
    "ts = 'Time (sec.)'\n",
    "pksum = np.zeros(pkm[ts].unique().size)\n",
    "\n",
    "for i, t in enumerate(pkm[ts].unique()):\n",
    "    mask = pkm[ts] == t\n",
    "    \n",
    "    pksum[i] = pkm.loc[mask, 'Level'].sum()\n",
    "    \n",
    "ff = pd.read_csv('TestACH_20200303_PKMAS_Footfalls.csv', skiprows=10, header=None, names=['Sample', 'Pass:side', 'First Contact', 'Last Contact'])\n",
    "\n",
    "ff['Side'] = ff['Pass:side'].apply(lambda i: i.split(' ')[1])"
   ]
  },
  {
   "cell_type": "code",
   "execution_count": 5,
   "metadata": {},
   "outputs": [],
   "source": [
    "df = isr.gnactv.tabular_conversion('TestACH20200305-PKMA_back_048877_2020-03-05 14-40-44.bin')\n",
    "\n",
    "time = df.index.values.astype(int) / 1e9\n",
    "macc = np.linalg.norm(df[['X', 'Y', 'Z']].values, axis=1)"
   ]
  },
  {
   "cell_type": "code",
   "execution_count": 6,
   "metadata": {},
   "outputs": [],
   "source": [
    "df.to_csv('gnactv_data.csv')"
   ]
  },
  {
   "cell_type": "code",
   "execution_count": 7,
   "metadata": {},
   "outputs": [
    {
     "data": {
      "text/html": [
       "<div>\n",
       "<style scoped>\n",
       "    .dataframe tbody tr th:only-of-type {\n",
       "        vertical-align: middle;\n",
       "    }\n",
       "\n",
       "    .dataframe tbody tr th {\n",
       "        vertical-align: top;\n",
       "    }\n",
       "\n",
       "    .dataframe thead th {\n",
       "        text-align: right;\n",
       "    }\n",
       "</style>\n",
       "<table border=\"1\" class=\"dataframe\">\n",
       "  <thead>\n",
       "    <tr style=\"text-align: right;\">\n",
       "      <th></th>\n",
       "      <th>Sample</th>\n",
       "      <th>Pass:side</th>\n",
       "      <th>First Contact</th>\n",
       "      <th>Last Contact</th>\n",
       "      <th>Side</th>\n",
       "    </tr>\n",
       "  </thead>\n",
       "  <tbody>\n",
       "    <tr>\n",
       "      <th>0</th>\n",
       "      <td>1</td>\n",
       "      <td>1: Right 1</td>\n",
       "      <td>38.942</td>\n",
       "      <td>39.725</td>\n",
       "      <td>Right</td>\n",
       "    </tr>\n",
       "    <tr>\n",
       "      <th>1</th>\n",
       "      <td>2</td>\n",
       "      <td>1: Left 1</td>\n",
       "      <td>39.567</td>\n",
       "      <td>40.317</td>\n",
       "      <td>Left</td>\n",
       "    </tr>\n",
       "    <tr>\n",
       "      <th>2</th>\n",
       "      <td>3</td>\n",
       "      <td>1: Right 2</td>\n",
       "      <td>40.175</td>\n",
       "      <td>40.883</td>\n",
       "      <td>Right</td>\n",
       "    </tr>\n",
       "    <tr>\n",
       "      <th>3</th>\n",
       "      <td>4</td>\n",
       "      <td>1: Left 2</td>\n",
       "      <td>40.758</td>\n",
       "      <td>41.492</td>\n",
       "      <td>Left</td>\n",
       "    </tr>\n",
       "    <tr>\n",
       "      <th>4</th>\n",
       "      <td>5</td>\n",
       "      <td>1: Right 3</td>\n",
       "      <td>41.317</td>\n",
       "      <td>42.025</td>\n",
       "      <td>Right</td>\n",
       "    </tr>\n",
       "  </tbody>\n",
       "</table>\n",
       "</div>"
      ],
      "text/plain": [
       "   Sample   Pass:side  First Contact  Last Contact   Side\n",
       "0       1  1: Right 1         38.942        39.725  Right\n",
       "1       2   1: Left 1         39.567        40.317   Left\n",
       "2       3  1: Right 2         40.175        40.883  Right\n",
       "3       4   1: Left 2         40.758        41.492   Left\n",
       "4       5  1: Right 3         41.317        42.025  Right"
      ]
     },
     "execution_count": 7,
     "metadata": {},
     "output_type": "execute_result"
    }
   ],
   "source": [
    "ff.head(5)"
   ]
  },
  {
   "cell_type": "code",
   "execution_count": 8,
   "metadata": {
    "collapsed": true,
    "jupyter": {
     "outputs_hidden": true
    }
   },
   "outputs": [
    {
     "ename": "FileNotFoundError",
     "evalue": "[Errno 2] File gaitpy_features.csv does not exist: 'gaitpy_features.csv'",
     "output_type": "error",
     "traceback": [
      "\u001b[0;31m---------------------------------------------------------------------------\u001b[0m",
      "\u001b[0;31mFileNotFoundError\u001b[0m                         Traceback (most recent call last)",
      "\u001b[0;32m<ipython-input-8-762b046feb17>\u001b[0m in \u001b[0;36m<module>\u001b[0;34m\u001b[0m\n\u001b[0;32m----> 1\u001b[0;31m \u001b[0mgp_feat\u001b[0m \u001b[0;34m=\u001b[0m \u001b[0mpd\u001b[0m\u001b[0;34m.\u001b[0m\u001b[0mread_csv\u001b[0m\u001b[0;34m(\u001b[0m\u001b[0;34m'gaitpy_features.csv'\u001b[0m\u001b[0;34m)\u001b[0m\u001b[0;34m\u001b[0m\u001b[0;34m\u001b[0m\u001b[0m\n\u001b[0m\u001b[1;32m      2\u001b[0m \u001b[0;34m\u001b[0m\u001b[0m\n\u001b[1;32m      3\u001b[0m \u001b[0mgp_fc\u001b[0m \u001b[0;34m=\u001b[0m \u001b[0mgp_feat\u001b[0m\u001b[0;34m[\u001b[0m\u001b[0;34m'IC'\u001b[0m\u001b[0;34m]\u001b[0m\u001b[0;34m.\u001b[0m\u001b[0mvalues\u001b[0m \u001b[0;34m/\u001b[0m \u001b[0;36m1e3\u001b[0m\u001b[0;34m\u001b[0m\u001b[0;34m\u001b[0m\u001b[0m\n\u001b[1;32m      4\u001b[0m \u001b[0mgp_lc\u001b[0m \u001b[0;34m=\u001b[0m \u001b[0mgp_feat\u001b[0m\u001b[0;34m.\u001b[0m\u001b[0mFC\u001b[0m\u001b[0;34m.\u001b[0m\u001b[0mvalues\u001b[0m \u001b[0;34m/\u001b[0m \u001b[0;36m1e3\u001b[0m\u001b[0;34m\u001b[0m\u001b[0;34m\u001b[0m\u001b[0m\n\u001b[1;32m      5\u001b[0m \u001b[0;34m\u001b[0m\u001b[0m\n",
      "\u001b[0;32m~/miniconda3/envs/pfymu/lib/python3.8/site-packages/pandas/io/parsers.py\u001b[0m in \u001b[0;36mparser_f\u001b[0;34m(filepath_or_buffer, sep, delimiter, header, names, index_col, usecols, squeeze, prefix, mangle_dupe_cols, dtype, engine, converters, true_values, false_values, skipinitialspace, skiprows, skipfooter, nrows, na_values, keep_default_na, na_filter, verbose, skip_blank_lines, parse_dates, infer_datetime_format, keep_date_col, date_parser, dayfirst, cache_dates, iterator, chunksize, compression, thousands, decimal, lineterminator, quotechar, quoting, doublequote, escapechar, comment, encoding, dialect, error_bad_lines, warn_bad_lines, delim_whitespace, low_memory, memory_map, float_precision)\u001b[0m\n\u001b[1;32m    674\u001b[0m         )\n\u001b[1;32m    675\u001b[0m \u001b[0;34m\u001b[0m\u001b[0m\n\u001b[0;32m--> 676\u001b[0;31m         \u001b[0;32mreturn\u001b[0m \u001b[0m_read\u001b[0m\u001b[0;34m(\u001b[0m\u001b[0mfilepath_or_buffer\u001b[0m\u001b[0;34m,\u001b[0m \u001b[0mkwds\u001b[0m\u001b[0;34m)\u001b[0m\u001b[0;34m\u001b[0m\u001b[0;34m\u001b[0m\u001b[0m\n\u001b[0m\u001b[1;32m    677\u001b[0m \u001b[0;34m\u001b[0m\u001b[0m\n\u001b[1;32m    678\u001b[0m     \u001b[0mparser_f\u001b[0m\u001b[0;34m.\u001b[0m\u001b[0m__name__\u001b[0m \u001b[0;34m=\u001b[0m \u001b[0mname\u001b[0m\u001b[0;34m\u001b[0m\u001b[0;34m\u001b[0m\u001b[0m\n",
      "\u001b[0;32m~/miniconda3/envs/pfymu/lib/python3.8/site-packages/pandas/io/parsers.py\u001b[0m in \u001b[0;36m_read\u001b[0;34m(filepath_or_buffer, kwds)\u001b[0m\n\u001b[1;32m    446\u001b[0m \u001b[0;34m\u001b[0m\u001b[0m\n\u001b[1;32m    447\u001b[0m     \u001b[0;31m# Create the parser.\u001b[0m\u001b[0;34m\u001b[0m\u001b[0;34m\u001b[0m\u001b[0;34m\u001b[0m\u001b[0m\n\u001b[0;32m--> 448\u001b[0;31m     \u001b[0mparser\u001b[0m \u001b[0;34m=\u001b[0m \u001b[0mTextFileReader\u001b[0m\u001b[0;34m(\u001b[0m\u001b[0mfp_or_buf\u001b[0m\u001b[0;34m,\u001b[0m \u001b[0;34m**\u001b[0m\u001b[0mkwds\u001b[0m\u001b[0;34m)\u001b[0m\u001b[0;34m\u001b[0m\u001b[0;34m\u001b[0m\u001b[0m\n\u001b[0m\u001b[1;32m    449\u001b[0m \u001b[0;34m\u001b[0m\u001b[0m\n\u001b[1;32m    450\u001b[0m     \u001b[0;32mif\u001b[0m \u001b[0mchunksize\u001b[0m \u001b[0;32mor\u001b[0m \u001b[0miterator\u001b[0m\u001b[0;34m:\u001b[0m\u001b[0;34m\u001b[0m\u001b[0;34m\u001b[0m\u001b[0m\n",
      "\u001b[0;32m~/miniconda3/envs/pfymu/lib/python3.8/site-packages/pandas/io/parsers.py\u001b[0m in \u001b[0;36m__init__\u001b[0;34m(self, f, engine, **kwds)\u001b[0m\n\u001b[1;32m    878\u001b[0m             \u001b[0mself\u001b[0m\u001b[0;34m.\u001b[0m\u001b[0moptions\u001b[0m\u001b[0;34m[\u001b[0m\u001b[0;34m\"has_index_names\"\u001b[0m\u001b[0;34m]\u001b[0m \u001b[0;34m=\u001b[0m \u001b[0mkwds\u001b[0m\u001b[0;34m[\u001b[0m\u001b[0;34m\"has_index_names\"\u001b[0m\u001b[0;34m]\u001b[0m\u001b[0;34m\u001b[0m\u001b[0;34m\u001b[0m\u001b[0m\n\u001b[1;32m    879\u001b[0m \u001b[0;34m\u001b[0m\u001b[0m\n\u001b[0;32m--> 880\u001b[0;31m         \u001b[0mself\u001b[0m\u001b[0;34m.\u001b[0m\u001b[0m_make_engine\u001b[0m\u001b[0;34m(\u001b[0m\u001b[0mself\u001b[0m\u001b[0;34m.\u001b[0m\u001b[0mengine\u001b[0m\u001b[0;34m)\u001b[0m\u001b[0;34m\u001b[0m\u001b[0;34m\u001b[0m\u001b[0m\n\u001b[0m\u001b[1;32m    881\u001b[0m \u001b[0;34m\u001b[0m\u001b[0m\n\u001b[1;32m    882\u001b[0m     \u001b[0;32mdef\u001b[0m \u001b[0mclose\u001b[0m\u001b[0;34m(\u001b[0m\u001b[0mself\u001b[0m\u001b[0;34m)\u001b[0m\u001b[0;34m:\u001b[0m\u001b[0;34m\u001b[0m\u001b[0;34m\u001b[0m\u001b[0m\n",
      "\u001b[0;32m~/miniconda3/envs/pfymu/lib/python3.8/site-packages/pandas/io/parsers.py\u001b[0m in \u001b[0;36m_make_engine\u001b[0;34m(self, engine)\u001b[0m\n\u001b[1;32m   1112\u001b[0m     \u001b[0;32mdef\u001b[0m \u001b[0m_make_engine\u001b[0m\u001b[0;34m(\u001b[0m\u001b[0mself\u001b[0m\u001b[0;34m,\u001b[0m \u001b[0mengine\u001b[0m\u001b[0;34m=\u001b[0m\u001b[0;34m\"c\"\u001b[0m\u001b[0;34m)\u001b[0m\u001b[0;34m:\u001b[0m\u001b[0;34m\u001b[0m\u001b[0;34m\u001b[0m\u001b[0m\n\u001b[1;32m   1113\u001b[0m         \u001b[0;32mif\u001b[0m \u001b[0mengine\u001b[0m \u001b[0;34m==\u001b[0m \u001b[0;34m\"c\"\u001b[0m\u001b[0;34m:\u001b[0m\u001b[0;34m\u001b[0m\u001b[0;34m\u001b[0m\u001b[0m\n\u001b[0;32m-> 1114\u001b[0;31m             \u001b[0mself\u001b[0m\u001b[0;34m.\u001b[0m\u001b[0m_engine\u001b[0m \u001b[0;34m=\u001b[0m \u001b[0mCParserWrapper\u001b[0m\u001b[0;34m(\u001b[0m\u001b[0mself\u001b[0m\u001b[0;34m.\u001b[0m\u001b[0mf\u001b[0m\u001b[0;34m,\u001b[0m \u001b[0;34m**\u001b[0m\u001b[0mself\u001b[0m\u001b[0;34m.\u001b[0m\u001b[0moptions\u001b[0m\u001b[0;34m)\u001b[0m\u001b[0;34m\u001b[0m\u001b[0;34m\u001b[0m\u001b[0m\n\u001b[0m\u001b[1;32m   1115\u001b[0m         \u001b[0;32melse\u001b[0m\u001b[0;34m:\u001b[0m\u001b[0;34m\u001b[0m\u001b[0;34m\u001b[0m\u001b[0m\n\u001b[1;32m   1116\u001b[0m             \u001b[0;32mif\u001b[0m \u001b[0mengine\u001b[0m \u001b[0;34m==\u001b[0m \u001b[0;34m\"python\"\u001b[0m\u001b[0;34m:\u001b[0m\u001b[0;34m\u001b[0m\u001b[0;34m\u001b[0m\u001b[0m\n",
      "\u001b[0;32m~/miniconda3/envs/pfymu/lib/python3.8/site-packages/pandas/io/parsers.py\u001b[0m in \u001b[0;36m__init__\u001b[0;34m(self, src, **kwds)\u001b[0m\n\u001b[1;32m   1889\u001b[0m         \u001b[0mkwds\u001b[0m\u001b[0;34m[\u001b[0m\u001b[0;34m\"usecols\"\u001b[0m\u001b[0;34m]\u001b[0m \u001b[0;34m=\u001b[0m \u001b[0mself\u001b[0m\u001b[0;34m.\u001b[0m\u001b[0musecols\u001b[0m\u001b[0;34m\u001b[0m\u001b[0;34m\u001b[0m\u001b[0m\n\u001b[1;32m   1890\u001b[0m \u001b[0;34m\u001b[0m\u001b[0m\n\u001b[0;32m-> 1891\u001b[0;31m         \u001b[0mself\u001b[0m\u001b[0;34m.\u001b[0m\u001b[0m_reader\u001b[0m \u001b[0;34m=\u001b[0m \u001b[0mparsers\u001b[0m\u001b[0;34m.\u001b[0m\u001b[0mTextReader\u001b[0m\u001b[0;34m(\u001b[0m\u001b[0msrc\u001b[0m\u001b[0;34m,\u001b[0m \u001b[0;34m**\u001b[0m\u001b[0mkwds\u001b[0m\u001b[0;34m)\u001b[0m\u001b[0;34m\u001b[0m\u001b[0;34m\u001b[0m\u001b[0m\n\u001b[0m\u001b[1;32m   1892\u001b[0m         \u001b[0mself\u001b[0m\u001b[0;34m.\u001b[0m\u001b[0munnamed_cols\u001b[0m \u001b[0;34m=\u001b[0m \u001b[0mself\u001b[0m\u001b[0;34m.\u001b[0m\u001b[0m_reader\u001b[0m\u001b[0;34m.\u001b[0m\u001b[0munnamed_cols\u001b[0m\u001b[0;34m\u001b[0m\u001b[0;34m\u001b[0m\u001b[0m\n\u001b[1;32m   1893\u001b[0m \u001b[0;34m\u001b[0m\u001b[0m\n",
      "\u001b[0;32mpandas/_libs/parsers.pyx\u001b[0m in \u001b[0;36mpandas._libs.parsers.TextReader.__cinit__\u001b[0;34m()\u001b[0m\n",
      "\u001b[0;32mpandas/_libs/parsers.pyx\u001b[0m in \u001b[0;36mpandas._libs.parsers.TextReader._setup_parser_source\u001b[0;34m()\u001b[0m\n",
      "\u001b[0;31mFileNotFoundError\u001b[0m: [Errno 2] File gaitpy_features.csv does not exist: 'gaitpy_features.csv'"
     ]
    }
   ],
   "source": [
    "gp_feat = pd.read_csv('gaitpy_features.csv')\n",
    "\n",
    "gp_fc = gp_feat['IC'].values / 1e3\n",
    "gp_lc = gp_feat.FC.values / 1e3\n",
    "\n",
    "gp_fc_s = gp_fc - time[2420] + pkm[ts][0]\n",
    "gp_lc_s = gp_lc - time[2420] + pkm[ts][0]"
   ]
  },
  {
   "cell_type": "code",
   "execution_count": 9,
   "metadata": {},
   "outputs": [],
   "source": [
    "gn_time = time-time[2420] + pkm[ts][0]\n",
    "\n",
    "fc_ind = np.array([np.argmin(np.abs(gn_time - i)) for i in ff['First Contact']])\n",
    "lc_ind = np.array([np.argmin(np.abs(gn_time - i)) for i in ff['Last Contact']])\n",
    "\n",
    "gp_fc_ind = np.array([np.argmin(np.abs(gn_time - i)) for i in gp_fc_s])\n",
    "gp_lc_ind = np.array([np.argmin(np.abs(gn_time - i)) for i in gp_lc_s])"
   ]
  },
  {
   "cell_type": "code",
   "execution_count": 14,
   "metadata": {},
   "outputs": [
    {
     "data": {
      "application/vnd.jupyter.widget-view+json": {
       "model_id": "be4d79c8738c41b78a9dd99d0178ea3b",
       "version_major": 2,
       "version_minor": 0
      },
      "text/plain": [
       "Canvas(toolbar=Toolbar(toolitems=[('Home', 'Reset original view', 'home', 'home'), ('Back', 'Back to previous …"
      ]
     },
     "metadata": {},
     "output_type": "display_data"
    },
    {
     "data": {
      "text/plain": [
       "(<matplotlib.patches.Rectangle at 0x7fc3f8b35940>,\n",
       " (<matplotlib.patches.ConnectionPatch at 0x7fc3f8b89fa0>,\n",
       "  <matplotlib.patches.ConnectionPatch at 0x7fc3f8b94400>,\n",
       "  <matplotlib.patches.ConnectionPatch at 0x7fc3f8b94610>,\n",
       "  <matplotlib.patches.ConnectionPatch at 0x7fc3f8b94880>))"
      ]
     },
     "execution_count": 14,
     "metadata": {},
     "output_type": "execute_result"
    }
   ],
   "source": [
    "plt.close('all')\n",
    "\n",
    "f, (ax, ax1) = plt.subplots(2, figsize=(15, 6), constrained_layout=True, gridspec_kw={'height_ratios': [3, 1]}, sharex=True)\n",
    "# f.subplots_adjust(hspace=0)\n",
    "\n",
    "# pressure sensor sum\n",
    "ax.plot(pkm[ts].unique(), pksum, alpha=0.5, color='C1')\n",
    "\n",
    "ax.set_ylabel('Pressure Sensor Sum', color='C1')\n",
    "ax.tick_params(axis='y', colors='C1')\n",
    "ax.yaxis.set_label_position('right')\n",
    "\n",
    "# acceleration magnitude\n",
    "axx = ax.twinx()\n",
    "axx.grid(False)\n",
    "\n",
    "axx.plot(gn_time, macc, color='C0')\n",
    "\n",
    "axx.set_ylabel('Acceleration Magnitude [g]', color='C0')\n",
    "axx.tick_params(axis='y', colors='C0')\n",
    "axx.yaxis.set_label_position('left')\n",
    "axx.yaxis.tick_left()\n",
    "\n",
    "ax.yaxis.tick_right()  # has to be set after the axx.yaxis.tick_left() call\n",
    "\n",
    "# second plot - plotting steps\n",
    "\n",
    "ax1.set_ylim([0.68, 1.02])\n",
    "ax1.set_xlim([-40, 90])\n",
    "\n",
    "for fc, lc, side in ff[['First Contact', 'Last Contact', 'Side']].values:\n",
    "    y = 0.98 if side == 'Right' else 0.9\n",
    "    c = 'green' if side == 'Left' else 'red'\n",
    "    ax1.plot([fc, lc], [y, y], linewidth=8, color=c, solid_capstyle='round')\n",
    "\n",
    "for i, cont in enumerate(zip(gp_fc_s, gp_lc_s)):\n",
    "    y = 0.8 if i % 2 == 0 else 0.72\n",
    "    c = 'blue'\n",
    "    ax1.plot(cont, [y, y], linewidth=8, color=c, solid_capstyle='round')\n",
    "\n",
    "ax1.set_yticks([0.76, 0.94])\n",
    "ax1.set_yticklabels(['GaitPy', 'PKMAS'])\n",
    "\n",
    "ax1.annotate('Right', xy=(1.01, 0.98), annotation_clip=False, verticalalignment='center', xycoords=('axes fraction', 'data'), color='red')\n",
    "ax1.annotate('Left', xy=(1.01, 0.90), annotation_clip=False, verticalalignment='center', xycoords=('axes fraction', 'data'), color='green')\n",
    "\n",
    "ax1.annotate('Side 1', xy=(1.01, 0.80), annotation_clip=False, verticalalignment='center', xycoords=('axes fraction', 'data'), color='blue')\n",
    "ax1.annotate('Side 2', xy=(1.01, 0.72), annotation_clip=False, verticalalignment='center', xycoords=('axes fraction', 'data'), color='blue')\n",
    "\n",
    "ax1.set_xlabel('Time [s]')\n",
    "\n",
    "# spike inset\n",
    "axins = ax.inset_axes([0.03, 0.4, 0.27, 0.57])\n",
    "\n",
    "axins.plot(pkm[ts].unique(), pksum, color='C1', alpha=0.5)\n",
    "axins.plot(gn_time, macc * (100 / 12.2), color='C0')\n",
    "\n",
    "axins.set_xlim([4.0, 5.5])\n",
    "axins.set_ylim([-0.35, 100])\n",
    "axins.tick_params(axis='both', which='both', bottom=False, left=False, labelbottom=False, labelleft=False)\n",
    "\n",
    "ax.indicate_inset_zoom(axins)\n",
    "\n",
    "# first pass steps inset\n",
    "\n",
    "axins1 = ax1.inset_axes([0.03, 0.03, 0.3, 0.94])\n",
    "\n",
    "for fc, lc, side in ff[['First Contact', 'Last Contact', 'Side']].values:\n",
    "    y = 0.98 if side == 'Right' else 0.9\n",
    "    c = 'green' if side == 'Left' else 'red'\n",
    "    axins1.plot([fc, lc], [y, y], linewidth=8, color=c, solid_capstyle='round')\n",
    "\n",
    "for i, cont in enumerate(zip(gp_fc_s, gp_lc_s)):\n",
    "    y = 0.8 if i % 2 == 0 else 0.72\n",
    "    c = 'blue'\n",
    "    axins1.plot(cont, [y, y], linewidth=8, color=c, solid_capstyle='round')\n",
    "    \n",
    "axins1.set_xlim([38.75, 43.5])\n",
    "axins1.tick_params(axis='both', which='both', bottom=False, left=False, labelbottom=False, labelleft=False)\n",
    "ax1.indicate_inset_zoom(axins1)\n",
    "\n",
    "# f.savefig('alignment_visualization.png')\n",
    "# f.savefig('alignment_visualization.pdf')"
   ]
  },
  {
   "cell_type": "code",
   "execution_count": 81,
   "metadata": {},
   "outputs": [
    {
     "data": {
      "text/plain": [
       "1"
      ]
     },
     "execution_count": 81,
     "metadata": {},
     "output_type": "execute_result"
    }
   ],
   "source": [
    "3 % 2"
   ]
  },
  {
   "cell_type": "code",
   "execution_count": null,
   "metadata": {},
   "outputs": [],
   "source": [
    "np.argmax(macc)"
   ]
  },
  {
   "cell_type": "code",
   "execution_count": null,
   "metadata": {},
   "outputs": [],
   "source": []
  },
  {
   "cell_type": "code",
   "execution_count": null,
   "metadata": {},
   "outputs": [],
   "source": []
  },
  {
   "cell_type": "code",
   "execution_count": null,
   "metadata": {},
   "outputs": [],
   "source": []
  },
  {
   "cell_type": "code",
   "execution_count": null,
   "metadata": {},
   "outputs": [],
   "source": []
  },
  {
   "cell_type": "code",
   "execution_count": null,
   "metadata": {},
   "outputs": [],
   "source": []
  },
  {
   "cell_type": "code",
   "execution_count": null,
   "metadata": {},
   "outputs": [],
   "source": []
  },
  {
   "cell_type": "code",
   "execution_count": null,
   "metadata": {},
   "outputs": [],
   "source": []
  },
  {
   "cell_type": "code",
   "execution_count": null,
   "metadata": {},
   "outputs": [],
   "source": []
  },
  {
   "cell_type": "code",
   "execution_count": null,
   "metadata": {},
   "outputs": [],
   "source": []
  },
  {
   "cell_type": "code",
   "execution_count": null,
   "metadata": {},
   "outputs": [],
   "source": []
  },
  {
   "cell_type": "code",
   "execution_count": null,
   "metadata": {},
   "outputs": [],
   "source": [
    "path = 'data/Test2_ACH_20200303_GaitRaw.txt'\n",
    "\n",
    "df = pd.read_csv(path, names=['Time', 'x', 'y', 'F'], header=None)"
   ]
  },
  {
   "cell_type": "code",
   "execution_count": null,
   "metadata": {},
   "outputs": [],
   "source": [
    "path = 'data/Test2ACH20200303_back.csv'\n",
    "acc_df = pd.read_csv(path, names=['Time', 'x', 'y', 'z', '1', '2', '3'], header=None, skiprows=100)\n",
    "\n",
    "acc_df.head(5)\n",
    "\n",
    "mag = np.linalg.norm(acc_df[['x', 'y', 'z']].values, axis=1)\n",
    "timestamps = pd.to_datetime(acc_df.Time, format='%Y-%m-%d %H:%M:%S:%f').astype(int) / 1e9\n",
    "\n",
    "timestamps -= timestamps[0]"
   ]
  },
  {
   "cell_type": "code",
   "execution_count": null,
   "metadata": {},
   "outputs": [],
   "source": [
    "allsum = np.zeros(df.Time.unique().size)\n",
    "\n",
    "for i, t in enumerate(df.Time.unique()):\n",
    "    mask = df.Time == t\n",
    "    allsum[i] = df.loc[mask, 'F'].sum()"
   ]
  },
  {
   "cell_type": "code",
   "execution_count": null,
   "metadata": {},
   "outputs": [],
   "source": [
    "f, ax = plt.subplots(figsize=(12, 6), constrained_layout=True)\n",
    "\n",
    "ax.plot(df.Time.unique(), allsum)\n",
    "axx = ax.twinx()\n",
    "axx.grid(False)\n",
    "axx.plot(timestamps - 18.375, mag, color='C1')"
   ]
  },
  {
   "cell_type": "code",
   "execution_count": null,
   "metadata": {},
   "outputs": [],
   "source": [
    "detail = pd.read_csv('data/Test2_ACH_20200303_FootDetail.csv', skiprows=1, nrows=7)\n",
    "\n",
    "foot = detail['Foot ']\n",
    "ic = detail['FirstContact ']\n",
    "fc = detail['LastContact ']\n",
    "\n",
    "for s, e, f in zip(ic, fc, foot):\n",
    "    c = 'C2' if f else 'C3'\n",
    "    ax.axvspan(s, e, color=c, alpha=0.3)"
   ]
  },
  {
   "cell_type": "code",
   "execution_count": null,
   "metadata": {},
   "outputs": [],
   "source": []
  },
  {
   "cell_type": "code",
   "execution_count": null,
   "metadata": {},
   "outputs": [],
   "source": []
  },
  {
   "cell_type": "code",
   "execution_count": null,
   "metadata": {},
   "outputs": [],
   "source": []
  },
  {
   "cell_type": "code",
   "execution_count": null,
   "metadata": {},
   "outputs": [],
   "source": []
  },
  {
   "cell_type": "code",
   "execution_count": null,
   "metadata": {},
   "outputs": [],
   "source": []
  },
  {
   "cell_type": "code",
   "execution_count": null,
   "metadata": {},
   "outputs": [],
   "source": []
  },
  {
   "cell_type": "code",
   "execution_count": null,
   "metadata": {},
   "outputs": [],
   "source": []
  },
  {
   "cell_type": "code",
   "execution_count": null,
   "metadata": {},
   "outputs": [],
   "source": []
  },
  {
   "cell_type": "code",
   "execution_count": null,
   "metadata": {},
   "outputs": [],
   "source": []
  },
  {
   "cell_type": "code",
   "execution_count": null,
   "metadata": {},
   "outputs": [],
   "source": []
  },
  {
   "cell_type": "code",
   "execution_count": null,
   "metadata": {},
   "outputs": [],
   "source": []
  },
  {
   "cell_type": "code",
   "execution_count": null,
   "metadata": {},
   "outputs": [],
   "source": []
  },
  {
   "cell_type": "code",
   "execution_count": null,
   "metadata": {},
   "outputs": [],
   "source": [
    "path = 'data/Test_ACH_doubleDrop.txt'\n",
    "ddf = pd.read_csv(path, names=['Time', 'x', 'y', 'F'], header=None)"
   ]
  },
  {
   "cell_type": "code",
   "execution_count": null,
   "metadata": {},
   "outputs": [],
   "source": [
    "asum = np.zeros(ddf.Time.unique().size)\n",
    "for i, t in enumerate(ddf.Time.unique()):\n",
    "    mask = ddf.Time == t\n",
    "    mask &= ddf.x > 435\n",
    "    asum[i] = ddf.loc[mask, 'F'].sum()\n",
    "\n",
    "plt.figure()\n",
    "plt.plot(asum)"
   ]
  },
  {
   "cell_type": "code",
   "execution_count": null,
   "metadata": {},
   "outputs": [],
   "source": [
    "from matplotlib.animation import FuncAnimation"
   ]
  },
  {
   "cell_type": "code",
   "execution_count": null,
   "metadata": {},
   "outputs": [],
   "source": [
    "ut = ddf.Time.unique()\n",
    "x = ddf.loc[:, 'x'].values\n",
    "y = ddf['y'].values\n",
    "F = ddf['F'].values\n",
    "\n",
    "# f, ax = plt.subplots(5, 5, sharex=True, sharey=True, figsize=(12, 12))\n",
    "\n",
    "# cnt = 0\n",
    "# for i in range(5):\n",
    "#     for j in range(5):\n",
    "#         mask = ddf.Time == ut[cnt]\n",
    "#         X, Y, f2d = get_grids(x[mask], y[mask], F[mask])\n",
    "#         ax[i, j].pcolormesh(X, Y, f2d, cmap='Blues')\n",
    "        \n",
    "#         cnt += 30\n",
    "\n",
    "def get_plot(frame, time, utime, xvals, yvals, fvals, X, Y):\n",
    "    f2d = Z0\n",
    "    \n",
    "    mask = time == utime[frame]\n",
    "    \n",
    "    for i, j, f in zip(xvals[mask], yvals[mask], fvals[mask]):\n",
    "        m = (X == i) & (Y == j)\n",
    "        f2d[m] += f\n",
    "    \n",
    "    quad.set_array(f2d.ravel())\n",
    "    \n",
    "    ax.set_title(f'Time: {utime[frame]:.2f}s')\n",
    "    \n",
    "    return quad\n",
    "\n",
    "def init():\n",
    "#     quad.set_array([])\n",
    "    ax.set_title('init')\n",
    "    return quad\n",
    "\n",
    "\n",
    "X, Y = np.meshgrid(np.arange(x.min(), x.max()), np.arange(y.min(), y.max()))\n",
    "Z0 = np.zeros_like(X)\n",
    "\n",
    "mask = ddf.Time.values == ut[0]\n",
    "for i, j, f in zip(x[mask], y[mask], F[mask]):\n",
    "    m = (X==i) & (Y==j)\n",
    "    Z0[m] = f\n",
    "\n",
    "f, ax = plt.subplots(figsize=(13, 13), constrained_layout=True)\n",
    "quad = ax.pcolormesh(X, Y, Z0, cmap='Blues', vmin=0, vmax=F.max())\n",
    "\n",
    "anim = FuncAnimation(f, get_plot, init_func=init, frames=ut.size, interval=20, blit=True, repeat=False, fargs=(ddf.Time.values, ut, x, y, F, X, Y))\n",
    "# plt.show()"
   ]
  },
  {
   "cell_type": "code",
   "execution_count": null,
   "metadata": {},
   "outputs": [],
   "source": [
    "plt.close('all')"
   ]
  },
  {
   "cell_type": "code",
   "execution_count": null,
   "metadata": {},
   "outputs": [],
   "source": []
  }
 ],
 "metadata": {
  "kernelspec": {
   "display_name": "PfyMU",
   "language": "python",
   "name": "pfymu"
  },
  "language_info": {
   "codemirror_mode": {
    "name": "ipython",
    "version": 3
   },
   "file_extension": ".py",
   "mimetype": "text/x-python",
   "name": "python",
   "nbconvert_exporter": "python",
   "pygments_lexer": "ipython3",
   "version": "3.8.3"
  }
 },
 "nbformat": 4,
 "nbformat_minor": 4
}
