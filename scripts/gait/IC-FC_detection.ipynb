{
 "cells": [
  {
   "cell_type": "code",
   "execution_count": 1,
   "metadata": {},
   "outputs": [],
   "source": [
    "%matplotlib widget"
   ]
  },
  {
   "cell_type": "code",
   "execution_count": 2,
   "metadata": {},
   "outputs": [],
   "source": [
    "import numpy as np\n",
    "import pywt\n",
    "from scipy.signal import butter, sosfiltfilt, find_peaks, detrend\n",
    "from scipy.integrate import cumtrapz\n",
    "import matplotlib.pyplot as plt\n",
    "\n",
    "plt.style.use('ggplot')"
   ]
  },
  {
   "cell_type": "code",
   "execution_count": 4,
   "metadata": {},
   "outputs": [],
   "source": [
    "def get_contact_points(vaccel):\n",
    "    vacc = detrend(vaccel)\n",
    "    \n",
    "    sos = butter(4, 2 * 20 / 50, output='sos')\n",
    "    fvacc = sosfiltfilt(sos, vacc)\n",
    "    \n",
    "    vpos = cumtrapz(fvacc, dx=1/50, initial=0)\n",
    "    \n",
    "    # diff 1\n",
    "    coef1, freq1 = pywt.cwt(vpos, np.arange(1, 50), 'gaus1', sampling_period=1/50)\n",
    "    \n",
    "    # get most prominent frequency\n",
    "    F = np.abs(np.fft.rfft(coef1[8]))\n",
    "    f_step = np.fft.rfftfreq(coef1.shape[1])[np.argmax(F)] * 50\n",
    "    \n",
    "    f_ic_opt = 0.69 * f_step + 0.34\n",
    "    f_fc_opt = 3.6 * f_step - 4.5\n",
    "    \n",
    "    idx1 = np.argmin(np.abs(freq1 - f_ic_opt))\n",
    "    idx2 = np.argmin(np.abs(freq1 - f_fc_opt))\n",
    "    \n",
    "    vacc_id = coef1[idx1]\n",
    "    ic, *_ = find_peaks(-vacc_id, height=0.5 * np.std(vacc_id))\n",
    "    \n",
    "    coef2, _ = pywt.cwt(coef1[idx2], idx2, 'gaus1')\n",
    "    vacc_idd = coef2[0]\n",
    "    \n",
    "    fc, *_ = find_peaks(vacc_idd, height=0.5*np.std(vacc_idd))\n",
    "    \n",
    "    return ic, fc, vacc_id, vacc_idd, fvacc"
   ]
  },
  {
   "cell_type": "code",
   "execution_count": 5,
   "metadata": {},
   "outputs": [],
   "source": [
    "data = np.loadtxt('sample_data/sample2.csv', delimiter=',')\n",
    "ftime, facc = data[:, 0], data[:, 1:4]\n",
    "ftime -= ftime[0]"
   ]
  },
  {
   "cell_type": "code",
   "execution_count": 6,
   "metadata": {},
   "outputs": [
    {
     "data": {
      "application/vnd.jupyter.widget-view+json": {
       "model_id": "3f90c4776b784f41ad39dfd3b71d5fea",
       "version_major": 2,
       "version_minor": 0
      },
      "text/plain": [
       "Canvas(toolbar=Toolbar(toolitems=[('Home', 'Reset original view', 'home', 'home'), ('Back', 'Back to previous …"
      ]
     },
     "metadata": {},
     "output_type": "display_data"
    },
    {
     "data": {
      "text/plain": [
       "[<matplotlib.lines.Line2D at 0x7f70a091bf70>,\n",
       " <matplotlib.lines.Line2D at 0x7f70a09330d0>,\n",
       " <matplotlib.lines.Line2D at 0x7f70a0933190>]"
      ]
     },
     "execution_count": 6,
     "metadata": {},
     "output_type": "execute_result"
    }
   ],
   "source": [
    "f, ax = plt.subplots(figsize=(6, 3))\n",
    "ax.plot(facc)"
   ]
  },
  {
   "cell_type": "code",
   "execution_count": 7,
   "metadata": {},
   "outputs": [],
   "source": [
    "i1, i2 = 21000, 28000\n",
    "i1, i2 = 8350, 9850  # sample 2\n",
    "ds = 4\n",
    "ds = 2  # sample 2\n",
    "time, acc = ftime[i1:i2:ds], facc[i1:i2:ds]  # downsample to 50Hz as well"
   ]
  },
  {
   "cell_type": "code",
   "execution_count": 9,
   "metadata": {},
   "outputs": [],
   "source": [
    "ic, fc, va_id, va_idd, vaf = get_contact_points(acc[:, 1])"
   ]
  },
  {
   "cell_type": "code",
   "execution_count": 11,
   "metadata": {},
   "outputs": [
    {
     "data": {
      "application/vnd.jupyter.widget-view+json": {
       "model_id": "903b9b39637c480997e9128d2f87631b",
       "version_major": 2,
       "version_minor": 0
      },
      "text/plain": [
       "Canvas(toolbar=Toolbar(toolitems=[('Home', 'Reset original view', 'home', 'home'), ('Back', 'Back to previous …"
      ]
     },
     "metadata": {},
     "output_type": "display_data"
    }
   ],
   "source": [
    "f, ax = plt.subplots(figsize=(8, 4))\n",
    "\n",
    "ax.plot(time, vaf, label='Accel.')\n",
    "ax.plot(time, va_id, label='ID')\n",
    "ax.plot(time, va_idd, label='IDD')\n",
    "ax.plot(time[ic], va_id[ic], 'ko', label='IC')\n",
    "ax.plot(time[fc], va_idd[fc], 'k+', label='FC')\n",
    "\n",
    "ax.legend()\n",
    "f.tight_layout()"
   ]
  },
  {
   "cell_type": "markdown",
   "metadata": {},
   "source": [
    "# GeneActiv/GaitMat Data"
   ]
  },
  {
   "cell_type": "code",
   "execution_count": 12,
   "metadata": {},
   "outputs": [
    {
     "ename": "ModuleNotFoundError",
     "evalue": "No module named 'inertial_sensor_routines'",
     "output_type": "error",
     "traceback": [
      "\u001b[0;31m---------------------------------------------------------------------------\u001b[0m",
      "\u001b[0;31mModuleNotFoundError\u001b[0m                       Traceback (most recent call last)",
      "\u001b[0;32m<ipython-input-12-b990ea986c12>\u001b[0m in \u001b[0;36m<module>\u001b[0;34m\u001b[0m\n\u001b[0;32m----> 1\u001b[0;31m \u001b[0;32mimport\u001b[0m \u001b[0minertial_sensor_routines\u001b[0m \u001b[0;32mas\u001b[0m \u001b[0misr\u001b[0m\u001b[0;34m\u001b[0m\u001b[0;34m\u001b[0m\u001b[0m\n\u001b[0m",
      "\u001b[0;31mModuleNotFoundError\u001b[0m: No module named 'inertial_sensor_routines'"
     ]
    }
   ],
   "source": [
    "import inertial_sensor_routines as isr"
   ]
  },
  {
   "cell_type": "code",
   "execution_count": null,
   "metadata": {},
   "outputs": [],
   "source": []
  }
 ],
 "metadata": {
  "kernelspec": {
   "display_name": "PfyMU",
   "language": "python",
   "name": "pfymu"
  },
  "language_info": {
   "codemirror_mode": {
    "name": "ipython",
    "version": 3
   },
   "file_extension": ".py",
   "mimetype": "text/x-python",
   "name": "python",
   "nbconvert_exporter": "python",
   "pygments_lexer": "ipython3",
   "version": "3.8.3"
  }
 },
 "nbformat": 4,
 "nbformat_minor": 4
}
