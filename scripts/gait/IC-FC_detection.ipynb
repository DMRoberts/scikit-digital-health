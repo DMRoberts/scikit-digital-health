{
 "cells": [
  {
   "cell_type": "code",
   "execution_count": 2,
   "metadata": {},
   "outputs": [],
   "source": [
    "%matplotlib widget"
   ]
  },
  {
   "cell_type": "code",
   "execution_count": 3,
   "metadata": {},
   "outputs": [],
   "source": [
    "import numpy as np\n",
    "import pywt\n",
    "from scipy.signal import butter, sosfiltfilt, find_peaks, detrend\n",
    "from scipy.integrate import cumtrapz\n",
    "import pandas as pd\n",
    "import matplotlib.pyplot as plt\n",
    "\n",
    "plt.style.use('ggplot')"
   ]
  },
  {
   "cell_type": "code",
   "execution_count": 4,
   "metadata": {},
   "outputs": [],
   "source": [
    "def get_contact_points(vaccel):\n",
    "    vacc = detrend(vaccel)\n",
    "    \n",
    "    sos = butter(4, 2 * 20 / 50, output='sos')\n",
    "    fvacc = sosfiltfilt(sos, vacc)\n",
    "    \n",
    "    vpos = cumtrapz(fvacc, dx=1/50, initial=0)\n",
    "    \n",
    "    # diff 1\n",
    "    coef1, freq1 = pywt.cwt(vpos, np.arange(1, 50), 'gaus1', sampling_period=1/50)\n",
    "    \n",
    "    # get most prominent frequency\n",
    "    F = np.abs(np.fft.rfft(coef1[8]))\n",
    "    f_step = np.fft.rfftfreq(coef1.shape[1])[np.argmax(F)] * 50\n",
    "    \n",
    "    f_ic_opt = 0.69 * f_step + 0.34\n",
    "    f_fc_opt = 3.6 * f_step - 4.5\n",
    "    \n",
    "    idx1 = np.argmin(np.abs(freq1 - f_ic_opt))\n",
    "    idx2 = np.argmin(np.abs(freq1 - f_fc_opt))\n",
    "    \n",
    "    vacc_id = coef1[idx1]\n",
    "    ic, *_ = find_peaks(vacc_id, height=0.5 * np.std(vacc_id))\n",
    "    \n",
    "    coef2, _ = pywt.cwt(coef1[idx2], idx2, 'gaus1')\n",
    "    vacc_idd = coef2[0]\n",
    "    \n",
    "    fc, *_ = find_peaks(vacc_idd, height=0.5*np.std(vacc_idd))\n",
    "    \n",
    "    return ic, fc, -vacc_id, vacc_idd, fvacc"
   ]
  },
  {
   "cell_type": "code",
   "execution_count": 64,
   "metadata": {},
   "outputs": [],
   "source": [
    "def moe_nilsson(accel, v=1, ap=0, ml=2):\n",
    "    sin_ap = np.mean(accel[:, ap])\n",
    "    cos_ap = np.cos(np.arcsin(sin_ap))\n",
    "    sin_ml = np.mean(accel[:, ml])\n",
    "    cos_ml = np.cos(np.arcsin(sin_ml))\n",
    "    \n",
    "    sign_v = np.sign(np.mean(accel[:, v]))\n",
    "    \n",
    "    a_AP = (accel[:, ap] * cos_ap) - (np.abs(accel[:, v]) * sin_ap)  # use abs to let the sin_ap account for the necessary sign\n",
    "    a_vp = (sign_v * accel[:, ap] * sin_ap) + (accel[:, v] * cos_ap)  # need the sign of vert accel to correctly account\n",
    "    a_ML = (accel[:, ml] * cos_ml) - (np.abs(a_vp) * sin_ml)  # abs again to let sin_ml account for the necessary sign\n",
    "    a_V = (sign_v * accel[:, ml] * sin_ml) + (a_vp * cos_ml) - sign_v  # sign of vert accel again to correctly add or subtract\n",
    "    \n",
    "    return a_V, a_AP, a_ML"
   ]
  },
  {
   "cell_type": "code",
   "execution_count": 20,
   "metadata": {},
   "outputs": [],
   "source": [
    "data = np.loadtxt('sample_data/sample2.csv', delimiter=',')\n",
    "ftime, facc = data[:, 0], data[:, 1:4]\n",
    "ftime -= ftime[0]"
   ]
  },
  {
   "cell_type": "code",
   "execution_count": 21,
   "metadata": {},
   "outputs": [
    {
     "data": {
      "application/vnd.jupyter.widget-view+json": {
       "model_id": "2fdaf68549a94d2dbbc4cd8fba80f857",
       "version_major": 2,
       "version_minor": 0
      },
      "text/plain": [
       "Canvas(toolbar=Toolbar(toolitems=[('Home', 'Reset original view', 'home', 'home'), ('Back', 'Back to previous …"
      ]
     },
     "metadata": {},
     "output_type": "display_data"
    },
    {
     "data": {
      "text/plain": [
       "[<matplotlib.lines.Line2D at 0x7fe686bcefd0>,\n",
       " <matplotlib.lines.Line2D at 0x7fe686be4070>,\n",
       " <matplotlib.lines.Line2D at 0x7fe686be41f0>]"
      ]
     },
     "execution_count": 21,
     "metadata": {},
     "output_type": "execute_result"
    }
   ],
   "source": [
    "f, ax = plt.subplots(figsize=(6, 3))\n",
    "ax.plot(facc)"
   ]
  },
  {
   "cell_type": "code",
   "execution_count": 22,
   "metadata": {},
   "outputs": [],
   "source": [
    "i1, i2 = 21000, 28000\n",
    "i1, i2 = 8350, 9850  # sample 2\n",
    "ds = 4\n",
    "ds = 2  # sample 2\n",
    "time, acc = ftime[i1:i2:ds], facc[i1:i2:ds]  # downsample to 50Hz as well"
   ]
  },
  {
   "cell_type": "code",
   "execution_count": 23,
   "metadata": {},
   "outputs": [],
   "source": [
    "ic, fc, va_id, va_idd, vaf = get_contact_points(acc[:, 1])"
   ]
  },
  {
   "cell_type": "code",
   "execution_count": 24,
   "metadata": {},
   "outputs": [
    {
     "data": {
      "application/vnd.jupyter.widget-view+json": {
       "model_id": "79c0d7741b2d40fa851a5de4a081723c",
       "version_major": 2,
       "version_minor": 0
      },
      "text/plain": [
       "Canvas(toolbar=Toolbar(toolitems=[('Home', 'Reset original view', 'home', 'home'), ('Back', 'Back to previous …"
      ]
     },
     "metadata": {},
     "output_type": "display_data"
    }
   ],
   "source": [
    "f, ax = plt.subplots(figsize=(8, 4))\n",
    "\n",
    "ax.plot(time, vaf, label='Accel.')\n",
    "ax.plot(time, va_id, label='ID')\n",
    "ax.plot(time, va_idd, label='IDD')\n",
    "ax.plot(time[ic], va_id[ic], 'ko', label='IC')\n",
    "ax.plot(time[fc], va_idd[fc], 'k+', label='FC')\n",
    "\n",
    "ax.legend()\n",
    "f.tight_layout()"
   ]
  },
  {
   "cell_type": "markdown",
   "metadata": {},
   "source": [
    "# GeneActiv/GaitMat Data"
   ]
  },
  {
   "cell_type": "code",
   "execution_count": 25,
   "metadata": {},
   "outputs": [],
   "source": [
    "import inertial_sensor_routines as isr"
   ]
  },
  {
   "cell_type": "code",
   "execution_count": 26,
   "metadata": {},
   "outputs": [],
   "source": [
    "path = 'share_data/TestACH_20200305_PKMAS_sync3pass.txt'\n",
    "\n",
    "pkm = pd.read_csv(path, delimiter=';', skiprows=11)\n",
    "\n",
    "ts = 'Time (sec.)'\n",
    "pksum = np.zeros(pkm[ts].unique().size)\n",
    "\n",
    "for i, t in enumerate(pkm[ts].unique()):\n",
    "    mask = pkm[ts] == t\n",
    "    \n",
    "    pksum[i] = pkm.loc[mask, 'Level'].sum()\n",
    "    \n",
    "ff = pd.read_csv('share_data/TestACH_20200303_PKMAS_Footfalls.csv', skiprows=10, header=None, names=['Sample', 'Pass:side', 'First Contact', 'Last Contact'])\n",
    "\n",
    "ff['Side'] = ff['Pass:side'].apply(lambda i: i.split(' ')[1])"
   ]
  },
  {
   "cell_type": "code",
   "execution_count": 62,
   "metadata": {},
   "outputs": [],
   "source": [
    "df = isr.gnactv.tabular_conversion('share_data/TestACH20200305-PKMA_back_048877_2020-03-05 14-40-44.bin')\n",
    "\n",
    "time = df.index.values.astype(int) / 1e9\n",
    "acc = df[['X', 'Y', 'Z']].values\n",
    "macc = np.linalg.norm(acc, axis=1)\n",
    "\n",
    "gn_time = time-time[2420] + pkm[ts][0]"
   ]
  },
  {
   "cell_type": "code",
   "execution_count": 65,
   "metadata": {},
   "outputs": [
    {
     "data": {
      "application/vnd.jupyter.widget-view+json": {
       "model_id": "8d77e0f7b9f647eca2e4f7c2f37aeebb",
       "version_major": 2,
       "version_minor": 0
      },
      "text/plain": [
       "Canvas(toolbar=Toolbar(toolitems=[('Home', 'Reset original view', 'home', 'home'), ('Back', 'Back to previous …"
      ]
     },
     "metadata": {},
     "output_type": "display_data"
    }
   ],
   "source": [
    "f, ax = plt.subplots(3, figsize=(10, 6), sharex=True)\n",
    "\n",
    "v = 1\n",
    "ap = 2\n",
    "ml = 0\n",
    "\n",
    "for i in range(3):\n",
    "    ax[i].plot(gn_time[4000:5700], acc[4000:5700, i], color=f'C{i}')\n",
    "    \n",
    "walking = [(4075, 4450), (4550, 4850), (4950, 5300)]\n",
    "\n",
    "for span in walking:\n",
    "    a_v, a_ap, a_ml = moe_nilsson(acc[span[0]:span[1]], v, ap, ml)\n",
    "    \n",
    "    ax[v].plot(gn_time[span[0]:span[1]], a_v, color=f'C{v+1}')\n",
    "    ax[ap].plot(gn_time[span[0]:span[1]], a_ap, color=f'C{ap+1}')\n",
    "    ax[ml].plot(gn_time[span[0]:span[1]], a_ml, color=f'C{ml+1}')\n",
    "\n",
    "\n",
    "f.tight_layout()\n",
    "f.subplots_adjust(hspace=0)"
   ]
  },
  {
   "cell_type": "code",
   "execution_count": 66,
   "metadata": {},
   "outputs": [],
   "source": [
    "acc_v, acc_ap, acc_ml = moe_nilsson(acc[4000:5500], v=1, ap=2, ml=0)\n",
    "\n",
    "ic, fc, va_id, va_idd, vaf = get_contact_points(acc_v)"
   ]
  },
  {
   "cell_type": "code",
   "execution_count": 67,
   "metadata": {},
   "outputs": [],
   "source": [
    "pkm_ic_l, pkm_ic_r, pkm_fc_l, pkm_fc_r = [], [], [], []\n",
    "\n",
    "for c_ in ff[['First Contact', 'Last Contact', 'Side']].iterrows():\n",
    "    if c_[1][2] == 'Left':\n",
    "        pkm_ic_l.append(np.argmin(np.abs(gn_time - c_[1][0])))\n",
    "        pkm_fc_l.append(np.argmin(np.abs(gn_time - c_[1][1])))\n",
    "    elif c_[1][2] == 'Right':\n",
    "        pkm_ic_r.append(np.argmin(np.abs(gn_time - c_[1][0])))\n",
    "        pkm_fc_r.append(np.argmin(np.abs(gn_time - c_[1][1])))\n",
    "\n",
    "pkm_ic_l = np.array(pkm_ic_l)\n",
    "pkm_ic_r = np.array(pkm_ic_r)\n",
    "pkm_fc_l = np.array(pkm_fc_l)\n",
    "pkm_fc_r = np.array(pkm_fc_r)"
   ]
  },
  {
   "cell_type": "code",
   "execution_count": 68,
   "metadata": {},
   "outputs": [],
   "source": [
    "sos = butter(4, [0.5/25, 10/25], output='sos', btype='band')\n",
    "\n",
    "fp_acc = sosfiltfilt(sos, acc_ml)\n",
    "\n",
    "fp_vel = cumtrapz(fp_acc, dx=1/50, initial=0)\n",
    "fp_pos = cumtrapz(fp_vel, dx=1/50, initial=0)\n",
    "\n",
    "fp_cf, _ = pywt.cwt(fp_pos, np.arange(1, 65), 'gaus1', sampling_period=1/50)\n",
    "fp_cf2, _ = pywt.cwt(fp_cf[16], np.arange(1, 65), 'gaus1', sampling_period=1/50)"
   ]
  },
  {
   "cell_type": "code",
   "execution_count": 71,
   "metadata": {},
   "outputs": [
    {
     "data": {
      "application/vnd.jupyter.widget-view+json": {
       "model_id": "7d9e9d68d50144d29d0d458d14f6feca",
       "version_major": 2,
       "version_minor": 0
      },
      "text/plain": [
       "Canvas(toolbar=Toolbar(toolitems=[('Home', 'Reset original view', 'home', 'home'), ('Back', 'Back to previous …"
      ]
     },
     "metadata": {},
     "output_type": "display_data"
    },
    {
     "data": {
      "text/plain": [
       "(-0.85, 0.5)"
      ]
     },
     "execution_count": 71,
     "metadata": {},
     "output_type": "execute_result"
    }
   ],
   "source": [
    "plt.close('all')\n",
    "\n",
    "f, ax = plt.subplots(1, figsize=(10, 5))\n",
    "\n",
    "ax.plot(gn_time[4000:5500], acc_v, color='C0')\n",
    "# ax.plot(gn_time[4000:5500], fp_acc, color='C1', alpha=0.75)\n",
    "# ax.plot(gn_time[4000:5500], fp_vel*5, color='C2', alpha=0.75)\n",
    "ax.plot(gn_time[4000:5500], fp_pos*50, color='C3', alpha=0.75)\n",
    "\n",
    "ax.set_ylabel('Vertical Acceleration [g]', color='C0')\n",
    "ax.tick_params(axis='y', colors='C0')\n",
    "\n",
    "# axx = ax.twinx()\n",
    "# axx.grid(False)\n",
    "\n",
    "# axx.plot(gn_time[4000:5500], va_id, color='C1', alpha=0.5)\n",
    "# axx.plot(gn_time[4000:5500], va_idd, color='C2', alpha=0.5)\n",
    "\n",
    "\n",
    "# plot the PKM event detections\n",
    "ax.plot(gn_time[pkm_ic_l], acc_v[pkm_ic_l-4000], '+', color='green', markersize=6)\n",
    "ax.plot(gn_time[pkm_fc_l], acc_v[pkm_fc_l-4000], 'x', color='green', markersize=6)\n",
    "\n",
    "ax.plot(gn_time[pkm_ic_r], acc_v[pkm_ic_r-4000], '+', color='k', markersize=6)\n",
    "ax.plot(gn_time[pkm_fc_r], acc_v[pkm_fc_r-4000], 'x', color='k', markersize=6)\n",
    "\n",
    "# plot the acc event detections\n",
    "ax.plot(gn_time[ic+4000], acc_v[ic], 'o', color='C1', markerfacecolor='none')\n",
    "ax.plot(gn_time[fc+4000], acc_v[fc], 'o', color='C1', markerfacecolor='none')\n",
    "\n",
    "ax.plot([gn_time[0], gn_time[-1]], [np.mean(acc_v)]*2, '--', alpha=0.35)\n",
    "\n",
    "\n",
    "ax.set_xlim([36., 44.5])\n",
    "ax.set_ylim([-0.85, 0.5])"
   ]
  },
  {
   "cell_type": "code",
   "execution_count": 72,
   "metadata": {},
   "outputs": [],
   "source": [
    "def t1(a=None, b=None, **kwargs):\n",
    "    print(a, b)\n",
    "    for key in kwargs:\n",
    "        print(key, kwargs[key])"
   ]
  },
  {
   "cell_type": "code",
   "execution_count": null,
   "metadata": {},
   "outputs": [],
   "source": []
  }
 ],
 "metadata": {
  "kernelspec": {
   "display_name": "PfyMU",
   "language": "python",
   "name": "pfymu"
  },
  "language_info": {
   "codemirror_mode": {
    "name": "ipython",
    "version": 3
   },
   "file_extension": ".py",
   "mimetype": "text/x-python",
   "name": "python",
   "nbconvert_exporter": "python",
   "pygments_lexer": "ipython3",
   "version": "3.8.3"
  }
 },
 "nbformat": 4,
 "nbformat_minor": 4
}
