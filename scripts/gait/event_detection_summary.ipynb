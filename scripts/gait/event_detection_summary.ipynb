{
 "cells": [
  {
   "cell_type": "markdown",
   "metadata": {},
   "source": [
    "### van Hees et al. \"Autocalibration of accelerometer data for free-living physical activity assessment using local gravity and temperature: an evaluation on four continents\"\n",
    "\n",
    "https://journals.physiology.org/doi/full/10.1152/japplphysiol.00421.2014"
   ]
  },
  {
   "cell_type": "markdown",
   "metadata": {},
   "source": [
    "### Moe-Nilsson. \"A new method for evaluating motor control in gait under real-life environmental conditions. Part 1: The instrument\n",
    "\n",
    "1. Under the assumption that the measured AP acceleration is in the sagittal plane (ie pointing forwards, but not necessarily horizontal):\n",
    "2. AP acceleration in the horizontal plane can be estimated as $a_{AP} = a_{ap}cos\\theta_{ap} - a_{v}sin\\theta_{ap}$ where $\\theta_{ap}$ is the angle between horizontal plane and measured AP acceleration $a_{ap}$\n",
    "3. A provisional estimate of vertical acceleration $a_{v'}$ is then $a_{v'} = a_{ap}sin\\theta_{ap} + a_{v}cos\\theta_{ap}$\n",
    "4. ML acceleration in the horizontal plane is then $a_{ML} = a_{ml}cos\\theta_{ml} - a_{v'}sin\\theta_{ml}$\n",
    "5. Finally, estimated dynamic vertical acceleration is $a_V = a_{ml}sin\\theta_{ml} + a_{v'}cos\\theta_{ml} - 1$\n",
    "6. Mean values of $a_{ap}$ and $a_{ml}$ can be used as estimates of $sin\\theta_{ap}$ and $sin\\theta_{ml}$ respectively\n",
    "\n",
    "this yields the following equations\n",
    "\n",
    "$$sin\\theta_{ap} = \\frac{1}{N}\\sum{a_{ap}} = \\bar{a}_{ap}$$\n",
    "$$sin\\theta_{ml} = \\frac{1}{N}\\sum{a_{ml}} = \\bar{a}_{ml}$$\n",
    "$$a_{AP} = a_{ap}cos\\left(arcsin(\\bar{a}_{ap})\\right) - a_v\\left(\\bar{a}_{ap}\\right)$$\n",
    "$$a_{v'} = a_{ap}\\left(\\bar{a}_{ap}\\right) + a_{v}cos\\left(arcsin(\\bar{a}_{ap})\\right)$$\n",
    "$$a_{ML} = a_{ml}cos\\left(arcsin(\\bar{a}_{ml})\\right) - a_{v'}\\bar{a}_{ml}$$\n",
    "$$a_{V} = a_{ml}\\bar{a}_{ml} + a_{v'}cos\\left(arcsin(\\bar{a}_{ml})\\right)$$"
   ]
  },
  {
   "cell_type": "markdown",
   "metadata": {},
   "source": [
    "### McCamley et al. \"An enhanced estimate of initial and final contact instants of time using lower trunk inertial sensor data\"\n",
    "\n",
    "\n",
    "1. Take vertical acceleration\n",
    "2. Integrate then differentiate using Gaussian CWT (scale 16, gaus1. O'Brien (del din?) uses gaus2 for the last differentiation)\n",
    "3. IC events are minima in the smoothed signal from 2.\n",
    "4. CWT differentiate again\n",
    "5. FC events are maxima in the signal from 4.\n",
    "6. Right and left ICs are designated by the sign of the filtered (4th order butterworth 2hz) vertical axis angular velocity at the instant of contact"
   ]
  },
  {
   "cell_type": "markdown",
   "metadata": {},
   "source": [
    "### Del Din. et al. \"Validation of an accelerometer to quantify a comprehensive battery of gait characteristics in healthy older adults and parkinson's disease: toward clinical and at home use.\" \n",
    "\n",
    "1. Transform to horizontal-vertical system (Moe-Nilsson)\n",
    "2. Filter (4th order butterworth, 20Hz)\n",
    "3. Integrate vertical acceleration, then take the CWT (gaus1)\n",
    "4. Minima in signal from 3 = IC\n",
    "5. Take CWT of signal from 3. Maxima are FC\n",
    "6. IC values must be within 0.25-2.25s from the previous IC event (Najafi et al.)\n",
    "6. Stance/stride time can be estimated as well as step times: $stance = FC(i+1) - IC(i)$, $stride = IC(i+2) - IC(i)$, $swing=stride - stance$\n",
    "6. Double integrate signal from 2 to get vertical displacement\n",
    "7. Compute step length using $2\\sqrt{2lh-h^2}$ (Zijlstra). Preliminary analysis revealed better agreement using leg length=$0.53height$ (D. A. Winter, \"Biomechanics and Motor Control of Human Movement\")\n",
    "8. Compute step velocity as $step\\; velocity = step\\; length/step\\; time$"
   ]
  },
  {
   "cell_type": "markdown",
   "metadata": {},
   "source": [
    "### Zijlstra et al. \"Assessment of spatio-temporal gait parameters from trunk accelerations during human walking\" \n",
    "\n",
    "$$l_{step} = 2\\sqrt{2lh-h^2}$$\n",
    "\n",
    "$l_{step}$: step length<br>\n",
    "$l$: pendulum length (ie leg length, CoM height from ground)<br>\n",
    "$h$: vertical displacement of the CoM during a step<br>"
   ]
  },
  {
   "cell_type": "markdown",
   "metadata": {},
   "source": [
    "### Kose et al. \"Bilateral step length estimation using a single inertial measurement unit attached to the pelvis\"\n",
    "\n",
    "* NOTE: IMU placed on the right side of the body on the pelvis\n",
    "* Vertical axis points downwards\n",
    "\n",
    "Contact estimation\n",
    "1. Vertical and forward acceleration signals decomposed using DB5 stationary wavelet decomposition (10 detail levels, from 100 Hz)\n",
    "2. Thresholds applied at first three levels from 1. Thresholds of 1/5, 1/4, 1/3 of magnitude determine region of interest\n",
    "3. Right IC defined as middle instant in time between maximum of forward acceleration and first minimum of accel signal in the vertical direction\n",
    "4. Left FC defined as middle of first maximum in forward accel and second minimum of vertical accel\n",
    "5. Right FC defined as time of minimum negative peak value between two consecutive left FC and right IC\n",
    "6. Left IC defined as first local maxima of the sideways acceleartion before right FC\n",
    "\n",
    "Estimation of pelvis displacement along the direction of travel\n",
    "\n",
    "1. Estimation of IMU acceleration along direction of travel<br>\n",
    "    1.1. Kalman filter on accel and angular velocity from Mazza et al [22]<br>\n",
    "    1.2. Global Frame defined as $X_G$ co-linear with gravity, $Y_G$ co-linear with travel during straight walking, $Z_G$ as cross product of $X_G$ and $Y_G$<br>\n",
    "2. Integration of IMU acceleration along direction of travel<br>\n",
    "    2.1. Integration technique Optimally FIltered Direct and Reverse Integration (ODFRI)/Optimally Filtered Integration (OFI) [19] used<br>\n",
    "    2.2. Cutoff frequency for filter obtained from assuming final/initial velocity are equal.<br>\n",
    "    2.3. Start with velocity = 0 for start of gait bouts, and find cutoff frequency<br>\n",
    "    2.4. Filter acceleration signal for 1 gait cycle, and then integrate. Compute velocity at last IC of the gait cycle<br>\n",
    "    2.5. If the velocity of the last IC (per gait cycle) was within 0.3m/s of the start, make it equal to start, use ODFRI<br>\n",
    "    2.6. Repeat steps c-e using the velocity from the final IC as the starting velocity of the gait cycle<br>\n",
    "    2.7. Integrate the velocity using the OFI since we don't know final value (the displacement)<br>\n",
    "3. If accelerometer is located laterally, remove the pelvic rotation contribution to displacement"
   ]
  },
  {
   "cell_type": "markdown",
   "metadata": {},
   "source": [
    "### Caramia et al. \"Optimizing the Scale of a Wavelet-Based Method for the Detection of Gait Events from a Waist-Mounted Accelerometer under Different Walking Speeds\"\n",
    "\n",
    "* NOTE: subject population is ONLY 20 young female students ($24.8\\pm2.9$ years old)\n",
    "\n",
    "Final results showed the following regressions for choosing the frequency of the scaling factor to use:\n",
    "\n",
    "$$ f_{opt}^{IC} = 0.69f_{step} + 0.34 $$\n",
    "$$ f_{opt}^{FC} = 3.6f_{step} - 4.5 $$"
   ]
  },
  {
   "cell_type": "markdown",
   "metadata": {},
   "source": [
    "### O'Brien et al. \"Augmenting Clinical Outcome Measures of Gait and Balance with a Single Inertial Sensor in Age-Ranged Healthy Adults\"\n",
    "\n",
    "1. Align acceleration with anatomical directions, and remove static gravity per Moe-Nilsson 98\n",
    "2. Accelerations converted to $m/s^2$\n",
    "3. Filter with 4th order butterworth filter with 10Hz cutoff\n",
    "4. Step detection and step side detection, only using peaks >20% of mean peak height (del din 2016, najafi 2003, zijlstra 2003, Zhao 2017)\n",
    "5. Integrate vertical acceleration to get vertical velocity, then decompose into Intrinsic Mode Functions (IMFs)\n",
    "6. Reconstruct vertical velocity from IMFs with Hurst exponents $<0.8$\n",
    "7. Repeat steps 5 and 6 but with vertical velocity to obtain vertical position (COM displacement)"
   ]
  },
  {
   "cell_type": "markdown",
   "metadata": {},
   "source": [
    "### Buckley et al. \"Gait asymmetry post-stroke: determining valid and reliable methods using a single acceleromter located on the trunk\"\n",
    "\n",
    "* __Step Regularity__\n",
    "* __Harmonic Ratio__: step-to-step symmetry within a stride from calculating the ratio of the odd/even harmonics of a signal following FFT [16, 31]\n",
    "* Autocorrelation (unbiased): [20, 32, 33]\n",
    "* Gait Symmetry Index: summation of the biased autocorrelation from all 3 componentnes of moment and subsequent calculation of step/stride timing asymmetry [18]\n",
    "* Phase Plot analysis (Poincare analysis): performed on vertical acceleration [23-25].\n",
    "\n",
    "Most reliable measures in bold (test-retest 1 week apart), though 12/27 values showed excellent ICC.\n",
    "\n",
    "Table A1 has more definitions of the metrics.\n",
    "\n",
    "__Harmonic Ratio__\n",
    "1. Take the FFT of the acceleration\n",
    "2. Extract the first 20 harmonics from the Fourier series, using the stride frequency\n",
    "3. $HR_{AP, V} = \\frac{\\sum\\text{amplitudes of even harmonics}}{\\sum\\text{amplitudes of odd harmonics}}$\n",
    "\n",
    "__Autocorrelation__\n",
    "$$A(m) = \\frac{1}{N-|m|}\\sum_{i=1}^{N-|m|}x(i)x(i+m)$$\n",
    "Calculated during an entire gait bout. Maximize the value at 0 shift to be 1\n",
    "\n",
    "1. Find the peaks at the first and second dominant period, representing phase shifts equal to 1 step and 1 stride, respectively (can use signal power density to help locate approx where these should appear)\n",
    "2. Take absolute difference of step and stride regularity (instead of ratio, because between step and between stride autocorrelations may approach 0 if the regularity between neighboring steps/strides is low)\n",
    "\n",
    "__Gait Symmetry Index__\n",
    "Operates under the hypothesis that with perfectly symmetrical gait pattern, two consecutive steps have the same step duration of $0.5T_{stride}$. Therefore, the maximum value of $C_{step}$ was set at $\\sqrt{3}$ when the autocorrelation coefficient of each acceleration axis is 1 at zero lag. \n",
    "1. Filter complete time series with 2nd order, 10hz cutoff butterworth filter\n",
    "2. Compute biased autocorrelation $A(m)=\\frac{1}{N}\\sum_{i=1}^{N-|m|}x(i)x(i+m)$ with maximum time lag of 4s, approximately 2.5x a single stride duration (population here was post hemiplegic stroke patients) for all 3 directions\n",
    "3. $C_{stride}(t) = A_V(t) + A_{ML}(t) + A_{AP}(t);\\;where\\;A(t)\\geq 0$\n",
    "4. $C_{step}(t) = \\sqrt{A_V(t) + A_{ML}(t) + A_{AP}(t)};\\;where\\;A(t)\\geq 0$\n",
    "5. $GSI = \\frac{1}{\\sqrt{3}}C_{step}(0.5 * T_{stride})$"
   ]
  },
  {
   "cell_type": "code",
   "execution_count": null,
   "metadata": {},
   "outputs": [],
   "source": []
  }
 ],
 "metadata": {
  "kernelspec": {
   "display_name": "PfyMU",
   "language": "python",
   "name": "pfymu"
  },
  "language_info": {
   "codemirror_mode": {
    "name": "ipython",
    "version": 3
   },
   "file_extension": ".py",
   "mimetype": "text/x-python",
   "name": "python",
   "nbconvert_exporter": "python",
   "pygments_lexer": "ipython3",
   "version": "3.8.3"
  }
 },
 "nbformat": 4,
 "nbformat_minor": 4
}
