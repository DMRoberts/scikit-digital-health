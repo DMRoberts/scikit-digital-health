{
 "cells": [
  {
   "cell_type": "raw",
   "metadata": {},
   "source": [
    "! --------------------------------------------------------------------\n",
    "! SUBROUTINE  autocorrelation\n",
    "!     Compute the autocorrelation of a signal with the specified lag\n",
    "! \n",
    "!     Input\n",
    "!     m            : integer(8), signal dimension\n",
    "!     n            : integer(8), axis dimension\n",
    "!     p            : integer(8), window dimension\n",
    "!     x(m, n, p)   : real(8), array to compute for\n",
    "!     lag          : integer(8), lag for the autocorrelation, in samples\n",
    "!     normalize    : logical, normalize the autocorrelation\n",
    "! \n",
    "!     Output\n",
    "!     ac(n, p) : real(8)\n",
    "! --------------------------------------------------------------------"
   ]
  },
  {
   "cell_type": "code",
   "execution_count": 1,
   "metadata": {},
   "outputs": [],
   "source": [
    "%load_ext cython"
   ]
  },
  {
   "cell_type": "code",
   "execution_count": 2,
   "metadata": {},
   "outputs": [],
   "source": [
    "import numpy as np"
   ]
  },
  {
   "cell_type": "code",
   "execution_count": 3,
   "metadata": {},
   "outputs": [],
   "source": [
    "%%cython\n",
    "# cython: infer_types = True\n",
    "# cython: boundscheck = False\n",
    "# cython: wraparound = False\n",
    "cimport cython\n",
    "from numpy import zeros, double as np_double, reshape\n",
    "\n",
    "def RangeCount(const double[:, :, :] x, double xmin, double xmax):\n",
    "    cdef Py_ssize_t m = x.shape[0], n = x.shape[1], p = x.shape[2], i, j, k\n",
    "    xcount = zeros((m, p), dtype=np_double)\n",
    "    cdef double[:, :] count = xcount\n",
    "\n",
    "    for i in range(m):\n",
    "        for j in range(n):\n",
    "            for k in range(p):\n",
    "                if (xmin <= x[i, j, k] < xmax):\n",
    "                    count[i, k] += 1.\n",
    "    for i in range(m):\n",
    "        for k in range(p):\n",
    "            count[i, k] /= n\n",
    "    return xcount"
   ]
  },
  {
   "cell_type": "code",
   "execution_count": 4,
   "metadata": {},
   "outputs": [],
   "source": [
    "from rangecount import rangecount as frangecount\n",
    "from rangecount import rangecount2 as frc2\n",
    "from rangecount import rangecount3 as frc3"
   ]
  },
  {
   "cell_type": "code",
   "execution_count": 5,
   "metadata": {},
   "outputs": [],
   "source": [
    "x = np.random.rand(50000, 150, 3)\n",
    "xf = np.asfortranarray(x.transpose([1, 2, 0]))\n",
    "\n",
    "t = np.arange(0, 150/50, 1/50)"
   ]
  },
  {
   "cell_type": "code",
   "execution_count": 6,
   "metadata": {},
   "outputs": [
    {
     "name": "stdout",
     "output_type": "stream",
     "text": [
      "114 ms ± 202 µs per loop (mean ± std. dev. of 7 runs, 10 loops each)\n"
     ]
    }
   ],
   "source": [
    "%timeit RangeCount(x, 0.5, 0.6)"
   ]
  },
  {
   "cell_type": "code",
   "execution_count": 7,
   "metadata": {},
   "outputs": [
    {
     "name": "stdout",
     "output_type": "stream",
     "text": [
      "98.8 ms ± 13.4 µs per loop (mean ± std. dev. of 7 runs, 10 loops each)\n"
     ]
    }
   ],
   "source": [
    "%timeit frangecount(xf, 0.5, 0.6)"
   ]
  },
  {
   "cell_type": "code",
   "execution_count": 6,
   "metadata": {},
   "outputs": [
    {
     "name": "stdout",
     "output_type": "stream",
     "text": [
      "84.9 ms ± 15.6 µs per loop (mean ± std. dev. of 7 runs, 10 loops each)\n"
     ]
    }
   ],
   "source": [
    "%timeit frc2(xf, 0.5, 0.6)"
   ]
  },
  {
   "cell_type": "code",
   "execution_count": 7,
   "metadata": {},
   "outputs": [
    {
     "name": "stdout",
     "output_type": "stream",
     "text": [
      "98.4 ms ± 29.5 µs per loop (mean ± std. dev. of 7 runs, 10 loops each)\n"
     ]
    }
   ],
   "source": [
    "%timeit frc3(xf, 0.5, 0.6)"
   ]
  },
  {
   "cell_type": "code",
   "execution_count": 11,
   "metadata": {},
   "outputs": [
    {
     "data": {
      "text/plain": [
       "True"
      ]
     },
     "execution_count": 11,
     "metadata": {},
     "output_type": "execute_result"
    }
   ],
   "source": [
    "np.allclose(frangecount(xf, 0.5, 0.6).T, RangeCount(x, 0.5, 0.6))"
   ]
  },
  {
   "cell_type": "code",
   "execution_count": null,
   "metadata": {},
   "outputs": [],
   "source": [
    "flinreg(t, xf).T"
   ]
  },
  {
   "cell_type": "code",
   "execution_count": null,
   "metadata": {},
   "outputs": [],
   "source": [
    "LinRegression(t, x)[0]"
   ]
  },
  {
   "cell_type": "code",
   "execution_count": null,
   "metadata": {},
   "outputs": [],
   "source": [
    "from linearslope import covariance as fcov"
   ]
  },
  {
   "cell_type": "code",
   "execution_count": null,
   "metadata": {},
   "outputs": [],
   "source": [
    "print(fcov(t, x[0, :, 0], 0))\n",
    "print(covariance(t, x[0, :, 0], 0))"
   ]
  },
  {
   "cell_type": "code",
   "execution_count": null,
   "metadata": {},
   "outputs": [],
   "source": []
  }
 ],
 "metadata": {
  "kernelspec": {
   "display_name": "PfyMU",
   "language": "python",
   "name": "pfymu"
  },
  "language_info": {
   "codemirror_mode": {
    "name": "ipython",
    "version": 3
   },
   "file_extension": ".py",
   "mimetype": "text/x-python",
   "name": "python",
   "nbconvert_exporter": "python",
   "pygments_lexer": "ipython3",
   "version": "3.8.3"
  }
 },
 "nbformat": 4,
 "nbformat_minor": 4
}
