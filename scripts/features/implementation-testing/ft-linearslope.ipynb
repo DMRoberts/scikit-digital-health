{
 "cells": [
  {
   "cell_type": "code",
   "execution_count": 1,
   "metadata": {},
   "outputs": [],
   "source": [
    "%load_ext cython"
   ]
  },
  {
   "cell_type": "code",
   "execution_count": 2,
   "metadata": {},
   "outputs": [],
   "source": [
    "import numpy as np"
   ]
  },
  {
   "cell_type": "code",
   "execution_count": 3,
   "metadata": {},
   "outputs": [],
   "source": [
    "%%cython\n",
    "# cython: infer_types = True\n",
    "# cython: boundscheck = False\n",
    "# cython: wraparound = False\n",
    "cimport cython\n",
    "from numpy import zeros, double as npy_double, reshape\n",
    "from libc.math cimport sqrt\n",
    "\n",
    "cdef void mean_1d(const double[:] x, double* mean):\n",
    "    cdef Py_ssize_t n = x.size, i\n",
    "\n",
    "    for i in range(n):\n",
    "        mean[0] += x[i]\n",
    "    mean[0] /= n\n",
    "\n",
    "\n",
    "cpdef covariance(const double[:] x, const double[:] y, int ddof):\n",
    "    cdef Py_ssize_t n = x.size, i\n",
    "\n",
    "    cdef double kx = x[0], ky = y[0]\n",
    "    cdef double Ex = 0., Ey = 0., Exy = 0., cov\n",
    "\n",
    "    for i in range(n):\n",
    "        Ex += (x[i] - kx)\n",
    "        Ey += (y[i] - ky)\n",
    "        Exy += (x[i] - kx) * (y[i] - ky)\n",
    "\n",
    "    cov = (Exy - (Ex * Ey) / (n - ddof)) / (n - ddof)\n",
    "    return cov\n",
    "\n",
    "\n",
    "cpdef linregress(const double[:] x, const double[:] y):\n",
    "    cdef Py_ssize_t n = x.size\n",
    "    if n != y.size:\n",
    "        raise ValueError('Inputs must be the same size.')\n",
    "    if n < 2:\n",
    "        raise ValueError('Inputs must have more than 1 element.')\n",
    "    \n",
    "    cdef double xmean, ymean, ssxm, ssxym, ssym\n",
    "    cdef double slope, intercept\n",
    "\n",
    "    mean_1d(x, &xmean)\n",
    "    mean_1d(y, &ymean)\n",
    "\n",
    "    # average sum of squares\n",
    "    ssxm = covariance(x, x, 0)\n",
    "    ssym = covariance(y, y, 0)\n",
    "    ssxym = covariance(x, y, 0)\n",
    "\n",
    "    slope = ssxym / ssxm\n",
    "    intercept = ymean - slope * xmean\n",
    "\n",
    "    return slope, intercept\n",
    "\n",
    "\n",
    "cpdef LinRegression(const double[:] x, const double[:, :, :] y):\n",
    "    cdef Py_ssize_t m = y.shape[0], p = y.shape[2], i, k\n",
    "\n",
    "    slp = zeros((m, p), dtype=npy_double)\n",
    "    itcpt = zeros((m, p), dtype=npy_double)\n",
    "    cdef double[:, :] slope = slp, intercept = itcpt\n",
    "    cdef double[:, :]  x2d\n",
    "\n",
    "    for i in range(m):\n",
    "        for k in range(p):\n",
    "            slope[i, k], intercept[i, k] = linregress(x, y[i, :, k])\n",
    "    \n",
    "    return slp, itcpt"
   ]
  },
  {
   "cell_type": "code",
   "execution_count": 4,
   "metadata": {},
   "outputs": [],
   "source": [
    "from linearslope import linearregression as flinreg"
   ]
  },
  {
   "cell_type": "code",
   "execution_count": 5,
   "metadata": {},
   "outputs": [],
   "source": [
    "x = np.random.rand(50000, 150, 3)\n",
    "xf = np.asfortranarray(x.transpose([1, 2, 0]))\n",
    "\n",
    "t = np.arange(0, 150/50, 1/50)"
   ]
  },
  {
   "cell_type": "code",
   "execution_count": 6,
   "metadata": {},
   "outputs": [
    {
     "name": "stdout",
     "output_type": "stream",
     "text": [
      "362 ms ± 9.12 ms per loop (mean ± std. dev. of 7 runs, 1 loop each)\n"
     ]
    }
   ],
   "source": [
    "%timeit LinRegression(t, x)"
   ]
  },
  {
   "cell_type": "code",
   "execution_count": 7,
   "metadata": {},
   "outputs": [
    {
     "name": "stdout",
     "output_type": "stream",
     "text": [
      "25.8 ms ± 82.7 µs per loop (mean ± std. dev. of 7 runs, 10 loops each)\n"
     ]
    }
   ],
   "source": [
    "%timeit flinreg(t, xf)"
   ]
  },
  {
   "cell_type": "code",
   "execution_count": 8,
   "metadata": {},
   "outputs": [
    {
     "data": {
      "text/plain": [
       "True"
      ]
     },
     "execution_count": 8,
     "metadata": {},
     "output_type": "execute_result"
    }
   ],
   "source": [
    "np.allclose(flinreg(t, xf).T, LinRegression(t, x)[0])"
   ]
  },
  {
   "cell_type": "code",
   "execution_count": null,
   "metadata": {},
   "outputs": [],
   "source": [
    "flinreg(t, xf).T"
   ]
  },
  {
   "cell_type": "code",
   "execution_count": null,
   "metadata": {},
   "outputs": [],
   "source": [
    "LinRegression(t, x)[0]"
   ]
  },
  {
   "cell_type": "code",
   "execution_count": null,
   "metadata": {},
   "outputs": [],
   "source": [
    "from linearslope import covariance as fcov"
   ]
  },
  {
   "cell_type": "code",
   "execution_count": null,
   "metadata": {},
   "outputs": [],
   "source": [
    "print(fcov(t, x[0, :, 0], 0))\n",
    "print(covariance(t, x[0, :, 0], 0))"
   ]
  },
  {
   "cell_type": "code",
   "execution_count": null,
   "metadata": {},
   "outputs": [],
   "source": []
  }
 ],
 "metadata": {
  "kernelspec": {
   "display_name": "PfyMU",
   "language": "python",
   "name": "pfymu"
  },
  "language_info": {
   "codemirror_mode": {
    "name": "ipython",
    "version": 3
   },
   "file_extension": ".py",
   "mimetype": "text/x-python",
   "name": "python",
   "nbconvert_exporter": "python",
   "pygments_lexer": "ipython3",
   "version": "3.8.3"
  }
 },
 "nbformat": 4,
 "nbformat_minor": 4
}
