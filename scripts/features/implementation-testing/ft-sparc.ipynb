{
 "cells": [
  {
   "cell_type": "raw",
   "metadata": {},
   "source": [
    "! --------------------------------------------------------------------\n",
    "! SUBROUTINE  autocorrelation\n",
    "!     Compute the autocorrelation of a signal with the specified lag\n",
    "! \n",
    "!     Input\n",
    "!     m            : integer(8), signal dimension\n",
    "!     n            : integer(8), axis dimension\n",
    "!     p            : integer(8), window dimension\n",
    "!     x(m, n, p)   : real(8), array to compute for\n",
    "!     lag          : integer(8), lag for the autocorrelation, in samples\n",
    "!     normalize    : logical, normalize the autocorrelation\n",
    "! \n",
    "!     Output\n",
    "!     ac(n, p) : real(8)\n",
    "! --------------------------------------------------------------------"
   ]
  },
  {
   "cell_type": "raw",
   "metadata": {},
   "source": [
    "implicit none\n",
    "    integer(8), intent(in) :: m, n, p\n",
    "    real(8), intent(in) :: x(m, n, p), r\n",
    "    real(8), intent(out) :: rbrs(n, p)\n",
    "!f2py intent(hide) :: m, n, p\n",
    "    integer(8) :: i, j, k"
   ]
  },
  {
   "cell_type": "code",
   "execution_count": 1,
   "metadata": {},
   "outputs": [],
   "source": [
    "%load_ext cython"
   ]
  },
  {
   "cell_type": "code",
   "execution_count": 2,
   "metadata": {},
   "outputs": [],
   "source": [
    "import numpy as np"
   ]
  },
  {
   "cell_type": "code",
   "execution_count": 3,
   "metadata": {
    "jupyter": {
     "source_hidden": true
    }
   },
   "outputs": [],
   "source": [
    "def sparc(movement, fs, padlevel=4, fc=10.0, amp_th=0.05):\n",
    "    \"\"\"\n",
    "    Calcualtes the smoothness of the given speed profile using the modified\n",
    "    spectral arc length metric.\n",
    "    Parameters\n",
    "    ----------\n",
    "    movement : np.array\n",
    "               The array containing the movement speed profile.\n",
    "    fs       : float\n",
    "               The sampling frequency of the data.\n",
    "    padlevel : integer, optional\n",
    "               Indicates the amount of zero padding to be done to the movement\n",
    "               data for estimating the spectral arc length. [default = 4]\n",
    "    fc       : float, optional\n",
    "               The max. cut off frequency for calculating the spectral arc\n",
    "               length metric. [default = 10.]\n",
    "    amp_th   : float, optional\n",
    "               The amplitude threshold to used for determing the cut off\n",
    "               frequency upto which the spectral arc length is to be estimated.\n",
    "               [default = 0.05]\n",
    "    Returns\n",
    "    -------\n",
    "    sal      : float\n",
    "               The spectral arc length estimate of the given movement's\n",
    "               smoothness.\n",
    "    (f, Mf)  : tuple of two np.arrays\n",
    "               This is the frequency(f) and the magntiude spectrum(Mf) of the\n",
    "               given movement data. This spectral is from 0. to fs/2.\n",
    "    (f_sel, Mf_sel) : tuple of two np.arrays\n",
    "                      This is the portion of the spectrum that is selected for\n",
    "                      calculating the spectral arc length.\n",
    "    Notes\n",
    "    -----\n",
    "    This is the modfieid spectral arc length metric, which has been tested only\n",
    "    for discrete movements.\n",
    "    Examples\n",
    "    --------\n",
    "    >>> t = np.arange(-1, 1, 0.01)\n",
    "    >>> move = np.exp(-5*pow(t, 2))\n",
    "    >>> sal, _, _ = sparc(move, fs=100.)\n",
    "    >>> '%.5f' % sal\n",
    "    '-1.41403'\n",
    "    \"\"\"\n",
    "    # Number of zeros to be padded.\n",
    "    nfft = int(pow(2, np.ceil(np.log2(len(movement))) + padlevel))\n",
    "\n",
    "    # Frequency\n",
    "    f = np.arange(0, fs, fs / nfft)\n",
    "    # Normalized magnitude spectrum\n",
    "    Mf = abs(np.fft.fft(movement, nfft))\n",
    "    Mf = Mf / max(Mf)\n",
    "\n",
    "    # Indices to choose only the spectrum within the given cut off frequency\n",
    "    # Fc.\n",
    "    # NOTE: This is a low pass filtering operation to get rid of high frequency\n",
    "    # noise from affecting the next step (amplitude threshold based cut off for\n",
    "    # arc length calculation).\n",
    "    fc_inx = ((f <= fc) * 1).nonzero()\n",
    "    f_sel = f[fc_inx]\n",
    "    Mf_sel = Mf[fc_inx]\n",
    "\n",
    "    # Choose the amplitude threshold based cut off frequency.\n",
    "    # Index of the last point on the magnitude spectrum that is greater than\n",
    "    # or equal to the amplitude threshold.\n",
    "    inx = ((Mf_sel >= amp_th) * 1).nonzero()[0]\n",
    "    fc_inx = range(inx[0], inx[-1] + 1)\n",
    "    f_sel = f_sel[fc_inx]\n",
    "    Mf_sel = Mf_sel[fc_inx]\n",
    "\n",
    "    # Calculate arc length\n",
    "    new_sal = -sum(\n",
    "        np.sqrt(\n",
    "            pow(\n",
    "                np.diff(f_sel) / (f_sel[-1] - f_sel[0]), \n",
    "                2\n",
    "            ) + pow(\n",
    "                np.diff(Mf_sel), \n",
    "                2\n",
    "            )\n",
    "        )\n",
    "    )\n",
    "    return new_sal"
   ]
  },
  {
   "cell_type": "code",
   "execution_count": 4,
   "metadata": {
    "jupyter": {
     "source_hidden": true
    }
   },
   "outputs": [],
   "source": [
    "%%cython\n",
    "# cython: infer_types = True\n",
    "# cython: boundscheck = False\n",
    "# cython: wraparound = False\n",
    "cimport cython\n",
    "from numpy import zeros, double as npy_double, arange, abs as npy_abs, array\n",
    "from numpy.fft import rfft\n",
    "from libc.math cimport log2, sqrt, ceil, abs, floor\n",
    "\n",
    "\n",
    "cpdef sparc_1d(const double[:] x, double fsample, int padlevel, double fcut,\n",
    "            double amp_thresh):\n",
    "    cdef Py_ssize_t n = x.size, j, ixf, ixa0 = 0, ixa\n",
    "    cdef double sal = 0., frange\n",
    "\n",
    "    cdef int nfft = 2**(<int>(ceil(log2(n)) + padlevel))\n",
    "    ixf = <Py_ssize_t>(floor(fcut / fsample * (nfft-1)))\n",
    "    cdef double[:] freq = arange(0, fsample, fsample / nfft)\n",
    "\n",
    "    # normalized magnitude spectrum\n",
    "    cdef double[:] Mf = npy_abs(rfft(x, n=nfft))\n",
    "    cdef double max_Mf = 0.\n",
    "    for j in range(ixf + 1):\n",
    "        if Mf[j] > max_Mf:\n",
    "            max_Mf = Mf[j]\n",
    "    amp_thresh *= max_Mf\n",
    "\n",
    "    # indices to choose only the spectrum within the given cutoff frequency fcut\n",
    "    # NOTE: this is a low pass filtering operation to get rid of high frequency\n",
    "    # noise from affecting the next step (amplitude threshold based cutoff for\n",
    "    # arc length calculation)\n",
    "    ixa = ixf\n",
    "    while Mf[ixa0] < amp_thresh and ixa0 < nfft:\n",
    "        ixa0 += 1\n",
    "    while Mf[ixa] < amp_thresh and ixa > 0:\n",
    "        ixa -= 1\n",
    "\n",
    "    frange = freq[ixa] - freq[ixa0]\n",
    "\n",
    "    for j in range(ixa0+1, ixa+1):\n",
    "        sal -= sqrt(((freq[j] - freq[j-1]) / frange)**2\n",
    "                    + ((Mf[j] - Mf[j-1]) / max_Mf)**2)\n",
    "\n",
    "    return sal\n",
    "\n",
    "\n",
    "cpdef SPARC(const double[:, :, :] x, double fsample, int padlevel, double fcut,\n",
    "               double amp_thresh):\n",
    "    cdef Py_ssize_t m = x.shape[0], p = x.shape[2], i, k\n",
    "\n",
    "    sparclen = zeros((m, p), dtype=npy_double, order='C')\n",
    "    cdef double[:, ::1] sal = sparclen\n",
    "\n",
    "    for i in range(m):\n",
    "        for k in range(p):\n",
    "            sal[i, k] = sparc_1d(x[i, :, k], fsample, padlevel, fcut, amp_thresh)\n",
    "\n",
    "    return sparclen"
   ]
  },
  {
   "cell_type": "code",
   "execution_count": 5,
   "metadata": {},
   "outputs": [],
   "source": [
    "from sparc import sparc as fsparc, sparc2 as fsparc2, sparc3 as fsparc3\n",
    "# from sparc2 import sparc as fsparc2, sparc_1d as fsparc2_1d"
   ]
  },
  {
   "cell_type": "code",
   "execution_count": 13,
   "metadata": {},
   "outputs": [],
   "source": [
    "np.random.seed(5)\n",
    "x = np.random.rand(50000, 150, 3)\n",
    "xf = np.asfortranarray(x.transpose([1, 2, 0]))\n",
    "\n",
    "t = np.arange(0, 150/50, 1/50)\n",
    "\n",
    "fs = 50.0\n",
    "cut = 10.0\n",
    "pad = 2\n",
    "thresh = 0.05\n",
    "nfft = int(pow(2, np.ceil(np.log2(150)) + pad))"
   ]
  },
  {
   "cell_type": "code",
   "execution_count": 14,
   "metadata": {},
   "outputs": [
    {
     "data": {
      "text/plain": [
       "True"
      ]
     },
     "execution_count": 14,
     "metadata": {},
     "output_type": "execute_result"
    }
   ],
   "source": [
    "np.allclose(\n",
    "    fsparc(xf[:, :, :500], fs, pad, cut, thresh).T, \n",
    "    SPARC(x[:500, :, :], fs, pad, cut, thresh)\n",
    ")"
   ]
  },
  {
   "cell_type": "code",
   "execution_count": 15,
   "metadata": {},
   "outputs": [
    {
     "data": {
      "text/plain": [
       "True"
      ]
     },
     "execution_count": 15,
     "metadata": {},
     "output_type": "execute_result"
    }
   ],
   "source": [
    "np.allclose(\n",
    "    fsparc3(xf[:, :, :500], fs, pad, cut, thresh).T, \n",
    "    SPARC(x[:500, :, :], fs, pad, cut, thresh)\n",
    ")"
   ]
  },
  {
   "cell_type": "code",
   "execution_count": 16,
   "metadata": {},
   "outputs": [
    {
     "name": "stdout",
     "output_type": "stream",
     "text": [
      "3.86 s ± 5.25 ms per loop (mean ± std. dev. of 7 runs, 1 loop each)\n"
     ]
    }
   ],
   "source": [
    "%timeit SPARC(x, fs, pad, cut, thresh)"
   ]
  },
  {
   "cell_type": "code",
   "execution_count": 17,
   "metadata": {},
   "outputs": [
    {
     "name": "stdout",
     "output_type": "stream",
     "text": [
      "1.16 s ± 214 µs per loop (mean ± std. dev. of 7 runs, 1 loop each)\n"
     ]
    }
   ],
   "source": [
    "%timeit fsparc(xf, fs, pad, cut, thresh)"
   ]
  },
  {
   "cell_type": "code",
   "execution_count": 18,
   "metadata": {},
   "outputs": [
    {
     "name": "stdout",
     "output_type": "stream",
     "text": [
      "1.2 s ± 1.59 ms per loop (mean ± std. dev. of 7 runs, 1 loop each)\n"
     ]
    }
   ],
   "source": [
    "%timeit fsparc2(xf, fs, pad, cut, thresh)"
   ]
  },
  {
   "cell_type": "code",
   "execution_count": 19,
   "metadata": {},
   "outputs": [
    {
     "name": "stdout",
     "output_type": "stream",
     "text": [
      "1.14 s ± 364 µs per loop (mean ± std. dev. of 7 runs, 1 loop each)\n"
     ]
    }
   ],
   "source": [
    "%timeit fsparc3(xf, fs, pad, cut, thresh)"
   ]
  },
  {
   "cell_type": "code",
   "execution_count": null,
   "metadata": {},
   "outputs": [],
   "source": [
    "sparc(x[0, :, 0], fs, pad, cut, thresh)"
   ]
  },
  {
   "cell_type": "code",
   "execution_count": null,
   "metadata": {},
   "outputs": [],
   "source": [
    "freq = np.linspace(0, 0.5, 32, endpoint=False) * 50.0"
   ]
  },
  {
   "cell_type": "code",
   "execution_count": null,
   "metadata": {},
   "outputs": [],
   "source": [
    "(freq[6] - freq[5]) / (freq[8] - freq[1])"
   ]
  },
  {
   "cell_type": "code",
   "execution_count": null,
   "metadata": {},
   "outputs": [],
   "source": [
    "1 / 7"
   ]
  },
  {
   "cell_type": "code",
   "execution_count": 19,
   "metadata": {},
   "outputs": [],
   "source": [
    "%matplotlib widget"
   ]
  },
  {
   "cell_type": "code",
   "execution_count": 20,
   "metadata": {},
   "outputs": [],
   "source": [
    "import matplotlib.pyplot as plt"
   ]
  },
  {
   "cell_type": "code",
   "execution_count": 24,
   "metadata": {},
   "outputs": [],
   "source": [
    "y = np.random.rand(150)\n",
    "\n",
    "freq, res = {}, {}\n",
    "for n in 256, 512, 1024, 2048, 4096, 8192:\n",
    "    freq[n] = np.fft.rfftfreq(n)\n",
    "    res[n] = np.abs(np.fft.rfft(y, n))"
   ]
  },
  {
   "cell_type": "code",
   "execution_count": 26,
   "metadata": {},
   "outputs": [
    {
     "data": {
      "application/vnd.jupyter.widget-view+json": {
       "model_id": "7fa0f5c79ef34fc1bcf4d8b1358a697f",
       "version_major": 2,
       "version_minor": 0
      },
      "text/plain": [
       "Canvas(toolbar=Toolbar(toolitems=[('Home', 'Reset original view', 'home', 'home'), ('Back', 'Back to previous …"
      ]
     },
     "metadata": {},
     "output_type": "display_data"
    },
    {
     "data": {
      "text/plain": [
       "<matplotlib.legend.Legend at 0x7f45970f3f70>"
      ]
     },
     "execution_count": 26,
     "metadata": {},
     "output_type": "execute_result"
    }
   ],
   "source": [
    "f, ax = plt.subplots(figsize=(10, 6))\n",
    "\n",
    "for n in freq:\n",
    "    ax.plot(freq[n], res[n], label=f'nfft={n}')\n",
    "\n",
    "ax.legend()"
   ]
  },
  {
   "cell_type": "code",
   "execution_count": null,
   "metadata": {},
   "outputs": [],
   "source": []
  }
 ],
 "metadata": {
  "kernelspec": {
   "display_name": "PfyMU",
   "language": "python",
   "name": "pfymu"
  },
  "language_info": {
   "codemirror_mode": {
    "name": "ipython",
    "version": 3
   },
   "file_extension": ".py",
   "mimetype": "text/x-python",
   "name": "python",
   "nbconvert_exporter": "python",
   "pygments_lexer": "ipython3",
   "version": "3.8.3"
  }
 },
 "nbformat": 4,
 "nbformat_minor": 4
}
