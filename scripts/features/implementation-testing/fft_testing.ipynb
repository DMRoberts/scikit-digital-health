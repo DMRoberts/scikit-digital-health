{
 "cells": [
  {
   "cell_type": "code",
   "execution_count": 2,
   "metadata": {},
   "outputs": [],
   "source": [
    "import numpy as np\n",
    "\n",
    "from rfft import rfft"
   ]
  },
  {
   "cell_type": "code",
   "execution_count": 3,
   "metadata": {},
   "outputs": [],
   "source": [
    "x = np.random.rand(5, 200, 3)\n",
    "xf = np.asfortranarray(x.transpose([1, 2, 0]))\n",
    "\n",
    "y = np.random.rand(200)\n",
    "nfft = 256"
   ]
  },
  {
   "cell_type": "code",
   "execution_count": 4,
   "metadata": {},
   "outputs": [],
   "source": [
    "pres = np.fft.rfft(y, nfft)\n",
    "fres = rfft(y, nfft)"
   ]
  },
  {
   "cell_type": "code",
   "execution_count": 5,
   "metadata": {},
   "outputs": [
    {
     "data": {
      "text/plain": [
       "array([ 0.38468242, -0.1670879 ,  0.14349808, -0.04116602,  0.13055407])"
      ]
     },
     "execution_count": 5,
     "metadata": {},
     "output_type": "execute_result"
    }
   ],
   "source": [
    "fres[:5]"
   ]
  },
  {
   "cell_type": "code",
   "execution_count": 6,
   "metadata": {},
   "outputs": [],
   "source": [
    "f_real = np.array([fres[0]] + fres[1:-1:2].tolist())\n",
    "f_comp = np.insert(fres[2:-1:2], 0, 0)"
   ]
  },
  {
   "cell_type": "code",
   "execution_count": 7,
   "metadata": {},
   "outputs": [
    {
     "name": "stdout",
     "output_type": "stream",
     "text": [
      "      0.769+0.000j   0.385   0.000\n",
      "     -0.167-0.143j  -0.167   0.143\n",
      "     -0.041-0.131j  -0.041   0.131\n",
      "      0.040-0.027j   0.040   0.027\n",
      "      0.093-0.022j   0.093   0.022\n"
     ]
    }
   ],
   "source": [
    "for i in range(5):\n",
    "    print(f'{pres[i]/128:18.3f}{f_real[i]:8.3f}{f_comp[i]:8.3f}')"
   ]
  },
  {
   "cell_type": "code",
   "execution_count": 8,
   "metadata": {},
   "outputs": [
    {
     "name": "stdout",
     "output_type": "stream",
     "text": [
      "128 128\n"
     ]
    }
   ],
   "source": [
    "print(f_real.size, f_comp.size)"
   ]
  },
  {
   "cell_type": "code",
   "execution_count": 9,
   "metadata": {},
   "outputs": [],
   "source": [
    "nfft = 1024"
   ]
  },
  {
   "cell_type": "code",
   "execution_count": 10,
   "metadata": {},
   "outputs": [
    {
     "name": "stdout",
     "output_type": "stream",
     "text": [
      "14.4 µs ± 470 ns per loop (mean ± std. dev. of 7 runs, 100000 loops each)\n",
      "17.3 µs ± 31.3 ns per loop (mean ± std. dev. of 7 runs, 100000 loops each)\n"
     ]
    }
   ],
   "source": [
    "%timeit rfft(xf[:, 0, 0], nfft)\n",
    "%timeit cfft(x[:, 0, 0], nfft)"
   ]
  },
  {
   "cell_type": "code",
   "execution_count": 11,
   "metadata": {},
   "outputs": [
    {
     "name": "stdout",
     "output_type": "stream",
     "text": [
      "10.7 µs ± 40.3 ns per loop (mean ± std. dev. of 7 runs, 100000 loops each)\n",
      "15.4 µs ± 14 ns per loop (mean ± std. dev. of 7 runs, 100000 loops each)\n"
     ]
    }
   ],
   "source": [
    "%timeit np.fft.rfft(x[0, :, 0], nfft)\n",
    "%timeit np.fft.fft(x[0, :, 0], nfft)"
   ]
  },
  {
   "cell_type": "code",
   "execution_count": null,
   "metadata": {},
   "outputs": [],
   "source": []
  }
 ],
 "metadata": {
  "kernelspec": {
   "display_name": "PfyMU",
   "language": "python",
   "name": "pfymu"
  },
  "language_info": {
   "codemirror_mode": {
    "name": "ipython",
    "version": 3
   },
   "file_extension": ".py",
   "mimetype": "text/x-python",
   "name": "python",
   "nbconvert_exporter": "python",
   "pygments_lexer": "ipython3",
   "version": "3.8.3"
  }
 },
 "nbformat": 4,
 "nbformat_minor": 4
}
