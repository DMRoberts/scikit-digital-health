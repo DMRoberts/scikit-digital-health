{
 "cells": [
  {
   "cell_type": "code",
   "execution_count": 1,
   "metadata": {},
   "outputs": [],
   "source": [
    "%load_ext cython"
   ]
  },
  {
   "cell_type": "code",
   "execution_count": 2,
   "metadata": {},
   "outputs": [],
   "source": [
    "import numpy as np\n",
    "from scipy.misc import electrocardiogram"
   ]
  },
  {
   "cell_type": "code",
   "execution_count": 3,
   "metadata": {},
   "outputs": [],
   "source": [
    "x1d = electrocardiogram()\n",
    "x3d = x1d.reshape((1, -1, 1))"
   ]
  },
  {
   "cell_type": "code",
   "execution_count": 4,
   "metadata": {},
   "outputs": [],
   "source": [
    "def sampen(L, m, r):\n",
    "    N = len(L)\n",
    "    B = 0.0\n",
    "    A = 0.0\n",
    "    \n",
    "    \n",
    "    # Split time series and save all templates of length m\n",
    "    xmi = np.array([L[i : i + m] for i in range(N - m)])\n",
    "    xmj = np.array([L[i : i + m] for i in range(N - m + 1)])\n",
    "\n",
    "    # Save all matches minus the self-match, compute B\n",
    "    B = np.sum([np.sum(np.abs(xmii - xmj).max(axis=1) <= r) - 1 for xmii in xmi])\n",
    "\n",
    "    # Similar for computing A\n",
    "    m += 1\n",
    "    xm = np.array([L[i : i + m] for i in range(N - m + 1)])\n",
    "\n",
    "    A = np.sum([np.sum(np.abs(xmi - xm).max(axis=1) <= r) - 1 for xmi in xm])\n",
    "\n",
    "    # Return SampEn\n",
    "    return -np.log(A / B)"
   ]
  },
  {
   "cell_type": "code",
   "execution_count": 5,
   "metadata": {},
   "outputs": [],
   "source": [
    "%%cython\n",
    "# cython: infer_types = True\n",
    "# cython: boundscheck = False\n",
    "# cython: wraparound = False\n",
    "cimport cython\n",
    "from numpy import zeros, double as npy_double, intc, array\n",
    "from libc.math cimport log\n",
    "\n",
    "\n",
    "def SampleEntropy(const double[:, :, :] signal, int M, double r):\n",
    "    cdef Py_ssize_t n = signal.shape[1], k = signal.shape[2], p = signal.shape[0]\n",
    "    entropy = zeros((p, M, k), dtype=npy_double)\n",
    "    cdef double[:, :, ::1] ent = entropy\n",
    "    cdef long nj, j\n",
    "    cdef long[:] run = zeros(n, dtype=int), lastrun = zeros(n, dtype=int)\n",
    "    cdef long N, M1\n",
    "    cdef double[:, :, :] A = zeros((p, M, k), dtype=npy_double), B = zeros((p, M, k), dtype=npy_double)\n",
    "    cdef double Y1\n",
    "\n",
    "    cdef Py_ssize_t i, jj, mm, kk, axis, wind\n",
    "    for wind in range(p):\n",
    "        for axis in range(k):\n",
    "            run[:] = 0\n",
    "            lastrun[:] = 0\n",
    "            for i in range(n-1):\n",
    "                nj = n - i - 1\n",
    "                Y1 = signal[wind, i, axis]\n",
    "                for jj in range(nj):\n",
    "                    j = jj + i + 1\n",
    "                    if (((signal[wind, j, axis] - Y1) < r) and ((Y1 - signal[wind, j, axis]) < r)):\n",
    "                        run[jj] = lastrun[jj] + 1\n",
    "                        M1 = M if (M < run[jj]) else run[jj]\n",
    "                        for mm in range(M1):\n",
    "                            A[wind, mm, axis] += 1\n",
    "                            if (j < (n - 1)):\n",
    "                                B[wind, mm, axis] += 1\n",
    "                    else:\n",
    "                        run[jj] = 0\n",
    "                for kk in range(nj):\n",
    "                    lastrun[kk] = run[kk]\n",
    "\n",
    "    N = <long>(n * (n - 1) / 2)\n",
    "\n",
    "    for wind in range(p):\n",
    "        for axis in range(k):\n",
    "            ent[wind, 0, axis] = -log(A[wind, 0, axis] / N)\n",
    "\n",
    "            for mm in range(1, M):\n",
    "                ent[wind, mm, axis] = -log(A[wind, mm, axis] / B[wind, mm - 1, axis])\n",
    "\n",
    "    return entropy\n",
    "\n",
    "def sent_1d(const double[:] signal, int M, double r):\n",
    "    cdef Py_ssize_t n = signal.size\n",
    "    entropy = zeros(M, dtype=npy_double)\n",
    "    cdef double[:] ent = entropy\n",
    "    cdef long nj, j\n",
    "    cdef long[:] run = zeros(n, dtype=int), lastrun = zeros(n, dtype=int)\n",
    "    cdef long N, M1\n",
    "    cdef double[:] A = zeros(M, dtype=npy_double), B = zeros(M, dtype=npy_double)\n",
    "    cdef double Y1\n",
    "\n",
    "    cdef Py_ssize_t i, jj, mm, kk, axis, wind\n",
    "\n",
    "    run[:] = 0\n",
    "    lastrun[:] = 0\n",
    "    for i in range(n-1):\n",
    "        nj = n - i - 1\n",
    "        Y1 = signal[i]\n",
    "        for jj in range(nj):\n",
    "            j = jj + i + 1\n",
    "            if (((signal[j] - Y1) < r) and ((Y1 - signal[j]) < r)):\n",
    "                run[jj] = lastrun[jj] + 1\n",
    "                M1 = M if (M < run[jj]) else run[jj]\n",
    "                for mm in range(M1):\n",
    "                    A[mm] += 1\n",
    "                    if (j < (n - 1)):\n",
    "                        B[mm] += 1\n",
    "            else:\n",
    "                run[jj] = 0\n",
    "        for kk in range(nj):\n",
    "            lastrun[kk] = run[kk]\n",
    "\n",
    "    N = <long>(n * (n - 1) / 2)\n",
    "\n",
    "    ent[0] = -log(A[0] / N)\n",
    "\n",
    "    for mm in range(1, M):\n",
    "        ent[mm] = -log(A[mm] / B[mm - 1])\n",
    "\n",
    "    return entropy"
   ]
  },
  {
   "cell_type": "code",
   "execution_count": 6,
   "metadata": {},
   "outputs": [],
   "source": [
    "from sampent import sampleentropy as fsampleentropy"
   ]
  },
  {
   "cell_type": "code",
   "execution_count": 8,
   "metadata": {},
   "outputs": [],
   "source": [
    "np.random.seed(5)\n",
    "x = np.around(np.random.rand(5, 150, 3), 2)\n",
    "xf = np.asfortranarray(x.transpose([1, 2, 0]))"
   ]
  },
  {
   "cell_type": "code",
   "execution_count": null,
   "metadata": {},
   "outputs": [],
   "source": [
    "# np.allclose(SampleEntropy(x, 3, 0.5)[:, -1, :], fsampleentropy(xf, 3, 0.5).T)"
   ]
  },
  {
   "cell_type": "code",
   "execution_count": 13,
   "metadata": {},
   "outputs": [
    {
     "name": "stdout",
     "output_type": "stream",
     "text": [
      "1.72 ms ± 308 ns per loop (mean ± std. dev. of 7 runs, 1000 loops each)\n"
     ]
    }
   ],
   "source": [
    "%timeit SampleEntropy(x, 3, 0.5)\n",
    "# print('~16.9s (38.9ms) per loop')"
   ]
  },
  {
   "cell_type": "code",
   "execution_count": 12,
   "metadata": {},
   "outputs": [
    {
     "name": "stdout",
     "output_type": "stream",
     "text": [
      "858 µs ± 79 ns per loop (mean ± std. dev. of 7 runs, 1000 loops each)\n"
     ]
    }
   ],
   "source": [
    "%timeit fsampleentropy(xf, 3, 0.5)"
   ]
  },
  {
   "cell_type": "code",
   "execution_count": null,
   "metadata": {},
   "outputs": [],
   "source": []
  },
  {
   "cell_type": "code",
   "execution_count": null,
   "metadata": {},
   "outputs": [],
   "source": []
  },
  {
   "cell_type": "code",
   "execution_count": null,
   "metadata": {},
   "outputs": [],
   "source": []
  },
  {
   "cell_type": "code",
   "execution_count": null,
   "metadata": {},
   "outputs": [],
   "source": [
    "L = 1\n",
    "r = 0.3\n",
    "\n",
    "print(sampen(x[0, :, 0], L, r))\n",
    "print(sent_1d(x[0, :, 0], L, r)[-1])\n",
    "print(fsampen(x[0, :, 0], L, r)[-1])\n",
    "print(fsampen2(x[0, :, 0], L, r))\n",
    "# print(SampleEntropy(x, 5, 0.3)[0, :, 0])\n",
    "# print(fsampleentropy(xf, 5, 0.3))"
   ]
  },
  {
   "cell_type": "code",
   "execution_count": null,
   "metadata": {},
   "outputs": [],
   "source": [
    "%timeit sent_1d(x[0, :, 0], 4, 0.3)\n",
    "%timeit fsampen(x[0, :, 0], 4, 0.3)\n",
    "%timeit fsampen2(x[0, :, 0], 4, 0.3)"
   ]
  },
  {
   "cell_type": "code",
   "execution_count": null,
   "metadata": {},
   "outputs": [],
   "source": [
    "import numpy as np"
   ]
  },
  {
   "cell_type": "code",
   "execution_count": null,
   "metadata": {},
   "outputs": [],
   "source": [
    "np.random.seed(1)\n",
    "print(np.around(np.random.rand(10), 2))"
   ]
  },
  {
   "cell_type": "code",
   "execution_count": null,
   "metadata": {},
   "outputs": [],
   "source": [
    "y = x[0, :, 0]\n",
    "n = y.size\n",
    "run = np.zeros(n, dtype='int')\n",
    "lastrun = np.zeros(n, dtype='int')\n",
    "print(y, '\\n')\n",
    "\n",
    "print('  i   jj  j   y1     y[j]     d<0.3  run[jj]')\n",
    "for i in range(n-1):\n",
    "    y1 = y[i]\n",
    "    for jj in range(n-i-1):\n",
    "        j = jj + i + 1\n",
    "        if np.abs(y[j] - y1) < 0.3:\n",
    "            run[jj] = lastrun[jj] + 1\n",
    "        else:\n",
    "            run[jj] = 0\n",
    "        print(f'{i:3d}{jj:4d}{j:4d}{y1:7.2f}{y[j]:7.2f}{np.abs(y[j] - y1) < 0.3:6b}{run[jj]:7d}')\n",
    "    for jj in range(n-i-1):\n",
    "        lastrun[jj] = run[jj]"
   ]
  },
  {
   "cell_type": "code",
   "execution_count": null,
   "metadata": {},
   "outputs": [],
   "source": [
    "sent_1d(y, 3, 0.3)"
   ]
  },
  {
   "cell_type": "code",
   "execution_count": null,
   "metadata": {},
   "outputs": [],
   "source": [
    "from scipy.spatial.distance import chebyshev\n",
    "chebyshev(y[2:6], y[1:5])"
   ]
  },
  {
   "cell_type": "code",
   "execution_count": null,
   "metadata": {},
   "outputs": [],
   "source": [
    "res = np.zeros((9, 9))\n",
    "for i in range(9):\n",
    "    for j in range(9):\n",
    "        res[i, j] = chebyshev(y[i:i+2], y[j:j+2])\n",
    "\n",
    "(res < 0.3).sum() - 9"
   ]
  },
  {
   "cell_type": "code",
   "execution_count": null,
   "metadata": {},
   "outputs": [],
   "source": [
    "res = np.zeros((8, 8))\n",
    "for i in range(8):\n",
    "    for j in range(8):\n",
    "        res[i, j] = chebyshev(y[i:i+3], y[j:j+3])\n",
    "\n",
    "(res < 0.3).sum() - 8"
   ]
  },
  {
   "cell_type": "code",
   "execution_count": null,
   "metadata": {},
   "outputs": [],
   "source": [
    "np.log(9/17)"
   ]
  },
  {
   "cell_type": "code",
   "execution_count": null,
   "metadata": {},
   "outputs": [],
   "source": []
  }
 ],
 "metadata": {
  "kernelspec": {
   "display_name": "PfyMU",
   "language": "python",
   "name": "pfymu"
  },
  "language_info": {
   "codemirror_mode": {
    "name": "ipython",
    "version": 3
   },
   "file_extension": ".py",
   "mimetype": "text/x-python",
   "name": "python",
   "nbconvert_exporter": "python",
   "pygments_lexer": "ipython3",
   "version": "3.8.3"
  }
 },
 "nbformat": 4,
 "nbformat_minor": 4
}
