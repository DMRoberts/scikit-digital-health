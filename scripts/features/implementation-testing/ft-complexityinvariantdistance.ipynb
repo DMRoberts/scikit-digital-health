{
 "cells": [
  {
   "cell_type": "code",
   "execution_count": 1,
   "metadata": {},
   "outputs": [],
   "source": [
    "%load_ext cython"
   ]
  },
  {
   "cell_type": "code",
   "execution_count": 2,
   "metadata": {},
   "outputs": [],
   "source": [
    "import numpy as np"
   ]
  },
  {
   "cell_type": "code",
   "execution_count": 3,
   "metadata": {},
   "outputs": [],
   "source": [
    "%%cython\n",
    "# cython: infer_types = True\n",
    "# cython: boundscheck = False\n",
    "# cython: wraparound = False\n",
    "cimport cython\n",
    "from numpy import zeros, double as npy_double\n",
    "from libc.math cimport sqrt\n",
    "\n",
    "cdef void mean_sd_1d(const double[:] x, double* mean, double* std):\n",
    "    cdef Py_ssize_t n = x.size, i\n",
    "\n",
    "    cdef double k = x[0]\n",
    "    cdef double Ex = 0., Ex2 = 0.\n",
    "    mean[0] = 0.\n",
    "\n",
    "    for i in range(n):\n",
    "        mean[0] += x[i]\n",
    "        Ex += x[i] - k\n",
    "        Ex2 += (x[i] - k)**2\n",
    "    \n",
    "    std[0] = sqrt((Ex2 - (Ex**2 / n)) / (n - 1))\n",
    "    mean[0] /= n\n",
    "    \n",
    "    \n",
    "cpdef CID(const double[:, :, :] x, bint normalize):\n",
    "    cdef Py_ssize_t m = x.shape[0], n = x.shape[1], p = x.shape[2], i, j, k\n",
    "\n",
    "    dist = zeros((m, p), dtype=npy_double)\n",
    "    cdef double[:, ::1] cid = dist\n",
    "    cdef double mu = 0., sigma = 0.\n",
    "\n",
    "    for i in range(m):\n",
    "        for k in range(p):\n",
    "            if normalize:\n",
    "                mu = 0.\n",
    "                sigma = 0.\n",
    "                mean_sd_1d(x[i, :, k], &mu, &sigma)\n",
    "                if sigma != 0.:\n",
    "                    for j in range(1, n):\n",
    "                      cid[i, k] += ((x[i, j, k] - x[i, j-1, k]) / sigma)**2\n",
    "            else:  # if not normalizing\n",
    "                for j in range(1, n):\n",
    "                    cid[i, k] += (x[i, j, k] - x[i, j-1, k])**2\n",
    "    \n",
    "    for i in range(m):\n",
    "        for k in range(p):\n",
    "            cid[i, k] = sqrt(cid[i, k])\n",
    "    \n",
    "    return dist"
   ]
  },
  {
   "cell_type": "code",
   "execution_count": 6,
   "metadata": {},
   "outputs": [],
   "source": [
    "from complexityinvariantdistance import complexityinvariantdistance as fcid"
   ]
  },
  {
   "cell_type": "code",
   "execution_count": 7,
   "metadata": {},
   "outputs": [],
   "source": [
    "x = np.random.rand(50000, 150, 3)\n",
    "xf = np.asfortranarray(x.transpose([1, 2, 0]))"
   ]
  },
  {
   "cell_type": "code",
   "execution_count": 8,
   "metadata": {},
   "outputs": [
    {
     "name": "stdout",
     "output_type": "stream",
     "text": [
      "83.4 ms ± 11.6 µs per loop (mean ± std. dev. of 7 runs, 10 loops each)\n"
     ]
    }
   ],
   "source": [
    "%timeit CID(x, True)"
   ]
  },
  {
   "cell_type": "code",
   "execution_count": 9,
   "metadata": {},
   "outputs": [
    {
     "name": "stdout",
     "output_type": "stream",
     "text": [
      "37.6 ms ± 86.2 µs per loop (mean ± std. dev. of 7 runs, 10 loops each)\n"
     ]
    }
   ],
   "source": [
    "%timeit fcid(xf, True)"
   ]
  },
  {
   "cell_type": "code",
   "execution_count": 10,
   "metadata": {},
   "outputs": [
    {
     "data": {
      "text/plain": [
       "True"
      ]
     },
     "execution_count": 10,
     "metadata": {},
     "output_type": "execute_result"
    }
   ],
   "source": [
    "np.allclose(fcid(xf, True).T, CID(x, True))"
   ]
  },
  {
   "cell_type": "code",
   "execution_count": null,
   "metadata": {},
   "outputs": [],
   "source": []
  }
 ],
 "metadata": {
  "kernelspec": {
   "display_name": "PfyMU",
   "language": "python",
   "name": "pfymu"
  },
  "language_info": {
   "codemirror_mode": {
    "name": "ipython",
    "version": 3
   },
   "file_extension": ".py",
   "mimetype": "text/x-python",
   "name": "python",
   "nbconvert_exporter": "python",
   "pygments_lexer": "ipython3",
   "version": "3.8.3"
  }
 },
 "nbformat": 4,
 "nbformat_minor": 4
}
