{
 "cells": [
  {
   "cell_type": "code",
   "execution_count": 1,
   "metadata": {},
   "outputs": [],
   "source": [
    "%load_ext cython"
   ]
  },
  {
   "cell_type": "code",
   "execution_count": 2,
   "metadata": {},
   "outputs": [],
   "source": [
    "import numpy as np"
   ]
  },
  {
   "cell_type": "code",
   "execution_count": 3,
   "metadata": {},
   "outputs": [],
   "source": [
    "%%cython\n",
    "# cython: infer_types = True\n",
    "# cython: boundscheck = False\n",
    "# cython: wraparound = False\n",
    "cimport cython\n",
    "from numpy import zeros, double as npy_double\n",
    "from libc.math cimport sqrt\n",
    "\n",
    "cdef void mean_sd_1d(const double[:] x, double* mean, double* std):\n",
    "    cdef Py_ssize_t n = x.size, i\n",
    "\n",
    "    cdef double k = x[0]\n",
    "    cdef double Ex = 0., Ex2 = 0.\n",
    "    mean[0] = 0.\n",
    "\n",
    "    for i in range(n):\n",
    "        mean[0] += x[i]\n",
    "        Ex += x[i] - k\n",
    "        Ex2 += (x[i] - k)**2\n",
    "    \n",
    "    std[0] = sqrt((Ex2 - (Ex**2 / n)) / (n - 1))\n",
    "    mean[0] /= n\n",
    "    \n",
    "    \n",
    "def Autocorrelation(const double[:, :, :] x, int lag, bint normalize):\n",
    "    cdef Py_ssize_t m = x.shape[0], n = x.shape[1], p = x.shape[2], i, j, k\n",
    "    cdef double mean1, mean2, std1, std2\n",
    "\n",
    "    autocorr = zeros((m, p), dtype=npy_double)\n",
    "    cdef double[:, :] ac = autocorr\n",
    "\n",
    "    if normalize:\n",
    "        for i in range(m):\n",
    "            for k in range(p):\n",
    "                mean_sd_1d(x[i, :n-lag, k], &mean1, &std1)\n",
    "                mean_sd_1d(x[i, lag:, k], &mean2, &std2)\n",
    "\n",
    "                for j in range(n-lag):\n",
    "                    ac[i, k] += (x[i, j, k] - mean1) * (x[i, j+lag, k] - mean2)\n",
    "                ac[i, k] /= (n - lag) * std1 * std2\n",
    "    else:\n",
    "        for i in range(m):\n",
    "            for k in range(p):\n",
    "                mean_sd_1d(x[i, :n-lag, k], &mean1, &std1)\n",
    "                mean_sd_1d(x[i, lag:, k], &mean2, &std2)\n",
    "\n",
    "                for j in range(n-lag):\n",
    "                    ac[i, k] += x[i, j, k] * x[i, j+lag, k]\n",
    "                ac[i, k] /= std1 * std2\n",
    "    \n",
    "    return autocorr"
   ]
  },
  {
   "cell_type": "code",
   "execution_count": 4,
   "metadata": {},
   "outputs": [],
   "source": [
    "from autocorrelation import autocorrelation as fautocorr"
   ]
  },
  {
   "cell_type": "code",
   "execution_count": 10,
   "metadata": {},
   "outputs": [],
   "source": [
    "x = np.random.rand(50000, 150, 3)\n",
    "xf = np.asfortranarray(x.transpose([1, 2, 0]))"
   ]
  },
  {
   "cell_type": "code",
   "execution_count": 12,
   "metadata": {},
   "outputs": [
    {
     "name": "stdout",
     "output_type": "stream",
     "text": [
      "137 ms ± 9.66 µs per loop (mean ± std. dev. of 7 runs, 10 loops each)\n"
     ]
    }
   ],
   "source": [
    "%timeit Autocorrelation(x, 1, True)"
   ]
  },
  {
   "cell_type": "code",
   "execution_count": 15,
   "metadata": {},
   "outputs": [
    {
     "name": "stdout",
     "output_type": "stream",
     "text": [
      "54.8 ms ± 9.49 µs per loop (mean ± std. dev. of 7 runs, 10 loops each)\n"
     ]
    }
   ],
   "source": [
    "%timeit fautocorr(xf, 1, True)"
   ]
  },
  {
   "cell_type": "code",
   "execution_count": 16,
   "metadata": {},
   "outputs": [
    {
     "data": {
      "text/plain": [
       "True"
      ]
     },
     "execution_count": 16,
     "metadata": {},
     "output_type": "execute_result"
    }
   ],
   "source": [
    "np.allclose(fautocorr(xf, 1, True).T, Autocorrelation(x, 1, True))"
   ]
  },
  {
   "cell_type": "code",
   "execution_count": null,
   "metadata": {},
   "outputs": [],
   "source": []
  }
 ],
 "metadata": {
  "kernelspec": {
   "display_name": "PfyMU",
   "language": "python",
   "name": "pfymu"
  },
  "language_info": {
   "codemirror_mode": {
    "name": "ipython",
    "version": 3
   },
   "file_extension": ".py",
   "mimetype": "text/x-python",
   "name": "python",
   "nbconvert_exporter": "python",
   "pygments_lexer": "ipython3",
   "version": "3.8.3"
  }
 },
 "nbformat": 4,
 "nbformat_minor": 4
}
