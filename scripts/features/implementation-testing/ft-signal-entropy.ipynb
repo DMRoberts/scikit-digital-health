{
 "cells": [
  {
   "cell_type": "code",
   "execution_count": 1,
   "metadata": {},
   "outputs": [
    {
     "data": {
      "application/javascript": [
       "new Promise(function(resolve, reject) {\n",
       "\tvar script = document.createElement(\"script\");\n",
       "\tscript.onload = resolve;\n",
       "\tscript.onerror = reject;\n",
       "\tscript.src = \"https://raw.github.com/marijnh/CodeMirror/master/mode/fortran/fortran.js\";\n",
       "\tdocument.head.appendChild(script);\n",
       "}).then(() => {\n",
       "IPython.config.cell_magic_highlight['magic_fortran'] = {'reg':[/^%%fortran/]};\n",
       "});"
      ]
     },
     "metadata": {},
     "output_type": "display_data"
    }
   ],
   "source": [
    "%load_ext cython\n",
    "%load_ext fortranmagic"
   ]
  },
  {
   "cell_type": "code",
   "execution_count": 2,
   "metadata": {},
   "outputs": [],
   "source": [
    "import numpy as np\n",
    "from scipy.misc import electrocardiogram"
   ]
  },
  {
   "cell_type": "code",
   "execution_count": 3,
   "metadata": {},
   "outputs": [],
   "source": [
    "x1d = electrocardiogram()\n",
    "x3d = x1d.reshape((1, -1, 1))"
   ]
  },
  {
   "cell_type": "code",
   "execution_count": 18,
   "metadata": {},
   "outputs": [],
   "source": [
    "%%cython\n",
    "# cython: infer_types = True\n",
    "# cython: boundscheck = False\n",
    "# cython: wraparound = False\n",
    "cimport cython\n",
    "from numpy import zeros, double as npy_double, intc, nanmin, nanmax, array\n",
    "from libc.math cimport log, exp, ceil, sqrt, isnan\n",
    "\n",
    "\n",
    "cdef void mean_sd_1d(const double[:] x, double* mean, double* std):\n",
    "    cdef Py_ssize_t n = x.size, i\n",
    "\n",
    "    cdef double k = x[0]\n",
    "    cdef double Ex = 0., Ex2 = 0.\n",
    "    mean[0] = 0.\n",
    "\n",
    "    for i in range(n):\n",
    "        mean[0] += x[i]\n",
    "        Ex += x[i] - k\n",
    "        Ex2 += (x[i] - k)**2\n",
    "    \n",
    "    std[0] = sqrt((Ex2 - (Ex**2 / n)) / (n - 1))\n",
    "    mean[0] /= n\n",
    "    \n",
    "    \n",
    "cpdef hist(const double[:] signal, int ncells, double min_val, double max_val, Py_ssize_t N):\n",
    "    cdef Py_ssize_t i\n",
    "    counts = zeros(ncells, dtype=intc)\n",
    "\n",
    "    cdef int[:] c_view = counts\n",
    "    cdef int idx\n",
    "    cdef double bin_width = (max_val - min_val) / <double>(ncells)\n",
    "\n",
    "    if bin_width == 0.0:\n",
    "        bin_width = 1.0  # prevent 0 division\n",
    "    \n",
    "    for i in range(N):\n",
    "        if isnan(signal[i]):\n",
    "            continue\n",
    "        \n",
    "        idx = <int>((signal[i] - min_val) / bin_width)\n",
    "        if idx == ncells:\n",
    "            idx -= 1\n",
    "        \n",
    "        c_view[idx] += 1\n",
    "    \n",
    "    return counts\n",
    "\n",
    "\n",
    "cpdef histogram(const double[:] signal, double[:] descriptor):\n",
    "    cdef Py_ssize_t N = signal.size\n",
    "    cdef double min_val = nanmin(signal)\n",
    "    cdef double max_val = nanmax(signal)\n",
    "    cdef double delta = (max_val - min_val) / <double>(N - 1)\n",
    "\n",
    "    descriptor[0] = min_val - delta / 2\n",
    "    descriptor[1] = max_val + delta / 2\n",
    "    descriptor[2] = ceil(sqrt(N))\n",
    "\n",
    "    return hist(signal, <int>(descriptor[2]), min_val, max_val, N)\n",
    "\n",
    "\n",
    "def SignalEntropy(const double[:, :, :] signal):\n",
    "    cdef Py_ssize_t M = signal.shape[0], N = signal.shape[1], P = signal.shape[2]\n",
    "\n",
    "    res = zeros((M, P), dtype=npy_double)\n",
    "\n",
    "    cdef double[:, ::1] result = res\n",
    "    cdef double[::1] d = zeros(3, dtype=npy_double)\n",
    "    cdef double[::1] data_norm = zeros(N, dtype=npy_double)\n",
    "\n",
    "    cdef double logf, nbias, count, estimate, h_n, std, mean\n",
    "    cdef Py_ssize_t i, j, k, n\n",
    "\n",
    "    for i in range(M):\n",
    "        for k in range(P):\n",
    "            std = 0.\n",
    "            mean = 0.\n",
    "            mean_sd_1d(signal[i, :, k], &mean, &std)\n",
    "            \n",
    "            if std == 0:\n",
    "                std = 1.  # ensure no division by 0\n",
    "            for j in range(N):\n",
    "                data_norm[j] = signal[i, j, k] / std\n",
    "            \n",
    "            h = histogram(data_norm, d)\n",
    "\n",
    "            if (d[0] == d[1]):  # data is constant\n",
    "                result[i] = 0.0  # no information\n",
    "                continue\n",
    "        \n",
    "            count = 0\n",
    "            estimate = 0\n",
    "\n",
    "            for n in range(<int>(d[2])):\n",
    "                h_n = h[n]\n",
    "                if h_n > 0:\n",
    "                    logf = log(h_n)\n",
    "                else:\n",
    "                    logf = 0.0\n",
    "            \n",
    "                count += h_n\n",
    "                estimate -= h_n * logf\n",
    "            \n",
    "\n",
    "            nbias = -(d[2] - 1) / (2 * count)\n",
    "            estimate = estimate / count + log(count) + log((d[1] - d[0]) / d[2]) - nbias\n",
    "\n",
    "            result[i, k] = exp(estimate**2) - 1 - 1\n",
    "\n",
    "    return res\n",
    "\n",
    "\n",
    "def SignalEntropy2(const double[:, :, :] signal):\n",
    "    cdef Py_ssize_t M = signal.shape[0], N = signal.shape[1], P = signal.shape[2]\n",
    "\n",
    "    res = zeros((M, N), dtype=npy_double)\n",
    "\n",
    "    cdef double[:, ::1] result = res\n",
    "    cdef double[::1] d = zeros(3, dtype=npy_double)\n",
    "    cdef double[::1] data_norm = zeros(P, dtype=npy_double)\n",
    "\n",
    "    cdef double logf, nbias, count, estimate, h_n, std, mean\n",
    "    cdef Py_ssize_t i, j, k, n\n",
    "\n",
    "    for i in range(M):\n",
    "        for j in range(N):\n",
    "            std = 0.\n",
    "            mean = 0.\n",
    "            mean_sd_1d(signal[i, j, :], &mean, &std)\n",
    "            \n",
    "            if std == 0:\n",
    "                std = 1.  # ensure no division by 0\n",
    "            \n",
    "            h = histogram(signal[i, j, :], d)\n",
    "            d[0] /= std\n",
    "            d[1] /= std\n",
    "\n",
    "            if (d[0] == d[1]):  # data is constant\n",
    "                result[i] = 0.0  # no information\n",
    "                continue\n",
    "        \n",
    "            count = 0\n",
    "            estimate = 0\n",
    "\n",
    "            for n in range(<int>(d[2])):\n",
    "                h_n = h[n]\n",
    "                if h_n > 0:\n",
    "                    logf = log(h_n)\n",
    "                else:\n",
    "                    logf = 0.0\n",
    "            \n",
    "                count += h_n\n",
    "                estimate -= h_n * logf\n",
    "            \n",
    "\n",
    "            nbias = -(d[2] - 1) / (2 * count)\n",
    "            estimate = estimate / count + log(count) + log((d[1] - d[0]) / d[2]) - nbias\n",
    "            result[i, j] = exp(estimate**2) - 1 - 1\n",
    "\n",
    "    return res"
   ]
  },
  {
   "cell_type": "code",
   "execution_count": 5,
   "metadata": {},
   "outputs": [],
   "source": [
    "from sigent import hist as fhist, histogram as fhistogram, signalentropy as fsignalentropy"
   ]
  },
  {
   "cell_type": "code",
   "execution_count": 10,
   "metadata": {},
   "outputs": [],
   "source": [
    "np.random.seed(5)\n",
    "x = np.random.rand(50000, 150, 3)\n",
    "xc = np.ascontiguousarray(x.transpose([0, 2, 1]))\n",
    "xf = np.asfortranarray(x.transpose([1, 2, 0]))"
   ]
  },
  {
   "cell_type": "code",
   "execution_count": 11,
   "metadata": {},
   "outputs": [
    {
     "name": "stdout",
     "output_type": "stream",
     "text": [
      "7.76 s ± 78.1 ms per loop (mean ± std. dev. of 7 runs, 1 loop each)\n"
     ]
    }
   ],
   "source": [
    "%timeit SignalEntropy(x)"
   ]
  },
  {
   "cell_type": "code",
   "execution_count": 19,
   "metadata": {},
   "outputs": [
    {
     "name": "stdout",
     "output_type": "stream",
     "text": [
      "8.18 s ± 0 ns per loop (mean ± std. dev. of 1 run, 1 loop each)\n"
     ]
    }
   ],
   "source": [
    "%timeit -n 1 -r 1 SignalEntropy2(xc)"
   ]
  },
  {
   "cell_type": "code",
   "execution_count": 13,
   "metadata": {},
   "outputs": [
    {
     "name": "stdout",
     "output_type": "stream",
     "text": [
      "35.2 ms ± 14.3 µs per loop (mean ± std. dev. of 7 runs, 10 loops each)\n",
      "138 ms ± 3.58 µs per loop (mean ± std. dev. of 7 runs, 10 loops each)\n"
     ]
    }
   ],
   "source": [
    "%timeit np.asfortranarray(x.transpose([1, 2, 0]))\n",
    "%timeit fsignalentropy(xf)"
   ]
  },
  {
   "cell_type": "code",
   "execution_count": 14,
   "metadata": {},
   "outputs": [
    {
     "data": {
      "text/plain": [
       "True"
      ]
     },
     "execution_count": 14,
     "metadata": {},
     "output_type": "execute_result"
    }
   ],
   "source": [
    "np.allclose(SignalEntropy(x[:5000]), fsignalentropy(xf[:, :, :5000]).T)"
   ]
  },
  {
   "cell_type": "code",
   "execution_count": 16,
   "metadata": {},
   "outputs": [
    {
     "data": {
      "text/plain": [
       "True"
      ]
     },
     "execution_count": 16,
     "metadata": {},
     "output_type": "execute_result"
    }
   ],
   "source": [
    "np.allclose(SignalEntropy(x[:5000]), SignalEntropy2(xc[:5000]))"
   ]
  },
  {
   "cell_type": "code",
   "execution_count": 38,
   "metadata": {},
   "outputs": [
    {
     "data": {
      "text/plain": [
       "array([[-0.99895339],\n",
       "       [-0.99965671],\n",
       "       [-0.99998348],\n",
       "       [-0.99944761],\n",
       "       [-0.9998934 ]])"
      ]
     },
     "execution_count": 38,
     "metadata": {},
     "output_type": "execute_result"
    }
   ],
   "source": [
    "fsignalentropy(xf).T"
   ]
  },
  {
   "cell_type": "code",
   "execution_count": 37,
   "metadata": {},
   "outputs": [
    {
     "data": {
      "text/plain": [
       "(5, 1, 150)"
      ]
     },
     "execution_count": 37,
     "metadata": {},
     "output_type": "execute_result"
    }
   ],
   "source": [
    "xf.T.shape"
   ]
  },
  {
   "cell_type": "code",
   "execution_count": null,
   "metadata": {},
   "outputs": [],
   "source": []
  },
  {
   "cell_type": "code",
   "execution_count": null,
   "metadata": {},
   "outputs": [],
   "source": []
  },
  {
   "cell_type": "code",
   "execution_count": null,
   "metadata": {},
   "outputs": [],
   "source": []
  },
  {
   "cell_type": "code",
   "execution_count": null,
   "metadata": {},
   "outputs": [],
   "source": []
  },
  {
   "cell_type": "code",
   "execution_count": null,
   "metadata": {},
   "outputs": [],
   "source": [
    "%%fortran\n",
    "\n",
    "subroutine fmean_sd_1d(n, x, mn, sd)\n",
    "    implicit none\n",
    "    integer(8), intent(in) :: n\n",
    "    real(8), intent(in) :: x(n)\n",
    "    real(8), intent(out) :: mn, sd\n",
    "!f2py intent(hide) :: n\n",
    "    real(8) :: k, Ex, Ex2\n",
    "    integer(8) :: i\n",
    "    \n",
    "    Ex2 = 0._8\n",
    "    mn = 0.0_8\n",
    "    k = x(1)\n",
    "    \n",
    "    do i=1, n\n",
    "        mn = mn + x(i)\n",
    "        Ex2 = Ex2 + (x(i) - k)**2\n",
    "    end do\n",
    "    ! can compute outside of loop since mean addition is the same\n",
    "    Ex = mn - (n * k)\n",
    "    \n",
    "    sd = sqrt((Ex2 - (Ex**2 / n)) / (n - 1))\n",
    "    mn = mn / n\n",
    "end subroutine\n",
    "\n",
    "subroutine fhist(n, signal, ncells, min_val, max_val, counts)\n",
    "    implicit none\n",
    "    integer(8), intent(in) :: n, ncells\n",
    "    real(8), intent(in) :: signal(n), min_val, max_val\n",
    "    integer(8), intent(out) :: counts(ncells)\n",
    "!f2py intent(hide) :: n\n",
    "    integer(8) :: i, idx\n",
    "    real(8) :: bin_width\n",
    "\n",
    "    counts = 0_8\n",
    "    \n",
    "    bin_width = (max_val - min_val) / ncells\n",
    "            \n",
    "    if (bin_width .EQ. 0.0_8) then\n",
    "        bin_width = 1.0_8  ! prevent 0 division\n",
    "    end if\n",
    "    \n",
    "    do i=1, n\n",
    "        if (.NOT. isnan(signal(i))) then\n",
    "            idx = int((signal(i) - min_val) / bin_width, 8) + 1_8\n",
    "            if (idx > ncells) then\n",
    "                idx = ncells\n",
    "            end if\n",
    "            \n",
    "            counts(idx) = counts(idx) + 1\n",
    "        end if\n",
    "    end do\n",
    "end subroutine\n",
    "\n",
    "subroutine fhistogram(n, k, signal, descriptor, counts)\n",
    "    ! k is ceiling(sqrt(n))\n",
    "    implicit none\n",
    "    integer(8), intent(in) :: n, k\n",
    "    real(8), intent(in) :: signal(n)\n",
    "    real(8), intent(inout) :: descriptor(3)\n",
    "    integer(8), intent(out) :: counts(k)\n",
    "!f2py intent(hide) :: n\n",
    "    real(8) :: min_val, max_val, delta\n",
    "    \n",
    "    min_val = minval(signal)\n",
    "    max_val = maxval(signal)\n",
    "    delta = (max_val - min_val) / (n - 1)\n",
    "    \n",
    "    descriptor(1) = min_val - delta / 2\n",
    "    descriptor(2) = max_val + delta / 2\n",
    "    descriptor(3) = real(k, 8)\n",
    "    \n",
    "    call fhist(n, signal, k, min_val, max_val, counts)\n",
    "end subroutine\n",
    "    \n",
    "\n",
    "subroutine fsignalEntropy(p, n, m, signal, sigEnt)\n",
    "    implicit none\n",
    "    integer(8), intent(in) :: p, n, m\n",
    "    real(8), intent(in) :: signal(p, n, m)\n",
    "    real(8), intent(out) :: sigEnt(p, m)\n",
    "!fp2y intent(hide) :: p, n, m\n",
    "    real(8) :: d(3), data_norm(n), logf, nbias, count\n",
    "    real(8) :: estimate, std, mean\n",
    "    integer(8) :: i, j, k, sqn\n",
    "    integer(8) :: h(ceiling(sqrt(real(n))))\n",
    "            \n",
    "    sqn = ceiling(sqrt(real(n)))\n",
    "    \n",
    "    do k=1, m\n",
    "        do i=1, p\n",
    "            std = 0._8\n",
    "            mean = 0._8\n",
    "            call fmean_sd_1d(n, signal(i, :, k), mean, std)\n",
    "            \n",
    "            if (std == 0._8) then\n",
    "                std = 1._8  ! ensure no division by 0\n",
    "            end if\n",
    "            \n",
    "            data_norm = signal(i, :, k) / std\n",
    "            \n",
    "            call fhistogram(n, sqn, data_norm, d, h)\n",
    "            \n",
    "            if (d(1) == d(2)) then\n",
    "                sigEnt(i, k) = 0._8\n",
    "            else\n",
    "                count = 0._8\n",
    "                estimate = 0._8\n",
    "\n",
    "                do j=1, int(d(3), 8)\n",
    "                    if (h(j) > 0) then\n",
    "                        logf = log(real(h(j), 8))\n",
    "                    else\n",
    "                        logf = 0._8\n",
    "                    end if\n",
    "\n",
    "                    count = count + h(j)\n",
    "                    estimate = estimate - h(j) * logf\n",
    "                end do\n",
    "\n",
    "                nbias = -(d(3) - 1) / (2 * count)\n",
    "                estimate = estimate / count + log(count) + log((d(2) - d(1)) / d(3)) - nbias\n",
    "                sigEnt(i, k) = exp(estimate**2) - 2\n",
    "            end if\n",
    "        end do\n",
    "    end do\n",
    "end subroutine\n",
    "\n",
    "\n",
    "subroutine fsignalEntropy2(m, n, p, signal, sigEnt)\n",
    "    ! # m is the signal dimension\n",
    "    ! # n is the axis dimension\n",
    "    ! # p is the window dimension\n",
    "    implicit none\n",
    "    integer(8), intent(in) :: m, n, p\n",
    "    real(8), intent(in) :: signal(m, n, p)\n",
    "    real(8), intent(out) :: sigEnt(n, p)\n",
    "!fp2y intent(hide) :: m, n, p\n",
    "    real(8) :: d(3), data_norm(m), nbias, count\n",
    "    real(8) :: estimate, std, mean\n",
    "    real(8) :: logf\n",
    "    integer(8) :: i, j, k, sqn\n",
    "    integer(8) :: h(ceiling(sqrt(real(m))))\n",
    "            \n",
    "    sqn = ceiling(sqrt(real(m)))\n",
    "    \n",
    "    do k=1, p\n",
    "        do j=1, n\n",
    "            std = 0._8\n",
    "            mean = 0._8\n",
    "            call fmean_sd_1d(m, signal(:, j, k), mean, std)\n",
    "            \n",
    "            if (std == 0._8) then\n",
    "                std = 1._8  ! ensure no division by 0\n",
    "            end if\n",
    "            \n",
    "#             data_norm = signal(:, j, k) / std\n",
    "            \n",
    "            call fhistogram(m, sqn, signal(:, j, k), d, h)\n",
    "            \n",
    "            if (d(1) == d(2)) then\n",
    "                sigEnt(j, k) = 0._8\n",
    "            else\n",
    "                count = 0._8\n",
    "                estimate = 0._8\n",
    "                \n",
    "                do i=1, int(d(3), 8)\n",
    "                    if (h(i) > 0) then\n",
    "                        logf = log(real(h(i), 8))\n",
    "                    else\n",
    "                        logf = 0._8\n",
    "                    end if\n",
    "\n",
    "                    count = count + h(i)\n",
    "                    estimate = estimate - h(i) * logf\n",
    "                end do\n",
    "\n",
    "                nbias = -(d(3) - 1) / (2 * count)\n",
    "                estimate = estimate / count + log(count) + log((d(2) - d(1)) / d(3)) - nbias\n",
    "                sigEnt(j, k) = exp(estimate**2) - 2\n",
    "            end if\n",
    "        end do\n",
    "    end do\n",
    "end subroutine\n",
    "\n",
    "subroutine fsignalEntropy3(m, n, p, signal, sigEnt)\n",
    "    ! # m is the signal dimension\n",
    "    ! # n is the axis dimension\n",
    "    ! # p is the window dimension\n",
    "    implicit none\n",
    "    integer(8), intent(in) :: m, n, p\n",
    "    real(8), intent(in) :: signal(m, n, p)\n",
    "    real(8), intent(out) :: sigEnt(n, p)\n",
    "!fp2y intent(hide) :: m, n, p\n",
    "    real(8) :: d(3), data_norm(m), nbias, count\n",
    "    real(8) :: estimate, std, mean\n",
    "    real(8) :: logf\n",
    "    integer(8) :: i, j, k, sqn\n",
    "    integer(8) :: h(ceiling(sqrt(real(m))))\n",
    "            \n",
    "    sqn = ceiling(sqrt(real(m)))\n",
    "    \n",
    "    do k=1, p\n",
    "        do j=1, n\n",
    "            std = 0._8\n",
    "            mean = 0._8\n",
    "            call fmean_sd_1d(m, signal(:, j, k), mean, std)\n",
    "            \n",
    "            if (std == 0._8) then\n",
    "                std = 1._8  ! ensure no division by 0\n",
    "            end if\n",
    "            \n",
    "#             data_norm = signal(:, j, k) / std\n",
    "            \n",
    "            call fhistogram(m, sqn, signal(:, j, k), d, h)\n",
    "            \n",
    "            if (d(1) == d(2)) then\n",
    "                sigEnt(j, k) = 0._8\n",
    "            else\n",
    "                count = 0._8\n",
    "                estimate = 0._8\n",
    "                \n",
    "                do i=1, int(d(3), 8)\n",
    "                    if (h(i) > 0) then\n",
    "                        logf = log(real(h(i), 8))\n",
    "                    else\n",
    "                        logf = 0._8\n",
    "                    end if\n",
    "\n",
    "                    count = count + h(i)\n",
    "                    estimate = estimate - h(i) * logf\n",
    "                end do\n",
    "\n",
    "                nbias = -(d(3) - 1) / (2 * count)\n",
    "                estimate = estimate / count + log(count) + log((d(2) - d(1)) / d(3)) - nbias\n",
    "                sigEnt(j, k) = exp(estimate**2) - 2\n",
    "            end if\n",
    "        end do\n",
    "    end do\n",
    "end subroutine\n",
    "    "
   ]
  },
  {
   "cell_type": "code",
   "execution_count": null,
   "metadata": {},
   "outputs": [],
   "source": [
    "%timeit fmean_sd_1d(x1d)\n",
    "%timeit fmean_sd_1d_2(x1d)"
   ]
  },
  {
   "cell_type": "code",
   "execution_count": null,
   "metadata": {},
   "outputs": [],
   "source": [
    "%timeit np.mean(x1d); np.std(x1d)"
   ]
  },
  {
   "cell_type": "code",
   "execution_count": null,
   "metadata": {},
   "outputs": [],
   "source": [
    "mn, mx, n = x1d.min(), x1d.max(), x1d.size\n",
    "k = int(np.ceil(np.sqrt(n)))\n",
    "d = np.zeros(3)"
   ]
  },
  {
   "cell_type": "code",
   "execution_count": null,
   "metadata": {},
   "outputs": [],
   "source": [
    "%timeit hist(x1d, 10, mn, mx, n)\n",
    "%timeit fhist(x1d, 10, mn, mx)"
   ]
  },
  {
   "cell_type": "code",
   "execution_count": null,
   "metadata": {},
   "outputs": [],
   "source": [
    "%timeit histogram(x1d, d)\n",
    "%timeit fhistogram(k, x1d, d)"
   ]
  },
  {
   "cell_type": "code",
   "execution_count": null,
   "metadata": {},
   "outputs": [],
   "source": [
    "%timeit SignalEntropy(x3d)\n",
    "%timeit fsignalentropy(x3d.T)"
   ]
  },
  {
   "cell_type": "code",
   "execution_count": null,
   "metadata": {},
   "outputs": [],
   "source": [
    "fsignalentropy(x3d.T)"
   ]
  },
  {
   "cell_type": "code",
   "execution_count": null,
   "metadata": {},
   "outputs": [],
   "source": [
    "SignalEntropy(x3d)"
   ]
  },
  {
   "cell_type": "code",
   "execution_count": null,
   "metadata": {},
   "outputs": [],
   "source": [
    "xb = np.random.rand(50000, 150, 3)\n",
    "xc = np.ascontiguousarray(xb.transpose([0, 2, 1]))"
   ]
  },
  {
   "cell_type": "code",
   "execution_count": null,
   "metadata": {},
   "outputs": [],
   "source": [
    "%timeit fsignalentropy(xb.T)\n",
    "%timeit fsignalentropy2(xc.T)\n",
    "%timeit fsignalentropy3(xc.T)"
   ]
  },
  {
   "cell_type": "code",
   "execution_count": null,
   "metadata": {},
   "outputs": [],
   "source": [
    "%timeit -n 1 -r 1 SignalEntropy(xb)"
   ]
  },
  {
   "cell_type": "code",
   "execution_count": null,
   "metadata": {},
   "outputs": [],
   "source": [
    "cres = SignalEntropy(xb)"
   ]
  },
  {
   "cell_type": "code",
   "execution_count": null,
   "metadata": {},
   "outputs": [],
   "source": [
    "np.allclose(fsignalentropy(xb.T).T, cres)"
   ]
  },
  {
   "cell_type": "code",
   "execution_count": null,
   "metadata": {},
   "outputs": [],
   "source": [
    "np.allclose(fsignalentropy3(xc.T).T, cres)"
   ]
  },
  {
   "cell_type": "code",
   "execution_count": null,
   "metadata": {},
   "outputs": [],
   "source": [
    "c = histogram(x1d, d)\n",
    "c1 = histogram(x1d / np.std(x1d), d)\n",
    "np.allclose(c, c1)"
   ]
  },
  {
   "cell_type": "code",
   "execution_count": null,
   "metadata": {},
   "outputs": [],
   "source": [
    "%%fortran\n",
    "\n",
    "subroutine test1(n, x, ret, ret1, t, cr)\n",
    "    implicit none\n",
    "    integer(8), intent(in) :: n\n",
    "    real(8), intent(in) :: x(n)\n",
    "    real(8), intent(out) :: ret, ret1\n",
    "    integer(8), intent(out) :: t, cr\n",
    "!f2py intent(hide) :: n\n",
    "    integer(8) :: c1, c2, cm\n",
    "    \n",
    "    call system_clock(c1, cr, cm)\n",
    "    ret = sum(x) - (n * x(1))\n",
    "    ret1 = sum((x-x(1))**2) / n\n",
    "    call system_clock(c2, cr, cm)\n",
    "    t = c2 - c1\n",
    "end subroutine\n",
    "\n",
    "subroutine test2(n, x, ret, ret1, t, cr)\n",
    "    implicit none\n",
    "    integer(8), intent(in) :: n\n",
    "    real(8), intent(in) :: x(n)\n",
    "    real(8), intent(out) :: ret, ret1\n",
    "    integer(8), intent(out) :: t, cr\n",
    "!f2py intent(hide) :: n\n",
    "    integer(8) :: i, c1, c2, cm\n",
    "    \n",
    "    call system_clock(c1, cr, cm)\n",
    "    \n",
    "    ret = 0._8\n",
    "    do i=1, n\n",
    "        ret = ret + (x(i) - x(1))\n",
    "        ret1 = ret1 + (x(i) - x(1))**2\n",
    "    end do\n",
    "    ret1 = ret1 / n\n",
    "    \n",
    "    call system_clock(c2, cr, cm)\n",
    "    t = c2 - c1\n",
    "end subroutine"
   ]
  },
  {
   "cell_type": "code",
   "execution_count": null,
   "metadata": {},
   "outputs": [],
   "source": [
    "z = np.random.rand(5000)"
   ]
  },
  {
   "cell_type": "code",
   "execution_count": null,
   "metadata": {},
   "outputs": [],
   "source": [
    "%timeit test1(z)\n",
    "%timeit test2(z)"
   ]
  },
  {
   "cell_type": "code",
   "execution_count": null,
   "metadata": {},
   "outputs": [],
   "source": [
    "t1 = []\n",
    "t2 = []\n",
    "for i in range(100000):\n",
    "    _, _, t1_, cr1 = test1(z)\n",
    "    _, _, t2_, cr2 = test2(z)\n",
    "    \n",
    "    t1.append(t1_ / cr1)\n",
    "    t2.append(t2_ / cr2)\n",
    "\n",
    "print(np.mean(t1), np.std(t1))\n",
    "print(np.mean(t2), np.std(t2))"
   ]
  },
  {
   "cell_type": "code",
   "execution_count": null,
   "metadata": {},
   "outputs": [],
   "source": [
    "%%fortran\n",
    "\n",
    "subroutine fmean_sd_1d(n, x, mn, sd)\n",
    "    implicit none\n",
    "    integer(8), intent(in) :: n\n",
    "    real(8), intent(in) :: x(n)\n",
    "    real(8), intent(out) :: mn, sd\n",
    "!f2py intent(hide) :: n, mn, sd\n",
    "    real(8) :: k, Ex, Ex2\n",
    "    integer(8) :: i\n",
    "    \n",
    "    Ex2 = 0._8\n",
    "    mn = 0.0_8\n",
    "    k = x(1)\n",
    "    \n",
    "    do i=1, n\n",
    "        mn = mn + x(i)\n",
    "        Ex2 = Ex2 + (x(i) - k)**2\n",
    "    end do\n",
    "    Ex = mn - (n * k)  ! account for not subtracting in the loop\n",
    "    \n",
    "    sd = sqrt((Ex2 - (Ex**2 / n)) / (n - 1))\n",
    "    mn = mn / n\n",
    "end subroutine\n",
    "\n",
    "\n",
    "subroutine mean_sd_3d(m, n, p, x, mn, sd)\n",
    "    ! # m is the signal dimension\n",
    "    ! # n is the axis dimension\n",
    "    ! # p is the window dimension\n",
    "    implicit none\n",
    "    integer(8), intent(in) :: m, n, p\n",
    "    real(8), intent(in) :: x(m, n, p)\n",
    "    real(8), intent(out) :: mn(n, p), sd(n, p)\n",
    "!f2py intent(hide) :: m, n, p\n",
    "    integer(8) :: i, j, k\n",
    "    real(8) :: Ex, Ex2\n",
    "            \n",
    "    mn = 0._8\n",
    "            \n",
    "    do k=1, p\n",
    "        do j=1, n\n",
    "            Ex = 0._8\n",
    "            Ex2 = 0._8\n",
    "            do i=1, m\n",
    "                mn(j, k) = mn(j, k) + x(i, j, k)\n",
    "                Ex2 = Ex2 + (x(i, j, k) - x(1, j, k))**2\n",
    "            end do\n",
    "            Ex = mn(j, k) - (m * x(1, j, k))\n",
    "            sd(j, k) = sqrt((Ex2 - (Ex**2 / m)) / (m - 1))\n",
    "        end do\n",
    "    end do\n",
    "    mn = mn / m\n",
    "end subroutine\n",
    "\n",
    "subroutine test_mean(m, n, p, x, mn, sd)\n",
    "    ! # m is the signal dimension\n",
    "    ! # n is the axis dimension\n",
    "    ! # p is the window dimension\n",
    "    implicit none\n",
    "    integer(8), intent(in) :: m, n, p\n",
    "    real(8), intent(in) :: x(m, n, p)\n",
    "    real(8), intent(out) :: mn(n, p), sd(n, p)\n",
    "!f2py intent(hide) :: m, n, p\n",
    "    integer(8) :: i, j, k\n",
    "    \n",
    "    do k=1, p\n",
    "        do j=1, n\n",
    "            call fmean_sd_1d(m, x(:, j, k), mn(j, k), sd(j, k))\n",
    "        end do\n",
    "    end do\n",
    "end subroutine"
   ]
  },
  {
   "cell_type": "code",
   "execution_count": null,
   "metadata": {},
   "outputs": [],
   "source": [
    "%timeit mean_sd_3d(xc.T)\n",
    "%timeit test_mean(xc.T)"
   ]
  },
  {
   "cell_type": "code",
   "execution_count": null,
   "metadata": {},
   "outputs": [],
   "source": [
    "np.allclose(mean_sd_3d(xc.T), test_mean(xc.T))"
   ]
  },
  {
   "cell_type": "code",
   "execution_count": null,
   "metadata": {},
   "outputs": [],
   "source": []
  }
 ],
 "metadata": {
  "kernelspec": {
   "display_name": "PfyMU",
   "language": "python",
   "name": "pfymu"
  },
  "language_info": {
   "codemirror_mode": {
    "name": "ipython",
    "version": 3
   },
   "file_extension": ".py",
   "mimetype": "text/x-python",
   "name": "python",
   "nbconvert_exporter": "python",
   "pygments_lexer": "ipython3",
   "version": "3.8.3"
  }
 },
 "nbformat": 4,
 "nbformat_minor": 4
}
