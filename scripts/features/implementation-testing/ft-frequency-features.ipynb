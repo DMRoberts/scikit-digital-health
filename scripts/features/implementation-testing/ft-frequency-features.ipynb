{
 "cells": [
  {
   "cell_type": "code",
   "execution_count": 1,
   "metadata": {},
   "outputs": [],
   "source": [
    "%load_ext cython"
   ]
  },
  {
   "cell_type": "code",
   "execution_count": 2,
   "metadata": {},
   "outputs": [],
   "source": [
    "import numpy as np"
   ]
  },
  {
   "cell_type": "code",
   "execution_count": 3,
   "metadata": {},
   "outputs": [],
   "source": [
    "%%cython\n",
    "# cython: infer_types = True\n",
    "# cython: boundscheck = False\n",
    "# cython: wraparound = False\n",
    "from numpy import fft, sum as nsum, less_equal, zeros, conjugate, argmax, real\n",
    "cimport cython\n",
    "from libc.math cimport log, pow, exp, floor, ceil\n",
    "\n",
    "\n",
    "cdef void mean_1d(const double[:] x, double* mean):\n",
    "    cdef Py_ssize_t n = x.size, i\n",
    "\n",
    "    for i in range(n):\n",
    "        mean[0] += x[i]\n",
    "    mean[0] /= n\n",
    "    \n",
    "    \n",
    "cdef double gmean(const double[:] x):\n",
    "    cdef Py_ssize_t n = x.size, i\n",
    "    cdef double logsum = 0.0, prod = 1.0\n",
    "    cdef double large = 1.e64, small = 1.e-64\n",
    "\n",
    "    for i in range(n):\n",
    "        prod *= x[i]\n",
    "        if (prod > large) or (prod < small):\n",
    "            logsum += log(prod)\n",
    "            prod = 1.\n",
    "    \n",
    "    return exp((logsum + log(prod)) / n)\n",
    "\n",
    "\n",
    "cdef linspace(double start, double stop, int N):\n",
    "    cdef double[:] arr = zeros(N)\n",
    "    cdef double step = (stop - start) / N\n",
    "    cdef Py_ssize_t i\n",
    "\n",
    "    for i in range(N):\n",
    "        arr[i] = i * step + start\n",
    "    \n",
    "    return arr\n",
    "\n",
    "\n",
    "cdef class FrequencyFeatures:\n",
    "    # private attributes\n",
    "    cdef bint base_run\n",
    "\n",
    "    cdef Py_ssize_t M, N, P, i, j, k\n",
    "\n",
    "    cdef double invlog2\n",
    "    cdef double mean\n",
    "\n",
    "    cdef double[:, :] maxf, maxfv, df_ratio, spec_flat, spec_ent\n",
    "\n",
    "    cdef int nfft, ihcut, ilcut\n",
    "    cdef long[:, :] imax\n",
    "    cdef double[:] freq\n",
    "    cdef double lic2, logps\n",
    "\n",
    "    cdef complex[:, :, :] sp_hat\n",
    "    cdef double[:, :, :] sp_norm\n",
    "    \n",
    "    def __init__(self):\n",
    "        self.base_run = False\n",
    "        self.invlog2 = 1 / log(2.0)\n",
    "\n",
    "    cpdef _base_fn(self, const double[:, :, :] x, double fs, double low_cut, double hi_cut):\n",
    "        # Book-keeping\n",
    "        self.M = x.shape[0]\n",
    "        self.N = x.shape[1]\n",
    "        self.P = x.shape[2]\n",
    "\n",
    "        self.maxf = zeros((self.M, self.P))\n",
    "        self.maxfv = zeros((self.M, self.P))\n",
    "        self.df_ratio = zeros((self.M, self.P))\n",
    "        self.spec_flat = zeros((self.M, self.P))\n",
    "        self.spec_ent = zeros((self.M, self.P))\n",
    "\n",
    "        # function\n",
    "        self.nfft = 2 ** (<int>(log(self.N) * self.invlog2))\n",
    "        self.freq = linspace(0, 0.5 * fs, self.nfft)\n",
    "\n",
    "        self.ihcut = <int>(floor(hi_cut / (fs / 2) * (self.nfft - 1)) + 1)  # high cutoff index\n",
    "        self.ilcut = <int>(ceil(low_cut / (fs / 2) * (self.nfft - 1)))  # low cutoff index\n",
    "\n",
    "        if self.ihcut > self.nfft:\n",
    "            self.ihcut = <int>(self.nfft)\n",
    "        self.lic2 = log(self.ihcut - self.ilcut) * self.invlog2\n",
    "\n",
    "        self.sp_hat = fft.fft(x, 2 * self.nfft, axis=1)\n",
    "        self.sp_norm = real(self.sp_hat[:, self.ilcut:self.ihcut, :] \n",
    "                            * conjugate(self.sp_hat[:, self.ilcut:self.ihcut, :]))\n",
    "        \n",
    "        self.sp_norm = self.sp_norm / nsum(self.sp_norm, axis=1, keepdims=True) + 1e-10\n",
    "\n",
    "        self.imax = argmax(self.sp_norm, axis=1)\n",
    "\n",
    "        # TODO uncomment, figure out how to implement\n",
    "        # self.base_run = True\n",
    "\n",
    "    cpdef get_dominant_freq(self, const double[:, :, :] x, double fs, double low_cut, double hi_cut):\n",
    "        if not self.base_run:\n",
    "            self._base_fn(x, fs, low_cut, hi_cut)\n",
    "        \n",
    "        for self.i in range(self.M):\n",
    "            for self.k in range(self.P):\n",
    "                self.maxf[self.i, self.k] = self.freq[self.imax[self.i, self.k] + self.ilcut]\n",
    "        \n",
    "        return self.maxf\n",
    "    \n",
    "    cpdef get_dominant_freq_value(self, const double[:, :, :] x, double fs, double low_cut, double hi_cut):\n",
    "        if not self.base_run:\n",
    "            self._base_fn(x, fs, low_cut, hi_cut)\n",
    "        \n",
    "        for self.i in range(self.M):\n",
    "            for self.k in range(self.P):\n",
    "                self.maxfv[self.i, self.k] = self.sp_norm[self.i, self.imax[self.i, self.k] + self.ilcut, self.k]\n",
    "        \n",
    "        return self.maxfv\n",
    "\n",
    "    cpdef get_power(self, const double[:, :, :] x, double fs, double low_cut, double hi_cut):\n",
    "        if not self.base_run:\n",
    "            self._base_fn(x, fs, low_cut, hi_cut)\n",
    "\n",
    "        # TODO remove the base run setting\n",
    "        self.base_run = True\n",
    "        _ = self.get_dominant_freq(x, fs, low_cut, hi_cut)\n",
    "        self.base_run = False  # turn off for now\n",
    "        \n",
    "        for self.i in range(self.M):\n",
    "            for self.j in range(self.ihcut - self.ilcut):\n",
    "                for self.k in range(self.P):\n",
    "                    if ((self.maxf[self.i, self.k] - 0.5) < self.freq[self.j] < (self.maxf[self.i, self.k] + 0.5)):\n",
    "                        self.df_ratio[self.i, self.k] += self.sp_norm[self.i, self.j, self.k]\n",
    "    \n",
    "        return self.df_ratio\n",
    "    \n",
    "    cpdef get_spectral_flatness(self, const double[:, :, :] x, double fs, double low_cut, double hi_cut):\n",
    "        if not self.base_run:\n",
    "            self._base_fn(x, fs, low_cut, hi_cut)\n",
    "        \n",
    "        for self.i in range(self.M):\n",
    "            for self.k in range(self.P):\n",
    "                self.mean = 0.\n",
    "                mean_1d(self.sp_norm[self.i, :, self.k], &self.mean)\n",
    "                self.spec_flat[self.i, self.k] = 10. * log(gmean(self.sp_norm[self.i, :, self.k]) / self.mean) / log(10.0)\n",
    "        \n",
    "        return self.spec_flat\n",
    "    \n",
    "    cpdef get_spectral_entropy(self, const double[:, :, :] x, double fs, double low_cut, double hi_cut):\n",
    "        if not self.base_run:\n",
    "            self._base_fn(x, fs, low_cut, hi_cut)\n",
    "        \n",
    "        for self.i in range(self.M):\n",
    "            for self.j in range(self.ihcut - self.ilcut):\n",
    "                for self.k in range(self.P):\n",
    "                    self.logps = log(self.sp_norm[self.i, self.j, self.k]) * self.invlog2\n",
    "                    self.spec_ent[self.i, self.k] -= self.logps * self.sp_norm[self.i, self.j, self.k]\n",
    "            for self.k in range(self.P):\n",
    "                self.spec_ent[self.i, self.k] /= self.lic2\n",
    "        \n",
    "        return self.spec_ent"
   ]
  },
  {
   "cell_type": "code",
   "execution_count": 4,
   "metadata": {},
   "outputs": [],
   "source": [
    "from frequency import domfreq"
   ]
  },
  {
   "cell_type": "code",
   "execution_count": 5,
   "metadata": {},
   "outputs": [],
   "source": [
    "np.random.seed(67)\n",
    "x = np.random.rand(50, 150, 3)\n",
    "xf = np.asfortranarray(x.transpose([1, 2, 0]))\n",
    "\n",
    "nfft = 2 ** int(np.log2(x.shape[1]) + 1)"
   ]
  },
  {
   "cell_type": "code",
   "execution_count": 6,
   "metadata": {},
   "outputs": [
    {
     "name": "stdout",
     "output_type": "stream",
     "text": [
      "369 µs ± 2.99 µs per loop (mean ± std. dev. of 7 runs, 1000 loops each)\n"
     ]
    }
   ],
   "source": [
    "%timeit FrequencyFeatures().get_dominant_freq(x, 50.0, 1.0, 4.0)"
   ]
  },
  {
   "cell_type": "code",
   "execution_count": 7,
   "metadata": {},
   "outputs": [
    {
     "name": "stdout",
     "output_type": "stream",
     "text": [
      "324 µs ± 38.5 ns per loop (mean ± std. dev. of 7 runs, 1000 loops each)\n"
     ]
    }
   ],
   "source": [
    "%timeit domfreq(xf, nfft, 50.0, 1.0, 4.0)"
   ]
  },
  {
   "cell_type": "code",
   "execution_count": null,
   "metadata": {},
   "outputs": [],
   "source": []
  }
 ],
 "metadata": {
  "kernelspec": {
   "display_name": "PfyMU",
   "language": "python",
   "name": "pfymu"
  },
  "language_info": {
   "codemirror_mode": {
    "name": "ipython",
    "version": 3
   },
   "file_extension": ".py",
   "mimetype": "text/x-python",
   "name": "python",
   "nbconvert_exporter": "python",
   "pygments_lexer": "ipython3",
   "version": "3.8.3"
  }
 },
 "nbformat": 4,
 "nbformat_minor": 4
}
