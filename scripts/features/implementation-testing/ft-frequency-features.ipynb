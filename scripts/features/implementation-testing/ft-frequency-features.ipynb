{
 "cells": [
  {
   "cell_type": "code",
   "execution_count": 1,
   "metadata": {},
   "outputs": [],
   "source": [
    "%load_ext cython"
   ]
  },
  {
   "cell_type": "code",
   "execution_count": 2,
   "metadata": {},
   "outputs": [],
   "source": [
    "import numpy as np"
   ]
  },
  {
   "cell_type": "code",
   "execution_count": 3,
   "metadata": {},
   "outputs": [],
   "source": [
    "%%cython\n",
    "# cython: infer_types = True\n",
    "# cython: boundscheck = False\n",
    "# cython: wraparound = False\n",
    "from numpy import fft, sum as nsum, less_equal, zeros, conjugate, argmax, real, array\n",
    "cimport cython\n",
    "from libc.math cimport log, pow, exp, floor, ceil\n",
    "\n",
    "\n",
    "cdef void mean_1d(const double[:] x, double* mean):\n",
    "    cdef Py_ssize_t n = x.size, i\n",
    "\n",
    "    for i in range(n):\n",
    "        mean[0] += x[i]\n",
    "    mean[0] /= n\n",
    "    \n",
    "    \n",
    "cdef double gmean(const double[:] x):\n",
    "    cdef Py_ssize_t n = x.size, i\n",
    "    cdef double logsum = 0.0, prod = 1.0\n",
    "    cdef double large = 1.e64, small = 1.e-64\n",
    "\n",
    "    for i in range(n):\n",
    "        prod *= x[i]\n",
    "        if (prod > large) or (prod < small):\n",
    "            logsum += log(prod)\n",
    "            prod = 1.\n",
    "    \n",
    "    return exp((logsum + log(prod)) / n)\n",
    "\n",
    "\n",
    "cdef linspace(double start, double stop, int N):\n",
    "    cdef double[:] arr = zeros(N)\n",
    "    cdef double step = (stop - start) / N\n",
    "    cdef Py_ssize_t i\n",
    "\n",
    "    for i in range(N):\n",
    "        arr[i] = i * step + start\n",
    "    \n",
    "    return arr\n",
    "\n",
    "\n",
    "cdef class FrequencyFeatures:\n",
    "    # private attributes\n",
    "    cdef bint base_run\n",
    "\n",
    "    cdef Py_ssize_t M, N, P, i, j, k\n",
    "\n",
    "    cdef double invlog2\n",
    "    cdef double mean\n",
    "\n",
    "    cdef double[:, :] maxf, maxfv, df_ratio, spec_flat, spec_ent\n",
    "\n",
    "    cdef int nfft, ihcut, ilcut\n",
    "    cdef long[:, :] imax\n",
    "    cdef double[:] freq\n",
    "    cdef double lic2, logps\n",
    "\n",
    "    cdef complex[:, :, :] sp_hat\n",
    "    cdef double[:, :, :] sp_norm\n",
    "    \n",
    "    def __init__(self):\n",
    "        self.base_run = False\n",
    "        self.invlog2 = 1 / log(2.0)\n",
    "\n",
    "    cpdef _base_fn(self, const double[:, :, :] x, double fs, double low_cut, double hi_cut):\n",
    "        # Book-keeping\n",
    "        self.M = x.shape[0]\n",
    "        self.N = x.shape[1]\n",
    "        self.P = x.shape[2]\n",
    "\n",
    "        self.maxf = zeros((self.M, self.P))\n",
    "        self.maxfv = zeros((self.M, self.P))\n",
    "        self.df_ratio = zeros((self.M, self.P))\n",
    "        self.spec_flat = zeros((self.M, self.P))\n",
    "        self.spec_ent = zeros((self.M, self.P))\n",
    "\n",
    "        # function\n",
    "        self.nfft = 2 ** (<int>(log(self.N) * self.invlog2))\n",
    "        self.freq = linspace(0, 0.5 * fs, self.nfft)\n",
    "\n",
    "        self.ihcut = <int>(floor(hi_cut / (fs / 2) * (self.nfft - 1)) + 1)  # high cutoff index\n",
    "        self.ilcut = <int>(ceil(low_cut / (fs / 2) * (self.nfft - 1)))  # low cutoff index\n",
    "\n",
    "        if self.ihcut > self.nfft:\n",
    "            self.ihcut = <int>(self.nfft)\n",
    "        self.lic2 = log(self.ihcut - self.ilcut) * self.invlog2\n",
    "\n",
    "        self.sp_hat = fft.fft(x, 2 * self.nfft, axis=1)\n",
    "        self.sp_norm = real(self.sp_hat[:, self.ilcut:self.ihcut, :] \n",
    "                            * conjugate(self.sp_hat[:, self.ilcut:self.ihcut, :]))\n",
    "        \n",
    "        self.sp_norm = self.sp_norm / nsum(self.sp_norm, axis=1, keepdims=True) + 1e-10\n",
    "\n",
    "        self.imax = argmax(self.sp_norm, axis=1)\n",
    "\n",
    "        # TODO uncomment, figure out how to implement\n",
    "        # self.base_run = True\n",
    "\n",
    "    cpdef get_dominant_freq(self, const double[:, :, :] x, double fs, double low_cut, double hi_cut):\n",
    "        if not self.base_run:\n",
    "            self._base_fn(x, fs, low_cut, hi_cut)\n",
    "    \n",
    "        for self.i in range(self.M):\n",
    "            for self.k in range(self.P):\n",
    "                self.maxf[self.i, self.k] = self.freq[self.imax[self.i, self.k] + self.ilcut]\n",
    "        \n",
    "        return self.maxf\n",
    "    \n",
    "    cpdef get_dominant_freq_value(self, const double[:, :, :] x, double fs, double low_cut, double hi_cut):\n",
    "        if not self.base_run:\n",
    "            self._base_fn(x, fs, low_cut, hi_cut)\n",
    "        \n",
    "        for self.i in range(self.M):\n",
    "            for self.k in range(self.P):\n",
    "                self.maxfv[self.i, self.k] = self.sp_norm[self.i, self.imax[self.i, self.k], self.k]\n",
    "        \n",
    "        return self.maxfv\n",
    "\n",
    "    cpdef get_power(self, const double[:, :, :] x, double fs, double low_cut, double hi_cut):\n",
    "        if not self.base_run:\n",
    "            self._base_fn(x, fs, low_cut, hi_cut)\n",
    "\n",
    "        # TODO remove the base run setting\n",
    "        self.base_run = True\n",
    "        _ = self.get_dominant_freq(x, fs, low_cut, hi_cut)\n",
    "        self.base_run = False  # turn off for now\n",
    "        \n",
    "        for self.i in range(self.M):\n",
    "            for self.j in range(self.ihcut - self.ilcut):\n",
    "                for self.k in range(self.P):\n",
    "                    if ((self.maxf[self.i, self.k] - 0.5) < self.freq[self.j + self.ilcut] < (self.maxf[self.i, self.k] + 0.5)):\n",
    "                        self.df_ratio[self.i, self.k] += self.sp_norm[self.i, self.j, self.k]\n",
    "    \n",
    "        return self.df_ratio\n",
    "    \n",
    "    cpdef get_spectral_flatness(self, const double[:, :, :] x, double fs, double low_cut, double hi_cut):\n",
    "        if not self.base_run:\n",
    "            self._base_fn(x, fs, low_cut, hi_cut)\n",
    "        \n",
    "        for self.i in range(self.M):\n",
    "            for self.k in range(self.P):\n",
    "                self.mean = 0.\n",
    "                mean_1d(self.sp_norm[self.i, :, self.k], &self.mean)\n",
    "                self.spec_flat[self.i, self.k] = 10. * log(gmean(self.sp_norm[self.i, :, self.k]) / self.mean) / log(10.0)\n",
    "        \n",
    "        return self.spec_flat\n",
    "    \n",
    "    cpdef get_spectral_entropy(self, const double[:, :, :] x, double fs, double low_cut, double hi_cut):\n",
    "        if not self.base_run:\n",
    "            self._base_fn(x, fs, low_cut, hi_cut)\n",
    "        \n",
    "        for self.i in range(self.M):\n",
    "            for self.j in range(self.ihcut - self.ilcut):\n",
    "                for self.k in range(self.P):\n",
    "                    self.logps = log(self.sp_norm[self.i, self.j, self.k]) * self.invlog2\n",
    "                    self.spec_ent[self.i, self.k] -= self.logps * self.sp_norm[self.i, self.j, self.k]\n",
    "            for self.k in range(self.P):\n",
    "                self.spec_ent[self.i, self.k] /= self.lic2\n",
    "        \n",
    "        return self.spec_ent"
   ]
  },
  {
   "cell_type": "code",
   "execution_count": 4,
   "metadata": {},
   "outputs": [],
   "source": [
    "from freq import dominantfrequency, dominantfrequencyvalue\n",
    "from freq import powerspectralsum, spectralentropy, spectralflatness"
   ]
  },
  {
   "cell_type": "code",
   "execution_count": 5,
   "metadata": {},
   "outputs": [],
   "source": [
    "from freq2 import dominantfrequency as df2, dominantfrequencyvalue as dfv2\n",
    "from freq2 import powerspectralsum as pss2, spectralentropy as se2, spectralflatness as sf2"
   ]
  },
  {
   "cell_type": "code",
   "execution_count": 8,
   "metadata": {},
   "outputs": [],
   "source": [
    "np.random.seed(67)\n",
    "x = np.random.rand(50000, 150, 3)\n",
    "xf = np.asfortranarray(x.transpose([1, 2, 0]))\n",
    "\n",
    "nfft = 2 ** int(np.log2(x.shape[1]))"
   ]
  },
  {
   "cell_type": "code",
   "execution_count": 9,
   "metadata": {},
   "outputs": [
    {
     "name": "stdout",
     "output_type": "stream",
     "text": [
      "508 ms ± 879 µs per loop (mean ± std. dev. of 7 runs, 1 loop each)\n",
      "309 ms ± 203 µs per loop (mean ± std. dev. of 7 runs, 1 loop each)\n",
      "200 ms ± 163 µs per loop (mean ± std. dev. of 7 runs, 1 loop each)\n"
     ]
    }
   ],
   "source": [
    "%timeit FrequencyFeatures().get_dominant_freq(x, 50.0, 1.0, 4.0)\n",
    "%timeit dominantfrequency(xf, nfft, 50.0, 1.0, 4.0)\n",
    "%timeit df2(xf, nfft, 50.0, 1.0, 4.0)"
   ]
  },
  {
   "cell_type": "code",
   "execution_count": 10,
   "metadata": {},
   "outputs": [
    {
     "name": "stdout",
     "output_type": "stream",
     "text": [
      "508 ms ± 116 µs per loop (mean ± std. dev. of 7 runs, 1 loop each)\n",
      "308 ms ± 129 µs per loop (mean ± std. dev. of 7 runs, 1 loop each)\n",
      "194 ms ± 30.3 µs per loop (mean ± std. dev. of 7 runs, 10 loops each)\n"
     ]
    }
   ],
   "source": [
    "%timeit FrequencyFeatures().get_dominant_freq_value(x, 50.0, 1.0, 4.0)\n",
    "%timeit dominantfrequencyvalue(xf, nfft, 50.0, 1.0, 4.0)\n",
    "%timeit dfv2(xf, nfft, 50.0, 1.0, 4.0)"
   ]
  },
  {
   "cell_type": "code",
   "execution_count": 11,
   "metadata": {},
   "outputs": [
    {
     "name": "stdout",
     "output_type": "stream",
     "text": [
      "514 ms ± 296 µs per loop (mean ± std. dev. of 7 runs, 1 loop each)\n",
      "313 ms ± 153 µs per loop (mean ± std. dev. of 7 runs, 1 loop each)\n",
      "199 ms ± 63.9 µs per loop (mean ± std. dev. of 7 runs, 10 loops each)\n"
     ]
    }
   ],
   "source": [
    "%timeit FrequencyFeatures().get_power(x, 50.0, 1.0, 4.0)\n",
    "%timeit powerspectralsum(xf, nfft, 50.0, 1.0, 4.0)\n",
    "%timeit pss2(xf, nfft, 50.0, 1.0, 4.0)"
   ]
  },
  {
   "cell_type": "code",
   "execution_count": 12,
   "metadata": {},
   "outputs": [
    {
     "name": "stdout",
     "output_type": "stream",
     "text": [
      "562 ms ± 360 µs per loop (mean ± std. dev. of 7 runs, 1 loop each)\n",
      "352 ms ± 160 µs per loop (mean ± std. dev. of 7 runs, 1 loop each)\n",
      "236 ms ± 42.9 µs per loop (mean ± std. dev. of 7 runs, 1 loop each)\n"
     ]
    }
   ],
   "source": [
    "%timeit FrequencyFeatures().get_spectral_entropy(x, 50.0, 1.0, 4.0)\n",
    "%timeit spectralentropy(xf, nfft, 50.0, 1.0, 4.0)\n",
    "%timeit se2(xf, nfft, 50.0, 1.0, 4.0)"
   ]
  },
  {
   "cell_type": "code",
   "execution_count": 13,
   "metadata": {},
   "outputs": [
    {
     "name": "stdout",
     "output_type": "stream",
     "text": [
      "597 ms ± 80.5 µs per loop (mean ± std. dev. of 7 runs, 1 loop each)\n",
      "325 ms ± 167 µs per loop (mean ± std. dev. of 7 runs, 1 loop each)\n",
      "210 ms ± 159 µs per loop (mean ± std. dev. of 7 runs, 1 loop each)\n"
     ]
    }
   ],
   "source": [
    "%timeit FrequencyFeatures().get_spectral_flatness(x, 50.0, 1.0, 4.0)\n",
    "%timeit spectralflatness(xf, nfft, 50.0, 1.0, 4.0)\n",
    "%timeit sf2(xf, nfft, 50.0, 1.0, 4.0)"
   ]
  },
  {
   "cell_type": "code",
   "execution_count": 14,
   "metadata": {},
   "outputs": [
    {
     "name": "stdout",
     "output_type": "stream",
     "text": [
      "True\n",
      "True\n",
      "True\n",
      "True\n",
      "True\n"
     ]
    }
   ],
   "source": [
    "low = 1.0\n",
    "high = 4.0\n",
    "fs = 50.0\n",
    "\n",
    "print(np.allclose(\n",
    "    dominantfrequency(xf, nfft, fs, low, high).T,\n",
    "    np.array(FrequencyFeatures().get_dominant_freq(x, fs, low, high))\n",
    "))\n",
    "\n",
    "print(np.allclose(\n",
    "    dominantfrequencyvalue(xf, nfft, fs, low, high).T,\n",
    "    np.array(FrequencyFeatures().get_dominant_freq_value(x, fs, low, high))\n",
    "))\n",
    "\n",
    "print(np.allclose(\n",
    "    powerspectralsum(xf, nfft, fs, low, high).T,\n",
    "    np.array(FrequencyFeatures().get_power(x, fs, low, high))\n",
    "))\n",
    "\n",
    "print(np.allclose(\n",
    "    spectralentropy(xf, nfft, fs, low, high).T,\n",
    "    np.array(FrequencyFeatures().get_spectral_entropy(x, fs, low, high))\n",
    "))\n",
    "\n",
    "print(np.allclose(\n",
    "    spectralflatness(xf, nfft, fs, low, high).T,\n",
    "    np.array(FrequencyFeatures().get_spectral_flatness(x, fs, low, high)),\n",
    "    atol=1e-8,\n",
    "    rtol=1e-3\n",
    "))"
   ]
  },
  {
   "cell_type": "code",
   "execution_count": 15,
   "metadata": {},
   "outputs": [
    {
     "name": "stdout",
     "output_type": "stream",
     "text": [
      "True\n",
      "True\n",
      "True\n",
      "True\n",
      "True\n"
     ]
    }
   ],
   "source": [
    "low = 1.0\n",
    "high = 4.0\n",
    "fs = 50.0\n",
    "\n",
    "print(np.allclose(\n",
    "    df2(xf, nfft, fs, low, high).T,\n",
    "    np.array(FrequencyFeatures().get_dominant_freq(x, fs, low, high))\n",
    "))\n",
    "\n",
    "print(np.allclose(\n",
    "    dfv2(xf, nfft, fs, low, high).T,\n",
    "    np.array(FrequencyFeatures().get_dominant_freq_value(x, fs, low, high))\n",
    "))\n",
    "\n",
    "print(np.allclose(\n",
    "    pss2(xf, nfft, fs, low, high).T,\n",
    "    np.array(FrequencyFeatures().get_power(x, fs, low, high))\n",
    "))\n",
    "\n",
    "print(np.allclose(\n",
    "    se2(xf, nfft, fs, low, high).T,\n",
    "    np.array(FrequencyFeatures().get_spectral_entropy(x, fs, low, high))\n",
    "))\n",
    "\n",
    "print(np.allclose(\n",
    "    sf2(xf, nfft, fs, low, high).T,\n",
    "    np.array(FrequencyFeatures().get_spectral_flatness(x, fs, low, high)),\n",
    "    atol=1e-8,\n",
    "    rtol=1e-3\n",
    "))"
   ]
  },
  {
   "cell_type": "code",
   "execution_count": 6,
   "metadata": {},
   "outputs": [],
   "source": [
    "%matplotlib widget"
   ]
  },
  {
   "cell_type": "code",
   "execution_count": 7,
   "metadata": {},
   "outputs": [],
   "source": [
    "import matplotlib.pyplot as plt"
   ]
  },
  {
   "cell_type": "code",
   "execution_count": 8,
   "metadata": {},
   "outputs": [],
   "source": [
    "from scipy.misc import electrocardiogram\n",
    "from scipy.signal import sosfiltfilt, butter"
   ]
  },
  {
   "cell_type": "code",
   "execution_count": 19,
   "metadata": {},
   "outputs": [],
   "source": [
    "sos = butter(4, 0.4 / 30, btype='high', output='sos')\n",
    "\n",
    "ecg = sosfiltfilt(sos, electrocardiogram()[::6])\n",
    "xecg = np.zeros((3, 180, 1))\n",
    "xecgf = np.asfortranarray(xecg.transpose([1, 2, 0]))\n",
    "\n",
    "for i in range(3):\n",
    "    xecg[i, :, 0] = ecg[i * 180:i * 180 + 180]\n",
    "\n",
    "\n",
    "nfft = 2 ** int(np.log2(xecg.shape[1]))\n",
    "freq = np.linspace(0, 0.5 * 60, nfft, endpoint=False)\n",
    "F = np.fft.fft(xecg, 2 * nfft, axis=1)\n",
    "ps = np.real(F[:, :nfft] * np.conjugate(F[:, :nfft]))"
   ]
  },
  {
   "cell_type": "code",
   "execution_count": 34,
   "metadata": {},
   "outputs": [],
   "source": [
    "lc = 1.13857\n",
    "hc = 6.0\n",
    "\n",
    "fs = 60.0\n",
    "\n",
    "ihc = int((np.floor(hc / (fs / 2) * (nfft - 1)) + 1))\n",
    "ilc = int((np.ceil(lc / (fs / 2) * (nfft - 1))))\n",
    "\n",
    "ps /= np.sum(ps[:, ilc:ihc], axis=1, keepdims=True)"
   ]
  },
  {
   "cell_type": "code",
   "execution_count": 35,
   "metadata": {},
   "outputs": [
    {
     "name": "stdout",
     "output_type": "stream",
     "text": [
      "[3.515625 5.859375 4.21875 ]\n"
     ]
    }
   ],
   "source": [
    "imx = np.argmax(ps[:, ilc:ihc], axis=1).ravel() + ilc\n",
    "print(freq[imx])"
   ]
  },
  {
   "cell_type": "code",
   "execution_count": 36,
   "metadata": {},
   "outputs": [
    {
     "data": {
      "text/plain": [
       "array([0.18970462, 0.21305993, 0.3106129 ])"
      ]
     },
     "execution_count": 36,
     "metadata": {},
     "output_type": "execute_result"
    }
   ],
   "source": [
    "ps[:, ilc:ihc].max(axis=1).ravel()"
   ]
  },
  {
   "cell_type": "code",
   "execution_count": 37,
   "metadata": {},
   "outputs": [
    {
     "name": "stdout",
     "output_type": "stream",
     "text": [
      "0.42277532854506256  0.34579681179352806  0.6641430484541447  "
     ]
    }
   ],
   "source": [
    "for i in range(3):\n",
    "    s = 0\n",
    "    for j in range(ilc, ihc):\n",
    "        if (freq[imx[i]] - 0.5) < freq[j] < (freq[imx[i]] + 0.5):\n",
    "            s += ps[i, j, 0]\n",
    "    print(s, end='  ')"
   ]
  },
  {
   "cell_type": "code",
   "execution_count": 38,
   "metadata": {},
   "outputs": [
    {
     "name": "stdout",
     "output_type": "stream",
     "text": [
      "[3.515625 5.859375 4.21875 ]\n",
      "[3.515625 5.859375 4.21875 ]\n"
     ]
    }
   ],
   "source": [
    "print(dominantfrequency(xecgf, nfft, 60.0, lc, hc).ravel())\n",
    "print(np.array(FrequencyFeatures().get_dominant_freq(xecg, 60.0, lc, hc)).ravel())"
   ]
  },
  {
   "cell_type": "code",
   "execution_count": 39,
   "metadata": {},
   "outputs": [
    {
     "name": "stdout",
     "output_type": "stream",
     "text": [
      "[0.18970463 0.21305992 0.31061291]\n",
      "[0.18970462 0.21305993 0.3106129 ]\n"
     ]
    }
   ],
   "source": [
    "print(dominantfrequencyvalue(xecgf, nfft, 60.0, lc, hc).ravel())\n",
    "print(np.array(FrequencyFeatures().get_dominant_freq_value(xecg, 60.0, lc, hc)).ravel())"
   ]
  },
  {
   "cell_type": "code",
   "execution_count": 40,
   "metadata": {},
   "outputs": [
    {
     "name": "stdout",
     "output_type": "stream",
     "text": [
      "[0.42277532 0.34579681 0.66414304]\n",
      "[0.42277533 0.34579681 0.66414305]\n"
     ]
    }
   ],
   "source": [
    "print(powerspectralsum(xecgf, nfft, 60.0, lc, hc).ravel())\n",
    "print(np.array(FrequencyFeatures().get_power(xecg, 60.0, lc, hc)).ravel())"
   ]
  },
  {
   "cell_type": "code",
   "execution_count": 27,
   "metadata": {},
   "outputs": [
    {
     "data": {
      "application/vnd.jupyter.widget-view+json": {
       "model_id": "6ce29735257e41139da358b57a8134a1",
       "version_major": 2,
       "version_minor": 0
      },
      "text/plain": [
       "Canvas(toolbar=Toolbar(toolitems=[('Home', 'Reset original view', 'home', 'home'), ('Back', 'Back to previous …"
      ]
     },
     "metadata": {},
     "output_type": "display_data"
    }
   ],
   "source": [
    "f, ax = plt.subplots(figsize=(10, 5))\n",
    "\n",
    "for i in range(3):\n",
    "    ax.plot(freq[:ilc+1], ps[i, :ilc+1], color=f'C{i}', alpha=0.3)\n",
    "    ax.plot(freq[ilc:ihc+1], ps[i, ilc:ihc+1], color=f'C{i}')\n",
    "    ax.plot(freq[ihc:], ps[i, ihc:], color=f'C{i}', alpha=0.3)\n",
    "    \n",
    "    imx = ps[i, ilc:ihc].argmax() + ilc\n",
    "    ax.plot(freq[imx], ps[i, imx], 'o', color=f'C{i}')"
   ]
  },
  {
   "cell_type": "code",
   "execution_count": 41,
   "metadata": {},
   "outputs": [
    {
     "data": {
      "application/vnd.jupyter.widget-view+json": {
       "model_id": "a31995b485a44c2c836e0838da72fcd0",
       "version_major": 2,
       "version_minor": 0
      },
      "text/plain": [
       "Canvas(toolbar=Toolbar(toolitems=[('Home', 'Reset original view', 'home', 'home'), ('Back', 'Back to previous …"
      ]
     },
     "metadata": {},
     "output_type": "display_data"
    }
   ],
   "source": [
    "f, ax = plt.subplots(figsize=(10, 5))\n",
    "\n",
    "for i in range(3):\n",
    "    ax.plot(np.arange(0, 3, 1/60), xecg[i])"
   ]
  },
  {
   "cell_type": "code",
   "execution_count": null,
   "metadata": {},
   "outputs": [],
   "source": []
  }
 ],
 "metadata": {
  "kernelspec": {
   "display_name": "PfyMU",
   "language": "python",
   "name": "pfymu"
  },
  "language_info": {
   "codemirror_mode": {
    "name": "ipython",
    "version": 3
   },
   "file_extension": ".py",
   "mimetype": "text/x-python",
   "name": "python",
   "nbconvert_exporter": "python",
   "pygments_lexer": "ipython3",
   "version": "3.8.3"
  }
 },
 "nbformat": 4,
 "nbformat_minor": 4
}
