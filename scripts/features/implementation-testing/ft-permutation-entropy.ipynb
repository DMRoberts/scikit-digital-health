{
 "cells": [
  {
   "cell_type": "code",
   "execution_count": 1,
   "metadata": {},
   "outputs": [],
   "source": [
    "import numpy as np"
   ]
  },
  {
   "cell_type": "code",
   "execution_count": 2,
   "metadata": {},
   "outputs": [],
   "source": [
    "def _embed(x_1d, order, delay):\n",
    "        \"\"\"\n",
    "        Time-delay embedding.\n",
    "        Parameters\n",
    "        ----------\n",
    "        x_1d : 1d-array, shape (n_times)\n",
    "            Time series\n",
    "        order : int\n",
    "            Embedding dimension (order)\n",
    "        delay : int\n",
    "            Delay.\n",
    "        Returns\n",
    "        -------\n",
    "        embedded : ndarray, shape (n_times - (order - 1) * delay, order)\n",
    "            Embedded time-series.\n",
    "        \"\"\"\n",
    "        N = x_1d.size\n",
    "        Y = np.empty((order, N - (order - 1) * delay))\n",
    "        for i in range(order):\n",
    "            Y[i] = x_1d[i * delay:i * delay + Y.shape[1]]\n",
    "        return Y.T\n",
    "    \n",
    "def permen(x, order, delay, normalize=False):\n",
    "    pe = np.zeros((x.shape[0], x.shape[2]))\n",
    "    hashmult = np.power(order, np.arange(order))\n",
    "    \n",
    "    for i in range(x.shape[0]):\n",
    "        for k in range(x.shape[2]):\n",
    "            sorted_idx = _embed(x[i, :, k], order, delay).argsort(kind='quicksort')\n",
    "            \n",
    "            # associate unique integer to each permutation\n",
    "            hashval = np.sum(np.multiply(sorted_idx, hashmult), axis=1)\n",
    "            \n",
    "            # return counts\n",
    "            _, c = np.unique(hashval, return_counts=True)\n",
    "            \n",
    "            p = c / c.sum()\n",
    "            pe[i, k] = -np.multiply(p, np.log2(p)).sum()\n",
    "    if normalize:\n",
    "        pe = pe / np.log2(np.math.factorial(order))\n",
    "    \n",
    "    return pe\n",
    "\n",
    "def permen1(x, order, delay, normalize=False):\n",
    "    hashmult = np.power(order, np.arange(order))\n",
    "    sorted_idx = _embed(x, order, delay).argsort(kind='quicksort')\n",
    "            \n",
    "    # associate unique integer to each permutation\n",
    "    hashval = np.sum(np.multiply(sorted_idx, hashmult), axis=1)\n",
    "\n",
    "    # return counts\n",
    "    _, c = np.unique(hashval, return_counts=True)\n",
    "\n",
    "    p = c / c.sum()\n",
    "    pe = -np.multiply(p, np.log2(p)).sum()\n",
    "    \n",
    "    if normalize:\n",
    "        pe = pe / np.log2(np.math.factorial(order))\n",
    "    \n",
    "    return pe"
   ]
  },
  {
   "cell_type": "code",
   "execution_count": 4,
   "metadata": {},
   "outputs": [],
   "source": [
    "from perment import embed_sort as fembed\n",
    "from perment import permutationentropy"
   ]
  },
  {
   "cell_type": "code",
   "execution_count": 6,
   "metadata": {},
   "outputs": [],
   "source": [
    "np.random.seed(51)\n",
    "x = np.random.rand(500, 150, 3)\n",
    "xf = np.asfortranarray(x.transpose([1, 2, 0]))\n",
    "\n",
    "order = 3\n",
    "delay = 1\n",
    "nrm = False"
   ]
  },
  {
   "cell_type": "code",
   "execution_count": 7,
   "metadata": {},
   "outputs": [
    {
     "data": {
      "text/plain": [
       "True"
      ]
     },
     "execution_count": 7,
     "metadata": {},
     "output_type": "execute_result"
    }
   ],
   "source": [
    "np.allclose(\n",
    "    permen(x, order, delay, nrm), \n",
    "    permutationentropy(xf, order, delay, nrm).T\n",
    ")"
   ]
  },
  {
   "cell_type": "code",
   "execution_count": 8,
   "metadata": {},
   "outputs": [
    {
     "name": "stdout",
     "output_type": "stream",
     "text": [
      "6.81 ms ± 2.91 µs per loop (mean ± std. dev. of 7 runs, 100 loops each)\n"
     ]
    }
   ],
   "source": [
    "%timeit permutationentropy(xf, order, delay, nrm)"
   ]
  },
  {
   "cell_type": "code",
   "execution_count": 9,
   "metadata": {},
   "outputs": [
    {
     "name": "stdout",
     "output_type": "stream",
     "text": [
      "78.8 ms ± 1.17 ms per loop (mean ± std. dev. of 7 runs, 10 loops each)\n"
     ]
    }
   ],
   "source": [
    "%timeit permen(x, order, delay, nrm)"
   ]
  },
  {
   "cell_type": "code",
   "execution_count": null,
   "metadata": {},
   "outputs": [],
   "source": []
  },
  {
   "cell_type": "code",
   "execution_count": null,
   "metadata": {},
   "outputs": [],
   "source": []
  },
  {
   "cell_type": "code",
   "execution_count": 10,
   "metadata": {},
   "outputs": [
    {
     "name": "stdout",
     "output_type": "stream",
     "text": [
      "16.7 µs ± 21 ns per loop (mean ± std. dev. of 7 runs, 100000 loops each)\n",
      "3.79 µs ± 9.04 ns per loop (mean ± std. dev. of 7 runs, 100000 loops each)\n"
     ]
    }
   ],
   "source": [
    "n = 500\n",
    "order = 3\n",
    "delay = 1\n",
    "\n",
    "np.random.seed(5)\n",
    "y = np.around(np.random.rand(3, n, 3), 2)\n",
    "yf = np.asfortranarray(y.transpose([1, 2, 0]))\n",
    "msi = n - (order - 1) * delay\n",
    "\n",
    "%timeit _embed(y[0, :, 0], order, delay).argsort(kind='quicksort')\n",
    "%timeit fembed(msi, yf[:, 0, 0], order, delay)"
   ]
  },
  {
   "cell_type": "code",
   "execution_count": 11,
   "metadata": {},
   "outputs": [
    {
     "data": {
      "text/plain": [
       "True"
      ]
     },
     "execution_count": 11,
     "metadata": {},
     "output_type": "execute_result"
    }
   ],
   "source": [
    "np.allclose(\n",
    "    _embed(y[0, :, 0], order, delay).argsort(kind='quicksort'), \n",
    "    fembed(msi, yf[:, 0, 0], order, delay)\n",
    ")"
   ]
  },
  {
   "cell_type": "code",
   "execution_count": null,
   "metadata": {},
   "outputs": [],
   "source": []
  },
  {
   "cell_type": "code",
   "execution_count": null,
   "metadata": {},
   "outputs": [],
   "source": []
  },
  {
   "cell_type": "code",
   "execution_count": null,
   "metadata": {},
   "outputs": [],
   "source": []
  },
  {
   "cell_type": "code",
   "execution_count": 8,
   "metadata": {},
   "outputs": [
    {
     "name": "stdout",
     "output_type": "stream",
     "text": [
      "694 ns ± 0.415 ns per loop (mean ± std. dev. of 7 runs, 1000000 loops each)\n"
     ]
    }
   ],
   "source": [
    "%timeit dpqsort(x.copy(), idx.copy())"
   ]
  },
  {
   "cell_type": "code",
   "execution_count": 9,
   "metadata": {},
   "outputs": [
    {
     "name": "stdout",
     "output_type": "stream",
     "text": [
      "800 ns ± 0.421 ns per loop (mean ± std. dev. of 7 runs, 1000000 loops each)\n"
     ]
    }
   ],
   "source": [
    "%timeit qsort(x.copy(), idx.copy())"
   ]
  },
  {
   "cell_type": "code",
   "execution_count": 10,
   "metadata": {},
   "outputs": [
    {
     "name": "stdout",
     "output_type": "stream",
     "text": [
      "1.54 µs ± 4.9 ns per loop (mean ± std. dev. of 7 runs, 1000000 loops each)\n"
     ]
    }
   ],
   "source": [
    "%timeit np.argsort(x)"
   ]
  },
  {
   "cell_type": "code",
   "execution_count": null,
   "metadata": {},
   "outputs": [],
   "source": []
  }
 ],
 "metadata": {
  "kernelspec": {
   "display_name": "PfyMU",
   "language": "python",
   "name": "pfymu"
  },
  "language_info": {
   "codemirror_mode": {
    "name": "ipython",
    "version": 3
   },
   "file_extension": ".py",
   "mimetype": "text/x-python",
   "name": "python",
   "nbconvert_exporter": "python",
   "pygments_lexer": "ipython3",
   "version": "3.8.3"
  }
 },
 "nbformat": 4,
 "nbformat_minor": 4
}
