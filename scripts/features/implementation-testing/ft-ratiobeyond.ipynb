{
 "cells": [
  {
   "cell_type": "raw",
   "metadata": {},
   "source": [
    "! --------------------------------------------------------------------\n",
    "! SUBROUTINE  autocorrelation\n",
    "!     Compute the autocorrelation of a signal with the specified lag\n",
    "! \n",
    "!     Input\n",
    "!     m            : integer(8), signal dimension\n",
    "!     n            : integer(8), axis dimension\n",
    "!     p            : integer(8), window dimension\n",
    "!     x(m, n, p)   : real(8), array to compute for\n",
    "!     lag          : integer(8), lag for the autocorrelation, in samples\n",
    "!     normalize    : logical, normalize the autocorrelation\n",
    "! \n",
    "!     Output\n",
    "!     ac(n, p) : real(8)\n",
    "! --------------------------------------------------------------------"
   ]
  },
  {
   "cell_type": "raw",
   "metadata": {},
   "source": [
    "implicit none\n",
    "    integer(8), intent(in) :: m, n, p\n",
    "    real(8), intent(in) :: x(m, n, p), r\n",
    "    real(8), intent(out) :: rbrs(n, p)\n",
    "!f2py intent(hide) :: m, n, p\n",
    "    integer(8) :: i, j, k"
   ]
  },
  {
   "cell_type": "code",
   "execution_count": 1,
   "metadata": {},
   "outputs": [],
   "source": [
    "%load_ext cython"
   ]
  },
  {
   "cell_type": "code",
   "execution_count": 2,
   "metadata": {},
   "outputs": [],
   "source": [
    "import numpy as np"
   ]
  },
  {
   "cell_type": "code",
   "execution_count": 3,
   "metadata": {},
   "outputs": [],
   "source": [
    "%%cython\n",
    "# cython: infer_types = True\n",
    "# cython: boundscheck = False\n",
    "# cython: wraparound = False\n",
    "cimport cython\n",
    "from numpy import zeros, double as npy_double\n",
    "from libc.math cimport sqrt, pow, abs\n",
    "\n",
    "\n",
    "cdef void mean_sd_1d(const double[:] x, double* mean, double* std):\n",
    "    cdef Py_ssize_t n = x.size, i\n",
    "\n",
    "    cdef double k = x[0]\n",
    "    cdef double Ex = 0., Ex2 = 0.\n",
    "    mean[0] = 0.\n",
    "\n",
    "    for i in range(n):\n",
    "        mean[0] += x[i]\n",
    "        Ex += x[i] - k\n",
    "        Ex2 += (x[i] - k)**2\n",
    "    \n",
    "    std[0] = sqrt((Ex2 - (Ex**2 / n)) / (n - 1))\n",
    "    mean[0] /= n\n",
    "\n",
    "\n",
    "def RatioBeyondRSigma(const double[:, :, :] x, double r):\n",
    "    cdef Py_ssize_t m = x.shape[0], n = x.shape[1], p = x.shape[2], i, j, k\n",
    "    xcount = zeros((m, p), dtype=npy_double, order='C')\n",
    "    cdef double[:, ::1] count = xcount\n",
    "    cdef double mu = 0., sigma = 0.\n",
    "\n",
    "    for i in range(m):\n",
    "        for k in range(p):\n",
    "            mu = 0.\n",
    "            sigma = 0.\n",
    "            mean_sd_1d(x[i, :, k], &mu, &sigma)\n",
    "            sigma *= r\n",
    "            for j in range(n):\n",
    "                if (abs(x[i, j, k] - mu) > sigma):\n",
    "                    count[i, k] += 1\n",
    "    for i in range(m):\n",
    "        for j in range(p):\n",
    "            count[i, j] /= n\n",
    "    return xcount"
   ]
  },
  {
   "cell_type": "code",
   "execution_count": 4,
   "metadata": {},
   "outputs": [],
   "source": [
    "from ratiobeyond import ratiobeyondrsigma as frbrs"
   ]
  },
  {
   "cell_type": "code",
   "execution_count": 5,
   "metadata": {},
   "outputs": [],
   "source": [
    "x = np.random.rand(50000, 150, 3)\n",
    "xf = np.asfortranarray(x.transpose([1, 2, 0]))\n",
    "\n",
    "t = np.arange(0, 150/50, 1/50)"
   ]
  },
  {
   "cell_type": "code",
   "execution_count": 6,
   "metadata": {},
   "outputs": [
    {
     "name": "stdout",
     "output_type": "stream",
     "text": [
      "130 ms ± 31.7 µs per loop (mean ± std. dev. of 7 runs, 10 loops each)\n"
     ]
    }
   ],
   "source": [
    "%timeit RatioBeyondRSigma(x, 0.5)"
   ]
  },
  {
   "cell_type": "code",
   "execution_count": 7,
   "metadata": {},
   "outputs": [
    {
     "name": "stdout",
     "output_type": "stream",
     "text": [
      "92.4 ms ± 19.5 µs per loop (mean ± std. dev. of 7 runs, 10 loops each)\n"
     ]
    }
   ],
   "source": [
    "%timeit frbrs(xf, 0.5)"
   ]
  },
  {
   "cell_type": "code",
   "execution_count": 9,
   "metadata": {},
   "outputs": [
    {
     "data": {
      "text/plain": [
       "True"
      ]
     },
     "execution_count": 9,
     "metadata": {},
     "output_type": "execute_result"
    }
   ],
   "source": [
    "np.allclose(frbrs2(xf, 0.5).T, RatioBeyondRSigma(x, 0.5))"
   ]
  },
  {
   "cell_type": "code",
   "execution_count": null,
   "metadata": {},
   "outputs": [],
   "source": []
  }
 ],
 "metadata": {
  "kernelspec": {
   "display_name": "PfyMU",
   "language": "python",
   "name": "pfymu"
  },
  "language_info": {
   "codemirror_mode": {
    "name": "ipython",
    "version": 3
   },
   "file_extension": ".py",
   "mimetype": "text/x-python",
   "name": "python",
   "nbconvert_exporter": "python",
   "pygments_lexer": "ipython3",
   "version": "3.8.3"
  }
 },
 "nbformat": 4,
 "nbformat_minor": 4
}
