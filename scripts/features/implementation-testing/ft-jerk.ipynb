{
 "cells": [
  {
   "cell_type": "code",
   "execution_count": 1,
   "metadata": {},
   "outputs": [],
   "source": [
    "%load_ext cython"
   ]
  },
  {
   "cell_type": "code",
   "execution_count": 2,
   "metadata": {},
   "outputs": [],
   "source": [
    "import numpy as np"
   ]
  },
  {
   "cell_type": "code",
   "execution_count": 3,
   "metadata": {},
   "outputs": [],
   "source": [
    "%%cython\n",
    "# cython: infer_types = True\n",
    "# cython: boundscheck = False\n",
    "# cython: wraparound = False\n",
    "cimport cython\n",
    "from numpy import zeros, double as npy_double\n",
    "from libc.math cimport abs, fmax\n",
    "\n",
    "def JerkMetric(const double[:, :, :] x, double fsample):\n",
    "    cdef Py_ssize_t m = x.shape[0], n = x.shape[1], p = x.shape[2], i, j, k\n",
    "    cdef double amplitude, scale, jsum\n",
    "\n",
    "    jerk_metric = zeros((m, p), dtype=npy_double)\n",
    "    cdef double[:, ::1] jerk = jerk_metric\n",
    "\n",
    "    for i in range(m):\n",
    "        for k in range(p):\n",
    "            jsum = 0.\n",
    "            amplitude = abs(x[i, 0, k])\n",
    "            for j in range(1, n):\n",
    "                jsum += ((x[i, j, k] - x[i, j-1, k]) * fsample)**2\n",
    "                if abs(x[i, j, k]) > amplitude:\n",
    "                    amplitude = abs(x[i, j, k])\n",
    "            \n",
    "            scale = 360. * amplitude**2\n",
    "            jerk[i, k] = jsum / (2 * scale * fsample)\n",
    "    \n",
    "    return jerk_metric\n",
    "\n",
    "\n",
    "def DimensionlessJerk(const double[:, :, :] x, unsigned int stype):\n",
    "    # stype: 1 == 'velocity', 2 == 'acceleration', 3 == 'jerk'\n",
    "    cdef Py_ssize_t m = x.shape[0], n = x.shape[1], p = x.shape[2], i, j, k\n",
    "\n",
    "    dimless_jerk = zeros((m, p), dtype=npy_double, order='C')\n",
    "    cdef double[:, ::1] jerk = dimless_jerk\n",
    "    cdef double amplitude, jsum\n",
    "\n",
    "    if stype == 1:\n",
    "        for i in range(m):\n",
    "            for k in range(p):\n",
    "                jsum = 0.\n",
    "                amplitude = fmax(abs(x[i, 0, k]), abs(x[i, n-1, k]))\n",
    "                for j in range(1, n-1):\n",
    "                    jsum += (x[i, j+1, k] - 2 * x[i, j, k] + x[i, j-1, k])**2\n",
    "                    if abs(x[i, j, k]) > amplitude:\n",
    "                        amplitude = abs(x[i, j, k])\n",
    "\n",
    "                jerk[i, k] = -(n**3 * jsum) / amplitude**2\n",
    "    elif stype == 2:\n",
    "        for i in range(m):\n",
    "            for k in range(p):\n",
    "                jsum = 0.\n",
    "                amplitude = abs(x[i, 0, k])\n",
    "                for j in range(1, n):\n",
    "                    jsum += (x[i, j, k] - x[i, j-1, k])**2\n",
    "                    if abs(x[i, j, k]) > amplitude:\n",
    "                        amplitude = abs(x[i, j, k])\n",
    "\n",
    "                jerk[i, k] = -(n * jsum) / amplitude**2\n",
    "    elif stype == 3:\n",
    "        for i in range(m):\n",
    "            for k in range(p):\n",
    "                jsum = 0.\n",
    "                amplitude = 0.\n",
    "                for j in range(n):\n",
    "                    jsum += x[i, j, k]**2\n",
    "                    if abs(x[i, j, k]) > amplitude:\n",
    "                        amplitude = abs(x[i, j, k])\n",
    "\n",
    "                jerk[i, k] = -jsum / (n * amplitude**2)\n",
    "    return dimless_jerk"
   ]
  },
  {
   "cell_type": "code",
   "execution_count": 4,
   "metadata": {},
   "outputs": [],
   "source": [
    "from jerk import jerkmetric as fjerk, dimensionlessjerkmetric as fdjerk"
   ]
  },
  {
   "cell_type": "code",
   "execution_count": 5,
   "metadata": {},
   "outputs": [],
   "source": [
    "x = np.random.rand(50000, 150, 3)\n",
    "xf = np.asfortranarray(x.transpose([1, 2, 0]))"
   ]
  },
  {
   "cell_type": "code",
   "execution_count": 7,
   "metadata": {},
   "outputs": [
    {
     "name": "stdout",
     "output_type": "stream",
     "text": [
      "27.3 ms ± 3.08 µs per loop (mean ± std. dev. of 7 runs, 10 loops each)\n"
     ]
    }
   ],
   "source": [
    "%timeit JerkMetric(x, 50.0)"
   ]
  },
  {
   "cell_type": "code",
   "execution_count": 8,
   "metadata": {},
   "outputs": [
    {
     "name": "stdout",
     "output_type": "stream",
     "text": [
      "20.1 ms ± 19.2 µs per loop (mean ± std. dev. of 7 runs, 10 loops each)\n"
     ]
    }
   ],
   "source": [
    "%timeit fjerk(xf, 50.0)"
   ]
  },
  {
   "cell_type": "code",
   "execution_count": 9,
   "metadata": {},
   "outputs": [
    {
     "data": {
      "text/plain": [
       "True"
      ]
     },
     "execution_count": 9,
     "metadata": {},
     "output_type": "execute_result"
    }
   ],
   "source": [
    "np.allclose(fjerk(xf, 50.0).T, JerkMetric(x, 50.0))"
   ]
  },
  {
   "cell_type": "code",
   "execution_count": 10,
   "metadata": {},
   "outputs": [
    {
     "name": "stdout",
     "output_type": "stream",
     "text": [
      "42.4 ms ± 18.1 µs per loop (mean ± std. dev. of 7 runs, 10 loops each)\n",
      "24.7 ms ± 27 µs per loop (mean ± std. dev. of 7 runs, 10 loops each)\n",
      "24.4 ms ± 18.5 µs per loop (mean ± std. dev. of 7 runs, 10 loops each)\n"
     ]
    }
   ],
   "source": [
    "%timeit DimensionlessJerk(x, 1)\n",
    "%timeit DimensionlessJerk(x, 2)\n",
    "%timeit DimensionlessJerk(x, 3)"
   ]
  },
  {
   "cell_type": "code",
   "execution_count": 11,
   "metadata": {},
   "outputs": [
    {
     "name": "stdout",
     "output_type": "stream",
     "text": [
      "30.4 ms ± 4.72 µs per loop (mean ± std. dev. of 7 runs, 10 loops each)\n",
      "21.6 ms ± 20.4 µs per loop (mean ± std. dev. of 7 runs, 10 loops each)\n",
      "20.2 ms ± 38.6 µs per loop (mean ± std. dev. of 7 runs, 10 loops each)\n"
     ]
    }
   ],
   "source": [
    "%timeit fdjerk(xf, 1)\n",
    "%timeit fdjerk(xf, 2)\n",
    "%timeit fdjerk(xf, 3)"
   ]
  },
  {
   "cell_type": "code",
   "execution_count": 6,
   "metadata": {},
   "outputs": [
    {
     "name": "stdout",
     "output_type": "stream",
     "text": [
      "True\n",
      "True\n",
      "True\n"
     ]
    }
   ],
   "source": [
    "print(np.allclose(fdjerk(xf, 1).T, DimensionlessJerk(x, 1)))\n",
    "print(np.allclose(fdjerk(xf, 2).T, DimensionlessJerk(x, 2)))\n",
    "print(np.allclose(fdjerk(xf, 3).T, DimensionlessJerk(x, 3)))"
   ]
  },
  {
   "cell_type": "code",
   "execution_count": null,
   "metadata": {},
   "outputs": [],
   "source": []
  }
 ],
 "metadata": {
  "kernelspec": {
   "display_name": "PfyMU",
   "language": "python",
   "name": "pfymu"
  },
  "language_info": {
   "codemirror_mode": {
    "name": "ipython",
    "version": 3
   },
   "file_extension": ".py",
   "mimetype": "text/x-python",
   "name": "python",
   "nbconvert_exporter": "python",
   "pygments_lexer": "ipython3",
   "version": "3.8.3"
  }
 },
 "nbformat": 4,
 "nbformat_minor": 4
}
