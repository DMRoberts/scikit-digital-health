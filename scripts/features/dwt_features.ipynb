{
 "cells": [
  {
   "cell_type": "code",
   "execution_count": 1,
   "metadata": {},
   "outputs": [],
   "source": [
    "%load_ext cython"
   ]
  },
  {
   "cell_type": "code",
   "execution_count": 2,
   "metadata": {},
   "outputs": [],
   "source": [
    "import numpy as np\n",
    "import pywt"
   ]
  },
  {
   "cell_type": "code",
   "execution_count": 56,
   "metadata": {},
   "outputs": [],
   "source": [
    "%%cython\n",
    "# cython: infer_types = True\n",
    "# cython: boundscheck = False\n",
    "# cython: wraparound = False\n",
    "cimport cython\n",
    "from pywt._extensions import _dwt\n",
    "from pywt._extensions._pywt import Modes\n",
    "from pywt._utils import _as_wavelet\n",
    "from numpy import zeros, ceil, sum, intc, double as ndouble\n",
    "from libc.math cimport log2\n",
    "\n",
    "\n",
    "cdef void _dwt_single(const double[:] x, int nc, double[:] cA, double[:] cD):\n",
    "    wave = _as_wavelet('coif4')\n",
    "    mode = Modes.from_object('symmetric')\n",
    "    \n",
    "    cdef double[:] cA_, cD_\n",
    "    cA_, cD_ = _dwt.dwt_single(x, wave, mode)\n",
    "    \n",
    "    cA[:nc] = cA_\n",
    "    cD[:] = cD_\n",
    "    \n",
    "\n",
    "cpdef cdetail_power(const double[:] x, double fs, double[:] f_band):\n",
    "    # parameters\n",
    "    mode = Modes.from_object('symmetric')\n",
    "    wave = _as_wavelet('coif4')\n",
    "    \n",
    "    # determine the levels we need\n",
    "    cdef int[:] levels = zeros(2, dtype=intc)\n",
    "    levels[0] = <int>ceil(log2(fs / f_band[0]))\n",
    "    levels[1] = <int>ceil(log2(fs / f_band[1]))\n",
    "    \n",
    "    if levels[0] > 10:\n",
    "        raise ValueError('Deconstruction over 10 levels not supported')\n",
    "    \n",
    "    # determine the maximum coefficient length\n",
    "    cdef int nwave = len(wave.filter_bank[0])\n",
    "    cdef int nprev, n = _dwt.dwt_coeff_len(x.size, nwave, mode)\n",
    "    \n",
    "    # allocate space for the approximation coefficients\n",
    "    cdef double[:] cA = zeros(x.size, dtype=ndouble)\n",
    "    \n",
    "    # save all the coefficients\n",
    "    cdef int[:] n_coefs = zeros(levels[0] + 1, dtype=intc)\n",
    "    n_coefs[0] = x.size\n",
    "    n_coefs[1] = n\n",
    "    \n",
    "    cdef Py_ssize_t i, lvl\n",
    "    for lvl in range(levels[0]-1, 0, -1):\n",
    "        i = levels[0] - lvl\n",
    "        n_coefs[i+1] = _dwt.dwt_coeff_len(n_coefs[i], nwave, mode)\n",
    "    \n",
    "    # space for the detail coefficients\n",
    "    cdef double[:] cD = zeros(sum(n_coefs) - x.size, dtype=ndouble)\n",
    "    cA[:] = x\n",
    "    \n",
    "    for i in range(1, levels[0]):\n",
    "        nprev = sum(n_coefs[:i-1])\n",
    "        n = sum(n_coefs[1:i])  # repurpose\n",
    "#         cA[:n_coefs[i]], cD[n:n + n_coefs[i]] = _dwt.dwt_single(cD[nprev:nprev + n_coefs[i-1]], wave, mode)\n",
    "        _dwt_single(cA[:n_coefs[i-1]], n_coefs[i], cA[:n_coefs[i]], cD[n:n + n_coefs[i]])\n",
    "    \n",
    "    return cA, cD"
   ]
  },
  {
   "cell_type": "code",
   "execution_count": 7,
   "metadata": {},
   "outputs": [],
   "source": [
    "%%cython\n",
    "# cython: infer_types = True\n",
    "# cython: boundscheck = False\n",
    "# cython: wraparound = False\n",
    "cimport cython\n",
    "import pywt\n",
    "from numpy import zeros, diff, sum, sign, ceil, intc, power\n",
    "from libc.math cimport log2\n",
    "\n",
    "cpdef cy_power(const double[::1] x, double fs, double[:] f_band):\n",
    "    cdef int[:] levels = zeros(2, dtype=intc)\n",
    "    levels[0] = <int>ceil(log2(fs / f_band[0]))\n",
    "    levels[1] = <int>ceil(log2(fs / f_band[1]))\n",
    "    \n",
    "    cA, *cD = pywt.wavedec(x, 'coif4', mode='symmetric', level=levels[0])\n",
    "    \n",
    "    for i in range(levels[0] - levels[1] + 1, levels[0]):\n",
    "        cD[i][:] = 0.0\n",
    "    \n",
    "    xr = pywt.waverec((cA,) + tuple(cD), 'coif4', mode='symmetric')\n",
    "    N = sum(diff(sign(xr)) > 0)\n",
    "    if N == 0:\n",
    "        N = 0.001  # prevent divide by 0\n",
    "    \n",
    "    cdef double pwr = 0.0\n",
    "    for i in range(levels[0] - levels[1] + 1):\n",
    "        pwr += sum(power(cD[i], 2.0))\n",
    "    \n",
    "    pwr /= N\n",
    "    return pwr"
   ]
  },
  {
   "cell_type": "code",
   "execution_count": 59,
   "metadata": {},
   "outputs": [],
   "source": [
    "def detail_power(x, fs, wave='coif4', f_band=[1, 3], levels=None):\n",
    "    if levels is None and f_band is not None:\n",
    "        f_band = np.sort(f_band)\n",
    "        levels = [\n",
    "            int(np.ceil(np.log2(fs / f_band[0]))),  # maximum level we need\n",
    "            int(np.ceil(np.log2(fs / f_band[1])))  # minimum level to include in sum\n",
    "        ]\n",
    "    \n",
    "    # TODO test effect of mode on the result\n",
    "    cA, *cD = pywt.wavedec(x, wave, mode='symmetric', level=levels[0])\n",
    "    \n",
    "    for i in range(levels[0] - levels[1] + 1, levels[0]):\n",
    "        cD[i][:] = 0.\n",
    "    \n",
    "    xr = pywt.waverec((cA,) + tuple(cD), wave, mode='symmetric')\n",
    "    N = np.sum(np.diff(np.sign(xr)) > 0)  # get the number of positive to negative crossings\n",
    "    if N == 0:\n",
    "        N = 0.001  # prevent divide by 0\n",
    "    \n",
    "    power = 0\n",
    "    for i in range(levels[0] - levels[1] + 1):\n",
    "        power += np.sum(cD[i]**2)\n",
    "    power /= N\n",
    "    \n",
    "    return power\n",
    "      \n",
    "\n",
    "def detail_power_ratio(x, fs, wave='coif4', f_band=[1, 10], levels=None):\n",
    "    if levels is None and f_band is not None:\n",
    "        f_band = np.sort(f_band)\n",
    "        levels = [\n",
    "            int(np.ceil(np.log2(fs / f_band[0]))),  # maximum level we need\n",
    "            int(np.ceil(np.log2(fs / f_band[1])))  # minimum level to include in sum\n",
    "        ]\n",
    "    \n",
    "    # TODO test effect of mode on the result\n",
    "    cA, *cD = pywt.wavedec(x, wave, mode='symmetric', level=levels[0])\n",
    "    \n",
    "    power = 0\n",
    "    for i in range(levels[0] - levels[1] + 1):\n",
    "        power += np.sum(cD[i]**2)\n",
    "    \n",
    "    power /= np.sum(x**2)\n",
    "    \n",
    "    return power * 100"
   ]
  },
  {
   "cell_type": "code",
   "execution_count": 9,
   "metadata": {},
   "outputs": [],
   "source": [
    "x = np.random.rand(150)"
   ]
  },
  {
   "cell_type": "code",
   "execution_count": 11,
   "metadata": {},
   "outputs": [
    {
     "data": {
      "text/plain": [
       "1306.437577976551"
      ]
     },
     "execution_count": 11,
     "metadata": {},
     "output_type": "execute_result"
    }
   ],
   "source": [
    "detail_power(x, 50.0, f_band=[1, 3])"
   ]
  },
  {
   "cell_type": "code",
   "execution_count": 10,
   "metadata": {},
   "outputs": [
    {
     "name": "stderr",
     "output_type": "stream",
     "text": [
      "/Users/adamol/opt/miniconda3/envs/pfymu/lib/python3.8/site-packages/pywt/_multilevel.py:43: UserWarning: Level value of 6 is too high: all coefficients will experience boundary effects.\n",
      "  warnings.warn(\n"
     ]
    },
    {
     "data": {
      "text/plain": [
       "1306.437577976551"
      ]
     },
     "execution_count": 10,
     "metadata": {},
     "output_type": "execute_result"
    }
   ],
   "source": [
    "cy_power(x, 50.0, np.array([1.0, 3.0]))"
   ]
  },
  {
   "cell_type": "code",
   "execution_count": 60,
   "metadata": {},
   "outputs": [
    {
     "name": "stdout",
     "output_type": "stream",
     "text": [
      "278 µs ± 28.2 µs per loop (mean ± std. dev. of 7 runs, 1000 loops each)\n"
     ]
    }
   ],
   "source": [
    "%timeit detail_power(x, 50, wave='coif4', f_band=[1, 3])"
   ]
  },
  {
   "cell_type": "code",
   "execution_count": null,
   "metadata": {},
   "outputs": [],
   "source": [
    "%timeit detail_power_ratio(x, 50.0, wave='coif4', levels=[6, 3])"
   ]
  },
  {
   "cell_type": "code",
   "execution_count": null,
   "metadata": {},
   "outputs": [],
   "source": [
    "detail_power_ratio(x, 50.0, levels=[6, 3])"
   ]
  },
  {
   "cell_type": "code",
   "execution_count": null,
   "metadata": {},
   "outputs": [],
   "source": [
    "len(cD)\n",
    "\n",
    "xr = (\n",
    "    pywt.upcoef('a', cA, 'coif4', level=6, take=150) + \n",
    "    pywt.upcoef('d', cD[0], 'coif4', level=6, take=150) + \n",
    "    pywt.upcoef('d', cD[1], 'coif4', level=5, take=150) +\n",
    "    pywt.upcoef('d', cD[2], 'coif4', level=4, take=150) +\n",
    "    pywt.upcoef('d', cD[3], 'coif4', level=3, take=150) +\n",
    "    pywt.upcoef('d', cD[4], 'coif4', level=2, take=150) +\n",
    "    pywt.upcoef('d', cD[5], 'coif4', level=1, take=150)\n",
    ")"
   ]
  },
  {
   "cell_type": "code",
   "execution_count": null,
   "metadata": {},
   "outputs": [],
   "source": [
    "type(cD)"
   ]
  },
  {
   "cell_type": "code",
   "execution_count": null,
   "metadata": {},
   "outputs": [],
   "source": [
    "x = np.random.rand(150)\n",
    "\n",
    "pywt.dwt_max_level(600, 'coif4')"
   ]
  },
  {
   "cell_type": "code",
   "execution_count": null,
   "metadata": {},
   "outputs": [],
   "source": [
    "np.log2(150)"
   ]
  },
  {
   "cell_type": "code",
   "execution_count": 16,
   "metadata": {},
   "outputs": [
    {
     "name": "stderr",
     "output_type": "stream",
     "text": [
      "/Users/adamol/opt/miniconda3/envs/pfymu/lib/python3.8/site-packages/pywt/_multilevel.py:43: UserWarning: Level value of 6 is too high: all coefficients will experience boundary effects.\n",
      "  warnings.warn(\n"
     ]
    }
   ],
   "source": [
    "cA, *cD = pywt.wavedec(x, 'coif4', level=6)"
   ]
  },
  {
   "cell_type": "code",
   "execution_count": null,
   "metadata": {},
   "outputs": [],
   "source": [
    "for i in range(10, 0, -1):\n",
    "    print(f'{i:2d}{50 / 2**i:7.2f}-{50 / 2**(i-1):7.2f}')"
   ]
  },
  {
   "cell_type": "code",
   "execution_count": null,
   "metadata": {},
   "outputs": [],
   "source": []
  }
 ],
 "metadata": {
  "kernelspec": {
   "display_name": "PfyMU",
   "language": "python",
   "name": "pfymu"
  },
  "language_info": {
   "codemirror_mode": {
    "name": "ipython",
    "version": 3
   },
   "file_extension": ".py",
   "mimetype": "text/x-python",
   "name": "python",
   "nbconvert_exporter": "python",
   "pygments_lexer": "ipython3",
   "version": "3.8.2"
  }
 },
 "nbformat": 4,
 "nbformat_minor": 4
}
