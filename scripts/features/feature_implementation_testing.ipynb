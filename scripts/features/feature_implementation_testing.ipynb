{
 "cells": [
  {
   "cell_type": "code",
   "execution_count": 1,
   "metadata": {},
   "outputs": [],
   "source": [
    "import numpy as np"
   ]
  },
  {
   "cell_type": "code",
   "execution_count": 32,
   "metadata": {},
   "outputs": [],
   "source": [
    "class NotAFeatureError(Exception):\n",
    "    pass\n",
    "\n",
    "class FeatureBank:\n",
    "    def __init__(self):\n",
    "        self._feat_list = []\n",
    "        \n",
    "        self.n_feats = []\n",
    "        \n",
    "        self._eq_idx = []\n",
    "    \n",
    "    def __add__(self, other):\n",
    "        if isinstance(other, Feature):\n",
    "            self._feat_list.append(DeferredFeatureResult(other, ...))\n",
    "        elif isinstance(other, DeferredFeatureResult):\n",
    "            if other in self:\n",
    "                self._feat_list.append(DeferredFeatureResult(self._feat_list[self._eq_idx].parent, other.index))\n",
    "            else:\n",
    "                self._feat_list.append(other)\n",
    "        else:\n",
    "            raise NotAFeatureError(f'Cannot add a non-Feature to the FeatureBank')\n",
    "    \n",
    "    def compute(self, x):\n",
    "        for ft in self._feat_list:\n",
    "            # need the if statement to deal with ellipsis indexes\n",
    "            if ft.n == -1:\n",
    "                if x.ndim > 1:\n",
    "                    ft.n = x.shape[1]  # 1 should always be the number of axes\n",
    "                else:\n",
    "                    ft.n = 1\n",
    "            self.n_feats.append(ft.n)\n",
    "        \n",
    "        feats = np.zeros((x.shape[0], np.sum(self.n_feats)))\n",
    "        \n",
    "        idx = 0\n",
    "        \n",
    "        for i, dfr in enumerate(self._feat_list):\n",
    "            dfr._compute(x=x)\n",
    "            \n",
    "            if self.n_feats[i] > 1:\n",
    "                feats[:, idx:idx+self.n_feats[i]] = dfr.get_result()\n",
    "            else:\n",
    "                feats[:, idx] = dfr.get_result()\n",
    "            \n",
    "            idx += self.n_feats[i]\n",
    "        \n",
    "        return feats\n",
    "            \n",
    "            \n",
    "    def __contains__(self, item):\n",
    "        isin = False\n",
    "        \n",
    "        if isinstance(item, (Feature, DeferredFeatureResult)):\n",
    "            for i, dfr in enumerate(self._feat_list):\n",
    "                comp = item == dfr\n",
    "                isin |= comp\n",
    "                \n",
    "                # save the location of the last equivalent item\n",
    "                if comp:\n",
    "                    self._eq_idx = i\n",
    "        \n",
    "        return isin\n",
    "        \n",
    "class DeferredFeatureResult:\n",
    "    def __init__(self, parent, index):\n",
    "        self.parent = parent\n",
    "        self.index = index\n",
    "        self._compute = self.parent._compute  # shortcut the compute name\n",
    "        \n",
    "        if hasattr(index, \"__len__\"):\n",
    "            self.n = len(index)\n",
    "        elif isinstance(index, type(Ellipsis)):\n",
    "            self.n = -1\n",
    "        else:\n",
    "            self.n = 1\n",
    "    \n",
    "    def get_result(self):\n",
    "        return self.parent.result[:, self.index]\n",
    "    \n",
    "    def __eq__(self, other):\n",
    "        if isinstance(other, type(self)):\n",
    "            return other.parent._eq_params == self.parent._eq_params\n",
    "        elif isinstance(other, Feature):\n",
    "            return other._eq_params == self.parent._eq_params\n",
    "        else:\n",
    "            return False\n",
    "    \n",
    "    \n",
    "class Feature:\n",
    "    def __init__(self, eq_params={}):\n",
    "        self._x = None\n",
    "        self.result = None\n",
    "        \n",
    "        self._xyz_map = {'x': 0, 'y': 1, 'z': 2}\n",
    "        self._index = []\n",
    "        \n",
    "        self._eq_params = eq_params  # needs to be overwritten to properly check equivalence\n",
    "        \n",
    "    def __eq__(self, other):\n",
    "        if isinstance(other, type(self)):\n",
    "            return other._eq_params == self._eq_params\n",
    "        elif isinstance(other, DeferredFeatureResult):\n",
    "            return other.parent._eq_params == self._eq_params\n",
    "        else:\n",
    "            return False\n",
    "        \n",
    "    def __getitem__(self, key):\n",
    "        if isinstance(key, (str, int)):\n",
    "            if key in self._xyz_map:\n",
    "                index = self._xyz_map[key]\n",
    "            else:\n",
    "                index = key\n",
    "        else:\n",
    "            if isinstance(key[0], str):\n",
    "                index = [self._xyz_map[i] for i in key]\n",
    "            else:\n",
    "                index = key\n",
    "        \n",
    "        return DeferredFeatureResult(self, index)\n",
    "    \n",
    "    def _compute(self, x=None):\n",
    "        if x is not None:\n",
    "            self._x = x\n",
    "        else:\n",
    "            if self._x is None:\n",
    "                raise ValueError('Must provide signal to analyze')\n",
    "        \n",
    "        # if the result is already defined, don't need to compute again\n",
    "        if self.result is not None:\n",
    "            return\n",
    "        \n",
    "    \n",
    "    def compute(self, x):\n",
    "        self._compute(x=x)\n",
    "        return self.result\n",
    "        \n",
    "        \n",
    "class F1(Feature):\n",
    "    def __init__(self, param1=5.0):\n",
    "        super().__init__(eq_params={'param1': param1})\n",
    "        \n",
    "        self.param1 = param1\n",
    "        \n",
    "    def _compute(self, x=None):\n",
    "        super()._compute(x=x)\n",
    "        \n",
    "        self.result = self._x + self.param1\n",
    "\n",
    "class F2(Feature):\n",
    "    def __init__(self, factor=2.5):\n",
    "        super().__init__(eq_params={'factor': factor})\n",
    "        \n",
    "        self.factor = factor\n",
    "        \n",
    "    def _compute(self, x=None):\n",
    "        super()._compute(x=x)\n",
    "        \n",
    "        self.result = -self._x * self.factor"
   ]
  },
  {
   "cell_type": "code",
   "execution_count": 33,
   "metadata": {},
   "outputs": [],
   "source": [
    "f1a = F1(param1=5.0)\n",
    "f1b = F1(param1=10.0)\n",
    "\n",
    "f2a = F2(factor=2.5)\n",
    "f2b = F2(factor=3.25)\n",
    "\n",
    "fb = FeatureBank()\n",
    "# create the list of features\n",
    "fb + f2a[0]\n",
    "fb + f1a\n",
    "fb + f1b[2]\n",
    "fb + f2b[[0, 2]]"
   ]
  },
  {
   "cell_type": "code",
   "execution_count": 34,
   "metadata": {},
   "outputs": [],
   "source": [
    "x = np.arange(15).reshape((5, 3))"
   ]
  },
  {
   "cell_type": "code",
   "execution_count": 35,
   "metadata": {},
   "outputs": [
    {
     "data": {
      "text/plain": [
       "array([[  0.  ,   5.  ,   6.  ,   7.  ,  12.  ,   0.  ,  -6.5 ],\n",
       "       [ -7.5 ,   8.  ,   9.  ,  10.  ,  15.  ,  -9.75, -16.25],\n",
       "       [-15.  ,  11.  ,  12.  ,  13.  ,  18.  , -19.5 , -26.  ],\n",
       "       [-22.5 ,  14.  ,  15.  ,  16.  ,  21.  , -29.25, -35.75],\n",
       "       [-30.  ,  17.  ,  18.  ,  19.  ,  24.  , -39.  , -45.5 ]])"
      ]
     },
     "execution_count": 35,
     "metadata": {},
     "output_type": "execute_result"
    }
   ],
   "source": [
    "fb.compute(x)"
   ]
  },
  {
   "cell_type": "code",
   "execution_count": 36,
   "metadata": {},
   "outputs": [
    {
     "name": "stdout",
     "output_type": "stream",
     "text": [
      "False\n",
      "False\n"
     ]
    }
   ],
   "source": [
    "print(f1a == f1b)\n",
    "print(f2a == f2b)"
   ]
  },
  {
   "cell_type": "code",
   "execution_count": 40,
   "metadata": {},
   "outputs": [],
   "source": [
    "bank = FeatureBank()\n",
    "\n",
    "bank + F1(param1=5.0)[[0, 2]]\n",
    "bank + F1(param1=10.0)[1]\n",
    "bank + F2()\n",
    "bank + F1(param1=5.0)[1]"
   ]
  },
  {
   "cell_type": "code",
   "execution_count": 42,
   "metadata": {},
   "outputs": [
    {
     "data": {
      "text/plain": [
       "True"
      ]
     },
     "execution_count": 42,
     "metadata": {},
     "output_type": "execute_result"
    }
   ],
   "source": [
    "bank._feat_list[-1].parent is bank._feat_list[0].parent"
   ]
  },
  {
   "cell_type": "code",
   "execution_count": null,
   "metadata": {},
   "outputs": [],
   "source": []
  }
 ],
 "metadata": {
  "kernelspec": {
   "display_name": "PfyMU",
   "language": "python",
   "name": "pfymu"
  },
  "language_info": {
   "codemirror_mode": {
    "name": "ipython",
    "version": 3
   },
   "file_extension": ".py",
   "mimetype": "text/x-python",
   "name": "python",
   "nbconvert_exporter": "python",
   "pygments_lexer": "ipython3",
   "version": "3.8.2"
  }
 },
 "nbformat": 4,
 "nbformat_minor": 4
}
