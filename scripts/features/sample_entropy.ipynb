{
 "cells": [
  {
   "cell_type": "code",
   "execution_count": 1,
   "metadata": {},
   "outputs": [],
   "source": [
    "%load_ext cython"
   ]
  },
  {
   "cell_type": "code",
   "execution_count": 2,
   "metadata": {},
   "outputs": [],
   "source": [
    "import numpy as np\n",
    "from scipy.misc import electrocardiogram"
   ]
  },
  {
   "cell_type": "code",
   "execution_count": 3,
   "metadata": {},
   "outputs": [
    {
     "ename": "NameError",
     "evalue": "name 'x' is not defined",
     "output_type": "error",
     "traceback": [
      "\u001b[0;31m---------------------------------------------------------------------------\u001b[0m",
      "\u001b[0;31mNameError\u001b[0m                                 Traceback (most recent call last)",
      "\u001b[0;32m<ipython-input-3-0d3ad1828a91>\u001b[0m in \u001b[0;36m<module>\u001b[0;34m\u001b[0m\n\u001b[1;32m      1\u001b[0m \u001b[0mm\u001b[0m \u001b[0;34m=\u001b[0m \u001b[0;36m4\u001b[0m\u001b[0;34m\u001b[0m\u001b[0;34m\u001b[0m\u001b[0m\n\u001b[1;32m      2\u001b[0m \u001b[0mr\u001b[0m \u001b[0;34m=\u001b[0m \u001b[0;36m0.5\u001b[0m\u001b[0;34m\u001b[0m\u001b[0;34m\u001b[0m\u001b[0m\n\u001b[0;32m----> 3\u001b[0;31m \u001b[0mx_\u001b[0m \u001b[0;34m=\u001b[0m \u001b[0mx\u001b[0m\u001b[0;34m[\u001b[0m\u001b[0;36m0\u001b[0m\u001b[0;34m,\u001b[0m \u001b[0;34m:\u001b[0m\u001b[0;34m,\u001b[0m \u001b[0;36m0\u001b[0m\u001b[0;34m]\u001b[0m\u001b[0;34m\u001b[0m\u001b[0;34m\u001b[0m\u001b[0m\n\u001b[0m\u001b[1;32m      4\u001b[0m \u001b[0mN\u001b[0m \u001b[0;34m=\u001b[0m \u001b[0mx_\u001b[0m\u001b[0;34m.\u001b[0m\u001b[0msize\u001b[0m\u001b[0;34m\u001b[0m\u001b[0;34m\u001b[0m\u001b[0m\n\u001b[1;32m      5\u001b[0m \u001b[0mB\u001b[0m \u001b[0;34m=\u001b[0m \u001b[0;36m0\u001b[0m\u001b[0;34m\u001b[0m\u001b[0;34m\u001b[0m\u001b[0m\n",
      "\u001b[0;31mNameError\u001b[0m: name 'x' is not defined"
     ]
    }
   ],
   "source": [
    "m = 4\n",
    "r = 0.5\n",
    "x_ = x[0, :, 0]\n",
    "N = x_.size\n",
    "B = 0\n",
    "A = 0\n",
    "\n",
    "xmi = np.array([x_[i : i + m] for i in range(N - m)])\n",
    "xmj = np.array([x_[i : i + m] for i in range(N - m + 1)])"
   ]
  },
  {
   "cell_type": "code",
   "execution_count": 36,
   "metadata": {},
   "outputs": [
    {
     "data": {
      "text/plain": [
       "81514"
      ]
     },
     "execution_count": 36,
     "metadata": {},
     "output_type": "execute_result"
    }
   ],
   "source": [
    "np.sum([np.sum(np.max(np.abs(xmii - xmj), axis=1) <= r) - 1 for xmii in xmj[:-1]])"
   ]
  },
  {
   "cell_type": "code",
   "execution_count": 3,
   "metadata": {},
   "outputs": [],
   "source": [
    "def sampen(L, m, r, v=False):\n",
    "    N = len(L)\n",
    "    B = 0.0\n",
    "    A = 0.0\n",
    "\n",
    "    # Split time series and save all templates of length m\n",
    "    xmi = np.array([L[i : i + m] for i in range(N - m)])\n",
    "    xmj = np.array([L[i : i + m] for i in range(N - m + 1)])\n",
    "\n",
    "    # Save all matches minus the self-match, compute B\n",
    "    B = np.sum([np.sum(np.abs(xmii - xmj).max(axis=1) <= r) - 1 for xmii in xmi])\n",
    "\n",
    "    # Similar for computing A\n",
    "    m += 1\n",
    "    xm = np.array([L[i : i + m] for i in range(N - m + 1)])\n",
    "\n",
    "    A = np.sum([np.sum(np.abs(xmi - xm).max(axis=1) <= r) - 1 for xmi in xm])\n",
    "\n",
    "    # Return SampEn\n",
    "    if v: print(A, B)\n",
    "    return -np.log(A / B)\n",
    "\n",
    "def sampen1(L, m, r, v=False):\n",
    "    N = len(L)\n",
    "    B = 0\n",
    "    A = 0\n",
    "    \n",
    "    for i in range(N-m):\n",
    "        X = L[i:i+m]\n",
    "        for ii in range(N-m+1):\n",
    "            if np.max(np.abs(L[ii:ii+m] - X)) <= r:\n",
    "                B += 1\n",
    "    \n",
    "    for i in range(N-m):\n",
    "        X = L[i:i+m+1]\n",
    "        for ii in range(N-m):\n",
    "            if np.max(np.abs(L[ii:ii+m+1] - X)) <= r:\n",
    "                A += 1\n",
    "    A -= N-m\n",
    "    B -= N-m\n",
    "    if v: print(A, B)\n",
    "    return -np.log(A/B)"
   ]
  },
  {
   "cell_type": "code",
   "execution_count": 5,
   "metadata": {},
   "outputs": [],
   "source": [
    "%%cython\n",
    "# cython: infer_types = True\n",
    "# cython: boundscheck = False\n",
    "# cython: wraparound = False\n",
    "import numpy as np\n",
    "cimport cython\n",
    "from libc.math cimport log, exp, ceil, sqrt, isnan, pow, abs\n",
    "\n",
    "cdef void mean_sd_1d(const double[:] x, double* mean, double* std):\n",
    "    cdef Py_ssize_t n = x.size, i\n",
    "\n",
    "    cdef double k = x[0]\n",
    "    cdef double Ex = 0., Ex2 = 0.\n",
    "    mean[0] = 0.\n",
    "\n",
    "    for i in range(n):\n",
    "        mean[0] += x[i]\n",
    "        Ex += x[i] - k\n",
    "        Ex2 += (x[i] - k)**2\n",
    "    \n",
    "    std[0] = sqrt((Ex2 - (Ex**2 / n)) / (n - 1))\n",
    "    mean[0] /= n\n",
    "\n",
    "    \n",
    "def c_sampen1(const double[:] L, int m, double r):\n",
    "    cdef Py_ssize_t N = L.size\n",
    "    cdef int A = 0, B = 0\n",
    "    \n",
    "    cdef double[::1] X = np.zeros(m+1)\n",
    "    \n",
    "    for i in range(N-m):\n",
    "        X[:m] = L[i:i+m]\n",
    "        for ii in range(N-m+1):\n",
    "            if np.max(np.abs(np.subtract(L[ii:ii+m], X[:m]))) <= r:\n",
    "                B += 1\n",
    "    \n",
    "    for i in range(N-m):\n",
    "        X[:] = L[i:i+m+1]\n",
    "        for ii in range(N-m):\n",
    "            if np.max(np.abs(np.subtract(L[ii:ii+m+1], X))) <= r:\n",
    "                A += 1\n",
    "    A -= N-m\n",
    "    B -= N-m\n",
    "    return -log(A/B)\n",
    "\n",
    "def se(const double[:] x, int L, double r, bint v):\n",
    "    cdef Py_ssize_t n = x.size\n",
    "    \n",
    "    cdef int A = 0, B = 0\n",
    "    \n",
    "    cdef int[:] run = np.zeros(n, dtype=np.intc), lastrun = np.zeros(n, dtype=np.intc)\n",
    "    \n",
    "    for j in range(n-1):\n",
    "        xj = x[j]\n",
    "        for jj in range(j+1, n):\n",
    "            if abs(x[jj] - xj) <= r:\n",
    "                run[jj-j-1] = lastrun[jj-j-1] + 1\n",
    "                if run[jj-j-1] >= L:\n",
    "                    A += 1\n",
    "                if run[jj-j-1] >= L+1:\n",
    "                    B += 1\n",
    "            else:\n",
    "                run[jj-j-1] = 0\n",
    "        for k in range(n-j-1):\n",
    "            lastrun[k] = run[k]\n",
    "    \n",
    "    if v: print(A, B)\n",
    "    \n",
    "    return -log(A/B)\n",
    "    \n",
    "    \n",
    "def sample_entropy_3d(const double[:, :, :] signal, int M, double r, bint v):\n",
    "    cdef Py_ssize_t n = signal.shape[1], k = signal.shape[2], p = signal.shape[0]\n",
    "    entropy = np.zeros((p, M, k))\n",
    "    cdef double[:, :, :] ent = entropy\n",
    "    cdef long nj, j\n",
    "    cdef long[:] run = np.zeros(n, dtype=int), lastrun = np.zeros(n, dtype=int)\n",
    "    cdef long N, M1\n",
    "    cdef double[:, :, :] A = np.zeros((p, M, k)), B = np.zeros((p, M, k))\n",
    "    cdef double Y1\n",
    "\n",
    "    cdef Py_ssize_t i, jj, mm, kk, axis, wind\n",
    "    for wind in range(p):\n",
    "        for axis in range(k):\n",
    "            run[:] = 0\n",
    "            lastrun[:] = 0\n",
    "            for i in range(n-1):\n",
    "                nj = n - i - 1\n",
    "                Y1 = signal[wind, i, axis]\n",
    "                for jj in range(nj):\n",
    "                    j = jj + i + 1\n",
    "                    if (((signal[wind, j, axis] - Y1) < r) and ((Y1 - signal[wind, j, axis]) < r)):\n",
    "                        run[jj] = lastrun[jj] + 1\n",
    "                        M1 = M if (M < run[jj]) else run[jj]\n",
    "                        for mm in range(M1):\n",
    "                            A[wind, mm, axis] += 1\n",
    "                            if (j < (n - 1)):\n",
    "                                B[wind, mm, axis] += 1\n",
    "                    else:\n",
    "                        run[jj] = 0\n",
    "                for kk in range(nj):\n",
    "                    lastrun[kk] = run[kk]\n",
    "\n",
    "    N = <long>(n * (n - 1) / 2)\n",
    "\n",
    "    for wind in range(p):\n",
    "        for axis in range(k):\n",
    "            ent[wind, 0, axis] = -log(A[wind, 0, axis] / N)\n",
    "\n",
    "            for mm in range(1, M):\n",
    "                ent[wind, mm, axis] = -log(A[wind, mm, axis] / B[wind, mm - 1, axis])\n",
    "    if v: print(np.array(A), np.array(B))\n",
    "    return entropy"
   ]
  },
  {
   "cell_type": "code",
   "execution_count": 6,
   "metadata": {},
   "outputs": [
    {
     "name": "stdout",
     "output_type": "stream",
     "text": [
      "(108000,)\n"
     ]
    }
   ],
   "source": [
    "x = electrocardiogram()\n",
    "print(x.shape)"
   ]
  },
  {
   "cell_type": "code",
   "execution_count": 12,
   "metadata": {},
   "outputs": [
    {
     "name": "stdout",
     "output_type": "stream",
     "text": [
      "48904480 50349924\n",
      "0.029128101903168637\n"
     ]
    }
   ],
   "source": [
    "print(sampen(x[:10000].flatten(), 4, 0.5, True))\n",
    "# print(sampen1(x.flatten(), 4, 0.5, True))\n",
    "# print(c_sampen1(x.flatten(), 4, 0.5))"
   ]
  },
  {
   "cell_type": "code",
   "execution_count": 13,
   "metadata": {},
   "outputs": [
    {
     "name": "stdout",
     "output_type": "stream",
     "text": [
      "[[[27756290.]\n",
      "  [26766596.]\n",
      "  [25835983.]\n",
      "  [24996454.]]] [[[27749192.]\n",
      "  [26759617.]\n",
      "  [25829107.]\n",
      "  [24989672.]]]\n"
     ]
    },
    {
     "data": {
      "text/plain": [
       "array([[[0.58846052],\n",
       "        [0.03605203],\n",
       "        [0.03512571],\n",
       "        [0.03276806]]])"
      ]
     },
     "execution_count": 13,
     "metadata": {},
     "output_type": "execute_result"
    }
   ],
   "source": [
    "sample_entropy_3d(x[:10000].reshape((1, -1, 1)), 4, 0.5, True)"
   ]
  },
  {
   "cell_type": "code",
   "execution_count": 65,
   "metadata": {},
   "outputs": [
    {
     "name": "stdout",
     "output_type": "stream",
     "text": [
      "39.7 ms ± 1.89 ms per loop (mean ± std. dev. of 7 runs, 10 loops each)\n"
     ]
    }
   ],
   "source": [
    "%timeit sampen(x[0, :, 0], 4, 0.5)"
   ]
  },
  {
   "cell_type": "code",
   "execution_count": 68,
   "metadata": {},
   "outputs": [
    {
     "name": "stdout",
     "output_type": "stream",
     "text": [
      "1.79 ms ± 46 µs per loop (mean ± std. dev. of 7 runs, 100 loops each)\n"
     ]
    }
   ],
   "source": [
    "%timeit sample_entropy_3d(x, 4, 0.5, False)"
   ]
  },
  {
   "cell_type": "code",
   "execution_count": null,
   "metadata": {},
   "outputs": [],
   "source": []
  }
 ],
 "metadata": {
  "kernelspec": {
   "display_name": "PfyMU",
   "language": "python",
   "name": "pfymu"
  },
  "language_info": {
   "codemirror_mode": {
    "name": "ipython",
    "version": 3
   },
   "file_extension": ".py",
   "mimetype": "text/x-python",
   "name": "python",
   "nbconvert_exporter": "python",
   "pygments_lexer": "ipython3",
   "version": "3.8.2"
  }
 },
 "nbformat": 4,
 "nbformat_minor": 4
}
