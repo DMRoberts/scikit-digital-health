{
 "cells": [
  {
   "cell_type": "markdown",
   "metadata": {},
   "source": [
    "For the DFT at time n, with a N-point window:\n",
    "$$X_n(k) = \\sum_{m=0}^{N-1}x(n+m)e^{-j2\\pi km/N}$$\n",
    "\n",
    "the DFT for time $n + l$ is then:\n",
    "\n",
    "$$X_{n+l}(k) = \\sum_{m=0}^{N-1}x(m+n+l)e^{-j2\\pi km/N}$$\n",
    "$$X_{n+l}(k) = \\sum_{m=l}^{N-1+l}x(m+n)e^{-j2\\pi k(m-l)/N}$$"
   ]
  },
  {
   "cell_type": "markdown",
   "metadata": {},
   "source": [
    "$$X_{n+l}(k) = \\sum_{m=l}^{N-1+l}x(m+n)e^{-j2\\pi km/N}e^{j2\\pi kl/N}$$\n",
    "$$X_{n+l}(k) = e^{j2\\pi kl/N}\\sum_{m=l}^{N-1+l}x(m+n)e^{-j2\\pi km/N}$$\n",
    "\n",
    "Have to get the sum to start at 0 and end at N-1 so it can be substituted for the original DFT $X_n(k)$"
   ]
  },
  {
   "cell_type": "markdown",
   "metadata": {},
   "source": [
    "$$X_{n+l}(k) = e^{j2\\pi kl/N}\\left[\\sum_{m=0}^{N-1+l}x(m+n)e^{-j2\\pi km/N} - \\sum_{m=0}^{l-1}x(m+n)e^{-j2\\pi km/N}\\right]$$\n",
    "$$X_{n+l}(k) = e^{j2\\pi kl/N}\\left[\\sum_{m=0}^{N-1}x(m+n)e^{-j2\\pi km/N} - \\sum_{m=0}^{l-1}x(m+n)e^{-j2\\pi km/N} + \\sum_{m=N}^{N-1+l}x(m+n)e^{-j2\\pi km/N}\\right]$$"
   ]
  },
  {
   "cell_type": "markdown",
   "metadata": {},
   "source": [
    "$$X_{n+l}(k) = e^{j2\\pi kl/N}\\left[X_n(k) - \\sum_{m=0}^{l-1}x(m+n)e^{-j2\\pi km/N} + \\sum_{m=N}^{N-1+l}x(m+n)e^{-j2\\pi km/N}\\right]$$"
   ]
  },
  {
   "cell_type": "markdown",
   "metadata": {},
   "source": [
    "### For $l=1$ case:\n",
    "\n",
    "$$X_{n+l}(k) = e^{j2\\pi k/N}\\left[X_n(k) - \\sum_{m=0}^{0}x(m+n)e^{-j2\\pi km/N} + \\sum_{m=N}^{N}x(m+n)e^{-j2\\pi km/N}\\right]$$\n",
    "$$X_{n+l}(k) = e^{j2\\pi k/N}\\left[X_n(k) - x(0+n)e^{-j2\\pi k(0)/N} + x(N+n)e^{-j2\\pi k(N)/N}\\right]$$\n",
    "$$X_{n+l}(k) = e^{j2\\pi k/N}\\left[X_n(k) - x(n) + x(N+n)e^{-j2\\pi k}\\right]$$"
   ]
  },
  {
   "cell_type": "markdown",
   "metadata": {},
   "source": [
    "### Expanding the sums:\n",
    "\n",
    "$$X_{n+l}(k) = e^{j2\\pi kl/N}\\left[X_n(k) - \\sum_{m=0}^{l-1}x(m+n)e^{-j2\\pi km/N} + \\sum_{m=N}^{N-1+l}x(m+n)e^{-j2\\pi km/N}\\right]$$\n",
    "\n",
    "$$\\sum_{m=0}^{l-1}x(m+n)e^{-j2\\pi km/N} = x(n)e^{-j2\\pi k(0)/N} + x(n+1)e^{-j2\\pi k(1)/N} + x(n+2)e^{-j2\\pi k(2)/N} + ...$$\n",
    "$$\\sum_{m=0}^{l-1}x(m+n)e^{-j2\\pi km/N} = \\sum_{m=0}^{l-1}x(m+n)\\left(e^{-j2\\pi k/N}\\right)^m$$"
   ]
  },
  {
   "cell_type": "code",
   "execution_count": 1,
   "metadata": {},
   "outputs": [],
   "source": [
    "import numpy as np\n",
    "import matplotlib.pyplot as plt"
   ]
  },
  {
   "cell_type": "code",
   "execution_count": 2,
   "metadata": {},
   "outputs": [],
   "source": [
    "N = 1500\n",
    "win_len = 400\n",
    "nfft = 512\n",
    "step = 300\n",
    "\n",
    "x = np.random.rand(N)\n",
    "xw = np.zeros((int((N - win_len)/step + 1), win_len))\n",
    "\n",
    "for i in range(0, N - win_len, step):\n",
    "    j = int((i + 1) / step)\n",
    "    xw[j, :] = x[i:i+win_len]"
   ]
  },
  {
   "cell_type": "code",
   "execution_count": 3,
   "metadata": {},
   "outputs": [],
   "source": [
    "F_py = np.fft.fft(xw, n=512, axis=1)"
   ]
  },
  {
   "cell_type": "code",
   "execution_count": 4,
   "metadata": {},
   "outputs": [],
   "source": [
    "from wfft import win_fft"
   ]
  },
  {
   "cell_type": "code",
   "execution_count": 5,
   "metadata": {},
   "outputs": [],
   "source": [
    "F_f = win_fft(x, 512, win_len, step)"
   ]
  },
  {
   "cell_type": "code",
   "execution_count": 6,
   "metadata": {},
   "outputs": [
    {
     "name": "stdout",
     "output_type": "stream",
     "text": [
      "[194.88418683 +0.j         -43.31951463-32.12184533j\n",
      "  -8.12931487-36.65467998j   7.77990942-18.58119877j\n",
      "   3.16917619 -1.88202656j  -1.00883972 +1.77419285j\n",
      "  -7.9933367  -5.34035235j  -1.36564811 -9.47493307j\n",
      "   7.2560757  +0.29706776j   8.50195351 -1.34220907j]\n",
      "[194.88418683 +0.j         -43.31951463-32.12184533j\n",
      "  -8.12931487-36.65467998j   7.77990942-18.58119877j\n",
      "   3.16917619 -1.88202656j  -1.00883972 +1.77419285j\n",
      "  -7.9933367  -5.34035235j  -1.36564811 -9.47493307j\n",
      "   7.2560757  +0.29706776j   8.50195351 -1.34220907j]\n"
     ]
    }
   ],
   "source": [
    "print(F_py[0, :10])\n",
    "print(F_f[0, :10])"
   ]
  },
  {
   "cell_type": "code",
   "execution_count": 7,
   "metadata": {},
   "outputs": [
    {
     "name": "stdout",
     "output_type": "stream",
     "text": [
      "25.9 µs ± 1.11 µs per loop (mean ± std. dev. of 7 runs, 10000 loops each)\n"
     ]
    }
   ],
   "source": [
    "%timeit np.fft.fft(xw, n=512, axis=1)"
   ]
  },
  {
   "cell_type": "code",
   "execution_count": 8,
   "metadata": {},
   "outputs": [
    {
     "name": "stdout",
     "output_type": "stream",
     "text": [
      "66.2 µs ± 1.48 µs per loop (mean ± std. dev. of 7 runs, 10000 loops each)\n"
     ]
    }
   ],
   "source": [
    "%timeit win_fft(x, 512, win_len, step)"
   ]
  },
  {
   "cell_type": "code",
   "execution_count": null,
   "metadata": {},
   "outputs": [],
   "source": []
  }
 ],
 "metadata": {
  "kernelspec": {
   "display_name": "PfyMU",
   "language": "python",
   "name": "pfymu"
  },
  "language_info": {
   "codemirror_mode": {
    "name": "ipython",
    "version": 3
   },
   "file_extension": ".py",
   "mimetype": "text/x-python",
   "name": "python",
   "nbconvert_exporter": "python",
   "pygments_lexer": "ipython3",
   "version": "3.8.2"
  }
 },
 "nbformat": 4,
 "nbformat_minor": 4
}
