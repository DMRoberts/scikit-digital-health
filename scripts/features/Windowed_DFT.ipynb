{
 "cells": [
  {
   "cell_type": "markdown",
   "metadata": {},
   "source": [
    "For the DFT at time n, with a N-point window:\n",
    "$$X_n(k) = \\sum_{m=0}^{N-1}x(n+m)e^{-j2\\pi km/N}$$\n",
    "\n",
    "the DFT for time $n + l$ is then:\n",
    "\n",
    "$$X_{n+l}(k) = \\sum_{m=0}^{N-1}x(m+n+l)e^{-j2\\pi km/N}$$\n",
    "$$X_{n+l}(k) = \\sum_{m=l}^{N-1+l}x(m+n)e^{-j2\\pi k(m-l)/N}$$"
   ]
  },
  {
   "cell_type": "markdown",
   "metadata": {},
   "source": [
    "$$X_{n+l}(k) = \\sum_{m=l}^{N-1+l}x(m+n)e^{-j2\\pi km/N}e^{j2\\pi kl/N}$$\n",
    "$$X_{n+l}(k) = e^{j2\\pi kl/N}\\sum_{m=l}^{N-1+l}x(m+n)e^{-j2\\pi km/N}$$\n",
    "\n",
    "Have to get the sum to start at 0 and end at N-1 so it can be substituted for the original DFT $X_n(k)$"
   ]
  },
  {
   "cell_type": "markdown",
   "metadata": {},
   "source": [
    "$$X_{n+l}(k) = e^{j2\\pi kl/N}\\left[\\sum_{m=0}^{N-1+l}x(m+n)e^{-j2\\pi km/N} - \\sum_{m=0}^{l-1}x(m+n)e^{-j2\\pi km/N}\\right]$$\n",
    "$$X_{n+l}(k) = e^{j2\\pi kl/N}\\left[\\sum_{m=0}^{N-1}x(m+n)e^{-j2\\pi km/N} - \\sum_{m=0}^{l-1}x(m+n)e^{-j2\\pi km/N} + \\sum_{m=N}^{N-1+l}x(m+n)e^{-j2\\pi km/N}\\right]$$"
   ]
  },
  {
   "cell_type": "markdown",
   "metadata": {},
   "source": [
    "$$X_{n+l}(k) = e^{j2\\pi kl/N}\\left[X_n(k) - \\sum_{m=0}^{l-1}x(m+n)e^{-j2\\pi km/N} + \\sum_{m=N}^{N-1+l}x(m+n)e^{-j2\\pi km/N}\\right]$$"
   ]
  },
  {
   "cell_type": "markdown",
   "metadata": {},
   "source": [
    "### For $l=1$ case:\n",
    "\n",
    "Identity: for any $k$\n",
    "$$e^{-j2\\pi k} = 1 $$\n",
    "\n",
    "Simplification:\n",
    "\n",
    "$$X_{n+l}(k) = e^{j2\\pi k/N}\\left[X_n(k) - \\sum_{m=0}^{0}x(m+n)e^{-j2\\pi km/N} + \\sum_{m=N}^{N}x(m+n)e^{-j2\\pi km/N}\\right]$$\n",
    "$$X_{n+l}(k) = e^{j2\\pi k/N}\\left[X_n(k) - x(0+n)e^{-j2\\pi k(0)/N} + x(N+n)e^{-j2\\pi k(N)/N}\\right]$$\n",
    "$$X_{n+l}(k) = e^{j2\\pi k/N}\\left[X_n(k) - x(n) + x(N+n)\\right]$$"
   ]
  },
  {
   "cell_type": "markdown",
   "metadata": {},
   "source": [
    "### For the $l=2$ case:\n",
    "\n",
    "$$X_{n+l}(k) = e^{j2\\pi kl/N}\\left[X_n(k) - \\sum_{m=0}^{l-1}x(m+n)e^{-j2\\pi km/N} + \\sum_{m=N}^{N-1+l}x(m+n)e^{-j2\\pi km/N}\\right]$$\n",
    "$$X_{n+2}(k) = e^{j2\\pi k(2)/N}\\left[X_n(k) - \\sum_{m=0}^{2-1}x(m+n)e^{-j2\\pi km/N} + \\sum_{m=N}^{N-1+2}x(m+n)e^{-j2\\pi km/N}\\right]$$\n",
    "$$X_{n+2}(k) = e^{j2(2)\\pi k/N}\\left[X_n(k) - \\sum_{m=0}^{1}x(m+n)e^{-j2\\pi km/N} + \\sum_{m=N}^{N+1}x(m+n)e^{-j2\\pi km/N}\\right]$$"
   ]
  },
  {
   "cell_type": "markdown",
   "metadata": {},
   "source": [
    "$$X_{n+2}(k) = e^{j2(2)\\pi k/N}\\left[X_n(k) - \\left(x(0+n)e^{-j2\\pi k(0)/N} + x(1+n)e^{-j2\\pi k(1)/N}\\right) + \\left(x(N+n)e^{-j2\\pi kN/N} + x(N+1+n)e^{-j2\\pi k(N+1)/N}\\right)\\right]$$\n",
    "$$X_{n+2}(k) = e^{j2(2)\\pi k/N}\\left[X_n(k) - \\left(x(n) + x(1+n)e^{-j2\\pi k/N}\\right) + \\left(x(N+n) + x(N+1+n)e^{-j2\\pi k(N+1)/N}\\right)\\right]$$"
   ]
  },
  {
   "cell_type": "markdown",
   "metadata": {},
   "source": [
    "### Expanding the sums:\n",
    "\n",
    "$$X_{n+l}(k) = e^{j2\\pi kl/N}\\left[X_n(k) - \\sum_{m=0}^{l-1}x(m+n)e^{-j2\\pi km/N} + \\sum_{m=N}^{N-1+l}x(m+n)e^{-j2\\pi km/N}\\right]$$\n",
    "\n",
    "$$\\sum_{m=0}^{l-1}x(m+n)e^{-j2\\pi km/N} = x(n)e^{-j2\\pi k(0)/N} + x(n+1)e^{-j2\\pi k(1)/N} + x(n+2)e^{-j2\\pi k(2)/N} + ...$$\n",
    "$$\\sum_{m=0}^{l-1}x(m+n)e^{-j2\\pi km/N} = \\sum_{m=0}^{l-1}x(m+n)\\left(e^{-j2\\pi k/N}\\right)^m$$"
   ]
  },
  {
   "cell_type": "code",
   "execution_count": 1,
   "metadata": {},
   "outputs": [],
   "source": [
    "import numpy as np\n",
    "import matplotlib.pyplot as plt"
   ]
  },
  {
   "cell_type": "code",
   "execution_count": 2,
   "metadata": {},
   "outputs": [],
   "source": [
    "N = 1500\n",
    "win_len = 400\n",
    "nfft = 512\n",
    "step = 300\n",
    "\n",
    "x = np.random.rand(N)\n",
    "xw = np.zeros((int((N - win_len)/step + 1), win_len))\n",
    "\n",
    "for i in range(0, N - win_len, step):\n",
    "    j = int((i + 1) / step)\n",
    "    xw[j, :] = x[i:i+win_len]"
   ]
  },
  {
   "cell_type": "code",
   "execution_count": 6,
   "metadata": {},
   "outputs": [],
   "source": [
    "F_py = np.fft.fft(xw, n=512, axis=1)"
   ]
  },
  {
   "cell_type": "code",
   "execution_count": 3,
   "metadata": {},
   "outputs": [],
   "source": [
    "from wfft import win_fft\n",
    "from wfft2 import win_fft as win_fft2"
   ]
  },
  {
   "cell_type": "code",
   "execution_count": 9,
   "metadata": {},
   "outputs": [],
   "source": [
    "out = win_fft2(x, 512, win_len, step)"
   ]
  },
  {
   "cell_type": "code",
   "execution_count": 7,
   "metadata": {},
   "outputs": [],
   "source": [
    "F_f = win_fft(x, 512, win_len, step)"
   ]
  },
  {
   "cell_type": "code",
   "execution_count": 8,
   "metadata": {},
   "outputs": [
    {
     "name": "stdout",
     "output_type": "stream",
     "text": [
      "[205.53787497 +0.j         -40.40268237-31.32276689j\n",
      " -10.1543531 -42.13122591j  12.89393404-21.40236267j\n",
      "  10.92200105 -4.62262318j  -9.82704738 -2.2234676j\n",
      " -10.14034779-14.8395023j   -2.15633237 -4.67913054j\n",
      "   4.10240981 -0.63356645j   4.10299569 +3.97440127j]\n",
      "[205.53787497 +0.j         -40.40268237-31.32276689j\n",
      " -10.1543531 -42.13122591j  12.89393404-21.40236267j\n",
      "  10.92200105 -4.62262318j  -9.82704738 -2.2234676j\n",
      " -10.14034779-14.8395023j   -2.15633237 -4.67913054j\n",
      "   4.10240981 -0.63356645j   4.10299569 +3.97440127j]\n"
     ]
    }
   ],
   "source": [
    "print(F_py[0, :10])\n",
    "print(F_f[0, :10])"
   ]
  },
  {
   "cell_type": "code",
   "execution_count": 4,
   "metadata": {},
   "outputs": [
    {
     "name": "stdout",
     "output_type": "stream",
     "text": [
      "26.4 µs ± 2.83 µs per loop (mean ± std. dev. of 7 runs, 10000 loops each)\n"
     ]
    }
   ],
   "source": [
    "%timeit np.fft.fft(xw, n=512, axis=1)"
   ]
  },
  {
   "cell_type": "code",
   "execution_count": 5,
   "metadata": {},
   "outputs": [
    {
     "name": "stdout",
     "output_type": "stream",
     "text": [
      "36.7 µs ± 327 ns per loop (mean ± std. dev. of 7 runs, 10000 loops each)\n"
     ]
    }
   ],
   "source": [
    "%timeit win_fft(x, 512, win_len, step)"
   ]
  },
  {
   "cell_type": "code",
   "execution_count": null,
   "metadata": {},
   "outputs": [],
   "source": []
  }
 ],
 "metadata": {
  "kernelspec": {
   "display_name": "PfyMU",
   "language": "python",
   "name": "pfymu"
  },
  "language_info": {
   "codemirror_mode": {
    "name": "ipython",
    "version": 3
   },
   "file_extension": ".py",
   "mimetype": "text/x-python",
   "name": "python",
   "nbconvert_exporter": "python",
   "pygments_lexer": "ipython3",
   "version": "3.8.2"
  }
 },
 "nbformat": 4,
 "nbformat_minor": 4
}
