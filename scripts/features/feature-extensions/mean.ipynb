{
 "cells": [
  {
   "cell_type": "code",
   "execution_count": 1,
   "metadata": {},
   "outputs": [
    {
     "data": {
      "application/javascript": [
       "new Promise(function(resolve, reject) {\n",
       "\tvar script = document.createElement(\"script\");\n",
       "\tscript.onload = resolve;\n",
       "\tscript.onerror = reject;\n",
       "\tscript.src = \"https://raw.github.com/marijnh/CodeMirror/master/mode/fortran/fortran.js\";\n",
       "\tdocument.head.appendChild(script);\n",
       "}).then(() => {\n",
       "IPython.config.cell_magic_highlight['magic_fortran'] = {'reg':[/^%%fortran/]};\n",
       "});"
      ]
     },
     "metadata": {},
     "output_type": "display_data"
    }
   ],
   "source": [
    "%load_ext cython\n",
    "%load_ext fortranmagic"
   ]
  },
  {
   "cell_type": "code",
   "execution_count": 2,
   "metadata": {},
   "outputs": [],
   "source": [
    "import numpy as np"
   ]
  },
  {
   "cell_type": "code",
   "execution_count": 3,
   "metadata": {},
   "outputs": [],
   "source": [
    "def _get_windowed_view(x, win_len, stepsize):\n",
    "    \"\"\"\n",
    "    Return a moving window view over the data\n",
    "\n",
    "    Parameters\n",
    "    ----------\n",
    "    x : numpy.ndarray\n",
    "        1- or 2-D array of signals to window. Windows occur along the 0 axis. MUST BE C-CONTIGUOUS.\n",
    "    win_len : int\n",
    "        Window length.\n",
    "    stepsize : int\n",
    "        Stride length/step size. How many places to step for the center of the windows being created.\n",
    "\n",
    "    Returns\n",
    "    -------\n",
    "    x_win : numpy.ndarray\n",
    "        2D array of windows of the original data, with shape (-1, L)\n",
    "    \"\"\"\n",
    "    if not (x.ndim in [1, 2]):\n",
    "        raise ValueError('Array cannot have more than 2 dimensions to window properly.')\n",
    "    if not x.flags['C_CONTIGUOUS']:\n",
    "        raise ValueError('Array must be C-contiguous to window properly.')\n",
    "    if x.ndim == 1:\n",
    "        nrows = ((x.size - win_len) // stepsize) + 1\n",
    "        n = x.strides[0]\n",
    "        return np.lib.stride_tricks.as_strided(x, shape=(nrows, win_len), strides=(stepsize * n, n), writeable=False)\n",
    "    else:\n",
    "        k = x.shape[1]\n",
    "        nrows = ((x.shape[0] - win_len) // stepsize) + 1\n",
    "        n = x.strides[1]\n",
    "\n",
    "        new_shape = (nrows, win_len, k)\n",
    "        new_strides = (stepsize * k * n, k * n, n)\n",
    "        return np.lib.stride_tricks.as_strided(x, shape=new_shape, strides=new_strides, writeable=False)"
   ]
  },
  {
   "cell_type": "code",
   "execution_count": 4,
   "metadata": {
    "collapsed": true,
    "jupyter": {
     "outputs_hidden": true
    }
   },
   "outputs": [
    {
     "name": "stdout",
     "output_type": "stream",
     "text": [
      "Running...\n",
      "   /Users/adamol/opt/miniconda3/envs/pfymu/bin/python -m numpy.f2py -m _fortran_magic_9af1f6492bfd0eb6d06aa6c137696e6e -c /Users/adamol/.ipython/fortran/_fortran_magic_9af1f6492bfd0eb6d06aa6c137696e6e.f90\n",
      "running build\n",
      "running config_cc\n",
      "unifing config_cc, config, build_clib, build_ext, build commands --compiler options\n",
      "running config_fc\n",
      "unifing config_fc, config, build_clib, build_ext, build commands --fcompiler options\n",
      "running build_src\n",
      "build_src\n",
      "building extension \"_fortran_magic_9af1f6492bfd0eb6d06aa6c137696e6e\" sources\n",
      "f2py options: []\n",
      "f2py:> /var/folders/vp/zrt93yf92md23msl9phtgz6sfvz394/T/tmp15ydtv98/src.macosx-10.9-x86_64-3.8/_fortran_magic_9af1f6492bfd0eb6d06aa6c137696e6emodule.c\n",
      "creating /var/folders/vp/zrt93yf92md23msl9phtgz6sfvz394/T/tmp15ydtv98/src.macosx-10.9-x86_64-3.8\n",
      "Reading fortran codes...\n",
      "\tReading file '/Users/adamol/.ipython/fortran/_fortran_magic_9af1f6492bfd0eb6d06aa6c137696e6e.f90' (format:free)\n",
      "Post-processing...\n",
      "\tBlock: _fortran_magic_9af1f6492bfd0eb6d06aa6c137696e6e\n",
      "\t\t\tBlock: mean_f\n",
      "Post-processing (stage 2)...\n",
      "Building modules...\n",
      "\tBuilding module \"_fortran_magic_9af1f6492bfd0eb6d06aa6c137696e6e\"...\n",
      "\t\tConstructing wrapper function \"mean_f\"...\n",
      "\t\t  result = mean_f(x,l,s)\n",
      "\tWrote C/API module \"_fortran_magic_9af1f6492bfd0eb6d06aa6c137696e6e\" to file \"/var/folders/vp/zrt93yf92md23msl9phtgz6sfvz394/T/tmp15ydtv98/src.macosx-10.9-x86_64-3.8/_fortran_magic_9af1f6492bfd0eb6d06aa6c137696e6emodule.c\"\n",
      "  adding '/var/folders/vp/zrt93yf92md23msl9phtgz6sfvz394/T/tmp15ydtv98/src.macosx-10.9-x86_64-3.8/fortranobject.c' to sources.\n",
      "  adding '/var/folders/vp/zrt93yf92md23msl9phtgz6sfvz394/T/tmp15ydtv98/src.macosx-10.9-x86_64-3.8' to include_dirs.\n",
      "copying /Users/adamol/opt/miniconda3/envs/pfymu/lib/python3.8/site-packages/numpy/f2py/src/fortranobject.c -> /var/folders/vp/zrt93yf92md23msl9phtgz6sfvz394/T/tmp15ydtv98/src.macosx-10.9-x86_64-3.8\n",
      "copying /Users/adamol/opt/miniconda3/envs/pfymu/lib/python3.8/site-packages/numpy/f2py/src/fortranobject.h -> /var/folders/vp/zrt93yf92md23msl9phtgz6sfvz394/T/tmp15ydtv98/src.macosx-10.9-x86_64-3.8\n",
      "build_src: building npy-pkg config files\n",
      "running build_ext\n",
      "customize UnixCCompiler\n",
      "customize UnixCCompiler using build_ext\n",
      "get_default_fcompiler: matching types: '['gnu95', 'nag', 'absoft', 'ibm', 'intel', 'gnu', 'g95', 'pg']'\n",
      "customize Gnu95FCompiler\n",
      "Found executable /usr/local/bin/gfortran\n",
      "customize Gnu95FCompiler\n",
      "customize Gnu95FCompiler using build_ext\n",
      "building '_fortran_magic_9af1f6492bfd0eb6d06aa6c137696e6e' extension\n",
      "compiling C sources\n",
      "C compiler: gcc -Wno-unused-result -Wsign-compare -Wunreachable-code -DNDEBUG -g -fwrapv -O3 -Wall -Wstrict-prototypes -I/Users/adamol/opt/miniconda3/envs/pfymu/include -arch x86_64 -I/Users/adamol/opt/miniconda3/envs/pfymu/include -arch x86_64\n",
      "\n",
      "creating /var/folders/vp/zrt93yf92md23msl9phtgz6sfvz394/T/tmp15ydtv98/var\n",
      "creating /var/folders/vp/zrt93yf92md23msl9phtgz6sfvz394/T/tmp15ydtv98/var/folders\n",
      "creating /var/folders/vp/zrt93yf92md23msl9phtgz6sfvz394/T/tmp15ydtv98/var/folders/vp\n",
      "creating /var/folders/vp/zrt93yf92md23msl9phtgz6sfvz394/T/tmp15ydtv98/var/folders/vp/zrt93yf92md23msl9phtgz6sfvz394\n",
      "creating /var/folders/vp/zrt93yf92md23msl9phtgz6sfvz394/T/tmp15ydtv98/var/folders/vp/zrt93yf92md23msl9phtgz6sfvz394/T\n",
      "creating /var/folders/vp/zrt93yf92md23msl9phtgz6sfvz394/T/tmp15ydtv98/var/folders/vp/zrt93yf92md23msl9phtgz6sfvz394/T/tmp15ydtv98\n",
      "creating /var/folders/vp/zrt93yf92md23msl9phtgz6sfvz394/T/tmp15ydtv98/var/folders/vp/zrt93yf92md23msl9phtgz6sfvz394/T/tmp15ydtv98/src.macosx-10.9-x86_64-3.8\n",
      "compile options: '-I/var/folders/vp/zrt93yf92md23msl9phtgz6sfvz394/T/tmp15ydtv98/src.macosx-10.9-x86_64-3.8 -I/Users/adamol/opt/miniconda3/envs/pfymu/lib/python3.8/site-packages/numpy/core/include -I/Users/adamol/opt/miniconda3/envs/pfymu/include/python3.8 -c'\n",
      "gcc: /var/folders/vp/zrt93yf92md23msl9phtgz6sfvz394/T/tmp15ydtv98/src.macosx-10.9-x86_64-3.8/_fortran_magic_9af1f6492bfd0eb6d06aa6c137696e6emodule.c\n",
      "gcc: /var/folders/vp/zrt93yf92md23msl9phtgz6sfvz394/T/tmp15ydtv98/src.macosx-10.9-x86_64-3.8/fortranobject.c\n",
      "compiling Fortran sources\n",
      "Fortran f77 compiler: /usr/local/bin/gfortran -Wall -g -ffixed-form -fno-second-underscore -arch x86_64 -fPIC -O3 -funroll-loops\n",
      "Fortran f90 compiler: /usr/local/bin/gfortran -Wall -g -fno-second-underscore -arch x86_64 -fPIC -O3 -funroll-loops\n",
      "Fortran fix compiler: /usr/local/bin/gfortran -Wall -g -ffixed-form -fno-second-underscore -Wall -g -fno-second-underscore -arch x86_64 -fPIC -O3 -funroll-loops\n",
      "creating /var/folders/vp/zrt93yf92md23msl9phtgz6sfvz394/T/tmp15ydtv98/Users\n",
      "creating /var/folders/vp/zrt93yf92md23msl9phtgz6sfvz394/T/tmp15ydtv98/Users/adamol\n",
      "creating /var/folders/vp/zrt93yf92md23msl9phtgz6sfvz394/T/tmp15ydtv98/Users/adamol/.ipython\n",
      "creating /var/folders/vp/zrt93yf92md23msl9phtgz6sfvz394/T/tmp15ydtv98/Users/adamol/.ipython/fortran\n",
      "compile options: '-I/var/folders/vp/zrt93yf92md23msl9phtgz6sfvz394/T/tmp15ydtv98/src.macosx-10.9-x86_64-3.8 -I/Users/adamol/opt/miniconda3/envs/pfymu/lib/python3.8/site-packages/numpy/core/include -I/Users/adamol/opt/miniconda3/envs/pfymu/include/python3.8 -c'\n",
      "gfortran:f90: /Users/adamol/.ipython/fortran/_fortran_magic_9af1f6492bfd0eb6d06aa6c137696e6e.f90\n",
      "/usr/local/bin/gfortran -Wall -g -arch x86_64 -Wall -g -undefined dynamic_lookup -bundle /var/folders/vp/zrt93yf92md23msl9phtgz6sfvz394/T/tmp15ydtv98/var/folders/vp/zrt93yf92md23msl9phtgz6sfvz394/T/tmp15ydtv98/src.macosx-10.9-x86_64-3.8/_fortran_magic_9af1f6492bfd0eb6d06aa6c137696e6emodule.o /var/folders/vp/zrt93yf92md23msl9phtgz6sfvz394/T/tmp15ydtv98/var/folders/vp/zrt93yf92md23msl9phtgz6sfvz394/T/tmp15ydtv98/src.macosx-10.9-x86_64-3.8/fortranobject.o /var/folders/vp/zrt93yf92md23msl9phtgz6sfvz394/T/tmp15ydtv98/Users/adamol/.ipython/fortran/_fortran_magic_9af1f6492bfd0eb6d06aa6c137696e6e.o -L/usr/local/Cellar/gcc/9.2.0_2/lib/gcc/9/gcc/x86_64-apple-darwin18/9.2.0 -L/usr/local/Cellar/gcc/9.2.0_2/lib/gcc/9/gcc/x86_64-apple-darwin18/9.2.0/../../.. -L/usr/local/Cellar/gcc/9.2.0_2/lib/gcc/9/gcc/x86_64-apple-darwin18/9.2.0/../../.. -lgfortran -o ./_fortran_magic_9af1f6492bfd0eb6d06aa6c137696e6e.cpython-38-darwin.so\n",
      "Removing build directory /var/folders/vp/zrt93yf92md23msl9phtgz6sfvz394/T/tmp15ydtv98\n"
     ]
    },
    {
     "name": "stderr",
     "output_type": "stream",
     "text": [
      "In file included from In file included from /var/folders/vp/zrt93yf92md23msl9phtgz6sfvz394/T/tmp15ydtv98/src.macosx-10.9-x86_64-3.8/fortranobject.c:2:\n",
      "In file included from /var/folders/vp/zrt93yf92md23msl9phtgz6sfvz394/T/tmp15ydtv98/src.macosx-10.9-x86_64-3.8/fortranobject.h:13:\n",
      "In file included from /Users/adamol/opt/miniconda3/envs/pfymu/lib/python3.8/site-packages/numpy/core/include/numpy/arrayobject.h:4:\n",
      "In file included from /Users/adamol/opt/miniconda3/envs/pfymu/lib/python3.8/site-packages/numpy/core/include/numpy/ndarrayobject.h:12:\n",
      "In file included from /Users/adamol/opt/miniconda3/envs/pfymu/lib/python3.8/site-packages/numpy/core/include/numpy/ndarraytypes.h/var/folders/vp/zrt93yf92md23msl9phtgz6sfvz394/T/tmp15ydtv98/src.macosx-10.9-x86_64-3.8/_fortran_magic_9af1f6492bfd0eb6d06aa6c137696e6emodule.c:16::\n",
      "In file included from /var/folders/vp/zrt93yf92md23msl9phtgz6sfvz394/T/tmp15ydtv98/src.macosx-10.9-x86_64-3.8/fortranobject.h:183213:\n",
      ":\n",
      "In file included from /Users/adamol/opt/miniconda3/envs/pfymu/lib/python3.8/site-packages/numpy/core/include/numpy/arrayobject.h:/Users/adamol/opt/miniconda3/envs/pfymu/lib/python3.8/site-packages/numpy/core/include/numpy/npy_1_7_deprecated_api.h:17:2: warning: 4\"Using deprecated NumPy API, disable it with \"          \"#define NPY_NO_DEPRECATED_API NPY_1_7_API_VERSION\" [-W#warnings]:\n",
      "\n",
      "In file included from /Users/adamol/opt/miniconda3/envs/pfymu/lib/python3.8/site-packages/numpy/core/include/numpy/ndarrayobject.h:12:\n",
      "In file included from /Users/adamol/opt/miniconda3/envs/pfymu/lib/python3.8/site-packages/numpy/core/include/numpy/ndarraytypes.h:1832:\n",
      "/Users/adamol/opt/miniconda3/envs/pfymu/lib/python3.8/site-packages/numpy/core/include/numpy/npy_1_7_deprecated_api.h:17:2: warning: \"Using deprecated NumPy API, disable it with \"          \"#define NPY_NO_DEPRECATED_API NPY_1_7_API_VERSION\" [-W#warnings]\n",
      "#warning \"Using deprecated NumPy API, disable it with \" \\\n",
      " ^\n",
      "#warning \"Using deprecated NumPy API, disable it with \" \\\n",
      " ^\n",
      "/var/folders/vp/zrt93yf92md23msl9phtgz6sfvz394/T/tmp15ydtv98/src.macosx-10.9-x86_64-3.8/_fortran_magic_9af1f6492bfd0eb6d06aa6c137696e6emodule.c:257:71: warning: format specifies type 'long' but the argument has type 'long_long' (aka 'long long') [-Wformat]\n",
      "  CHECKSCALAR(shape(x,1)==n,\"shape(x,1)==n\",\"hidden n\",\"mean_f:n=%ld\",n) {\n",
      "                                                                 ~~~  ^\n",
      "                                                                 %lld\n",
      "/var/folders/vp/zrt93yf92md23msl9phtgz6sfvz394/T/tmp15ydtv98/src.macosx-10.9-x86_64-3.8/_fortran_magic_9af1f6492bfd0eb6d06aa6c137696e6emodule.c:86:70: note: expanded from macro 'CHECKSCALAR'\n",
      "        sprintf(errstring, \"%s: \"show, \"(\"tcheck\") failed for \"name, var);\\\n",
      "                                 ~~~~                                ^~~\n",
      "/Library/Developer/CommandLineTools/SDKs/MacOSX10.15.sdk/usr/include/secure/_stdio.h:47:56: note: expanded from macro 'sprintf'\n",
      "  __builtin___sprintf_chk (str, 0, __darwin_obsz(str), __VA_ARGS__)\n",
      "                                                       ^~~~~~~~~~~\n",
      "/var/folders/vp/zrt93yf92md23msl9phtgz6sfvz394/T/tmp15ydtv98/src.macosx-10.9-x86_64-3.8/_fortran_magic_9af1f6492bfd0eb6d06aa6c137696e6emodule.c:260:71: warning: format specifies type 'long' but the argument has type 'long_long' (aka 'long long') [-Wformat]\n",
      "  CHECKSCALAR(shape(x,0)==p,\"shape(x,0)==p\",\"hidden p\",\"mean_f:p=%ld\",p) {\n",
      "                                                                 ~~~  ^\n",
      "                                                                 %lld\n",
      "/var/folders/vp/zrt93yf92md23msl9phtgz6sfvz394/T/tmp15ydtv98/src.macosx-10.9-x86_64-3.8/_fortran_magic_9af1f6492bfd0eb6d06aa6c137696e6emodule.c:86:70: note: expanded from macro 'CHECKSCALAR'\n",
      "        sprintf(errstring, \"%s: \"show, \"(\"tcheck\") failed for \"name, var);\\\n",
      "                                 ~~~~                                ^~~\n",
      "/Library/Developer/CommandLineTools/SDKs/MacOSX10.15.sdk/usr/include/secure/_stdio.h:47:56: note: expanded from macro 'sprintf'\n",
      "  __builtin___sprintf_chk (str, 0, __darwin_obsz(str), __VA_ARGS__)\n",
      "                                                       ^~~~~~~~~~~\n",
      "/var/folders/vp/zrt93yf92md23msl9phtgz6sfvz394/T/tmp15ydtv98/src.macosx-10.9-x86_64-3.8/_fortran_magic_9af1f6492bfd0eb6d06aa6c137696e6emodule.c:115:12: warning: unused function 'f2py_size' [-Wunused-function]\n",
      "static int f2py_size(PyArrayObject* var, ...)\n",
      "           ^\n",
      "4 warnings generated.\n",
      "1 warning generated.\n"
     ]
    },
    {
     "name": "stdout",
     "output_type": "stream",
     "text": [
      "\n",
      "Ok. The following fortran objects are ready to use: mean_f\n"
     ]
    }
   ],
   "source": [
    "%%fortran -vvv\n",
    "\n",
    "subroutine mean_f(n, p, x, L, S, result)\n",
    "    implicit none\n",
    "    integer(8), intent(in) :: n, p, L, S\n",
    "    real(8), intent(in) :: x(p, n)  ! backwards to c/python\n",
    "    real(8), intent(out) :: result(p, (n-L)/S + 1)\n",
    "!f2py intent(hide) :: n, p\n",
    "    ! local \n",
    "    real(8) :: mn(p, n)\n",
    "    integer(8) :: i, j\n",
    "    \n",
    "    mn(:, 1) = x(:, 1)\n",
    "    do j=2, n\n",
    "        do i=1, p\n",
    "            mn(i, j) = mn(i, j-1) + x(i, j)\n",
    "        end do\n",
    "    end do\n",
    "    \n",
    "    i = 2_8\n",
    "    result(:, 1) = mn(:, L)\n",
    "    do j=L+S, n, S\n",
    "        result(:, i) = mn(:, j) - mn(:, j-L)\n",
    "        i = i + 1\n",
    "    end do\n",
    "    result = result / L\n",
    "end subroutine mean_f"
   ]
  },
  {
   "cell_type": "code",
   "execution_count": 5,
   "metadata": {},
   "outputs": [],
   "source": [
    "def mean_p(x, L, S):\n",
    "    xw = _get_windowed_view(x, L, S)\n",
    "    return np.mean(xw, axis=-2)"
   ]
  },
  {
   "cell_type": "code",
   "execution_count": 6,
   "metadata": {},
   "outputs": [],
   "source": [
    "N = 1500000\n",
    "x = np.random.rand(N, 3)"
   ]
  },
  {
   "cell_type": "code",
   "execution_count": 7,
   "metadata": {},
   "outputs": [
    {
     "data": {
      "text/plain": [
       "array([0.49991618, 0.49977127, 0.50017767])"
      ]
     },
     "execution_count": 7,
     "metadata": {},
     "output_type": "execute_result"
    }
   ],
   "source": [
    "np.mean(x, axis=0)"
   ]
  },
  {
   "cell_type": "code",
   "execution_count": 8,
   "metadata": {},
   "outputs": [
    {
     "data": {
      "text/plain": [
       "array([[0.49991618],\n",
       "       [0.49977127],\n",
       "       [0.50017767]])"
      ]
     },
     "execution_count": 8,
     "metadata": {},
     "output_type": "execute_result"
    }
   ],
   "source": [
    "mean_f(x.T, x.shape[0], x.shape[0])"
   ]
  },
  {
   "cell_type": "code",
   "execution_count": 9,
   "metadata": {},
   "outputs": [
    {
     "name": "stdout",
     "output_type": "stream",
     "text": [
      "25.9 ms ± 774 µs per loop (mean ± std. dev. of 7 runs, 10 loops each)\n",
      "13.5 ms ± 716 µs per loop (mean ± std. dev. of 7 runs, 100 loops each)\n"
     ]
    }
   ],
   "source": [
    "%timeit np.mean(x, axis=0)\n",
    "%timeit mean_f(x.T, N, N)"
   ]
  },
  {
   "cell_type": "code",
   "execution_count": 10,
   "metadata": {},
   "outputs": [
    {
     "name": "stdout",
     "output_type": "stream",
     "text": [
      "26.6 ms ± 796 µs per loop (mean ± std. dev. of 7 runs, 10 loops each)\n",
      "14 ms ± 503 µs per loop (mean ± std. dev. of 7 runs, 100 loops each)\n"
     ]
    }
   ],
   "source": [
    "%timeit mean_p(x, 500, 500)\n",
    "%timeit mean_f(x.T, 500, 500)"
   ]
  },
  {
   "cell_type": "code",
   "execution_count": null,
   "metadata": {},
   "outputs": [],
   "source": []
  },
  {
   "cell_type": "code",
   "execution_count": null,
   "metadata": {},
   "outputs": [],
   "source": []
  }
 ],
 "metadata": {
  "kernelspec": {
   "display_name": "PfyMU",
   "language": "python",
   "name": "pfymu"
  },
  "language_info": {
   "codemirror_mode": {
    "name": "ipython",
    "version": 3
   },
   "file_extension": ".py",
   "mimetype": "text/x-python",
   "name": "python",
   "nbconvert_exporter": "python",
   "pygments_lexer": "ipython3",
   "version": "3.8.2"
  }
 },
 "nbformat": 4,
 "nbformat_minor": 4
}
