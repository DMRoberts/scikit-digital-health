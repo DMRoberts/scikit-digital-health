{
 "cells": [
  {
   "cell_type": "code",
   "execution_count": 16,
   "metadata": {},
   "outputs": [],
   "source": [
    "%matplotlib widget"
   ]
  },
  {
   "cell_type": "code",
   "execution_count": 17,
   "metadata": {},
   "outputs": [],
   "source": [
    "import numpy as np\n",
    "import matplotlib.pyplot as plt"
   ]
  },
  {
   "cell_type": "code",
   "execution_count": 22,
   "metadata": {},
   "outputs": [],
   "source": [
    "with open('tw_f.txt', 'r') as f:\n",
    "    flines = f.readlines()\n",
    "with open('tw_c.txt', 'r') as f:\n",
    "    clines = f.readlines()\n",
    "    \n",
    "cvals = np.zeros((54, 2))\n",
    "\n",
    "for i, line in enumerate(clines):\n",
    "    if line != '':\n",
    "        cvals[:, i] = [np.float(i) for i in line.split(',')[:-1]]\n",
    "\n",
    "fvals = np.zeros((54, 2))\n",
    "for i, line in enumerate(flines[:2]):  # last lines are not necessary\n",
    "    fvals[:, i] = [np.float(i) for i in line.split(' ') if i != '']\n",
    "\n",
    "# print(cvals - fvals)"
   ]
  },
  {
   "cell_type": "code",
   "execution_count": 23,
   "metadata": {},
   "outputs": [],
   "source": [
    "with open('mem_f.txt', 'r') as f:\n",
    "    lines = f.readlines()\n",
    "fmem = np.array([float(i) for i in lines])\n",
    "\n",
    "with open('mem_c.txt', 'r') as f:\n",
    "    lines = f.readlines()\n",
    "cmem = np.array([float(i) for i in lines])"
   ]
  },
  {
   "cell_type": "code",
   "execution_count": 24,
   "metadata": {},
   "outputs": [
    {
     "data": {
      "text/plain": [
       "array([ 0.92,  0.38,  0.  ,  0.71,  0.71,  0.  ,  0.38,  0.92,  0.  ,\n",
       "        0.  ,  0.  ,  1.  ,  0.  ,  0.  ,  0.  ,  0.  ,  0.  ,  0.  ,\n",
       "        0.  ,  0.  ,  0.  ,  0.  ,  0.  ,  0.  ,  0.  ,  0.  ,  0.63,\n",
       "        0.71,  0.  ,   nan,  0.77,  0.  ,  0.  ,  0.47,  0.88,  0.38,\n",
       "        0.92,  0.29,  0.  ,  0.  ,  0.  ,  0.  ,  0.  ,  0.  ,  0.  ,\n",
       "        0.  ,  0.  ,  0.  ,  0.  ,  0.  ,  0.  ,  0.  ,  0.92, -0.47])"
      ]
     },
     "execution_count": 24,
     "metadata": {},
     "output_type": "execute_result"
    }
   ],
   "source": [
    "np.round(cvals[:, 1], 2)"
   ]
  },
  {
   "cell_type": "code",
   "execution_count": 25,
   "metadata": {},
   "outputs": [
    {
     "data": {
      "text/plain": [
       "array([ 1.  ,  0.1 ,  0.98,  0.2 ,  0.96,  0.29,  0.92,  0.38,  0.88,\n",
       "        0.47,  0.83,  0.56,  0.77,  0.63,  0.  ,  0.98,  0.2 ,  0.92,\n",
       "        0.38,  0.83,  0.56,  0.71,  0.71,  0.56,  0.83,  0.38,  0.92,\n",
       "        0.2 ,  0.98,  0.  ,  0.96,  0.29,  0.83,  0.56,  0.63,  0.77,\n",
       "        0.38,  0.92,  0.1 ,  1.  , -0.2 ,  0.98, -0.47,  0.88,  0.  ,\n",
       "        0.92,  0.38,  0.  ,  0.71,  0.71,  0.  ,  0.38,  0.92,  0.  ,\n",
       "        0.  ,  0.92,  0.38,  0.98,  0.71,  0.71,  0.29,  0.38,  0.92,\n",
       "        0.88,  0.47,  0.83,  0.56,  0.77,  0.63,  0.  ,  0.98,  0.2 ,\n",
       "        0.92,  0.38,  0.83,  0.56,  0.71,  0.71,  0.56,  0.83,  0.38,\n",
       "        0.92,  0.2 ,  0.98,  0.  ,  0.96,  0.29,  0.83,  0.56,  0.63,\n",
       "        0.77,  0.38,  0.92,  0.1 ,  1.  , -0.2 ,  0.98, -0.47,  0.88,\n",
       "        0.  ,  0.  ,  0.  ,  0.  ,  0.  ,  0.  ,  0.  ,  0.  ,  0.  ])"
      ]
     },
     "execution_count": 25,
     "metadata": {},
     "output_type": "execute_result"
    }
   ],
   "source": [
    "fmem"
   ]
  },
  {
   "cell_type": "code",
   "execution_count": 26,
   "metadata": {},
   "outputs": [
    {
     "data": {
      "application/vnd.jupyter.widget-view+json": {
       "model_id": "9d1add311d41482199fd88394462d556",
       "version_major": 2,
       "version_minor": 0
      },
      "text/plain": [
       "Canvas(toolbar=Toolbar(toolitems=[('Home', 'Reset original view', 'home', 'home'), ('Back', 'Back to previous …"
      ]
     },
     "metadata": {},
     "output_type": "display_data"
    },
    {
     "data": {
      "text/plain": [
       "[<matplotlib.lines.Line2D at 0x7f2cd4402b80>]"
      ]
     },
     "execution_count": 26,
     "metadata": {},
     "output_type": "execute_result"
    }
   ],
   "source": [
    "plt.figure()\n",
    "plt.plot(fmem)\n",
    "plt.plot(np.arange(54)+45, np.round(cvals[:, 1], 2))"
   ]
  },
  {
   "cell_type": "code",
   "execution_count": 11,
   "metadata": {},
   "outputs": [
    {
     "name": "stdout",
     "output_type": "stream",
     "text": [
      " 0  1.00  1.00\n",
      " 1  0.10  0.10\n",
      " 2  0.98  0.98\n",
      " 3  0.20  0.20\n",
      " 4  0.96  0.96\n",
      " 5  0.29  0.29\n",
      " 6  0.92  0.92\n",
      " 7  0.38  0.38\n",
      " 8  0.88  0.88\n",
      " 9  0.47  0.47\n",
      "10  0.83  0.83\n",
      "11  0.56  0.56\n",
      "12  0.77  0.77\n",
      "13  0.63  0.63\n",
      "14  0.00  0.00\n",
      "15  0.98  0.98\n",
      "16  0.20  0.20\n",
      "17  0.92  0.92\n",
      "18  0.38  0.38\n",
      "19  0.83  0.83\n",
      "20  0.56  0.56\n",
      "21  0.71  0.71\n",
      "22  0.71  0.71\n",
      "23  0.56  0.56\n",
      "24  0.83  0.83\n",
      "25  0.38  0.38\n",
      "26  0.92  0.92\n",
      "27  0.20  0.20\n",
      "28  0.98  0.98\n",
      "29  0.00  0.00\n",
      "30  0.96  0.96\n",
      "31  0.29  0.29\n",
      "32  0.83  0.83\n",
      "33  0.56  0.56\n",
      "34  0.63  0.63\n",
      "35  0.77  0.77\n",
      "36  0.38  0.38\n",
      "37  0.92  0.92\n",
      "38  0.10  0.10\n",
      "39  1.00  1.00\n",
      "40 -0.20 -0.20\n",
      "41  0.98  0.98\n",
      "42 -0.47 -0.47\n",
      "43  0.88  0.88\n",
      "44  0.00  0.00\n",
      "45  0.92  0.92\n",
      "46  0.38  0.38\n",
      "47  0.00  0.00\n",
      "48  0.71  0.71\n",
      "49  0.71  0.71\n",
      "50  0.00  0.00\n",
      "51  0.38  0.38\n",
      "52  0.92  0.92\n",
      "53  0.00  0.00\n"
     ]
    }
   ],
   "source": [
    "for i, j in enumerate(zip(cmem, fmem)):\n",
    "    print(f'{i:2d}{j[0]:6.2f}{j[1]:6.2f}')"
   ]
  },
  {
   "cell_type": "code",
   "execution_count": 12,
   "metadata": {},
   "outputs": [
    {
     "data": {
      "text/plain": [
       "True"
      ]
     },
     "execution_count": 12,
     "metadata": {},
     "output_type": "execute_result"
    }
   ],
   "source": [
    "np.allclose(fmem[:54], cmem)"
   ]
  },
  {
   "cell_type": "code",
   "execution_count": null,
   "metadata": {},
   "outputs": [],
   "source": []
  }
 ],
 "metadata": {
  "kernelspec": {
   "display_name": "PfyMU",
   "language": "python",
   "name": "pfymu"
  },
  "language_info": {
   "codemirror_mode": {
    "name": "ipython",
    "version": 3
   },
   "file_extension": ".py",
   "mimetype": "text/x-python",
   "name": "python",
   "nbconvert_exporter": "python",
   "pygments_lexer": "ipython3",
   "version": "3.8.3"
  }
 },
 "nbformat": 4,
 "nbformat_minor": 4
}
