{
 "cells": [
  {
   "cell_type": "code",
   "execution_count": 1,
   "metadata": {},
   "outputs": [],
   "source": [
    "import numpy as np\n",
    "\n",
    "from jerk import _jerkmetric\n",
    "from fjerk import jerkmetric, jerkmetric2, jerkmetric3, jerkmetric4\n",
    "from fjerkO3 import jerkmetric as jo, jerkmetric2 as jo2, jerkmetric3 as jo3, jerkmetric4 as jo4"
   ]
  },
  {
   "cell_type": "code",
   "execution_count": 2,
   "metadata": {},
   "outputs": [],
   "source": [
    "np.random.seed(3)\n",
    "x = np.random.rand(5000, 2, 150) - 0.5\n",
    "xf = np.asfortranarray(x.transpose([2, 1, 0]))\n",
    "\n",
    "fs = 50."
   ]
  },
  {
   "cell_type": "code",
   "execution_count": 3,
   "metadata": {},
   "outputs": [
    {
     "name": "stdout",
     "output_type": "stream",
     "text": [
      "True\n",
      "True\n",
      "True\n",
      "True\n"
     ]
    }
   ],
   "source": [
    "print(np.allclose(jerkmetric(xf, fs).T, _jerkmetric.jerk_metric(x, 50.)))\n",
    "print(np.allclose(jerkmetric2(xf, fs).T, _jerkmetric.jerk_metric(x, 50.)))\n",
    "print(np.allclose(jerkmetric3(xf, fs).T, _jerkmetric.jerk_metric(x, 50.)))\n",
    "print(np.allclose(jerkmetric4(xf, fs).T, _jerkmetric.jerk_metric(x, 50.)))"
   ]
  },
  {
   "cell_type": "code",
   "execution_count": 4,
   "metadata": {},
   "outputs": [
    {
     "name": "stdout",
     "output_type": "stream",
     "text": [
      "1.16 ms ± 1.49 µs per loop (mean ± std. dev. of 7 runs, 1000 loops each)\n",
      "1.42 ms ± 659 ns per loop (mean ± std. dev. of 7 runs, 1000 loops each)\n"
     ]
    }
   ],
   "source": [
    "%timeit jerkmetric(xf, fs)\n",
    "%timeit _jerkmetric.jerk_metric(x, fs)"
   ]
  },
  {
   "cell_type": "code",
   "execution_count": 5,
   "metadata": {},
   "outputs": [
    {
     "name": "stdout",
     "output_type": "stream",
     "text": [
      "2.01 ms ± 3.37 µs per loop (mean ± std. dev. of 7 runs, 100 loops each)\n",
      "2.04 ms ± 4.46 µs per loop (mean ± std. dev. of 7 runs, 100 loops each)\n",
      "4.15 ms ± 651 ns per loop (mean ± std. dev. of 7 runs, 100 loops each)\n"
     ]
    }
   ],
   "source": [
    "%timeit jerkmetric2(xf, fs)\n",
    "%timeit jerkmetric3(xf, fs)\n",
    "%timeit jerkmetric4(xf, fs)"
   ]
  },
  {
   "cell_type": "code",
   "execution_count": 3,
   "metadata": {},
   "outputs": [
    {
     "name": "stdout",
     "output_type": "stream",
     "text": [
      "1.15 ms ± 230 ns per loop (mean ± std. dev. of 7 runs, 1000 loops each)\n",
      "1.98 ms ± 305 ns per loop (mean ± std. dev. of 7 runs, 1000 loops each)\n",
      "1.98 ms ± 539 ns per loop (mean ± std. dev. of 7 runs, 1000 loops each)\n",
      "3.07 ms ± 547 ns per loop (mean ± std. dev. of 7 runs, 100 loops each)\n"
     ]
    }
   ],
   "source": [
    "%timeit jo(xf, fs)\n",
    "%timeit jo2(xf, fs)\n",
    "%timeit jo3(xf, fs)\n",
    "%timeit jo4(xf, fs)"
   ]
  },
  {
   "cell_type": "code",
   "execution_count": null,
   "metadata": {},
   "outputs": [],
   "source": []
  }
 ],
 "metadata": {
  "kernelspec": {
   "display_name": "PfyMU",
   "language": "python",
   "name": "pfymu"
  },
  "language_info": {
   "codemirror_mode": {
    "name": "ipython",
    "version": 3
   },
   "file_extension": ".py",
   "mimetype": "text/x-python",
   "name": "python",
   "nbconvert_exporter": "python",
   "pygments_lexer": "ipython3",
   "version": "3.8.3"
  }
 },
 "nbformat": 4,
 "nbformat_minor": 4
}
